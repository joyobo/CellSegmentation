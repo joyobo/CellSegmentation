{
 "cells": [
  {
   "cell_type": "code",
   "execution_count": null,
   "metadata": {
    "colab": {
     "base_uri": "https://localhost:8080/"
    },
    "id": "gNLQvPTKpOHV",
    "outputId": "f23bd574-ab51-47b5-c488-157aa1041ea3"
   },
   "outputs": [],
   "source": [
    "# from google.colab import drive\n",
    "# drive.mount('/content/drive')"
   ]
  },
  {
   "cell_type": "code",
   "execution_count": null,
   "metadata": {
    "colab": {
     "base_uri": "https://localhost:8080/"
    },
    "id": "ri0wzjpOF03D",
    "outputId": "4767eb6d-b7dc-4b9b-cfa4-60496878809c"
   },
   "outputs": [],
   "source": [
    "# %cd /content/drive/MyDrive/Term 8/Term 8 Artificial Intelligence/folder\n",
    "# %cd /content/drive/MyDrive/CellCount"
   ]
  },
  {
   "cell_type": "code",
   "execution_count": null,
   "metadata": {
    "colab": {
     "base_uri": "https://localhost:8080/"
    },
    "id": "0KhkJi2uFlMD",
    "outputId": "8ffff499-7b81-4e9b-dc23-6bfbb5e8a76d"
   },
   "outputs": [],
   "source": [
    "!git clone https://github.com/Bjarten/early-stopping-pytorch.git ./earlystopping"
   ]
  },
  {
   "cell_type": "code",
   "execution_count": 1,
   "metadata": {
    "id": "US40j-7RoYYw"
   },
   "outputs": [],
   "source": [
    "import os\n",
    "import torch\n",
    "import datetime\n",
    "from model import *\n",
    "from utils import *\n",
    "import numpy as np\n",
    "from tqdm import tqdm\n",
    "from PIL import Image\n",
    "from skimage import io\n",
    "from torch.optim import Adam\n",
    "import torch.nn.functional as F\n",
    "import matplotlib.pyplot as plt\n",
    "from torchvision import transforms\n",
    "from scipy.io import loadmat, savemat\n",
    "from torch.utils.data import Dataset, DataLoader\n",
    "from earlystopping.pytorchtools import EarlyStopping\n",
    "from torch.utils.data.sampler import SubsetRandomSampler"
   ]
  },
  {
   "cell_type": "markdown",
   "metadata": {
    "id": "eMwGKrENqxQA"
   },
   "source": [
    "# ignore"
   ]
  },
  {
   "cell_type": "code",
   "execution_count": null,
   "metadata": {
    "id": "E0igBq1SoYZT",
    "outputId": "c5caeec6-ec09-43d9-b0a5-cfc687743e20",
    "scrolled": true
   },
   "outputs": [],
   "source": [
    "%pylab inline\n",
    "import torchvision.transforms as T\n",
    "from torch.nn import ConstantPad2d\n",
    "import numpy as np\n",
    "\n",
    "def plot(imgs, orig_img, with_orig=True, row_title=None, **imshow_kwargs):\n",
    "    if not isinstance(imgs[0], list):\n",
    "        # Make a 2d grid even if there's just 1 row\n",
    "        imgs = [imgs]\n",
    "\n",
    "    num_rows = len(imgs)\n",
    "    num_cols = len(imgs[0]) + with_orig\n",
    "    \n",
    "    fig, axs = plt.subplots(nrows=num_rows, ncols=num_cols, squeeze=False, figsize=(10, 10))\n",
    "    fig = plt.figure(figsize=(100, 100))\n",
    "    for row_idx, row in enumerate(imgs):\n",
    "        row = [orig_img] + row if with_orig else row\n",
    "        for col_idx, img in enumerate(row):\n",
    "            ax = axs[row_idx, col_idx]\n",
    "            ax.imshow(np.asarray(img), **imshow_kwargs)\n",
    "            ax.set(xticklabels=[], yticklabels=[], xticks=[], yticks=[])\n",
    "\n",
    "    if with_orig:\n",
    "        axs[0, 0].set(title='Original image')\n",
    "        axs[0, 0].title.set_size(8)\n",
    "    if row_title is not None:\n",
    "        for row_idx in range(num_rows):\n",
    "            axs[row_idx, 0].set(ylabel=row_title[row_idx])\n",
    "\n",
    "    plt.tight_layout()\n",
    "    \n",
    "def pad_with(vector, pad_width, iaxis, kwargs):\n",
    "    pad_value = kwargs.get('padder', 10)\n",
    "    vector[:pad_width[0]] = pad_value\n",
    "    vector[-pad_width[1]:] = pad_value\n",
    "\n",
    "def five_crop():\n",
    "    root_dir = \"./Train\"\n",
    "    fileNames = [i[:-4] for i in sorted(os.listdir(root_dir+\"/Labels/\"))]\n",
    "    img_path = \"./cropped_train/Images/\"\n",
    "    label_path = \"./cropped_train/Labels/\"\n",
    "    for idx in range(len(fileNames)):\n",
    "        size = 500\n",
    "        img_name = os.path.join(root_dir,\"Images\", fileNames[idx])+\".png\"\n",
    "        mask_name = os.path.join(root_dir,\"Labels\", fileNames[idx])+\".mat\"\n",
    "        dictmat = loadmat(mask_name)\n",
    "        orig_img = Image.open(img_name)\n",
    "        (top_left, top_right, bottom_left, bottom_right, center) = T.FiveCrop(size=(size, size))(orig_img)\n",
    "        cropped = [top_left, top_right, bottom_left, bottom_right, center]\n",
    "        \n",
    "        orig_img.save(img_path + fileNames[idx] + \"_original.png\")\n",
    "        savemat(label_path + fileNames[idx] + \"_original.mat\", {\"inst_map\": dictmat[\"inst_map\"]})    \n",
    "        for img_idx in range(len(cropped)):\n",
    "            name = \"\"\n",
    "            labels = {}\n",
    "            if img_idx == 0:\n",
    "                name = \"top_left\"\n",
    "                labels[\"inst_map\"] = dictmat[\"inst_map\"][0:size, 0:size]\n",
    "            elif img_idx == 1:\n",
    "                name = \"top_right\"\n",
    "                labels[\"inst_map\"] = dictmat[\"inst_map\"][0:size, 1000-size:1000]\n",
    "            elif img_idx == 2:\n",
    "                name = \"bottom_left\"\n",
    "                labels[\"inst_map\"] = dictmat[\"inst_map\"][1000-size:1000, 0:size]\n",
    "            elif img_idx == 3:\n",
    "                name = \"bottom_right\"\n",
    "                labels[\"inst_map\"] = dictmat[\"inst_map\"][1000-size:1000, 1000-size:1000]\n",
    "            elif img_idx == 4:\n",
    "                name = \"center\"\n",
    "                mid_height = 1000/2\n",
    "                mid_weight = 1000/2\n",
    "                labels[\"inst_map\"] = dictmat[\"inst_map\"][round(mid_height-size/2):round(mid_height+size/2), round(mid_weight-size/2):round(mid_weight+size/2)]\n",
    "            \n",
    "            ## pad images and labels\n",
    "            cropped[img_idx] = T.Pad(padding=250, fill=(0,0,0), padding_mode='constant')(cropped[img_idx])\n",
    "            labels[\"inst_map\"] = np.pad(labels[\"inst_map\"], 1, pad_with, padder=0)\n",
    "            ## save \n",
    "            cropped[img_idx].save(img_path + fileNames[idx] + \"_\" +name+\".png\")            \n",
    "            savemat(label_path + fileNames[idx] + \"_\" +name+\".mat\", labels)           \n",
    "        plot(cropped, orig_img)\n",
    "#         if idx == 0:        \n",
    "#             break\n",
    "    \n",
    "five_crop()"
   ]
  },
  {
   "cell_type": "code",
   "execution_count": null,
   "metadata": {
    "id": "QkhozFpFoYZa",
    "outputId": "9edd2290-a598-49ff-a56c-629537a009f7"
   },
   "outputs": [],
   "source": [
    "before = \"./Train/Labels/train_1.mat\"\n",
    "after = \"./cropped_train/Labels/train_1_original.mat\"\n",
    "\n",
    "dictmat_before = loadmat(before)\n",
    "dictmat_after = loadmat(after)\n",
    "print(dictmat_before[\"inst_map\"] == dictmat_after[\"inst_map\"])\n",
    "\n",
    "a = np.arange(6)\n",
    "a = a.reshape((2, 3))\n",
    "print(a)\n",
    "pad = np.pad(a, 2, pad_with, padder=100)\n",
    "print(pad)"
   ]
  },
  {
   "cell_type": "markdown",
   "metadata": {
    "id": "cwZAWxnvq04l"
   },
   "source": [
    "# Start here"
   ]
  },
  {
   "cell_type": "code",
   "execution_count": 2,
   "metadata": {
    "id": "R2HRFeuVoYZe"
   },
   "outputs": [],
   "source": [
    "class CellDataset(Dataset):\n",
    "\n",
    "    def __init__(self, root_dir, transform=None):\n",
    "        self.fileNames = [i[:-4] for i in sorted(os.listdir(root_dir+\"/Labels/\"))]\n",
    "        self.root_dir = root_dir\n",
    "        self.transform = transform\n",
    "\n",
    "    def __len__(self):\n",
    "        return len(self.fileNames)\n",
    "\n",
    "    def __getitem__(self, idx):\n",
    "        img_name = os.path.join(self.root_dir,\"Images\",self.fileNames[idx])+\".png\"\n",
    "        image = img = Image.open(img_name).convert('RGB')\n",
    "        mask_name = os.path.join(self.root_dir,\"Labels\",self.fileNames[idx])+\".mat\"\n",
    "        mask = np.pad((loadmat(mask_name)['inst_map']>=1).astype(int),3)\n",
    "        if self.transform:\n",
    "            image = self.transform(image)\n",
    "\n",
    "        return image, mask"
   ]
  },
  {
   "cell_type": "code",
   "execution_count": 3,
   "metadata": {
    "id": "oql6fi9poYZf"
   },
   "outputs": [],
   "source": [
    "transform = transforms.Compose([\n",
    "    transforms.Pad(3),\n",
    "    transforms.ToTensor()    \n",
    "])\n",
    "\n",
    "valid_size = 0.2\n",
    "batch_size =1\n",
    "\n",
    "# DataLoader\n",
    "train_data = CellDataset(root_dir=\"./Train/train_250\", transform = transform)\n",
    "test_data = CellDataset(root_dir=\"./Test/test_250\", transform = transform)\n",
    "\n",
    "# obtain training indices that will be used for validation\n",
    "num_train = len(train_data)\n",
    "indices = list(range(num_train))\n",
    "np.random.shuffle(indices)\n",
    "split = int(np.floor(valid_size * num_train))\n",
    "train_idx, valid_idx = indices[split:], indices[:split]\n",
    "\n",
    "# define samplers for obtaining training and validation batches\n",
    "train_sampler = SubsetRandomSampler(train_idx)\n",
    "valid_sampler = SubsetRandomSampler(valid_idx)\n",
    "\n",
    "# load training data in batches\n",
    "train_loader = DataLoader(train_data,\n",
    "                          batch_size=batch_size,\n",
    "                          sampler=train_sampler,\n",
    "                          num_workers=0)\n",
    "\n",
    "# load validation data in batches\n",
    "valid_loader = DataLoader(train_data,\n",
    "                          batch_size=batch_size,\n",
    "                          sampler=valid_sampler,\n",
    "                          num_workers=0)\n",
    "\n",
    "# load test data in batches\n",
    "test_loader = DataLoader(test_data,\n",
    "                        batch_size=batch_size,\n",
    "                        num_workers=0)"
   ]
  },
  {
   "cell_type": "markdown",
   "metadata": {
    "id": "UsikYua8oYZg"
   },
   "source": [
    "## Training"
   ]
  },
  {
   "cell_type": "code",
   "execution_count": 4,
   "metadata": {
    "id": "m1cCDQzFoYZh"
   },
   "outputs": [],
   "source": [
    "def weighted_loss(pred,targ,bce_weight=0.5, smooth=1.):\n",
    "    \n",
    "    bce = F.binary_cross_entropy_with_logits(pred.squeeze(dim=1), targ)\n",
    "    \n",
    "    pred = torch.sigmoid(pred)\n",
    "    \n",
    "    pred = pred.contiguous().squeeze(dim=1)  \n",
    "    targ = targ.contiguous()  \n",
    "\n",
    "    intersection = (pred * targ).sum(dim=1).sum(dim=1)\n",
    "    dice = (1 - ((2. * intersection + smooth) / (pred.sum(dim=1).sum(dim=1) + targ.sum(dim=1).sum(dim=1) + smooth)))\n",
    "    \n",
    "    loss = bce * bce_weight + dice.mean() * (1 - bce_weight)\n",
    "    \n",
    "    return loss\n",
    "\n",
    "\n",
    "def dice_metric(pred,targ,bce_weight=0.5, smooth=1.):\n",
    "    \n",
    "    bce = F.binary_cross_entropy_with_logits(pred.squeeze(dim=1), targ)\n",
    "    \n",
    "    pred = torch.sigmoid(pred)\n",
    "    \n",
    "    pred = pred.contiguous().squeeze(dim=1)  \n",
    "    targ = targ.contiguous()  \n",
    "\n",
    "    intersection = (pred * targ).sum(dim=1).sum(dim=1)\n",
    "    union = targ.sum() + pred.sum()\n",
    "    \n",
    "\n",
    "    dice = (1 - ((2. * intersection + smooth) / (pred.sum(dim=1).sum(dim=1) + targ.sum(dim=1).sum(dim=1) + smooth)))\n",
    "    # print(intersection / union, dice)\n",
    "    \n",
    "    return dice\n",
    "\n",
    "\n",
    "def train(model, device, train_loader, valid_loader, optimizer, epochs, patience, img_size):\n",
    "    train_losses = []\n",
    "    valid_losses = []\n",
    "    avg_train_losses = [] # average training loss per epoch\n",
    "    avg_valid_losses = [] # average validation loss per epoch\n",
    "    valid_acc = 0\n",
    "    \n",
    "    os.makedirs(\"best_model_checkpoints\", exist_ok=True)\n",
    "    os.makedirs(\"model_checkpoints\", exist_ok=True)\n",
    "    save_path = f\"best_model_checkpoints/{model.__class__.__name__}.pth\"\n",
    "    early_stopping = EarlyStopping(patience=patience, path=save_path, verbose=True)\n",
    "    for epoch in tqdm(range(1, epochs + 1)):\n",
    "        train_loss = 0\n",
    "        valid_loss = 0\n",
    "        score = 0\n",
    "        \"\"\"\n",
    "        Trains the model on training data\n",
    "        \"\"\"\n",
    "        for batch_idx, (data, target) in enumerate(train_loader):\n",
    "            model.train()\n",
    "            data, target = data.to(device), target.to(device).float()\n",
    "\n",
    "            optimizer.zero_grad()\n",
    "            output = model(data)\n",
    "            loss = weighted_loss(output,target,bce_weight=0.3)\n",
    "            loss.backward()\n",
    "            optimizer.step()\n",
    "\n",
    "            train_loss+=(loss/len(data)).item()\n",
    "            train_losses.append(loss.item())\n",
    "            # Find accuracy\n",
    "        \n",
    "        \"\"\"\n",
    "        Validate the model on validation data\n",
    "        \"\"\"\n",
    "        model.eval()\n",
    "        for batch_idx, (data, target) in enumerate(valid_loader):\n",
    "            data, target = data.to(device), target.to(device).float()\n",
    "            output = model(data)\n",
    "            loss = weighted_loss(output,target,bce_weight=0.3)\n",
    "            valid_loss+=(loss/len(data)).item()\n",
    "            valid_losses.append(loss.item())\n",
    "            pred = output.to('cpu').detach().numpy()[0][0]\n",
    "            threshold=0.95\n",
    "            pred[pred >= threshold] = 1\n",
    "            pred[pred < threshold] = 0\n",
    "            score+=get_dice_1(target, pred)\n",
    "\n",
    "        train_loss /= len(train_loader)\n",
    "        valid_loss /= len(valid_loader)\n",
    "        score /= len(valid_loader)\n",
    "        if score > valid_acc:\n",
    "            valid_acc = score\n",
    "\n",
    "        # average loss over an epoch\n",
    "        train_loss = np.average(train_losses)\n",
    "        valid_loss = np.average(valid_losses)\n",
    "        avg_train_losses.append(train_loss)\n",
    "        avg_valid_losses.append(valid_loss)\n",
    "\n",
    "        # clear lists to track next epoch\n",
    "        train_losses = []\n",
    "        valid_losses = []\n",
    "\n",
    "        # early_stopping needs the validation loss to check if it has decresed, \n",
    "        # and if it has, it will make a checkpoint of the current model\n",
    "        early_stopping(valid_loss, model)\n",
    "\n",
    "        if early_stopping.early_stop:\n",
    "            print(\"Early stopping\")\n",
    "            break\n",
    "\n",
    "        torch.save(model.state_dict(), f\"model_checkpoints/{model.__class__.__name__}_{img_size}_{epoch}.pth\")\n",
    "        print('Train Epoch: {} @ {} - Train Loss: {:.4f} - Valid Loss: {:.4f}'.format(epoch, datetime.datetime.now().time(), train_loss, valid_loss))\n",
    "\n",
    "    # load the last checkpoint with the best model\n",
    "    model.load_state_dict(torch.load(save_path)) \n",
    "\n",
    "    return  model, avg_train_losses, avg_valid_losses, valid_acc"
   ]
  },
  {
   "cell_type": "code",
   "execution_count": 5,
   "metadata": {
    "id": "g85aEsploYZj"
   },
   "outputs": [],
   "source": [
    "# Set cpu / gpu\n",
    "device = torch.device(\"cuda\" if torch.cuda.is_available() else \"cpu\")\n",
    "\n",
    "# Initialize model and optimizer\n",
    "model = build_model(device, \"resnet\")\n",
    "model.to(device)\n",
    "\n",
    "lr = 0.001\n",
    "optimizer = Adam(model.parameters(), lr=lr)"
   ]
  },
  {
   "cell_type": "code",
   "execution_count": 6,
   "metadata": {
    "colab": {
     "base_uri": "https://localhost:8080/"
    },
    "id": "6-XwZQyFHA_L",
    "outputId": "a659e001-e0e9-442b-84a8-52cf9c459ce6",
    "scrolled": true
   },
   "outputs": [
    {
     "name": "stderr",
     "output_type": "stream",
     "text": [
      "\r",
      "  0%|          | 0/60 [00:00<?, ?it/s]"
     ]
    },
    {
     "name": "stdout",
     "output_type": "stream",
     "text": [
      "Training\n",
      "Validation loss decreased (inf --> 0.340872).  Saving model ...\n"
     ]
    },
    {
     "name": "stderr",
     "output_type": "stream",
     "text": [
      "\r",
      "  2%|▏         | 1/60 [00:50<49:29, 50.33s/it]"
     ]
    },
    {
     "name": "stdout",
     "output_type": "stream",
     "text": [
      "Train Epoch: 1 @ 18:50:37.994497 - Train Loss: 0.4046 - Valid Loss: 0.3409\n",
      "Validation loss decreased (0.340872 --> 0.317110).  Saving model ...\n"
     ]
    },
    {
     "name": "stderr",
     "output_type": "stream",
     "text": [
      "\r",
      "  3%|▎         | 2/60 [01:39<48:21, 50.03s/it]"
     ]
    },
    {
     "name": "stdout",
     "output_type": "stream",
     "text": [
      "Train Epoch: 2 @ 18:51:27.300589 - Train Loss: 0.3262 - Valid Loss: 0.3171\n",
      "Validation loss decreased (0.317110 --> 0.292613).  Saving model ...\n"
     ]
    },
    {
     "name": "stderr",
     "output_type": "stream",
     "text": [
      "\r",
      "  5%|▌         | 3/60 [02:29<47:28, 49.97s/it]"
     ]
    },
    {
     "name": "stdout",
     "output_type": "stream",
     "text": [
      "Train Epoch: 3 @ 18:52:17.129122 - Train Loss: 0.3010 - Valid Loss: 0.2926\n",
      "EarlyStopping counter: 1 out of 10\n"
     ]
    },
    {
     "name": "stderr",
     "output_type": "stream",
     "text": [
      "\r",
      "  7%|▋         | 4/60 [03:18<46:28, 49.80s/it]"
     ]
    },
    {
     "name": "stdout",
     "output_type": "stream",
     "text": [
      "Train Epoch: 4 @ 18:53:06.532800 - Train Loss: 0.2876 - Valid Loss: 0.3402\n",
      "EarlyStopping counter: 2 out of 10\n"
     ]
    },
    {
     "name": "stderr",
     "output_type": "stream",
     "text": [
      "\r",
      "  8%|▊         | 5/60 [04:07<45:22, 49.50s/it]"
     ]
    },
    {
     "name": "stdout",
     "output_type": "stream",
     "text": [
      "Train Epoch: 5 @ 18:53:55.336654 - Train Loss: 0.2686 - Valid Loss: 0.2964\n",
      "EarlyStopping counter: 3 out of 10\n"
     ]
    },
    {
     "name": "stderr",
     "output_type": "stream",
     "text": [
      "\r",
      " 10%|█         | 6/60 [04:56<44:24, 49.34s/it]"
     ]
    },
    {
     "name": "stdout",
     "output_type": "stream",
     "text": [
      "Train Epoch: 6 @ 18:54:44.302978 - Train Loss: 0.2731 - Valid Loss: 0.3536\n",
      "EarlyStopping counter: 4 out of 10\n"
     ]
    },
    {
     "name": "stderr",
     "output_type": "stream",
     "text": [
      "\r",
      " 12%|█▏        | 7/60 [05:45<43:30, 49.26s/it]"
     ]
    },
    {
     "name": "stdout",
     "output_type": "stream",
     "text": [
      "Train Epoch: 7 @ 18:55:33.385731 - Train Loss: 0.2951 - Valid Loss: 0.3046\n",
      "Validation loss decreased (0.292613 --> 0.291071).  Saving model ...\n"
     ]
    },
    {
     "name": "stderr",
     "output_type": "stream",
     "text": [
      "\r",
      " 13%|█▎        | 8/60 [06:34<42:35, 49.14s/it]"
     ]
    },
    {
     "name": "stdout",
     "output_type": "stream",
     "text": [
      "Train Epoch: 8 @ 18:56:22.249776 - Train Loss: 0.2522 - Valid Loss: 0.2911\n",
      "Validation loss decreased (0.291071 --> 0.264897).  Saving model ...\n"
     ]
    },
    {
     "name": "stderr",
     "output_type": "stream",
     "text": [
      "\r",
      " 15%|█▌        | 9/60 [07:23<41:47, 49.17s/it]"
     ]
    },
    {
     "name": "stdout",
     "output_type": "stream",
     "text": [
      "Train Epoch: 9 @ 18:57:11.480659 - Train Loss: 0.2397 - Valid Loss: 0.2649\n",
      "EarlyStopping counter: 1 out of 10\n"
     ]
    },
    {
     "name": "stderr",
     "output_type": "stream",
     "text": [
      "\r",
      " 17%|█▋        | 10/60 [08:12<40:52, 49.05s/it]"
     ]
    },
    {
     "name": "stdout",
     "output_type": "stream",
     "text": [
      "Train Epoch: 10 @ 18:58:00.267998 - Train Loss: 0.2609 - Valid Loss: 0.6425\n",
      "EarlyStopping counter: 2 out of 10\n"
     ]
    },
    {
     "name": "stderr",
     "output_type": "stream",
     "text": [
      "\r",
      " 18%|█▊        | 11/60 [09:01<40:00, 48.98s/it]"
     ]
    },
    {
     "name": "stdout",
     "output_type": "stream",
     "text": [
      "Train Epoch: 11 @ 18:58:49.087151 - Train Loss: 0.2644 - Valid Loss: 0.3190\n",
      "EarlyStopping counter: 3 out of 10\n"
     ]
    },
    {
     "name": "stderr",
     "output_type": "stream",
     "text": [
      "\r",
      " 20%|██        | 12/60 [09:50<39:11, 48.99s/it]"
     ]
    },
    {
     "name": "stdout",
     "output_type": "stream",
     "text": [
      "Train Epoch: 12 @ 18:59:38.086716 - Train Loss: 0.2755 - Valid Loss: 0.2855\n",
      "EarlyStopping counter: 4 out of 10\n"
     ]
    },
    {
     "name": "stderr",
     "output_type": "stream",
     "text": [
      "\r",
      " 22%|██▏       | 13/60 [10:39<38:21, 48.97s/it]"
     ]
    },
    {
     "name": "stdout",
     "output_type": "stream",
     "text": [
      "Train Epoch: 13 @ 19:00:27.017612 - Train Loss: 0.2441 - Valid Loss: 0.2765\n",
      "EarlyStopping counter: 5 out of 10\n"
     ]
    },
    {
     "name": "stderr",
     "output_type": "stream",
     "text": [
      "\r",
      " 23%|██▎       | 14/60 [11:28<37:32, 48.97s/it]"
     ]
    },
    {
     "name": "stdout",
     "output_type": "stream",
     "text": [
      "Train Epoch: 14 @ 19:01:15.981053 - Train Loss: 0.2288 - Valid Loss: 0.2729\n",
      "EarlyStopping counter: 6 out of 10\n"
     ]
    },
    {
     "name": "stderr",
     "output_type": "stream",
     "text": [
      "\r",
      " 25%|██▌       | 15/60 [12:17<36:45, 49.01s/it]"
     ]
    },
    {
     "name": "stdout",
     "output_type": "stream",
     "text": [
      "Train Epoch: 15 @ 19:02:05.083318 - Train Loss: 0.2732 - Valid Loss: 0.2856\n",
      "EarlyStopping counter: 7 out of 10\n"
     ]
    },
    {
     "name": "stderr",
     "output_type": "stream",
     "text": [
      "\r",
      " 27%|██▋       | 16/60 [13:06<35:55, 48.99s/it]"
     ]
    },
    {
     "name": "stdout",
     "output_type": "stream",
     "text": [
      "Train Epoch: 16 @ 19:02:54.015507 - Train Loss: 0.2560 - Valid Loss: 0.2989\n",
      "EarlyStopping counter: 8 out of 10\n"
     ]
    },
    {
     "name": "stderr",
     "output_type": "stream",
     "text": [
      "\r",
      " 28%|██▊       | 17/60 [13:55<35:05, 48.98s/it]"
     ]
    },
    {
     "name": "stdout",
     "output_type": "stream",
     "text": [
      "Train Epoch: 17 @ 19:03:42.969729 - Train Loss: 0.2691 - Valid Loss: 0.2891\n",
      "EarlyStopping counter: 9 out of 10\n"
     ]
    },
    {
     "name": "stderr",
     "output_type": "stream",
     "text": [
      "\r",
      " 30%|███       | 18/60 [14:43<34:13, 48.88s/it]"
     ]
    },
    {
     "name": "stdout",
     "output_type": "stream",
     "text": [
      "Train Epoch: 18 @ 19:04:31.630381 - Train Loss: 0.2369 - Valid Loss: 0.3318\n"
     ]
    },
    {
     "name": "stderr",
     "output_type": "stream",
     "text": [
      "\r",
      " 30%|███       | 18/60 [15:32<36:16, 51.82s/it]"
     ]
    },
    {
     "name": "stdout",
     "output_type": "stream",
     "text": [
      "EarlyStopping counter: 10 out of 10\n",
      "Early stopping\n"
     ]
    },
    {
     "name": "stderr",
     "output_type": "stream",
     "text": [
      "\n"
     ]
    }
   ],
   "source": [
    "print(\"Training\")\n",
    "# Training the model\n",
    "epochs = 60\n",
    "lr = 0.001\n",
    "patience = 10  # how long to wait after last time validation loss improved\n",
    "optimizer = Adam(model.parameters(), lr=lr)\n",
    "img_size = \"ResNet-250x250\"\n",
    "\n",
    "model, train_loss, valid_loss, valid_acc = train(model, device, train_loader, valid_loader, optimizer, epochs, patience, img_size)"
   ]
  },
  {
   "cell_type": "code",
   "execution_count": 7,
   "metadata": {},
   "outputs": [
    {
     "name": "stdout",
     "output_type": "stream",
     "text": [
      "DICE score: 0.7330125839247092\n"
     ]
    }
   ],
   "source": [
    "print(\"DICE score:\", valid_acc)"
   ]
  },
  {
   "cell_type": "markdown",
   "metadata": {
    "id": "496-1NjDkOhd"
   },
   "source": [
    "# Graphs"
   ]
  },
  {
   "cell_type": "code",
   "execution_count": 8,
   "metadata": {
    "id": "Go28Ud9878Oz"
   },
   "outputs": [],
   "source": [
    "def plot_graph(train_loss, valid_loss):\n",
    "  fig = plt.figure(figsize=(10,8))\n",
    "  plt.plot(range(1,len(train_loss)+1),train_loss, label='Training Loss')\n",
    "  plt.plot(range(1,len(valid_loss)+1),valid_loss,label='Validation Loss')\n",
    "\n",
    "  # find position of lowest validation loss\n",
    "  minposs = valid_loss.index(min(valid_loss))+1 \n",
    "  plt.axvline(minposs, linestyle='--', color='r',label='Early Stopping Checkpoint')\n",
    "\n",
    "  plt.xlabel('epochs')\n",
    "  plt.ylabel('loss')\n",
    "  plt.ylim(0, 0.5) # consistent scale\n",
    "  plt.xlim(0, len(train_loss)+1) # consistent scale\n",
    "  plt.grid(True)\n",
    "  plt.legend()\n",
    "  plt.tight_layout()\n",
    "  plt.show()\n",
    "  fig.savefig('loss_plot.png', bbox_inches='tight')"
   ]
  },
  {
   "cell_type": "code",
   "execution_count": 9,
   "metadata": {
    "colab": {
     "base_uri": "https://localhost:8080/",
     "height": 585
    },
    "id": "SKPVMQHlkQSh",
    "outputId": "2efd665f-c296-4ab9-d991-ed73768092e8"
   },
   "outputs": [
    {
     "data": {
      "image/png": "[encoded data removed]",
      "text/plain": [
       "<Figure size 720x576 with 1 Axes>"
      ]
     },
     "metadata": {
      "needs_background": "light"
     },
     "output_type": "display_data"
    }
   ],
   "source": [
    "plot_graph(train_loss, valid_loss)"
   ]
  },
  {
   "cell_type": "markdown",
   "metadata": {
    "id": "Cy8OdumOVIar"
   },
   "source": [
    "# Load model\n"
   ]
  },
  {
   "cell_type": "code",
   "execution_count": null,
   "metadata": {
    "id": "26rd63IGVMrF"
   },
   "outputs": [],
   "source": [
    "# load saved model\n",
    "def load_model(model):\n",
    "  path = f\"model_checkpoints/{model.__class__.__name__}.pt\"\n",
    "  model.load_state_dict(torch.load(path)) \n",
    "  model.eval()\n",
    "  return model\n",
    "model = load_model(model)"
   ]
  },
  {
   "cell_type": "markdown",
   "metadata": {
    "id": "N-QK3yY7lGbc"
   },
   "source": [
    "# Test"
   ]
  },
  {
   "cell_type": "code",
   "execution_count": null,
   "metadata": {
    "id": "Cy3v6P2k0gqn"
   },
   "outputs": [],
   "source": [
    "def test(model, device, data, target):\n",
    "    print(\"Input Image\")\n",
    "    plt.imshow(data[0].numpy().transpose(1, 2, 0))\n",
    "    plt.show()\n",
    "    outputs = model(data.to(device))\n",
    "    pred = outputs.to('cpu').detach().numpy()[0][0]\n",
    "\n",
    "    print(\"Predicted Mask Sigmoid\")\n",
    "    plt.imshow(pred,cmap='gray')\n",
    "    plt.show()\n",
    "    threshold=0.95\n",
    "    pred[pred >= threshold] = 1\n",
    "    pred[pred < threshold] = 0\n",
    "    print(\"Predicted Mask Binary\")\n",
    "    plt.imshow(pred,cmap='gray')\n",
    "    plt.show()\n",
    "    print(\"Actual Mask\")\n",
    "    plt.imshow(target[0],cmap='gray')\n",
    "    plt.show()\n",
    "\n",
    "    # iou\n",
    "    iou_score = iou(target, pred)\n",
    "    print(\"iou score:\", iou_score)\n",
    "\n",
    "    # AJI\n",
    "    aji_score = get_fast_aji(target, pred)\n",
    "    print(\"AJI score:\", aji_score)\n",
    "\n",
    "    # AJI+\n",
    "    aji_plus_score = get_fast_aji_plus(target, pred)\n",
    "    print(\"AJI+ score:\", aji_plus_score)\n",
    "\n",
    "    # PQ\n",
    "    pq_score = get_fast_pq(target, pred)[0]\n",
    "    print(\"Detection Quality (DQ):\", pq_score[0])\n",
    "    print(\"Segmentation Quality (SQ):\", pq_score[1])\n",
    "    print(\"Panoptic Quality (PQ):\", pq_score[2])\n",
    "\n",
    "    # Dice2\n",
    "    dice2_score = get_fast_dice_2(target, pred)\n",
    "    print(\"Dice2 score:\", dice2_score, \"\\n\")\n",
    "    \n",
    "    dice_score = get_dice_1(target, pred)\n",
    "    print(\"Dice score:\", dice_score, \"\\n\")\n",
    "\n",
    "    return iou_score, aji_score, aji_plus_score, pq_score, dice2_score"
   ]
  },
  {
   "cell_type": "code",
   "execution_count": null,
   "metadata": {
    "colab": {
     "base_uri": "https://localhost:8080/",
     "height": 1000
    },
    "id": "EhR_iX6gPIed",
    "outputId": "59ac81fe-31ad-4e72-f47f-c3e693e14f74"
   },
   "outputs": [],
   "source": [
    "# Testing the model\n",
    "for data, target in test_loader:\n",
    "    iou_score, aji_score, aji_plus_score, pq_score, dice2_score = test(model, device, data, target)\n",
    "    break"
   ]
  }
 ],
 "metadata": {
  "accelerator": "GPU",
  "colab": {
   "collapsed_sections": [
    "eMwGKrENqxQA"
   ],
   "name": "Segmentation_Early_Stopping.ipynb",
   "provenance": []
  },
  "kernelspec": {
   "display_name": "Python 3",
   "language": "python",
   "name": "python3"
  },
  "language_info": {
   "codemirror_mode": {
    "name": "ipython",
    "version": 3
   },
   "file_extension": ".py",
   "mimetype": "text/x-python",
   "name": "python",
   "nbconvert_exporter": "python",
   "pygments_lexer": "ipython3",
   "version": "3.6.10"
  },
  "widgets": {
   "application/vnd.jupyter.widget-state+json": {
    "36f4de02e6cc400d874b53afa9f7b5f7": {
     "model_module": "@jupyter-widgets/controls",
     "model_name": "FloatProgressModel",
     "state": {
      "_dom_classes": [],
      "_model_module": "@jupyter-widgets/controls",
      "_model_module_version": "1.5.0",
      "_model_name": "FloatProgressModel",
      "_view_count": null,
      "_view_module": "@jupyter-widgets/controls",
      "_view_module_version": "1.5.0",
      "_view_name": "ProgressView",
      "bar_style": "success",
      "description": "100%",
      "description_tooltip": null,
      "layout": "IPY_MODEL_50a6f4bb80664e1eb58ccb9e0b544cd5",
      "max": 46830571,
      "min": 0,
      "orientation": "horizontal",
      "style": "IPY_MODEL_a4e2e6b48c1c48f8ba3c6e5655e3ad17",
      "value": 46830571
     }
    },
    "3b29fa77fa5c4317a1090814095c7df5": {
     "model_module": "@jupyter-widgets/base",
     "model_name": "LayoutModel",
     "state": {
      "_model_module": "@jupyter-widgets/base",
      "_model_module_version": "1.2.0",
      "_model_name": "LayoutModel",
      "_view_count": null,
      "_view_module": "@jupyter-widgets/base",
      "_view_module_version": "1.2.0",
      "_view_name": "LayoutView",
      "align_content": null,
      "align_items": null,
      "align_self": null,
      "border": null,
      "bottom": null,
      "display": null,
      "flex": null,
      "flex_flow": null,
      "grid_area": null,
      "grid_auto_columns": null,
      "grid_auto_flow": null,
      "grid_auto_rows": null,
      "grid_column": null,
      "grid_gap": null,
      "grid_row": null,
      "grid_template_areas": null,
      "grid_template_columns": null,
      "grid_template_rows": null,
      "height": null,
      "justify_content": null,
      "justify_items": null,
      "left": null,
      "margin": null,
      "max_height": null,
      "max_width": null,
      "min_height": null,
      "min_width": null,
      "object_fit": null,
      "object_position": null,
      "order": null,
      "overflow": null,
      "overflow_x": null,
      "overflow_y": null,
      "padding": null,
      "right": null,
      "top": null,
      "visibility": null,
      "width": null
     }
    },
    "50a6f4bb80664e1eb58ccb9e0b544cd5": {
     "model_module": "@jupyter-widgets/base",
     "model_name": "LayoutModel",
     "state": {
      "_model_module": "@jupyter-widgets/base",
      "_model_module_version": "1.2.0",
      "_model_name": "LayoutModel",
      "_view_count": null,
      "_view_module": "@jupyter-widgets/base",
      "_view_module_version": "1.2.0",
      "_view_name": "LayoutView",
      "align_content": null,
      "align_items": null,
      "align_self": null,
      "border": null,
      "bottom": null,
      "display": null,
      "flex": null,
      "flex_flow": null,
      "grid_area": null,
      "grid_auto_columns": null,
      "grid_auto_flow": null,
      "grid_auto_rows": null,
      "grid_column": null,
      "grid_gap": null,
      "grid_row": null,
      "grid_template_areas": null,
      "grid_template_columns": null,
      "grid_template_rows": null,
      "height": null,
      "justify_content": null,
      "justify_items": null,
      "left": null,
      "margin": null,
      "max_height": null,
      "max_width": null,
      "min_height": null,
      "min_width": null,
      "object_fit": null,
      "object_position": null,
      "order": null,
      "overflow": null,
      "overflow_x": null,
      "overflow_y": null,
      "padding": null,
      "right": null,
      "top": null,
      "visibility": null,
      "width": null
     }
    },
    "53b34bfece514648ad814c224d55d617": {
     "model_module": "@jupyter-widgets/controls",
     "model_name": "DescriptionStyleModel",
     "state": {
      "_model_module": "@jupyter-widgets/controls",
      "_model_module_version": "1.5.0",
      "_model_name": "DescriptionStyleModel",
      "_view_count": null,
      "_view_module": "@jupyter-widgets/base",
      "_view_module_version": "1.2.0",
      "_view_name": "StyleView",
      "description_width": ""
     }
    },
    "55cd84ff385d418f9ff772afc1e7fe66": {
     "model_module": "@jupyter-widgets/base",
     "model_name": "LayoutModel",
     "state": {
      "_model_module": "@jupyter-widgets/base",
      "_model_module_version": "1.2.0",
      "_model_name": "LayoutModel",
      "_view_count": null,
      "_view_module": "@jupyter-widgets/base",
      "_view_module_version": "1.2.0",
      "_view_name": "LayoutView",
      "align_content": null,
      "align_items": null,
      "align_self": null,
      "border": null,
      "bottom": null,
      "display": null,
      "flex": null,
      "flex_flow": null,
      "grid_area": null,
      "grid_auto_columns": null,
      "grid_auto_flow": null,
      "grid_auto_rows": null,
      "grid_column": null,
      "grid_gap": null,
      "grid_row": null,
      "grid_template_areas": null,
      "grid_template_columns": null,
      "grid_template_rows": null,
      "height": null,
      "justify_content": null,
      "justify_items": null,
      "left": null,
      "margin": null,
      "max_height": null,
      "max_width": null,
      "min_height": null,
      "min_width": null,
      "object_fit": null,
      "object_position": null,
      "order": null,
      "overflow": null,
      "overflow_x": null,
      "overflow_y": null,
      "padding": null,
      "right": null,
      "top": null,
      "visibility": null,
      "width": null
     }
    },
    "58d8cd3698bb4273b645025dc1a485cf": {
     "model_module": "@jupyter-widgets/controls",
     "model_name": "HTMLModel",
     "state": {
      "_dom_classes": [],
      "_model_module": "@jupyter-widgets/controls",
      "_model_module_version": "1.5.0",
      "_model_name": "HTMLModel",
      "_view_count": null,
      "_view_module": "@jupyter-widgets/controls",
      "_view_module_version": "1.5.0",
      "_view_name": "HTMLView",
      "description": "",
      "description_tooltip": null,
      "layout": "IPY_MODEL_55cd84ff385d418f9ff772afc1e7fe66",
      "placeholder": "​",
      "style": "IPY_MODEL_53b34bfece514648ad814c224d55d617",
      "value": " 44.7M/44.7M [00:02&lt;00:00, 22.0MB/s]"
     }
    },
    "a4e2e6b48c1c48f8ba3c6e5655e3ad17": {
     "model_module": "@jupyter-widgets/controls",
     "model_name": "ProgressStyleModel",
     "state": {
      "_model_module": "@jupyter-widgets/controls",
      "_model_module_version": "1.5.0",
      "_model_name": "ProgressStyleModel",
      "_view_count": null,
      "_view_module": "@jupyter-widgets/base",
      "_view_module_version": "1.2.0",
      "_view_name": "StyleView",
      "bar_color": null,
      "description_width": "initial"
     }
    },
    "e2f5a5813ebd4b7eb99d211af59be8fd": {
     "model_module": "@jupyter-widgets/controls",
     "model_name": "HBoxModel",
     "state": {
      "_dom_classes": [],
      "_model_module": "@jupyter-widgets/controls",
      "_model_module_version": "1.5.0",
      "_model_name": "HBoxModel",
      "_view_count": null,
      "_view_module": "@jupyter-widgets/controls",
      "_view_module_version": "1.5.0",
      "_view_name": "HBoxView",
      "box_style": "",
      "children": [
       "IPY_MODEL_36f4de02e6cc400d874b53afa9f7b5f7",
       "IPY_MODEL_58d8cd3698bb4273b645025dc1a485cf"
      ],
      "layout": "IPY_MODEL_3b29fa77fa5c4317a1090814095c7df5"
     }
    }
   }
  }
 },
 "nbformat": 4,
 "nbformat_minor": 1
}
