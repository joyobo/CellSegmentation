{
  "nbformat": 4,
  "nbformat_minor": 0,
  "metadata": {
    "accelerator": "GPU",
    "colab": {
      "name": "Copy of Training-ResNet18AttentionUNet-MultiClass-4layer250-ZW.ipynb",
      "provenance": [],
      "collapsed_sections": [
        "54DQsZ030_58",
        "08R8PHDKzE9M",
        "FlaEuDF9zPRP"
      ]
    },
    "kernelspec": {
      "display_name": "Python 3",
      "language": "python",
      "name": "python3"
    },
    "language_info": {
      "codemirror_mode": {
        "name": "ipython",
        "version": 3
      },
      "file_extension": ".py",
      "mimetype": "text/x-python",
      "name": "python",
      "nbconvert_exporter": "python",
      "pygments_lexer": "ipython3",
      "version": "3.6.10"
    },
    "widgets": {
      "application/vnd.jupyter.widget-state+json": {
        "f1403acd4ac04d56965d008f79b95a13": {
          "model_module": "@jupyter-widgets/controls",
          "model_name": "HBoxModel",
          "state": {
            "_view_name": "HBoxView",
            "_dom_classes": [],
            "_model_name": "HBoxModel",
            "_view_module": "@jupyter-widgets/controls",
            "_model_module_version": "1.5.0",
            "_view_count": null,
            "_view_module_version": "1.5.0",
            "box_style": "",
            "layout": "IPY_MODEL_49dbe77955934068a6cafb06db33cb81",
            "_model_module": "@jupyter-widgets/controls",
            "children": [
              "IPY_MODEL_8f0c4e7a496940b0afe4974b7b6de1b8",
              "IPY_MODEL_84bc9431a44245989884962cea3c2d73"
            ]
          }
        },
        "49dbe77955934068a6cafb06db33cb81": {
          "model_module": "@jupyter-widgets/base",
          "model_name": "LayoutModel",
          "state": {
            "_view_name": "LayoutView",
            "grid_template_rows": null,
            "right": null,
            "justify_content": null,
            "_view_module": "@jupyter-widgets/base",
            "overflow": null,
            "_model_module_version": "1.2.0",
            "_view_count": null,
            "flex_flow": null,
            "width": null,
            "min_width": null,
            "border": null,
            "align_items": null,
            "bottom": null,
            "_model_module": "@jupyter-widgets/base",
            "top": null,
            "grid_column": null,
            "overflow_y": null,
            "overflow_x": null,
            "grid_auto_flow": null,
            "grid_area": null,
            "grid_template_columns": null,
            "flex": null,
            "_model_name": "LayoutModel",
            "justify_items": null,
            "grid_row": null,
            "max_height": null,
            "align_content": null,
            "visibility": null,
            "align_self": null,
            "height": null,
            "min_height": null,
            "padding": null,
            "grid_auto_rows": null,
            "grid_gap": null,
            "max_width": null,
            "order": null,
            "_view_module_version": "1.2.0",
            "grid_template_areas": null,
            "object_position": null,
            "object_fit": null,
            "grid_auto_columns": null,
            "margin": null,
            "display": null,
            "left": null
          }
        },
        "8f0c4e7a496940b0afe4974b7b6de1b8": {
          "model_module": "@jupyter-widgets/controls",
          "model_name": "FloatProgressModel",
          "state": {
            "_view_name": "ProgressView",
            "style": "IPY_MODEL_1d1fc58fdce7425a90d555f99223eac4",
            "_dom_classes": [],
            "description": "100%",
            "_model_name": "FloatProgressModel",
            "bar_style": "success",
            "max": 46830571,
            "_view_module": "@jupyter-widgets/controls",
            "_model_module_version": "1.5.0",
            "value": 46830571,
            "_view_count": null,
            "_view_module_version": "1.5.0",
            "orientation": "horizontal",
            "min": 0,
            "description_tooltip": null,
            "_model_module": "@jupyter-widgets/controls",
            "layout": "IPY_MODEL_9ce688584b7e41c280e174572947b9b5"
          }
        },
        "84bc9431a44245989884962cea3c2d73": {
          "model_module": "@jupyter-widgets/controls",
          "model_name": "HTMLModel",
          "state": {
            "_view_name": "HTMLView",
            "style": "IPY_MODEL_6a116d8dcba14c918fe8001633e0a800",
            "_dom_classes": [],
            "description": "",
            "_model_name": "HTMLModel",
            "placeholder": "​",
            "_view_module": "@jupyter-widgets/controls",
            "_model_module_version": "1.5.0",
            "value": " 44.7M/44.7M [00:01&lt;00:00, 37.4MB/s]",
            "_view_count": null,
            "_view_module_version": "1.5.0",
            "description_tooltip": null,
            "_model_module": "@jupyter-widgets/controls",
            "layout": "IPY_MODEL_47253e957e884858bceb2b635c790326"
          }
        },
        "1d1fc58fdce7425a90d555f99223eac4": {
          "model_module": "@jupyter-widgets/controls",
          "model_name": "ProgressStyleModel",
          "state": {
            "_view_name": "StyleView",
            "_model_name": "ProgressStyleModel",
            "description_width": "initial",
            "_view_module": "@jupyter-widgets/base",
            "_model_module_version": "1.5.0",
            "_view_count": null,
            "_view_module_version": "1.2.0",
            "bar_color": null,
            "_model_module": "@jupyter-widgets/controls"
          }
        },
        "9ce688584b7e41c280e174572947b9b5": {
          "model_module": "@jupyter-widgets/base",
          "model_name": "LayoutModel",
          "state": {
            "_view_name": "LayoutView",
            "grid_template_rows": null,
            "right": null,
            "justify_content": null,
            "_view_module": "@jupyter-widgets/base",
            "overflow": null,
            "_model_module_version": "1.2.0",
            "_view_count": null,
            "flex_flow": null,
            "width": null,
            "min_width": null,
            "border": null,
            "align_items": null,
            "bottom": null,
            "_model_module": "@jupyter-widgets/base",
            "top": null,
            "grid_column": null,
            "overflow_y": null,
            "overflow_x": null,
            "grid_auto_flow": null,
            "grid_area": null,
            "grid_template_columns": null,
            "flex": null,
            "_model_name": "LayoutModel",
            "justify_items": null,
            "grid_row": null,
            "max_height": null,
            "align_content": null,
            "visibility": null,
            "align_self": null,
            "height": null,
            "min_height": null,
            "padding": null,
            "grid_auto_rows": null,
            "grid_gap": null,
            "max_width": null,
            "order": null,
            "_view_module_version": "1.2.0",
            "grid_template_areas": null,
            "object_position": null,
            "object_fit": null,
            "grid_auto_columns": null,
            "margin": null,
            "display": null,
            "left": null
          }
        },
        "6a116d8dcba14c918fe8001633e0a800": {
          "model_module": "@jupyter-widgets/controls",
          "model_name": "DescriptionStyleModel",
          "state": {
            "_view_name": "StyleView",
            "_model_name": "DescriptionStyleModel",
            "description_width": "",
            "_view_module": "@jupyter-widgets/base",
            "_model_module_version": "1.5.0",
            "_view_count": null,
            "_view_module_version": "1.2.0",
            "_model_module": "@jupyter-widgets/controls"
          }
        },
        "47253e957e884858bceb2b635c790326": {
          "model_module": "@jupyter-widgets/base",
          "model_name": "LayoutModel",
          "state": {
            "_view_name": "LayoutView",
            "grid_template_rows": null,
            "right": null,
            "justify_content": null,
            "_view_module": "@jupyter-widgets/base",
            "overflow": null,
            "_model_module_version": "1.2.0",
            "_view_count": null,
            "flex_flow": null,
            "width": null,
            "min_width": null,
            "border": null,
            "align_items": null,
            "bottom": null,
            "_model_module": "@jupyter-widgets/base",
            "top": null,
            "grid_column": null,
            "overflow_y": null,
            "overflow_x": null,
            "grid_auto_flow": null,
            "grid_area": null,
            "grid_template_columns": null,
            "flex": null,
            "_model_name": "LayoutModel",
            "justify_items": null,
            "grid_row": null,
            "max_height": null,
            "align_content": null,
            "visibility": null,
            "align_self": null,
            "height": null,
            "min_height": null,
            "padding": null,
            "grid_auto_rows": null,
            "grid_gap": null,
            "max_width": null,
            "order": null,
            "_view_module_version": "1.2.0",
            "grid_template_areas": null,
            "object_position": null,
            "object_fit": null,
            "grid_auto_columns": null,
            "margin": null,
            "display": null,
            "left": null
          }
        },
        "5e458e75d9d44d6bb42e8438470ad62d": {
          "model_module": "@jupyter-widgets/controls",
          "model_name": "HBoxModel",
          "state": {
            "_view_name": "HBoxView",
            "_dom_classes": [],
            "_model_name": "HBoxModel",
            "_view_module": "@jupyter-widgets/controls",
            "_model_module_version": "1.5.0",
            "_view_count": null,
            "_view_module_version": "1.5.0",
            "box_style": "",
            "layout": "IPY_MODEL_b9378904964847529c125d1b433d8454",
            "_model_module": "@jupyter-widgets/controls",
            "children": [
              "IPY_MODEL_cdecbd6b08724937816e39f604e18565",
              "IPY_MODEL_3ef1e7f6969e4a1ebaaceeef0fd481b8"
            ]
          }
        },
        "b9378904964847529c125d1b433d8454": {
          "model_module": "@jupyter-widgets/base",
          "model_name": "LayoutModel",
          "state": {
            "_view_name": "LayoutView",
            "grid_template_rows": null,
            "right": null,
            "justify_content": null,
            "_view_module": "@jupyter-widgets/base",
            "overflow": null,
            "_model_module_version": "1.2.0",
            "_view_count": null,
            "flex_flow": null,
            "width": null,
            "min_width": null,
            "border": null,
            "align_items": null,
            "bottom": null,
            "_model_module": "@jupyter-widgets/base",
            "top": null,
            "grid_column": null,
            "overflow_y": null,
            "overflow_x": null,
            "grid_auto_flow": null,
            "grid_area": null,
            "grid_template_columns": null,
            "flex": null,
            "_model_name": "LayoutModel",
            "justify_items": null,
            "grid_row": null,
            "max_height": null,
            "align_content": null,
            "visibility": null,
            "align_self": null,
            "height": null,
            "min_height": null,
            "padding": null,
            "grid_auto_rows": null,
            "grid_gap": null,
            "max_width": null,
            "order": null,
            "_view_module_version": "1.2.0",
            "grid_template_areas": null,
            "object_position": null,
            "object_fit": null,
            "grid_auto_columns": null,
            "margin": null,
            "display": null,
            "left": null
          }
        },
        "cdecbd6b08724937816e39f604e18565": {
          "model_module": "@jupyter-widgets/controls",
          "model_name": "FloatProgressModel",
          "state": {
            "_view_name": "ProgressView",
            "style": "IPY_MODEL_978ce6dc6b8d48149e6db56ef02978a5",
            "_dom_classes": [],
            "description": "100%",
            "_model_name": "FloatProgressModel",
            "bar_style": "success",
            "max": 46830571,
            "_view_module": "@jupyter-widgets/controls",
            "_model_module_version": "1.5.0",
            "value": 46830571,
            "_view_count": null,
            "_view_module_version": "1.5.0",
            "orientation": "horizontal",
            "min": 0,
            "description_tooltip": null,
            "_model_module": "@jupyter-widgets/controls",
            "layout": "IPY_MODEL_eb2326951bd14803a99912a461d147f5"
          }
        },
        "3ef1e7f6969e4a1ebaaceeef0fd481b8": {
          "model_module": "@jupyter-widgets/controls",
          "model_name": "HTMLModel",
          "state": {
            "_view_name": "HTMLView",
            "style": "IPY_MODEL_fa2eeed1ebe547d19ccf10e9ce2bb331",
            "_dom_classes": [],
            "description": "",
            "_model_name": "HTMLModel",
            "placeholder": "​",
            "_view_module": "@jupyter-widgets/controls",
            "_model_module_version": "1.5.0",
            "value": " 44.7M/44.7M [00:01&lt;00:00, 42.6MB/s]",
            "_view_count": null,
            "_view_module_version": "1.5.0",
            "description_tooltip": null,
            "_model_module": "@jupyter-widgets/controls",
            "layout": "IPY_MODEL_1cadc148ccbb4314aaf109f366c637ad"
          }
        },
        "978ce6dc6b8d48149e6db56ef02978a5": {
          "model_module": "@jupyter-widgets/controls",
          "model_name": "ProgressStyleModel",
          "state": {
            "_view_name": "StyleView",
            "_model_name": "ProgressStyleModel",
            "description_width": "initial",
            "_view_module": "@jupyter-widgets/base",
            "_model_module_version": "1.5.0",
            "_view_count": null,
            "_view_module_version": "1.2.0",
            "bar_color": null,
            "_model_module": "@jupyter-widgets/controls"
          }
        },
        "eb2326951bd14803a99912a461d147f5": {
          "model_module": "@jupyter-widgets/base",
          "model_name": "LayoutModel",
          "state": {
            "_view_name": "LayoutView",
            "grid_template_rows": null,
            "right": null,
            "justify_content": null,
            "_view_module": "@jupyter-widgets/base",
            "overflow": null,
            "_model_module_version": "1.2.0",
            "_view_count": null,
            "flex_flow": null,
            "width": null,
            "min_width": null,
            "border": null,
            "align_items": null,
            "bottom": null,
            "_model_module": "@jupyter-widgets/base",
            "top": null,
            "grid_column": null,
            "overflow_y": null,
            "overflow_x": null,
            "grid_auto_flow": null,
            "grid_area": null,
            "grid_template_columns": null,
            "flex": null,
            "_model_name": "LayoutModel",
            "justify_items": null,
            "grid_row": null,
            "max_height": null,
            "align_content": null,
            "visibility": null,
            "align_self": null,
            "height": null,
            "min_height": null,
            "padding": null,
            "grid_auto_rows": null,
            "grid_gap": null,
            "max_width": null,
            "order": null,
            "_view_module_version": "1.2.0",
            "grid_template_areas": null,
            "object_position": null,
            "object_fit": null,
            "grid_auto_columns": null,
            "margin": null,
            "display": null,
            "left": null
          }
        },
        "fa2eeed1ebe547d19ccf10e9ce2bb331": {
          "model_module": "@jupyter-widgets/controls",
          "model_name": "DescriptionStyleModel",
          "state": {
            "_view_name": "StyleView",
            "_model_name": "DescriptionStyleModel",
            "description_width": "",
            "_view_module": "@jupyter-widgets/base",
            "_model_module_version": "1.5.0",
            "_view_count": null,
            "_view_module_version": "1.2.0",
            "_model_module": "@jupyter-widgets/controls"
          }
        },
        "1cadc148ccbb4314aaf109f366c637ad": {
          "model_module": "@jupyter-widgets/base",
          "model_name": "LayoutModel",
          "state": {
            "_view_name": "LayoutView",
            "grid_template_rows": null,
            "right": null,
            "justify_content": null,
            "_view_module": "@jupyter-widgets/base",
            "overflow": null,
            "_model_module_version": "1.2.0",
            "_view_count": null,
            "flex_flow": null,
            "width": null,
            "min_width": null,
            "border": null,
            "align_items": null,
            "bottom": null,
            "_model_module": "@jupyter-widgets/base",
            "top": null,
            "grid_column": null,
            "overflow_y": null,
            "overflow_x": null,
            "grid_auto_flow": null,
            "grid_area": null,
            "grid_template_columns": null,
            "flex": null,
            "_model_name": "LayoutModel",
            "justify_items": null,
            "grid_row": null,
            "max_height": null,
            "align_content": null,
            "visibility": null,
            "align_self": null,
            "height": null,
            "min_height": null,
            "padding": null,
            "grid_auto_rows": null,
            "grid_gap": null,
            "max_width": null,
            "order": null,
            "_view_module_version": "1.2.0",
            "grid_template_areas": null,
            "object_position": null,
            "object_fit": null,
            "grid_auto_columns": null,
            "margin": null,
            "display": null,
            "left": null
          }
        }
      }
    }
  },
  "cells": [
    {
      "cell_type": "code",
      "metadata": {
        "id": "gNLQvPTKpOHV"
      },
      "source": [
        "# from google.colab import drive\n",
        "# drive.mount('/content/drive')"
      ],
      "execution_count": null,
      "outputs": []
    },
    {
      "cell_type": "code",
      "metadata": {
        "id": "ri0wzjpOF03D"
      },
      "source": [
        "# %cd /content/drive/MyDrive/Term 8/Term 8 Artificial Intelligence/folder\n",
        "# %cd /content/drive/MyDrive/CellCount"
      ],
      "execution_count": null,
      "outputs": []
    },
    {
      "cell_type": "code",
      "metadata": {
        "colab": {
          "base_uri": "https://localhost:8080/"
        },
        "id": "0KhkJi2uFlMD",
        "outputId": "db037fc8-2255-4236-b1e7-a17fc0023067"
      },
      "source": [
        "!git clone https://github.com/Bjarten/early-stopping-pytorch.git ./earlystopping"
      ],
      "execution_count": null,
      "outputs": [
        {
          "output_type": "stream",
          "text": [
            "Cloning into './earlystopping'...\n",
            "remote: Enumerating objects: 92, done.\u001b[K\n",
            "remote: Total 92 (delta 0), reused 0 (delta 0), pack-reused 92\u001b[K\n",
            "Unpacking objects: 100% (92/92), done.\n"
          ],
          "name": "stdout"
        }
      ]
    },
    {
      "cell_type": "code",
      "metadata": {
        "colab": {
          "base_uri": "https://localhost:8080/"
        },
        "id": "G_HDMimti36p",
        "outputId": "96b527f8-0b15-4905-dedf-4c85d1e28b7c"
      },
      "source": [
        "from google.colab import drive\n",
        "drive.mount('/content/drive')"
      ],
      "execution_count": 2,
      "outputs": [
        {
          "output_type": "stream",
          "text": [
            "Mounted at /content/drive\n"
          ],
          "name": "stdout"
        }
      ]
    },
    {
      "cell_type": "code",
      "metadata": {
        "id": "f0EQL4tXi_W6",
        "colab": {
          "base_uri": "https://localhost:8080/"
        },
        "outputId": "70e7f68d-b643-47a5-8f31-4e480cc47269"
      },
      "source": [
        "%cd /content/drive/MyDrive/Term 8/Term 8 Artificial Intelligence/CellCount"
      ],
      "execution_count": 3,
      "outputs": [
        {
          "output_type": "stream",
          "text": [
            "/content/drive/.shortcut-targets-by-id/1YKEw_9_hGI3JHWUqdS-5_4veTSfHhAGf/CellCount\n"
          ],
          "name": "stdout"
        }
      ]
    },
    {
      "cell_type": "code",
      "metadata": {
        "id": "US40j-7RoYYw"
      },
      "source": [
        "import os\n",
        "import torch\n",
        "import datetime\n",
        "from model import *\n",
        "from utils import *\n",
        "import numpy as np\n",
        "from tqdm import tqdm\n",
        "from PIL import Image\n",
        "from skimage import io\n",
        "from torch.optim import Adam\n",
        "import torch.nn.functional as F\n",
        "import matplotlib.pyplot as plt\n",
        "from torchvision import transforms\n",
        "from scipy.io import loadmat, savemat\n",
        "from torch.utils.data import Dataset, DataLoader\n",
        "from earlystopping.pytorchtools import EarlyStopping\n",
        "from torch.utils.data.sampler import SubsetRandomSampler"
      ],
      "execution_count": 7,
      "outputs": []
    },
    {
      "cell_type": "markdown",
      "metadata": {
        "id": "cwZAWxnvq04l"
      },
      "source": [
        "# Dataset and Dataloader"
      ]
    },
    {
      "cell_type": "code",
      "metadata": {
        "id": "R2HRFeuVoYZe"
      },
      "source": [
        "def to_categorical(y, num_classes):\n",
        "    \"\"\" 1-hot encodes a tensor \"\"\"\n",
        "    return np.eye(num_classes, dtype='uint8')[y]\n",
        "\n",
        "class CellDataset(Dataset):\n",
        "\n",
        "    def __init__(self, root_dir, transform=None, training=True):\n",
        "        self.fileNames = [i[:-4] for i in sorted(os.listdir(root_dir+\"/Labels/\"))]\n",
        "        self.root_dir = root_dir\n",
        "        self.transform = transform\n",
        "        self.training = training\n",
        "\n",
        "    def __len__(self):\n",
        "        return len(self.fileNames)\n",
        "    \n",
        "    \"\"\"\n",
        "    returns: tuple of\n",
        "    - image\n",
        "    - mask of size n x n with unique values/classes ranging from 0 to 4 \n",
        "        0: background\n",
        "        1: others (1)\n",
        "        2: inflammatory(2)\n",
        "        3: healthy epithelial(3) , dysplastic/malignant epithelial(4)\n",
        "        4: fibroblast(5) , muscle(6) , endothelial(7)\n",
        "    \"\"\"\n",
        "    def __getitem__(self, idx):\n",
        "        img_name = os.path.join(self.root_dir,\"Images\",self.fileNames[idx])+\".png\"\n",
        "        image = img = Image.open(img_name).convert('RGB')\n",
        "        mask_name = os.path.join(self.root_dir,\"Labels\",self.fileNames[idx])+\".mat\"\n",
        "        x = loadmat(mask_name)['type_map']\n",
        "        x[(x==3)|(x==4)]=3\n",
        "        x[(x==5)|(x==6)|(x==7)]=4\n",
        "        \n",
        "        # 250x250 images\n",
        "        x=np.pad(x.astype(int),3)\n",
        "\n",
        "        # 500x500 images\n",
        "        # x=np.pad(x.astype(int),6)\n",
        "\n",
        "        # 1000x1000 images\n",
        "        # x=np.pad(x.astype(int),12)\n",
        "        if self.transform:\n",
        "            image = self.transform(image)\n",
        "\n",
        "        if self.training:\n",
        "            return image, to_categorical(x,5).transpose(2, 0, 1) #(num_classes=5, n, n)\n",
        "        else:\n",
        "            return image, to_categorical(x,5).transpose(2, 0, 1), self.fileNames[idx] #(num_classes=5, n, n)"
      ],
      "execution_count": 8,
      "outputs": []
    },
    {
      "cell_type": "code",
      "metadata": {
        "id": "oql6fi9poYZf"
      },
      "source": [
        "transform = transforms.Compose([\n",
        "    # 250x250 images\n",
        "    transforms.Pad(3),\n",
        "\n",
        "    # 500x500 images\n",
        "    # transforms.Pad(6),\n",
        "\n",
        "    # 1000x1000 images\n",
        "    # transforms.Pad(12),\n",
        "    \n",
        "    transforms.ToTensor()    \n",
        "])\n",
        "\n",
        "valid_size = 0.2\n",
        "batch_size = 16\n",
        "\n",
        "# DataLoader\n",
        "train_data = CellDataset(root_dir=\"./Train/train_250\", transform = transform)\n",
        "test_data = CellDataset(root_dir=\"./Test/test_250\", transform = transform, training=False)\n",
        "\n",
        "# obtain training indices that will be used for validation\n",
        "num_train = len(train_data)\n",
        "indices = list(range(num_train))\n",
        "np.random.shuffle(indices)\n",
        "split = int(np.floor(valid_size * num_train))\n",
        "train_idx, valid_idx = indices[split:], indices[:split]\n",
        "\n",
        "# define samplers for obtaining training and validation batches\n",
        "train_sampler = SubsetRandomSampler(train_idx)\n",
        "valid_sampler = SubsetRandomSampler(valid_idx)\n",
        "\n",
        "# load training data in batches\n",
        "train_loader = DataLoader(train_data,\n",
        "                          batch_size=batch_size,\n",
        "                          sampler=train_sampler,\n",
        "                          num_workers=0)\n",
        "\n",
        "# load validation data in batches\n",
        "valid_loader = DataLoader(train_data,\n",
        "                          batch_size=batch_size,\n",
        "                          sampler=valid_sampler,\n",
        "                          num_workers=0)\n",
        "\n",
        "# load test data in batches\n",
        "test_loader = DataLoader(test_data,\n",
        "                        batch_size=batch_size,\n",
        "                        num_workers=0)"
      ],
      "execution_count": 9,
      "outputs": []
    },
    {
      "cell_type": "markdown",
      "metadata": {
        "id": "UsikYua8oYZg"
      },
      "source": [
        "## Training"
      ]
    },
    {
      "cell_type": "code",
      "metadata": {
        "id": "m1cCDQzFoYZh"
      },
      "source": [
        "def weighted_loss(pred,targ,bce_weight=0.7, smooth=1.):\n",
        "    \n",
        "    bce = F.binary_cross_entropy_with_logits(pred.squeeze(dim=1), targ)\n",
        "    \n",
        "    pred = torch.sigmoid(pred)\n",
        "    \n",
        "    pred = pred.contiguous().squeeze(dim=1)  \n",
        "    targ = targ.contiguous()  \n",
        "\n",
        "    intersection = (pred * targ).sum(dim=1).sum(dim=1)\n",
        "    dice = (1 - ((2. * intersection + smooth) / (pred.sum(dim=1).sum(dim=1) + targ.sum(dim=1).sum(dim=1) + smooth)))\n",
        "    \n",
        "    loss = bce * bce_weight + dice.mean() * (1 - bce_weight)\n",
        "    \n",
        "    return loss\n",
        "\n",
        "def train(model, device, train_loader, valid_loader, optimizer, epochs, patience, model_chkpt_name):\n",
        "    train_losses = []\n",
        "    valid_losses = []\n",
        "    avg_train_losses = [] # average training loss per epoch\n",
        "    avg_valid_losses = [] # average validation loss per epoch\n",
        "    valid_acc = 0\n",
        "    \n",
        "    os.makedirs(\"best_model_checkpoints\", exist_ok=True)\n",
        "    os.makedirs(\"model_checkpoints\", exist_ok=True)\n",
        "    save_path = f\"best_model_checkpoints/{model.__class__.__name__}.pth\"\n",
        "    early_stopping = EarlyStopping(patience=patience, path=save_path, verbose=True)\n",
        "    for epoch in tqdm(range(1, epochs + 1)):\n",
        "        train_loss = 0\n",
        "        valid_loss = 0\n",
        "        score = 0\n",
        "        \"\"\"\n",
        "        Trains the model on training data\n",
        "        \"\"\"\n",
        "        for batch_idx, (data, target) in enumerate(train_loader):\n",
        "            model.train()\n",
        "            data, target = data.to(device), target.to(device).float()\n",
        "\n",
        "            optimizer.zero_grad()\n",
        "            output = model(data)\n",
        "            loss = weighted_loss(output,target,bce_weight=0.5) \n",
        "            loss.backward()\n",
        "            optimizer.step()\n",
        "\n",
        "            train_loss+=(loss/len(data)).item()\n",
        "            train_losses.append(loss.item())\n",
        "            # Find accuracy\n",
        "        \n",
        "        \"\"\"\n",
        "        Validate the model on validation data\n",
        "        \"\"\"\n",
        "        model.eval()\n",
        "        for batch_idx, (data, target) in enumerate(valid_loader):\n",
        "            data, target = data.to(device), target.to(device).float()\n",
        "            output = model(data)\n",
        "            loss = weighted_loss(output,target,bce_weight=0.3)\n",
        "            valid_loss+=(loss/len(data)).item()\n",
        "            valid_losses.append(loss.item())\n",
        "            pred = output[0].to('cpu').detach()\n",
        "            pred=F.softmax(pred, dim=0)# along the channel\n",
        "            pred=pred.numpy()\n",
        "            pred[pred.max(axis=0,keepdims=1) == pred] = 1\n",
        "            pred[pred.max(axis=0,keepdims=1) != pred] = 0\n",
        "            score+=get_dice_1(target, pred)\n",
        "\n",
        "        train_loss /= len(train_loader)\n",
        "        valid_loss /= len(valid_loader)\n",
        "        score /= len(valid_loader)\n",
        "        if score > valid_acc:\n",
        "            valid_acc = score\n",
        "\n",
        "        # average loss over an epoch\n",
        "        train_loss = np.average(train_losses)\n",
        "        valid_loss = np.average(valid_losses)\n",
        "        avg_train_losses.append(train_loss)\n",
        "        avg_valid_losses.append(valid_loss)\n",
        "\n",
        "        # clear lists to track next epoch\n",
        "        train_losses = []\n",
        "        valid_losses = []\n",
        "\n",
        "        # early_stopping needs the validation loss to check if it has decresed, \n",
        "        # and if it has, it will make a checkpoint of the current model\n",
        "        early_stopping(valid_loss, model)\n",
        "\n",
        "        if early_stopping.early_stop:\n",
        "            print(\"Early stopping\")\n",
        "            break\n",
        "\n",
        "        torch.save(model.state_dict(), f\"model_checkpoints/{model.__class__.__name__}_{model_chkpt_name}_{epoch}.pth\")\n",
        "        print('Train Epoch: {} @ {} - Train Loss: {:.4f} - Valid Loss: {:.4f}'.format(epoch, datetime.datetime.now().time(), train_loss, valid_loss))\n",
        "\n",
        "    # load the last checkpoint with the best model\n",
        "    model.load_state_dict(torch.load(save_path)) \n",
        "\n",
        "    return  model, avg_train_losses, avg_valid_losses, valid_acc"
      ],
      "execution_count": 10,
      "outputs": []
    },
    {
      "cell_type": "code",
      "metadata": {
        "id": "g85aEsploYZj",
        "colab": {
          "base_uri": "https://localhost:8080/",
          "height": 84,
          "referenced_widgets": [
            "f1403acd4ac04d56965d008f79b95a13",
            "49dbe77955934068a6cafb06db33cb81",
            "8f0c4e7a496940b0afe4974b7b6de1b8",
            "84bc9431a44245989884962cea3c2d73",
            "1d1fc58fdce7425a90d555f99223eac4",
            "9ce688584b7e41c280e174572947b9b5",
            "6a116d8dcba14c918fe8001633e0a800",
            "47253e957e884858bceb2b635c790326"
          ]
        },
        "outputId": "995d8c02-57c8-488c-a21c-bfc557c7e618"
      },
      "source": [
        "# Set cpu / gpu\n",
        "device = torch.device(\"cuda\" if torch.cuda.is_available() else \"cpu\")\n",
        "\n",
        "# Initialize model and optimizer\n",
        "model = build_model(device, \"resnet\")\n",
        "model.to(device)\n",
        "\n",
        "lr = 0.00001\n",
        "optimizer = Adam(model.parameters(), lr=lr)"
      ],
      "execution_count": null,
      "outputs": [
        {
          "output_type": "stream",
          "text": [
            "Downloading: \"https://download.pytorch.org/models/resnet18-f37072fd.pth\" to /root/.cache/torch/hub/checkpoints/resnet18-f37072fd.pth\n"
          ],
          "name": "stderr"
        },
        {
          "output_type": "display_data",
          "data": {
            "application/vnd.jupyter.widget-view+json": {
              "model_id": "f1403acd4ac04d56965d008f79b95a13",
              "version_minor": 0,
              "version_major": 2
            },
            "text/plain": [
              "HBox(children=(FloatProgress(value=0.0, max=46830571.0), HTML(value='')))"
            ]
          },
          "metadata": {
            "tags": []
          }
        },
        {
          "output_type": "stream",
          "text": [
            "\n"
          ],
          "name": "stdout"
        }
      ]
    },
    {
      "cell_type": "code",
      "metadata": {
        "colab": {
          "base_uri": "https://localhost:8080/"
        },
        "id": "6-XwZQyFHA_L",
        "scrolled": true,
        "outputId": "b7454859-4517-4aa0-8b36-de26f8340e74"
      },
      "source": [
        "# Training the model\n",
        "print(\"Training\")\n",
        "\n",
        "epochs = 60\n",
        "patience = 10  # how long to wait after last time validation loss improved\n",
        "model_chkpt_name = \"ResNet-250___best\"\n",
        "\n",
        "model, train_loss, valid_loss, valid_acc = train(model, device, train_loader, valid_loader, optimizer, epochs, patience, model_chkpt_name)"
      ],
      "execution_count": null,
      "outputs": [
        {
          "output_type": "stream",
          "text": [
            "\n",
            "\n",
            "  0%|          | 0/60 [00:00<?, ?it/s]\u001b[A\u001b[A"
          ],
          "name": "stderr"
        },
        {
          "output_type": "stream",
          "text": [
            "Training\n",
            "Validation loss decreased (inf --> 0.658465).  Saving model ...\n"
          ],
          "name": "stdout"
        },
        {
          "output_type": "stream",
          "text": [
            "\n",
            "\n",
            "  2%|▏         | 1/60 [00:18<18:20, 18.66s/it]\u001b[A\u001b[A"
          ],
          "name": "stderr"
        },
        {
          "output_type": "stream",
          "text": [
            "Train Epoch: 1 @ 10:55:54.299909 - Train Loss: 0.6919 - Valid Loss: 0.6585\n",
            "Validation loss decreased (0.658465 --> 0.328534).  Saving model ...\n"
          ],
          "name": "stdout"
        },
        {
          "output_type": "stream",
          "text": [
            "\n",
            "\n",
            "  3%|▎         | 2/60 [00:37<18:03, 18.69s/it]\u001b[A\u001b[A"
          ],
          "name": "stderr"
        },
        {
          "output_type": "stream",
          "text": [
            "Train Epoch: 2 @ 10:56:13.065392 - Train Loss: 0.5417 - Valid Loss: 0.3285\n",
            "Validation loss decreased (0.328534 --> 0.224923).  Saving model ...\n"
          ],
          "name": "stdout"
        },
        {
          "output_type": "stream",
          "text": [
            "\n",
            "\n",
            "  5%|▌         | 3/60 [00:56<17:49, 18.77s/it]\u001b[A\u001b[A"
          ],
          "name": "stderr"
        },
        {
          "output_type": "stream",
          "text": [
            "Train Epoch: 3 @ 10:56:32.019035 - Train Loss: 0.3700 - Valid Loss: 0.2249\n",
            "Validation loss decreased (0.224923 --> 0.223786).  Saving model ...\n"
          ],
          "name": "stdout"
        },
        {
          "output_type": "stream",
          "text": [
            "\n",
            "\n",
            "  7%|▋         | 4/60 [01:15<17:34, 18.83s/it]\u001b[A\u001b[A"
          ],
          "name": "stderr"
        },
        {
          "output_type": "stream",
          "text": [
            "Train Epoch: 4 @ 10:56:50.981137 - Train Loss: 0.3168 - Valid Loss: 0.2238\n",
            "Validation loss decreased (0.223786 --> 0.214476).  Saving model ...\n"
          ],
          "name": "stdout"
        },
        {
          "output_type": "stream",
          "text": [
            "\n",
            "\n",
            "  8%|▊         | 5/60 [01:34<17:16, 18.84s/it]\u001b[A\u001b[A"
          ],
          "name": "stderr"
        },
        {
          "output_type": "stream",
          "text": [
            "Train Epoch: 5 @ 10:57:09.865758 - Train Loss: 0.2975 - Valid Loss: 0.2145\n",
            "Validation loss decreased (0.214476 --> 0.208713).  Saving model ...\n"
          ],
          "name": "stdout"
        },
        {
          "output_type": "stream",
          "text": [
            "\n",
            "\n",
            " 10%|█         | 6/60 [01:53<16:57, 18.85s/it]\u001b[A\u001b[A"
          ],
          "name": "stderr"
        },
        {
          "output_type": "stream",
          "text": [
            "Train Epoch: 6 @ 10:57:28.735393 - Train Loss: 0.2919 - Valid Loss: 0.2087\n",
            "Validation loss decreased (0.208713 --> 0.206239).  Saving model ...\n"
          ],
          "name": "stdout"
        },
        {
          "output_type": "stream",
          "text": [
            "\n",
            "\n",
            " 12%|█▏        | 7/60 [02:14<17:20, 19.63s/it]\u001b[A\u001b[A"
          ],
          "name": "stderr"
        },
        {
          "output_type": "stream",
          "text": [
            "Train Epoch: 7 @ 10:57:50.186882 - Train Loss: 0.2839 - Valid Loss: 0.2062\n",
            "EarlyStopping counter: 1 out of 10\n"
          ],
          "name": "stdout"
        },
        {
          "output_type": "stream",
          "text": [
            "\n",
            "\n",
            " 13%|█▎        | 8/60 [02:32<16:40, 19.25s/it]\u001b[A\u001b[A"
          ],
          "name": "stderr"
        },
        {
          "output_type": "stream",
          "text": [
            "Train Epoch: 8 @ 10:58:08.535331 - Train Loss: 0.2770 - Valid Loss: 0.2139\n",
            "EarlyStopping counter: 2 out of 10\n"
          ],
          "name": "stdout"
        },
        {
          "output_type": "stream",
          "text": [
            "\n",
            "\n",
            " 15%|█▌        | 9/60 [02:51<16:08, 18.99s/it]\u001b[A\u001b[A"
          ],
          "name": "stderr"
        },
        {
          "output_type": "stream",
          "text": [
            "Train Epoch: 9 @ 10:58:26.911054 - Train Loss: 0.2703 - Valid Loss: 0.2074\n",
            "Validation loss decreased (0.206239 --> 0.195882).  Saving model ...\n"
          ],
          "name": "stdout"
        },
        {
          "output_type": "stream",
          "text": [
            "\n",
            "\n",
            " 17%|█▋        | 10/60 [03:09<15:43, 18.86s/it]\u001b[A\u001b[A"
          ],
          "name": "stderr"
        },
        {
          "output_type": "stream",
          "text": [
            "Train Epoch: 10 @ 10:58:45.480215 - Train Loss: 0.2624 - Valid Loss: 0.1959\n",
            "Validation loss decreased (0.195882 --> 0.186359).  Saving model ...\n"
          ],
          "name": "stdout"
        },
        {
          "output_type": "stream",
          "text": [
            "\n",
            "\n",
            " 18%|█▊        | 11/60 [03:28<15:21, 18.81s/it]\u001b[A\u001b[A"
          ],
          "name": "stderr"
        },
        {
          "output_type": "stream",
          "text": [
            "Train Epoch: 11 @ 10:59:04.158171 - Train Loss: 0.2547 - Valid Loss: 0.1864\n",
            "Validation loss decreased (0.186359 --> 0.183073).  Saving model ...\n"
          ],
          "name": "stdout"
        },
        {
          "output_type": "stream",
          "text": [
            "\n",
            "\n",
            " 20%|██        | 12/60 [03:47<15:04, 18.85s/it]\u001b[A\u001b[A"
          ],
          "name": "stderr"
        },
        {
          "output_type": "stream",
          "text": [
            "Train Epoch: 12 @ 10:59:23.095904 - Train Loss: 0.2439 - Valid Loss: 0.1831\n",
            "Validation loss decreased (0.183073 --> 0.166340).  Saving model ...\n"
          ],
          "name": "stdout"
        },
        {
          "output_type": "stream",
          "text": [
            "\n",
            "\n",
            " 22%|██▏       | 13/60 [04:06<14:45, 18.84s/it]\u001b[A\u001b[A"
          ],
          "name": "stderr"
        },
        {
          "output_type": "stream",
          "text": [
            "Train Epoch: 13 @ 10:59:41.921109 - Train Loss: 0.2329 - Valid Loss: 0.1663\n",
            "Validation loss decreased (0.166340 --> 0.156020).  Saving model ...\n"
          ],
          "name": "stdout"
        },
        {
          "output_type": "stream",
          "text": [
            "\n",
            "\n",
            " 23%|██▎       | 14/60 [04:24<14:22, 18.76s/it]\u001b[A\u001b[A"
          ],
          "name": "stderr"
        },
        {
          "output_type": "stream",
          "text": [
            "Train Epoch: 14 @ 11:00:00.485515 - Train Loss: 0.2230 - Valid Loss: 0.1560\n",
            "EarlyStopping counter: 1 out of 10\n"
          ],
          "name": "stdout"
        },
        {
          "output_type": "stream",
          "text": [
            "\n",
            "\n",
            " 25%|██▌       | 15/60 [04:43<13:57, 18.61s/it]\u001b[A\u001b[A"
          ],
          "name": "stderr"
        },
        {
          "output_type": "stream",
          "text": [
            "Train Epoch: 15 @ 11:00:18.737128 - Train Loss: 0.2149 - Valid Loss: 0.1596\n",
            "Validation loss decreased (0.156020 --> 0.147420).  Saving model ...\n"
          ],
          "name": "stdout"
        },
        {
          "output_type": "stream",
          "text": [
            "\n",
            "\n",
            " 27%|██▋       | 16/60 [05:01<13:42, 18.69s/it]\u001b[A\u001b[A"
          ],
          "name": "stderr"
        },
        {
          "output_type": "stream",
          "text": [
            "Train Epoch: 16 @ 11:00:37.624862 - Train Loss: 0.2061 - Valid Loss: 0.1474\n",
            "Validation loss decreased (0.147420 --> 0.144463).  Saving model ...\n"
          ],
          "name": "stdout"
        },
        {
          "output_type": "stream",
          "text": [
            "\n",
            "\n",
            " 28%|██▊       | 17/60 [05:20<13:22, 18.67s/it]\u001b[A\u001b[A"
          ],
          "name": "stderr"
        },
        {
          "output_type": "stream",
          "text": [
            "Train Epoch: 17 @ 11:00:56.240332 - Train Loss: 0.1977 - Valid Loss: 0.1445\n",
            "Validation loss decreased (0.144463 --> 0.140516).  Saving model ...\n"
          ],
          "name": "stdout"
        },
        {
          "output_type": "stream",
          "text": [
            "\n",
            "\n",
            " 30%|███       | 18/60 [05:39<13:03, 18.65s/it]\u001b[A\u001b[A"
          ],
          "name": "stderr"
        },
        {
          "output_type": "stream",
          "text": [
            "Train Epoch: 18 @ 11:01:14.862011 - Train Loss: 0.1935 - Valid Loss: 0.1405\n",
            "Validation loss decreased (0.140516 --> 0.138853).  Saving model ...\n"
          ],
          "name": "stdout"
        },
        {
          "output_type": "stream",
          "text": [
            "\n",
            "\n",
            " 32%|███▏      | 19/60 [05:58<12:48, 18.75s/it]\u001b[A\u001b[A"
          ],
          "name": "stderr"
        },
        {
          "output_type": "stream",
          "text": [
            "Train Epoch: 19 @ 11:01:33.847967 - Train Loss: 0.1875 - Valid Loss: 0.1389\n",
            "Validation loss decreased (0.138853 --> 0.135972).  Saving model ...\n"
          ],
          "name": "stdout"
        },
        {
          "output_type": "stream",
          "text": [
            "\n",
            "\n",
            " 33%|███▎      | 20/60 [06:17<12:31, 18.79s/it]\u001b[A\u001b[A"
          ],
          "name": "stderr"
        },
        {
          "output_type": "stream",
          "text": [
            "Train Epoch: 20 @ 11:01:52.729534 - Train Loss: 0.1838 - Valid Loss: 0.1360\n",
            "Validation loss decreased (0.135972 --> 0.128953).  Saving model ...\n"
          ],
          "name": "stdout"
        },
        {
          "output_type": "stream",
          "text": [
            "\n",
            "\n",
            " 35%|███▌      | 21/60 [06:35<12:11, 18.75s/it]\u001b[A\u001b[A"
          ],
          "name": "stderr"
        },
        {
          "output_type": "stream",
          "text": [
            "Train Epoch: 21 @ 11:02:11.394342 - Train Loss: 0.1774 - Valid Loss: 0.1290\n",
            "EarlyStopping counter: 1 out of 10\n"
          ],
          "name": "stdout"
        },
        {
          "output_type": "stream",
          "text": [
            "\n",
            "\n",
            " 37%|███▋      | 22/60 [06:54<11:47, 18.62s/it]\u001b[A\u001b[A"
          ],
          "name": "stderr"
        },
        {
          "output_type": "stream",
          "text": [
            "Train Epoch: 22 @ 11:02:29.685930 - Train Loss: 0.1736 - Valid Loss: 0.1325\n",
            "EarlyStopping counter: 2 out of 10\n"
          ],
          "name": "stdout"
        },
        {
          "output_type": "stream",
          "text": [
            "\n",
            "\n",
            " 38%|███▊      | 23/60 [07:12<11:26, 18.57s/it]\u001b[A\u001b[A"
          ],
          "name": "stderr"
        },
        {
          "output_type": "stream",
          "text": [
            "Train Epoch: 23 @ 11:02:48.133913 - Train Loss: 0.1706 - Valid Loss: 0.1293\n",
            "EarlyStopping counter: 3 out of 10\n"
          ],
          "name": "stdout"
        },
        {
          "output_type": "stream",
          "text": [
            "\n",
            "\n",
            " 40%|████      | 24/60 [07:30<11:04, 18.47s/it]\u001b[A\u001b[A"
          ],
          "name": "stderr"
        },
        {
          "output_type": "stream",
          "text": [
            "Train Epoch: 24 @ 11:03:06.381275 - Train Loss: 0.1668 - Valid Loss: 0.1308\n",
            "Validation loss decreased (0.128953 --> 0.120654).  Saving model ...\n"
          ],
          "name": "stdout"
        },
        {
          "output_type": "stream",
          "text": [
            "\n",
            "\n",
            " 42%|████▏     | 25/60 [07:49<10:50, 18.60s/it]\u001b[A\u001b[A"
          ],
          "name": "stderr"
        },
        {
          "output_type": "stream",
          "text": [
            "Train Epoch: 25 @ 11:03:25.281768 - Train Loss: 0.1613 - Valid Loss: 0.1207\n",
            "Validation loss decreased (0.120654 --> 0.115191).  Saving model ...\n"
          ],
          "name": "stdout"
        },
        {
          "output_type": "stream",
          "text": [
            "\n",
            "\n",
            " 43%|████▎     | 26/60 [08:08<10:33, 18.65s/it]\u001b[A\u001b[A"
          ],
          "name": "stderr"
        },
        {
          "output_type": "stream",
          "text": [
            "Train Epoch: 26 @ 11:03:44.034004 - Train Loss: 0.1581 - Valid Loss: 0.1152\n",
            "EarlyStopping counter: 1 out of 10\n"
          ],
          "name": "stdout"
        },
        {
          "output_type": "stream",
          "text": [
            "\n",
            "\n",
            " 45%|████▌     | 27/60 [08:26<10:11, 18.52s/it]\u001b[A\u001b[A"
          ],
          "name": "stderr"
        },
        {
          "output_type": "stream",
          "text": [
            "Train Epoch: 27 @ 11:04:02.272559 - Train Loss: 0.1556 - Valid Loss: 0.1216\n",
            "EarlyStopping counter: 2 out of 10\n"
          ],
          "name": "stdout"
        },
        {
          "output_type": "stream",
          "text": [
            "\n",
            "\n",
            " 47%|████▋     | 28/60 [08:44<09:51, 18.47s/it]\u001b[A\u001b[A"
          ],
          "name": "stderr"
        },
        {
          "output_type": "stream",
          "text": [
            "Train Epoch: 28 @ 11:04:20.627486 - Train Loss: 0.1524 - Valid Loss: 0.1223\n",
            "EarlyStopping counter: 3 out of 10\n"
          ],
          "name": "stdout"
        },
        {
          "output_type": "stream",
          "text": [
            "\n",
            "\n",
            " 48%|████▊     | 29/60 [09:03<09:30, 18.41s/it]\u001b[A\u001b[A"
          ],
          "name": "stderr"
        },
        {
          "output_type": "stream",
          "text": [
            "Train Epoch: 29 @ 11:04:38.889696 - Train Loss: 0.1513 - Valid Loss: 0.1244\n",
            "EarlyStopping counter: 4 out of 10\n"
          ],
          "name": "stdout"
        },
        {
          "output_type": "stream",
          "text": [
            "\n",
            "\n",
            " 50%|█████     | 30/60 [09:21<09:10, 18.35s/it]\u001b[A\u001b[A"
          ],
          "name": "stderr"
        },
        {
          "output_type": "stream",
          "text": [
            "Train Epoch: 30 @ 11:04:57.088188 - Train Loss: 0.1493 - Valid Loss: 0.1188\n",
            "EarlyStopping counter: 5 out of 10\n"
          ],
          "name": "stdout"
        },
        {
          "output_type": "stream",
          "text": [
            "\n",
            "\n",
            " 52%|█████▏    | 31/60 [09:39<08:50, 18.30s/it]\u001b[A\u001b[A"
          ],
          "name": "stderr"
        },
        {
          "output_type": "stream",
          "text": [
            "Train Epoch: 31 @ 11:05:15.289622 - Train Loss: 0.1481 - Valid Loss: 0.1243\n",
            "EarlyStopping counter: 6 out of 10\n"
          ],
          "name": "stdout"
        },
        {
          "output_type": "stream",
          "text": [
            "\n",
            "\n",
            " 53%|█████▎    | 32/60 [09:58<08:33, 18.34s/it]\u001b[A\u001b[A"
          ],
          "name": "stderr"
        },
        {
          "output_type": "stream",
          "text": [
            "Train Epoch: 32 @ 11:05:33.711047 - Train Loss: 0.1461 - Valid Loss: 0.1227\n",
            "EarlyStopping counter: 7 out of 10\n"
          ],
          "name": "stdout"
        },
        {
          "output_type": "stream",
          "text": [
            "\n",
            "\n",
            " 55%|█████▌    | 33/60 [10:16<08:14, 18.32s/it]\u001b[A\u001b[A"
          ],
          "name": "stderr"
        },
        {
          "output_type": "stream",
          "text": [
            "Train Epoch: 33 @ 11:05:51.976926 - Train Loss: 0.1438 - Valid Loss: 0.1208\n",
            "EarlyStopping counter: 8 out of 10\n"
          ],
          "name": "stdout"
        },
        {
          "output_type": "stream",
          "text": [
            "\n",
            "\n",
            " 57%|█████▋    | 34/60 [10:34<07:55, 18.28s/it]\u001b[A\u001b[A"
          ],
          "name": "stderr"
        },
        {
          "output_type": "stream",
          "text": [
            "Train Epoch: 34 @ 11:06:10.173787 - Train Loss: 0.1400 - Valid Loss: 0.1295\n",
            "EarlyStopping counter: 9 out of 10\n"
          ],
          "name": "stdout"
        },
        {
          "output_type": "stream",
          "text": [
            "\n",
            "\n",
            " 58%|█████▊    | 35/60 [10:52<07:37, 18.31s/it]\u001b[A\u001b[A"
          ],
          "name": "stderr"
        },
        {
          "output_type": "stream",
          "text": [
            "Train Epoch: 35 @ 11:06:28.550943 - Train Loss: 0.1405 - Valid Loss: 0.1179\n",
            "EarlyStopping counter: 10 out of 10\n",
            "Early stopping\n"
          ],
          "name": "stdout"
        }
      ]
    },
    {
      "cell_type": "code",
      "metadata": {
        "id": "X5SSioMVArTN",
        "colab": {
          "base_uri": "https://localhost:8080/"
        },
        "outputId": "08691b1b-5ef1-42c2-8a84-64c93018b90c"
      },
      "source": [
        "print(\"DICE score:\", valid_acc)"
      ],
      "execution_count": null,
      "outputs": [
        {
          "output_type": "stream",
          "text": [
            "DICE score: 0.9557113647460938\n"
          ],
          "name": "stdout"
        }
      ]
    },
    {
      "cell_type": "markdown",
      "metadata": {
        "id": "Cy8OdumOVIar"
      },
      "source": [
        "# Load model\n"
      ]
    },
    {
      "cell_type": "code",
      "metadata": {
        "id": "26rd63IGVMrF"
      },
      "source": [
        "# load saved model\n",
        "def load_model(model):\n",
        "  # path = f\"best_model_checkpoints/{model.__class__.__name__}.pth\"\n",
        "  path = \"model_checkpoints/ResNet_Attention_UNet_ResNet-250___best_35.pth\"\n",
        "  model.load_state_dict(torch.load(path)) \n",
        "  model.eval()\n",
        "  return model\n",
        "model = load_model(model)"
      ],
      "execution_count": null,
      "outputs": []
    },
    {
      "cell_type": "markdown",
      "metadata": {
        "id": "N-QK3yY7lGbc"
      },
      "source": [
        "# Test"
      ]
    },
    {
      "cell_type": "code",
      "metadata": {
        "id": "fIsIYknpArTP"
      },
      "source": [
        "\"\"\"\n",
        "0: black: background\n",
        "1: red: others (1)\n",
        "2: green: inflammatory(2)\n",
        "3: dark blue: healthy epithelial(3) , dysplastic/malignant epithelial(4)\n",
        "4: light blue: fibroblast(5) , muscle(6) , endothelial(7)\n",
        "\"\"\"\n",
        "# params: 5 x n x n numpy or n x n x 5\n",
        "def printColoredMask(npMask,numchannel=5):\n",
        "    if npMask.shape[-1]!=5:\n",
        "        npMask=npMask.transpose(1, 2, 0)\n",
        "    finalnpMask=np.where(npMask[:,:,1]==1,255,0) # one color\n",
        "    finalnpMask=finalnpMask[:,:,None]\n",
        "    temp=np.where((npMask[:,:,2]==1)|(npMask[:,:,4]==1),255,0) # one color\n",
        "    finalnpMask = np.concatenate((finalnpMask,temp[:, :, None]),axis=2)\n",
        "    temp=np.where((npMask[:,:,3]==1)|(npMask[:,:,4]==1),255,0) # one color\n",
        "    finalnpMask = np.concatenate((finalnpMask,temp[:, :, None]),axis=2)\n",
        "    plt.imshow(finalnpMask)\n",
        "    # plt.show()"
      ],
      "execution_count": 11,
      "outputs": []
    },
    {
      "cell_type": "code",
      "metadata": {
        "id": "Cy3v6P2k0gqn"
      },
      "source": [
        "def evalutation(pred, target):\n",
        "    # PQ\n",
        "    pq_score = get_fast_pq(target, pred)[0]\n",
        "    print(\"Detection Quality (DQ):\", pq_score[0])\n",
        "    print(\"Segmentation Quality (SQ):\", pq_score[1])\n",
        "    print(\"Panoptic Quality (PQ):\", pq_score[2])\n",
        "    dice_score = get_dice_1(target, pred)\n",
        "    print(\"Dice score:\", dice_score, \"\\n\")\n",
        "\n",
        "\n",
        "def test(model, device, data, target):\n",
        "    print(\"Input Image\")\n",
        "    plt.imshow(data[0].numpy().transpose(1, 2, 0))\n",
        "    # plt.show()\n",
        "    outputs = model(data.to(device))[0]\n",
        "    pred = outputs.to('cpu').detach()\n",
        "    pred=F.softmax(pred, dim=0)# along the channel\n",
        "    pred=pred.numpy()\n",
        "\n",
        "    print(\"Predicted Mask Sigmoid\")\n",
        "    pred[pred.max(axis=0,keepdims=1) == pred] = 1\n",
        "    pred[pred.max(axis=0,keepdims=1) != pred] = 0\n",
        "    printColoredMask(pred)\n",
        "    print(\"Actual Mask\")\n",
        "    printColoredMask(target[0].numpy())\n",
        "\n",
        "    evalutation(pred, target)\n",
        "    return pred"
      ],
      "execution_count": 12,
      "outputs": []
    },
    {
      "cell_type": "code",
      "metadata": {
        "colab": {
          "base_uri": "https://localhost:8080/",
          "height": 485
        },
        "id": "EhR_iX6gPIed",
        "outputId": "e81d1032-2d34-4adf-f6a0-9dd725233125"
      },
      "source": [
        "# Testing the model\n",
        "\n",
        "\n",
        "\n",
        "pred_dict = {}\n",
        "counter = 0\n",
        "num_img = 4\n",
        "for data, target, filenames in test_loader:\n",
        "    print(filenames)\n",
        "    print(data.shape[3])\n",
        "   \n",
        "    if data.shape[3] < 500:\n",
        "      num_img = 16\n",
        "\n",
        "    pred_ = test(model, device, data, target)\n",
        "    print(pred_.shape, filenames, data.shape)\n",
        "    # print(filenames.shape)\n",
        "    # for i in range(data.shape[0]):\n",
        "      \n",
        "    #   pred_dict[filename[i]] = pred\n",
        "    #   counter+=1\n",
        "    #   if counter == num_img:\n",
        "    #     stitch = stitch_500(pred_dict)\n",
        "    #     printColoredMask(stitch)\n",
        "    #     print(\"\\nFinal Stitch\")\n",
        "    #     actualFullTarget = torch.unsqueeze(actualFullTarget, 0)\n",
        "    #     evalutation(stitch, actualFullTarget)\n",
        "    #     break\n",
        "      \n",
        "      \n",
        "\n",
        "    break"
      ],
      "execution_count": null,
      "outputs": [
        {
          "output_type": "stream",
          "text": [
            "('test_10_bottom_left_0', 'test_10_bottom_left_1', 'test_10_bottom_left_2', 'test_10_bottom_left_3', 'test_10_bottom_right_0', 'test_10_bottom_right_1', 'test_10_bottom_right_2', 'test_10_bottom_right_3', 'test_10_top_left_0', 'test_10_top_left_1', 'test_10_top_left_2', 'test_10_top_left_3', 'test_10_top_right_0', 'test_10_top_right_1', 'test_10_top_right_2', 'test_10_top_right_3')\n",
            "256\n",
            "Input Image\n",
            "Predicted Mask Sigmoid\n",
            "Actual Mask\n",
            "Detection Quality (DQ): 1.0\n",
            "Segmentation Quality (SQ): 0.6438652100992217\n",
            "Panoptic Quality (PQ): 0.6438652100992217\n",
            "Dice score: 0.783355712890625 \n",
            "\n",
            "(5, 256, 256) ('test_10_bottom_left_0', 'test_10_bottom_left_1', 'test_10_bottom_left_2', 'test_10_bottom_left_3', 'test_10_bottom_right_0', 'test_10_bottom_right_1', 'test_10_bottom_right_2', 'test_10_bottom_right_3', 'test_10_top_left_0', 'test_10_top_left_1', 'test_10_top_left_2', 'test_10_top_left_3', 'test_10_top_right_0', 'test_10_top_right_1', 'test_10_top_right_2', 'test_10_top_right_3') torch.Size([16, 3, 256, 256])\n"
          ],
          "name": "stdout"
        },
        {
          "output_type": "display_data",
          "data": {
            "image/png": "[encoded data removed]",
            "text/plain": [
              "<Figure size 432x288 with 1 Axes>"
            ]
          },
          "metadata": {
            "tags": [],
            "needs_background": "light"
          }
        }
      ]
    },
    {
      "cell_type": "markdown",
      "metadata": {
        "id": "oKPByKj1sdil"
      },
      "source": [
        "# Graphs"
      ]
    },
    {
      "cell_type": "code",
      "metadata": {
        "id": "sKUTQ126sZZm"
      },
      "source": [
        "def plot_graph(train_loss, valid_loss):\n",
        "  fig = plt.figure(figsize=(10,8))\n",
        "  plt.plot(range(1,len(train_loss)+1),train_loss, label='Training Loss')\n",
        "  plt.plot(range(1,len(valid_loss)+1),valid_loss,label='Validation Loss')\n",
        "\n",
        "  # find position of lowest validation loss\n",
        "  minposs = valid_loss.index(min(valid_loss))+1 \n",
        "  plt.axvline(minposs, linestyle='--', color='r',label='Early Stopping Checkpoint')\n",
        "\n",
        "  plt.xlabel('epochs')\n",
        "  plt.ylabel('loss')\n",
        "  plt.ylim(0, 0.5) # consistent scale\n",
        "  plt.xlim(0, len(train_loss)+1) # consistent scale\n",
        "  plt.grid(True)\n",
        "  plt.legend()\n",
        "  plt.tight_layout()\n",
        "  plt.show()\n",
        "  fig.savefig('loss_plot.png', bbox_inches='tight')"
      ],
      "execution_count": 13,
      "outputs": []
    },
    {
      "cell_type": "markdown",
      "metadata": {
        "id": "tEsZeHNFyx7J"
      },
      "source": [
        "# Hyperparameter"
      ]
    },
    {
      "cell_type": "code",
      "metadata": {
        "id": "KVgUkJAtoBO2"
      },
      "source": [
        "def hyperparam_tuning(train_dir, bs, lr, epochs, patience, model_chkpt_name):\n",
        "    print(\"Batch size: {}, Learning rate: {} , Epochs: {}\\n\".format(bs, lr, epochs))\n",
        "    \n",
        "    valid_size = 0.2\n",
        "    batch_size = bs\n",
        "\n",
        "    # DataLoader\n",
        "    train_data = CellDataset(root_dir=train_dir, transform = transform)\n",
        "\n",
        "    # obtain training indices that will be used for validation\n",
        "    num_train = len(train_data)\n",
        "    indices = list(range(num_train))\n",
        "    np.random.shuffle(indices)\n",
        "    split = int(np.floor(valid_size * num_train))\n",
        "    train_idx, valid_idx = indices[split:], indices[:split]\n",
        "\n",
        "    # define samplers for obtaining training and validation batches\n",
        "    train_sampler = SubsetRandomSampler(train_idx)\n",
        "    valid_sampler = SubsetRandomSampler(valid_idx)\n",
        "\n",
        "    # load training data in batches\n",
        "    train_loader = DataLoader(train_data,\n",
        "                              batch_size=batch_size,\n",
        "                              sampler=train_sampler,\n",
        "                              num_workers=0)\n",
        "\n",
        "    # load validation data in batches\n",
        "    valid_loader = DataLoader(train_data,\n",
        "                              batch_size=batch_size,\n",
        "                              sampler=valid_sampler,\n",
        "                              num_workers=0)\n",
        "    \n",
        "    # Set cpu / gpu\n",
        "    device = torch.device(\"cuda\" if torch.cuda.is_available() else \"cpu\")\n",
        "\n",
        "    # Initialize model and optimizer\n",
        "    model = build_model(device, \"resnet\")\n",
        "    model.to(device)\n",
        "    optimizer = Adam(model.parameters(), lr=lr)\n",
        "    \n",
        "    # Train model\n",
        "    model, train_losses, valid_losses, valid_acc = train(model, device, train_loader, valid_loader, optimizer, epochs, patience, model_chkpt_name)\n",
        "    plot_graph(train_losses, valid_losses)\n",
        "    \n",
        "    print(\"Dice2 score:\", valid_acc)"
      ],
      "execution_count": 14,
      "outputs": []
    },
    {
      "cell_type": "markdown",
      "metadata": {
        "id": "Dd6g53JFy97n"
      },
      "source": [
        "#### model(4layer) - 250x250 images"
      ]
    },
    {
      "cell_type": "code",
      "metadata": {
        "id": "8sgzn9sRy1j8",
        "colab": {
          "base_uri": "https://localhost:8080/",
          "height": 1000
        },
        "outputId": "19569d51-4c63-4363-cc10-a36a764b6559"
      },
      "source": [
        "n_bs = [1]\n",
        "n_lr = [0.001, 0.0001, 0.00001]\n",
        "epochs = 60\n",
        "patience = 10\n",
        "\n",
        "train_dir = \"./Train/train_250\"\n",
        "model_chkpt_name = \"ResNet-250x250_4layer\"\n",
        "\n",
        "for bs in n_bs:\n",
        "    for lr in n_lr:\n",
        "        hyperparam_tuning(train_dir, bs, lr, epochs, patience, model_chkpt_name)"
      ],
      "execution_count": null,
      "outputs": [
        {
          "output_type": "stream",
          "text": [
            "Batch size: 1, Learning rate: 0.001 , Epochs: 60\n",
            "\n"
          ],
          "name": "stdout"
        },
        {
          "output_type": "stream",
          "text": [
            "\r  0%|          | 0/60 [00:00<?, ?it/s]/usr/local/lib/python3.7/dist-packages/torch/nn/functional.py:718: UserWarning: Named tensors and all their associated APIs are an experimental feature and subject to change. Please do not use them for anything important until they are released as stable. (Triggered internally at  /pytorch/c10/core/TensorImpl.h:1156.)\n",
            "  return torch.max_pool2d(input, kernel_size, stride, padding, dilation, ceil_mode)\n"
          ],
          "name": "stderr"
        },
        {
          "output_type": "stream",
          "text": [
            "Validation loss decreased (inf --> 0.141679).  Saving model ...\n"
          ],
          "name": "stdout"
        },
        {
          "output_type": "stream",
          "text": [
            "\r  2%|▏         | 1/60 [08:38<8:30:14, 518.89s/it]"
          ],
          "name": "stderr"
        },
        {
          "output_type": "stream",
          "text": [
            "Train Epoch: 1 @ 04:22:35.503259 - Train Loss: 0.1925 - Valid Loss: 0.1417\n",
            "Validation loss decreased (0.141679 --> 0.102355).  Saving model ...\n"
          ],
          "name": "stdout"
        },
        {
          "output_type": "stream",
          "text": [
            "\r  3%|▎         | 2/60 [09:22<6:03:47, 376.33s/it]"
          ],
          "name": "stderr"
        },
        {
          "output_type": "stream",
          "text": [
            "Train Epoch: 2 @ 04:23:19.188925 - Train Loss: 0.1451 - Valid Loss: 0.1024\n",
            "EarlyStopping counter: 1 out of 10\n"
          ],
          "name": "stdout"
        },
        {
          "output_type": "stream",
          "text": [
            "\r  5%|▌         | 3/60 [10:05<4:22:38, 276.46s/it]"
          ],
          "name": "stderr"
        },
        {
          "output_type": "stream",
          "text": [
            "Train Epoch: 3 @ 04:24:02.605069 - Train Loss: 0.1277 - Valid Loss: 0.1499\n",
            "EarlyStopping counter: 2 out of 10\n"
          ],
          "name": "stdout"
        },
        {
          "output_type": "stream",
          "text": [
            "\r  7%|▋         | 4/60 [10:48<3:12:30, 206.27s/it]"
          ],
          "name": "stderr"
        },
        {
          "output_type": "stream",
          "text": [
            "Train Epoch: 4 @ 04:24:45.095135 - Train Loss: 0.1167 - Valid Loss: 0.1818\n",
            "EarlyStopping counter: 3 out of 10\n"
          ],
          "name": "stdout"
        },
        {
          "output_type": "stream",
          "text": [
            "\r  8%|▊         | 5/60 [11:31<2:24:12, 157.32s/it]"
          ],
          "name": "stderr"
        },
        {
          "output_type": "stream",
          "text": [
            "Train Epoch: 5 @ 04:25:28.208624 - Train Loss: 0.1093 - Valid Loss: 0.1354\n",
            "EarlyStopping counter: 4 out of 10\n"
          ],
          "name": "stdout"
        },
        {
          "output_type": "stream",
          "text": [
            "\r 10%|█         | 6/60 [12:14<1:50:44, 123.04s/it]"
          ],
          "name": "stderr"
        },
        {
          "output_type": "stream",
          "text": [
            "Train Epoch: 6 @ 04:26:11.252697 - Train Loss: 0.1016 - Valid Loss: 0.1098\n",
            "Validation loss decreased (0.102355 --> 0.093431).  Saving model ...\n"
          ],
          "name": "stdout"
        },
        {
          "output_type": "stream",
          "text": [
            "\r 12%|█▏        | 7/60 [12:57<1:27:23, 98.93s/it] "
          ],
          "name": "stderr"
        },
        {
          "output_type": "stream",
          "text": [
            "Train Epoch: 7 @ 04:26:53.927321 - Train Loss: 0.0988 - Valid Loss: 0.0934\n",
            "Validation loss decreased (0.093431 --> 0.086994).  Saving model ...\n"
          ],
          "name": "stdout"
        },
        {
          "output_type": "stream",
          "text": [
            "\r 13%|█▎        | 8/60 [13:40<1:11:19, 82.30s/it]"
          ],
          "name": "stderr"
        },
        {
          "output_type": "stream",
          "text": [
            "Train Epoch: 8 @ 04:27:37.428232 - Train Loss: 0.0971 - Valid Loss: 0.0870\n",
            "EarlyStopping counter: 1 out of 10\n"
          ],
          "name": "stdout"
        },
        {
          "output_type": "stream",
          "text": [
            "\r 15%|█▌        | 9/60 [14:24<1:00:00, 70.59s/it]"
          ],
          "name": "stderr"
        },
        {
          "output_type": "stream",
          "text": [
            "Train Epoch: 9 @ 04:28:20.704450 - Train Loss: 0.0906 - Valid Loss: 0.1155\n",
            "EarlyStopping counter: 2 out of 10\n"
          ],
          "name": "stdout"
        },
        {
          "output_type": "stream",
          "text": [
            "\r 17%|█▋        | 10/60 [15:06<51:51, 62.22s/it] "
          ],
          "name": "stderr"
        },
        {
          "output_type": "stream",
          "text": [
            "Train Epoch: 10 @ 04:29:03.391443 - Train Loss: 0.0900 - Valid Loss: 0.1036\n",
            "Validation loss decreased (0.086994 --> 0.085818).  Saving model ...\n"
          ],
          "name": "stdout"
        },
        {
          "output_type": "stream",
          "text": [
            "\r 18%|█▊        | 11/60 [15:49<46:02, 56.39s/it]"
          ],
          "name": "stderr"
        },
        {
          "output_type": "stream",
          "text": [
            "Train Epoch: 11 @ 04:29:46.160538 - Train Loss: 0.0847 - Valid Loss: 0.0858\n",
            "EarlyStopping counter: 1 out of 10\n"
          ],
          "name": "stdout"
        },
        {
          "output_type": "stream",
          "text": [
            "\r 20%|██        | 12/60 [16:33<42:00, 52.51s/it]"
          ],
          "name": "stderr"
        },
        {
          "output_type": "stream",
          "text": [
            "Train Epoch: 12 @ 04:30:29.629445 - Train Loss: 0.0824 - Valid Loss: 0.0861\n",
            "EarlyStopping counter: 2 out of 10\n"
          ],
          "name": "stdout"
        },
        {
          "output_type": "stream",
          "text": [
            "\r 22%|██▏       | 13/60 [17:16<39:00, 49.79s/it]"
          ],
          "name": "stderr"
        },
        {
          "output_type": "stream",
          "text": [
            "Train Epoch: 13 @ 04:31:13.082464 - Train Loss: 0.0802 - Valid Loss: 0.1171\n",
            "Validation loss decreased (0.085818 --> 0.083437).  Saving model ...\n"
          ],
          "name": "stdout"
        },
        {
          "output_type": "stream",
          "text": [
            "\r 23%|██▎       | 14/60 [17:59<36:35, 47.73s/it]"
          ],
          "name": "stderr"
        },
        {
          "output_type": "stream",
          "text": [
            "Train Epoch: 14 @ 04:31:56.002222 - Train Loss: 0.0788 - Valid Loss: 0.0834\n",
            "EarlyStopping counter: 1 out of 10\n"
          ],
          "name": "stdout"
        },
        {
          "output_type": "stream",
          "text": [
            "\r 25%|██▌       | 15/60 [18:42<34:46, 46.37s/it]"
          ],
          "name": "stderr"
        },
        {
          "output_type": "stream",
          "text": [
            "Train Epoch: 15 @ 04:32:39.195336 - Train Loss: 0.0769 - Valid Loss: 0.0888\n",
            "Validation loss decreased (0.083437 --> 0.082682).  Saving model ...\n"
          ],
          "name": "stdout"
        },
        {
          "output_type": "stream",
          "text": [
            "\r 27%|██▋       | 16/60 [19:26<33:24, 45.55s/it]"
          ],
          "name": "stderr"
        },
        {
          "output_type": "stream",
          "text": [
            "Train Epoch: 16 @ 04:33:22.848085 - Train Loss: 0.0779 - Valid Loss: 0.0827\n",
            "Validation loss decreased (0.082682 --> 0.078678).  Saving model ...\n"
          ],
          "name": "stdout"
        },
        {
          "output_type": "stream",
          "text": [
            "\r 28%|██▊       | 17/60 [20:09<32:10, 44.90s/it]"
          ],
          "name": "stderr"
        },
        {
          "output_type": "stream",
          "text": [
            "Train Epoch: 17 @ 04:34:06.231063 - Train Loss: 0.0727 - Valid Loss: 0.0787\n",
            "EarlyStopping counter: 1 out of 10\n"
          ],
          "name": "stdout"
        },
        {
          "output_type": "stream",
          "text": [
            "\r 30%|███       | 18/60 [20:53<31:13, 44.60s/it]"
          ],
          "name": "stderr"
        },
        {
          "output_type": "stream",
          "text": [
            "Train Epoch: 18 @ 04:34:50.114451 - Train Loss: 0.0750 - Valid Loss: 0.0914\n",
            "EarlyStopping counter: 2 out of 10\n"
          ],
          "name": "stdout"
        },
        {
          "output_type": "stream",
          "text": [
            "\r 32%|███▏      | 19/60 [21:35<30:00, 43.92s/it]"
          ],
          "name": "stderr"
        },
        {
          "output_type": "stream",
          "text": [
            "Train Epoch: 19 @ 04:35:32.459256 - Train Loss: 0.0703 - Valid Loss: 0.0939\n",
            "EarlyStopping counter: 3 out of 10\n"
          ],
          "name": "stdout"
        },
        {
          "output_type": "stream",
          "text": [
            "\r 33%|███▎      | 20/60 [22:18<29:07, 43.68s/it]"
          ],
          "name": "stderr"
        },
        {
          "output_type": "stream",
          "text": [
            "Train Epoch: 20 @ 04:36:15.577730 - Train Loss: 0.0701 - Valid Loss: 0.0854\n",
            "EarlyStopping counter: 4 out of 10\n"
          ],
          "name": "stdout"
        },
        {
          "output_type": "stream",
          "text": [
            "\r 35%|███▌      | 21/60 [23:01<28:12, 43.38s/it]"
          ],
          "name": "stderr"
        },
        {
          "output_type": "stream",
          "text": [
            "Train Epoch: 21 @ 04:36:58.272498 - Train Loss: 0.0660 - Valid Loss: 0.0981\n",
            "EarlyStopping counter: 5 out of 10\n"
          ],
          "name": "stdout"
        },
        {
          "output_type": "stream",
          "text": [
            "\r 37%|███▋      | 22/60 [23:44<27:20, 43.16s/it]"
          ],
          "name": "stderr"
        },
        {
          "output_type": "stream",
          "text": [
            "Train Epoch: 22 @ 04:37:40.901584 - Train Loss: 0.0662 - Valid Loss: 0.0860\n",
            "EarlyStopping counter: 6 out of 10\n"
          ],
          "name": "stdout"
        },
        {
          "output_type": "stream",
          "text": [
            "\r 38%|███▊      | 23/60 [24:27<26:39, 43.23s/it]"
          ],
          "name": "stderr"
        },
        {
          "output_type": "stream",
          "text": [
            "Train Epoch: 23 @ 04:38:24.291864 - Train Loss: 0.0637 - Valid Loss: 0.1161\n",
            "EarlyStopping counter: 7 out of 10\n"
          ],
          "name": "stdout"
        },
        {
          "output_type": "stream",
          "text": [
            "\r 40%|████      | 24/60 [25:10<25:51, 43.09s/it]"
          ],
          "name": "stderr"
        },
        {
          "output_type": "stream",
          "text": [
            "Train Epoch: 24 @ 04:39:07.069089 - Train Loss: 0.0609 - Valid Loss: 0.1209\n",
            "EarlyStopping counter: 8 out of 10\n"
          ],
          "name": "stdout"
        },
        {
          "output_type": "stream",
          "text": [
            "\r 42%|████▏     | 25/60 [25:54<25:14, 43.27s/it]"
          ],
          "name": "stderr"
        },
        {
          "output_type": "stream",
          "text": [
            "Train Epoch: 25 @ 04:39:50.745550 - Train Loss: 0.0600 - Valid Loss: 0.0959\n",
            "EarlyStopping counter: 9 out of 10\n"
          ],
          "name": "stdout"
        },
        {
          "output_type": "stream",
          "text": [
            "\r 43%|████▎     | 26/60 [26:36<24:24, 43.08s/it]"
          ],
          "name": "stderr"
        },
        {
          "output_type": "stream",
          "text": [
            "Train Epoch: 26 @ 04:40:33.390266 - Train Loss: 0.0611 - Valid Loss: 0.1118\n",
            "EarlyStopping counter: 10 out of 10\n",
            "Early stopping\n"
          ],
          "name": "stdout"
        },
        {
          "output_type": "display_data",
          "data": {
            "image/png": "[encoded data removed]",
            "text/plain": [
              "<Figure size 720x576 with 1 Axes>"
            ]
          },
          "metadata": {
            "tags": [],
            "needs_background": "light"
          }
        },
        {
          "output_type": "stream",
          "text": [
            "Dice2 score: 0.9325107308321221\n",
            "Batch size: 1, Learning rate: 0.0001 , Epochs: 60\n",
            "\n"
          ],
          "name": "stdout"
        },
        {
          "output_type": "stream",
          "text": [
            "\n",
            "  0%|          | 0/60 [00:00<?, ?it/s]\u001b[A"
          ],
          "name": "stderr"
        },
        {
          "output_type": "stream",
          "text": [
            "Validation loss decreased (inf --> 0.142137).  Saving model ...\n"
          ],
          "name": "stdout"
        },
        {
          "output_type": "stream",
          "text": [
            "\n",
            "  2%|▏         | 1/60 [00:43<42:43, 43.44s/it]\u001b[A"
          ],
          "name": "stderr"
        },
        {
          "output_type": "stream",
          "text": [
            "Train Epoch: 1 @ 04:42:01.459451 - Train Loss: 0.2094 - Valid Loss: 0.1421\n",
            "Validation loss decreased (0.142137 --> 0.107052).  Saving model ...\n"
          ],
          "name": "stdout"
        },
        {
          "output_type": "stream",
          "text": [
            "\n",
            "  3%|▎         | 2/60 [01:26<42:00, 43.45s/it]\u001b[A"
          ],
          "name": "stderr"
        },
        {
          "output_type": "stream",
          "text": [
            "Train Epoch: 2 @ 04:42:44.942083 - Train Loss: 0.1402 - Valid Loss: 0.1071\n",
            "EarlyStopping counter: 1 out of 10\n"
          ],
          "name": "stdout"
        },
        {
          "output_type": "stream",
          "text": [
            "\n",
            "  5%|▌         | 3/60 [02:10<41:26, 43.63s/it]\u001b[A"
          ],
          "name": "stderr"
        },
        {
          "output_type": "stream",
          "text": [
            "Train Epoch: 3 @ 04:43:28.984599 - Train Loss: 0.1194 - Valid Loss: 0.1080\n",
            "Validation loss decreased (0.107052 --> 0.098716).  Saving model ...\n"
          ],
          "name": "stdout"
        },
        {
          "output_type": "stream",
          "text": [
            "\n",
            "  7%|▋         | 4/60 [02:54<40:42, 43.61s/it]\u001b[A"
          ],
          "name": "stderr"
        },
        {
          "output_type": "stream",
          "text": [
            "Train Epoch: 4 @ 04:44:12.561785 - Train Loss: 0.1021 - Valid Loss: 0.0987\n",
            "Validation loss decreased (0.098716 --> 0.091326).  Saving model ...\n"
          ],
          "name": "stdout"
        },
        {
          "output_type": "stream",
          "text": [
            "\n",
            "  8%|▊         | 5/60 [03:38<39:57, 43.59s/it]\u001b[A"
          ],
          "name": "stderr"
        },
        {
          "output_type": "stream",
          "text": [
            "Train Epoch: 5 @ 04:44:56.088029 - Train Loss: 0.0910 - Valid Loss: 0.0913\n",
            "Validation loss decreased (0.091326 --> 0.087238).  Saving model ...\n"
          ],
          "name": "stdout"
        },
        {
          "output_type": "stream",
          "text": [
            "\n",
            " 10%|█         | 6/60 [04:22<39:29, 43.88s/it]\u001b[A"
          ],
          "name": "stderr"
        },
        {
          "output_type": "stream",
          "text": [
            "Train Epoch: 6 @ 04:45:40.665554 - Train Loss: 0.0831 - Valid Loss: 0.0872\n",
            "EarlyStopping counter: 1 out of 10\n"
          ],
          "name": "stdout"
        },
        {
          "output_type": "stream",
          "text": [
            "\n",
            " 12%|█▏        | 7/60 [05:05<38:36, 43.71s/it]\u001b[A"
          ],
          "name": "stderr"
        },
        {
          "output_type": "stream",
          "text": [
            "Train Epoch: 7 @ 04:46:23.983272 - Train Loss: 0.0760 - Valid Loss: 0.0966\n",
            "EarlyStopping counter: 2 out of 10\n"
          ],
          "name": "stdout"
        },
        {
          "output_type": "stream",
          "text": [
            "\n",
            " 13%|█▎        | 8/60 [05:49<37:45, 43.57s/it]\u001b[A"
          ],
          "name": "stderr"
        },
        {
          "output_type": "stream",
          "text": [
            "Train Epoch: 8 @ 04:47:07.225644 - Train Loss: 0.0707 - Valid Loss: 0.0937\n",
            "EarlyStopping counter: 3 out of 10\n"
          ],
          "name": "stdout"
        },
        {
          "output_type": "stream",
          "text": [
            "\n",
            " 15%|█▌        | 9/60 [06:31<36:47, 43.28s/it]\u001b[A"
          ],
          "name": "stderr"
        },
        {
          "output_type": "stream",
          "text": [
            "Train Epoch: 9 @ 04:47:49.811734 - Train Loss: 0.0664 - Valid Loss: 0.1510\n",
            "EarlyStopping counter: 4 out of 10\n"
          ],
          "name": "stdout"
        },
        {
          "output_type": "stream",
          "text": [
            "\n",
            " 17%|█▋        | 10/60 [07:14<35:59, 43.20s/it]\u001b[A"
          ],
          "name": "stderr"
        },
        {
          "output_type": "stream",
          "text": [
            "Train Epoch: 10 @ 04:48:32.821086 - Train Loss: 0.0631 - Valid Loss: 0.0924\n",
            "EarlyStopping counter: 5 out of 10\n"
          ],
          "name": "stdout"
        },
        {
          "output_type": "stream",
          "text": [
            "\n",
            " 18%|█▊        | 11/60 [07:58<35:17, 43.21s/it]\u001b[A"
          ],
          "name": "stderr"
        },
        {
          "output_type": "stream",
          "text": [
            "Train Epoch: 11 @ 04:49:16.069041 - Train Loss: 0.0589 - Valid Loss: 0.0924\n",
            "Validation loss decreased (0.087238 --> 0.086772).  Saving model ...\n"
          ],
          "name": "stdout"
        },
        {
          "output_type": "stream",
          "text": [
            "\n",
            " 20%|██        | 12/60 [08:40<34:30, 43.13s/it]\u001b[A"
          ],
          "name": "stderr"
        },
        {
          "output_type": "stream",
          "text": [
            "Train Epoch: 12 @ 04:49:59.009050 - Train Loss: 0.0552 - Valid Loss: 0.0868\n",
            "EarlyStopping counter: 1 out of 10\n"
          ],
          "name": "stdout"
        },
        {
          "output_type": "stream",
          "text": [
            "\n",
            " 22%|██▏       | 13/60 [09:25<34:01, 43.43s/it]\u001b[A"
          ],
          "name": "stderr"
        },
        {
          "output_type": "stream",
          "text": [
            "Train Epoch: 13 @ 04:50:43.140698 - Train Loss: 0.0522 - Valid Loss: 0.0921\n",
            "Validation loss decreased (0.086772 --> 0.086365).  Saving model ...\n"
          ],
          "name": "stdout"
        },
        {
          "output_type": "stream",
          "text": [
            "\n",
            " 23%|██▎       | 14/60 [10:08<33:15, 43.39s/it]\u001b[A"
          ],
          "name": "stderr"
        },
        {
          "output_type": "stream",
          "text": [
            "Train Epoch: 14 @ 04:51:26.437676 - Train Loss: 0.0497 - Valid Loss: 0.0864\n",
            "EarlyStopping counter: 1 out of 10\n"
          ],
          "name": "stdout"
        },
        {
          "output_type": "stream",
          "text": [
            "\n",
            " 25%|██▌       | 15/60 [10:52<32:35, 43.45s/it]\u001b[A"
          ],
          "name": "stderr"
        },
        {
          "output_type": "stream",
          "text": [
            "Train Epoch: 15 @ 04:52:10.022439 - Train Loss: 0.0467 - Valid Loss: 0.0894\n",
            "EarlyStopping counter: 2 out of 10\n"
          ],
          "name": "stdout"
        },
        {
          "output_type": "stream",
          "text": [
            "\n",
            " 27%|██▋       | 16/60 [11:34<31:42, 43.24s/it]\u001b[A"
          ],
          "name": "stderr"
        },
        {
          "output_type": "stream",
          "text": [
            "Train Epoch: 16 @ 04:52:52.780108 - Train Loss: 0.0456 - Valid Loss: 0.0869\n",
            "EarlyStopping counter: 3 out of 10\n"
          ],
          "name": "stdout"
        },
        {
          "output_type": "stream",
          "text": [
            "\n",
            " 28%|██▊       | 17/60 [12:17<30:53, 43.11s/it]\u001b[A"
          ],
          "name": "stderr"
        },
        {
          "output_type": "stream",
          "text": [
            "Train Epoch: 17 @ 04:53:35.575360 - Train Loss: 0.0439 - Valid Loss: 0.0989\n",
            "EarlyStopping counter: 4 out of 10\n"
          ],
          "name": "stdout"
        },
        {
          "output_type": "stream",
          "text": [
            "\n",
            " 30%|███       | 18/60 [13:00<30:12, 43.16s/it]\u001b[A"
          ],
          "name": "stderr"
        },
        {
          "output_type": "stream",
          "text": [
            "Train Epoch: 18 @ 04:54:18.842356 - Train Loss: 0.0417 - Valid Loss: 0.0920\n",
            "EarlyStopping counter: 5 out of 10\n"
          ],
          "name": "stdout"
        },
        {
          "output_type": "stream",
          "text": [
            "\n",
            " 32%|███▏      | 19/60 [13:43<29:23, 43.02s/it]\u001b[A"
          ],
          "name": "stderr"
        },
        {
          "output_type": "stream",
          "text": [
            "Train Epoch: 19 @ 04:55:01.555339 - Train Loss: 0.0432 - Valid Loss: 0.0964\n",
            "EarlyStopping counter: 6 out of 10\n"
          ],
          "name": "stdout"
        },
        {
          "output_type": "stream",
          "text": [
            "\n",
            " 33%|███▎      | 20/60 [14:26<28:40, 43.02s/it]\u001b[A"
          ],
          "name": "stderr"
        },
        {
          "output_type": "stream",
          "text": [
            "Train Epoch: 20 @ 04:55:44.556417 - Train Loss: 0.0425 - Valid Loss: 0.1026\n",
            "EarlyStopping counter: 7 out of 10\n"
          ],
          "name": "stdout"
        },
        {
          "output_type": "stream",
          "text": [
            "\n",
            " 35%|███▌      | 21/60 [15:09<28:01, 43.11s/it]\u001b[A"
          ],
          "name": "stderr"
        },
        {
          "output_type": "stream",
          "text": [
            "Train Epoch: 21 @ 04:56:27.900072 - Train Loss: 0.0386 - Valid Loss: 0.0904\n",
            "EarlyStopping counter: 8 out of 10\n"
          ],
          "name": "stdout"
        },
        {
          "output_type": "stream",
          "text": [
            "\n",
            " 37%|███▋      | 22/60 [15:53<27:24, 43.28s/it]\u001b[A"
          ],
          "name": "stderr"
        },
        {
          "output_type": "stream",
          "text": [
            "Train Epoch: 22 @ 04:57:11.575360 - Train Loss: 0.0368 - Valid Loss: 0.0933\n",
            "EarlyStopping counter: 9 out of 10\n"
          ],
          "name": "stdout"
        },
        {
          "output_type": "stream",
          "text": [
            "\n",
            " 38%|███▊      | 23/60 [16:36<26:38, 43.20s/it]\u001b[A"
          ],
          "name": "stderr"
        },
        {
          "output_type": "stream",
          "text": [
            "Train Epoch: 23 @ 04:57:54.581099 - Train Loss: 0.0359 - Valid Loss: 0.1023\n",
            "EarlyStopping counter: 10 out of 10\n",
            "Early stopping\n"
          ],
          "name": "stdout"
        },
        {
          "output_type": "display_data",
          "data": {
            "image/png": "[encoded data removed]",
            "text/plain": [
              "<Figure size 720x576 with 1 Axes>"
            ]
          },
          "metadata": {
            "tags": [],
            "needs_background": "light"
          }
        },
        {
          "output_type": "stream",
          "text": [
            "Dice2 score: 0.9281499108602834\n",
            "Batch size: 1, Learning rate: 1e-05 , Epochs: 60\n",
            "\n"
          ],
          "name": "stdout"
        },
        {
          "output_type": "stream",
          "text": [
            "\n",
            "\n",
            "  0%|          | 0/60 [00:00<?, ?it/s]\u001b[A\u001b[A"
          ],
          "name": "stderr"
        },
        {
          "output_type": "stream",
          "text": [
            "Validation loss decreased (inf --> 0.209248).  Saving model ...\n"
          ],
          "name": "stdout"
        },
        {
          "output_type": "stream",
          "text": [
            "\n",
            "\n",
            "  2%|▏         | 1/60 [00:43<43:01, 43.76s/it]\u001b[A\u001b[A"
          ],
          "name": "stderr"
        },
        {
          "output_type": "stream",
          "text": [
            "Train Epoch: 1 @ 04:59:21.632570 - Train Loss: 0.3296 - Valid Loss: 0.2092\n",
            "Validation loss decreased (0.209248 --> 0.169013).  Saving model ...\n"
          ],
          "name": "stdout"
        },
        {
          "output_type": "stream",
          "text": [
            "\n",
            "\n",
            "  3%|▎         | 2/60 [01:27<42:19, 43.79s/it]\u001b[A\u001b[A"
          ],
          "name": "stderr"
        },
        {
          "output_type": "stream",
          "text": [
            "Train Epoch: 2 @ 05:00:05.491816 - Train Loss: 0.2355 - Valid Loss: 0.1690\n",
            "Validation loss decreased (0.169013 --> 0.159556).  Saving model ...\n"
          ],
          "name": "stdout"
        },
        {
          "output_type": "stream",
          "text": [
            "\n",
            "\n",
            "  5%|▌         | 3/60 [02:11<41:35, 43.78s/it]\u001b[A\u001b[A"
          ],
          "name": "stderr"
        },
        {
          "output_type": "stream",
          "text": [
            "Train Epoch: 3 @ 05:00:49.250723 - Train Loss: 0.1899 - Valid Loss: 0.1596\n",
            "Validation loss decreased (0.159556 --> 0.153569).  Saving model ...\n"
          ],
          "name": "stdout"
        },
        {
          "output_type": "stream",
          "text": [
            "\n",
            "\n",
            "  7%|▋         | 4/60 [02:56<41:13, 44.16s/it]\u001b[A\u001b[A"
          ],
          "name": "stderr"
        },
        {
          "output_type": "stream",
          "text": [
            "Train Epoch: 4 @ 05:01:34.313192 - Train Loss: 0.1621 - Valid Loss: 0.1536\n",
            "Validation loss decreased (0.153569 --> 0.149281).  Saving model ...\n"
          ],
          "name": "stdout"
        },
        {
          "output_type": "stream",
          "text": [
            "\n",
            "\n",
            "  8%|▊         | 5/60 [03:41<40:40, 44.37s/it]\u001b[A\u001b[A"
          ],
          "name": "stderr"
        },
        {
          "output_type": "stream",
          "text": [
            "Train Epoch: 5 @ 05:02:19.164593 - Train Loss: 0.1426 - Valid Loss: 0.1493\n",
            "EarlyStopping counter: 1 out of 10\n"
          ],
          "name": "stdout"
        },
        {
          "output_type": "stream",
          "text": [
            "\n",
            "\n",
            " 10%|█         | 6/60 [04:25<39:45, 44.18s/it]\u001b[A\u001b[A"
          ],
          "name": "stderr"
        },
        {
          "output_type": "stream",
          "text": [
            "Train Epoch: 6 @ 05:03:02.889474 - Train Loss: 0.1304 - Valid Loss: 0.1670\n",
            "EarlyStopping counter: 2 out of 10\n"
          ],
          "name": "stdout"
        },
        {
          "output_type": "stream",
          "text": [
            "\n",
            "\n",
            " 12%|█▏        | 7/60 [05:07<38:38, 43.74s/it]\u001b[A\u001b[A"
          ],
          "name": "stderr"
        },
        {
          "output_type": "stream",
          "text": [
            "Train Epoch: 7 @ 05:03:45.604020 - Train Loss: 0.1198 - Valid Loss: 0.1553\n",
            "Validation loss decreased (0.149281 --> 0.142463).  Saving model ...\n"
          ],
          "name": "stdout"
        },
        {
          "output_type": "stream",
          "text": [
            "\n",
            "\n",
            " 13%|█▎        | 8/60 [05:51<38:00, 43.86s/it]\u001b[A\u001b[A"
          ],
          "name": "stderr"
        },
        {
          "output_type": "stream",
          "text": [
            "Train Epoch: 8 @ 05:04:29.737115 - Train Loss: 0.1109 - Valid Loss: 0.1425\n",
            "EarlyStopping counter: 1 out of 10\n"
          ],
          "name": "stdout"
        },
        {
          "output_type": "stream",
          "text": [
            "\n",
            "\n",
            " 15%|█▌        | 9/60 [06:35<37:14, 43.82s/it]\u001b[A\u001b[A"
          ],
          "name": "stderr"
        },
        {
          "output_type": "stream",
          "text": [
            "Train Epoch: 9 @ 05:05:13.467811 - Train Loss: 0.1042 - Valid Loss: 0.1474\n",
            "EarlyStopping counter: 2 out of 10\n"
          ],
          "name": "stdout"
        },
        {
          "output_type": "stream",
          "text": [
            "\n",
            "\n",
            " 17%|█▋        | 10/60 [07:18<36:13, 43.47s/it]\u001b[A\u001b[A"
          ],
          "name": "stderr"
        },
        {
          "output_type": "stream",
          "text": [
            "Train Epoch: 10 @ 05:05:56.122592 - Train Loss: 0.0985 - Valid Loss: 0.1685\n",
            "EarlyStopping counter: 3 out of 10\n"
          ],
          "name": "stdout"
        },
        {
          "output_type": "stream",
          "text": [
            "\n",
            "\n",
            " 18%|█▊        | 11/60 [08:01<35:28, 43.44s/it]\u001b[A\u001b[A"
          ],
          "name": "stderr"
        },
        {
          "output_type": "stream",
          "text": [
            "Train Epoch: 11 @ 05:06:39.496977 - Train Loss: 0.0937 - Valid Loss: 0.1485\n",
            "EarlyStopping counter: 4 out of 10\n"
          ],
          "name": "stdout"
        },
        {
          "output_type": "stream",
          "text": [
            "\n",
            "\n",
            " 20%|██        | 12/60 [08:45<34:48, 43.51s/it]\u001b[A\u001b[A"
          ],
          "name": "stderr"
        },
        {
          "output_type": "stream",
          "text": [
            "Train Epoch: 12 @ 05:07:23.151826 - Train Loss: 0.0893 - Valid Loss: 0.1488\n",
            "EarlyStopping counter: 5 out of 10\n"
          ],
          "name": "stdout"
        },
        {
          "output_type": "stream",
          "text": [
            "\n",
            "\n",
            " 22%|██▏       | 13/60 [09:28<34:04, 43.50s/it]\u001b[A\u001b[A"
          ],
          "name": "stderr"
        },
        {
          "output_type": "stream",
          "text": [
            "Train Epoch: 13 @ 05:08:06.632343 - Train Loss: 0.0856 - Valid Loss: 0.1498\n",
            "EarlyStopping counter: 6 out of 10\n"
          ],
          "name": "stdout"
        },
        {
          "output_type": "stream",
          "text": [
            "\n",
            "\n",
            " 23%|██▎       | 14/60 [10:12<33:18, 43.44s/it]\u001b[A\u001b[A"
          ],
          "name": "stderr"
        },
        {
          "output_type": "stream",
          "text": [
            "Train Epoch: 14 @ 05:08:49.944577 - Train Loss: 0.0810 - Valid Loss: 0.1440\n",
            "EarlyStopping counter: 7 out of 10\n"
          ],
          "name": "stdout"
        },
        {
          "output_type": "stream",
          "text": [
            "\n",
            "\n",
            " 25%|██▌       | 15/60 [10:55<32:31, 43.37s/it]\u001b[A\u001b[A"
          ],
          "name": "stderr"
        },
        {
          "output_type": "stream",
          "text": [
            "Train Epoch: 15 @ 05:09:33.136215 - Train Loss: 0.0774 - Valid Loss: 0.1450\n",
            "Validation loss decreased (0.142463 --> 0.133107).  Saving model ...\n"
          ],
          "name": "stdout"
        },
        {
          "output_type": "stream",
          "text": [
            "\n",
            "\n",
            " 27%|██▋       | 16/60 [11:39<31:57, 43.58s/it]\u001b[A\u001b[A"
          ],
          "name": "stderr"
        },
        {
          "output_type": "stream",
          "text": [
            "Train Epoch: 16 @ 05:10:17.202110 - Train Loss: 0.0739 - Valid Loss: 0.1331\n",
            "Validation loss decreased (0.133107 --> 0.128101).  Saving model ...\n"
          ],
          "name": "stdout"
        },
        {
          "output_type": "stream",
          "text": [
            "\n",
            "\n",
            " 28%|██▊       | 17/60 [12:23<31:18, 43.70s/it]\u001b[A\u001b[A"
          ],
          "name": "stderr"
        },
        {
          "output_type": "stream",
          "text": [
            "Train Epoch: 17 @ 05:11:01.176563 - Train Loss: 0.0701 - Valid Loss: 0.1281\n",
            "EarlyStopping counter: 1 out of 10\n"
          ],
          "name": "stdout"
        },
        {
          "output_type": "stream",
          "text": [
            "\n",
            "\n",
            " 30%|███       | 18/60 [13:06<30:34, 43.67s/it]\u001b[A\u001b[A"
          ],
          "name": "stderr"
        },
        {
          "output_type": "stream",
          "text": [
            "Train Epoch: 18 @ 05:11:44.800235 - Train Loss: 0.0671 - Valid Loss: 0.1397\n",
            "EarlyStopping counter: 2 out of 10\n"
          ],
          "name": "stdout"
        },
        {
          "output_type": "stream",
          "text": [
            "\n",
            "\n",
            " 32%|███▏      | 19/60 [13:50<29:47, 43.59s/it]\u001b[A\u001b[A"
          ],
          "name": "stderr"
        },
        {
          "output_type": "stream",
          "text": [
            "Train Epoch: 19 @ 05:12:28.200510 - Train Loss: 0.0647 - Valid Loss: 0.1396\n",
            "EarlyStopping counter: 3 out of 10\n"
          ],
          "name": "stdout"
        },
        {
          "output_type": "stream",
          "text": [
            "\n",
            "\n",
            " 33%|███▎      | 20/60 [14:33<29:01, 43.55s/it]\u001b[A\u001b[A"
          ],
          "name": "stderr"
        },
        {
          "output_type": "stream",
          "text": [
            "Train Epoch: 20 @ 05:13:11.640163 - Train Loss: 0.0624 - Valid Loss: 0.1343\n",
            "EarlyStopping counter: 4 out of 10\n"
          ],
          "name": "stdout"
        },
        {
          "output_type": "stream",
          "text": [
            "\n",
            "\n",
            " 35%|███▌      | 21/60 [15:17<28:14, 43.46s/it]\u001b[A\u001b[A"
          ],
          "name": "stderr"
        },
        {
          "output_type": "stream",
          "text": [
            "Train Epoch: 21 @ 05:13:54.890405 - Train Loss: 0.0603 - Valid Loss: 0.1436\n",
            "EarlyStopping counter: 5 out of 10\n"
          ],
          "name": "stdout"
        },
        {
          "output_type": "stream",
          "text": [
            "\n",
            "\n",
            " 37%|███▋      | 22/60 [15:59<27:24, 43.28s/it]\u001b[A\u001b[A"
          ],
          "name": "stderr"
        },
        {
          "output_type": "stream",
          "text": [
            "Train Epoch: 22 @ 05:14:37.752761 - Train Loss: 0.0590 - Valid Loss: 0.1525\n",
            "EarlyStopping counter: 6 out of 10\n"
          ],
          "name": "stdout"
        },
        {
          "output_type": "stream",
          "text": [
            "\n",
            "\n",
            " 38%|███▊      | 23/60 [16:43<26:46, 43.41s/it]\u001b[A\u001b[A"
          ],
          "name": "stderr"
        },
        {
          "output_type": "stream",
          "text": [
            "Train Epoch: 23 @ 05:15:21.478489 - Train Loss: 0.0574 - Valid Loss: 0.1391\n",
            "EarlyStopping counter: 7 out of 10\n"
          ],
          "name": "stdout"
        },
        {
          "output_type": "stream",
          "text": [
            "\n",
            "\n",
            " 40%|████      | 24/60 [17:27<26:04, 43.46s/it]\u001b[A\u001b[A"
          ],
          "name": "stderr"
        },
        {
          "output_type": "stream",
          "text": [
            "Train Epoch: 24 @ 05:16:05.049128 - Train Loss: 0.0554 - Valid Loss: 0.1557\n",
            "EarlyStopping counter: 8 out of 10\n"
          ],
          "name": "stdout"
        },
        {
          "output_type": "stream",
          "text": [
            "\n",
            "\n",
            " 42%|████▏     | 25/60 [18:10<25:16, 43.34s/it]\u001b[A\u001b[A"
          ],
          "name": "stderr"
        },
        {
          "output_type": "stream",
          "text": [
            "Train Epoch: 25 @ 05:16:48.111349 - Train Loss: 0.0538 - Valid Loss: 0.1390\n",
            "EarlyStopping counter: 9 out of 10\n"
          ],
          "name": "stdout"
        },
        {
          "output_type": "stream",
          "text": [
            "\n",
            "\n",
            " 43%|████▎     | 26/60 [18:53<24:36, 43.43s/it]\u001b[A\u001b[A"
          ],
          "name": "stderr"
        },
        {
          "output_type": "stream",
          "text": [
            "Train Epoch: 26 @ 05:17:31.762552 - Train Loss: 0.0521 - Valid Loss: 0.1342\n",
            "EarlyStopping counter: 10 out of 10\n",
            "Early stopping\n"
          ],
          "name": "stdout"
        },
        {
          "output_type": "display_data",
          "data": {
            "image/png": "[encoded data removed]",
            "text/plain": [
              "<Figure size 720x576 with 1 Axes>"
            ]
          },
          "metadata": {
            "tags": [],
            "needs_background": "light"
          }
        },
        {
          "output_type": "stream",
          "text": [
            "Dice2 score: 0.8919631603152253\n"
          ],
          "name": "stdout"
        }
      ]
    },
    {
      "cell_type": "code",
      "metadata": {
        "id": "oVHiiIA_ztkc",
        "colab": {
          "base_uri": "https://localhost:8080/",
          "height": 1000,
          "referenced_widgets": [
            "5e458e75d9d44d6bb42e8438470ad62d",
            "b9378904964847529c125d1b433d8454",
            "cdecbd6b08724937816e39f604e18565",
            "3ef1e7f6969e4a1ebaaceeef0fd481b8",
            "978ce6dc6b8d48149e6db56ef02978a5",
            "eb2326951bd14803a99912a461d147f5",
            "fa2eeed1ebe547d19ccf10e9ce2bb331",
            "1cadc148ccbb4314aaf109f366c637ad"
          ]
        },
        "outputId": "7098858c-b12b-4a8b-bce9-ac6274165a21"
      },
      "source": [
        "n_bs = [4]\n",
        "n_lr = [0.001, 0.0001, 0.00001]\n",
        "epochs = 60\n",
        "patience = 10\n",
        "\n",
        "train_dir = \"./Train/train_250\"\n",
        "model_chkpt_name = \"ResNet-250x250_4layer\"\n",
        "\n",
        "for bs in n_bs:\n",
        "    for lr in n_lr:\n",
        "        hyperparam_tuning(train_dir, bs, lr, epochs, patience, model_chkpt_name)"
      ],
      "execution_count": 15,
      "outputs": [
        {
          "output_type": "stream",
          "text": [
            "Batch size: 4, Learning rate: 0.001 , Epochs: 60\n",
            "\n"
          ],
          "name": "stdout"
        },
        {
          "output_type": "stream",
          "text": [
            "Downloading: \"https://download.pytorch.org/models/resnet18-f37072fd.pth\" to /root/.cache/torch/hub/checkpoints/resnet18-f37072fd.pth\n"
          ],
          "name": "stderr"
        },
        {
          "output_type": "display_data",
          "data": {
            "application/vnd.jupyter.widget-view+json": {
              "model_id": "5e458e75d9d44d6bb42e8438470ad62d",
              "version_minor": 0,
              "version_major": 2
            },
            "text/plain": [
              "HBox(children=(FloatProgress(value=0.0, max=46830571.0), HTML(value='')))"
            ]
          },
          "metadata": {
            "tags": []
          }
        },
        {
          "output_type": "stream",
          "text": [
            "\n"
          ],
          "name": "stdout"
        },
        {
          "output_type": "stream",
          "text": [
            "\r  0%|          | 0/60 [00:00<?, ?it/s]/usr/local/lib/python3.7/dist-packages/torch/nn/functional.py:718: UserWarning: Named tensors and all their associated APIs are an experimental feature and subject to change. Please do not use them for anything important until they are released as stable. (Triggered internally at  /pytorch/c10/core/TensorImpl.h:1156.)\n",
            "  return torch.max_pool2d(input, kernel_size, stride, padding, dilation, ceil_mode)\n"
          ],
          "name": "stderr"
        },
        {
          "output_type": "stream",
          "text": [
            "Validation loss decreased (inf --> 0.159538).  Saving model ...\n"
          ],
          "name": "stdout"
        },
        {
          "output_type": "stream",
          "text": [
            "\r  2%|▏         | 1/60 [08:36<8:28:22, 516.99s/it]"
          ],
          "name": "stderr"
        },
        {
          "output_type": "stream",
          "text": [
            "Train Epoch: 1 @ 01:27:11.763591 - Train Loss: 0.2409 - Valid Loss: 0.1595\n",
            "Validation loss decreased (0.159538 --> 0.122862).  Saving model ...\n"
          ],
          "name": "stdout"
        },
        {
          "output_type": "stream",
          "text": [
            "\r  3%|▎         | 2/60 [09:01<5:56:49, 369.13s/it]"
          ],
          "name": "stderr"
        },
        {
          "output_type": "stream",
          "text": [
            "Train Epoch: 2 @ 01:27:35.886905 - Train Loss: 0.1511 - Valid Loss: 0.1229\n",
            "Validation loss decreased (0.122862 --> 0.107056).  Saving model ...\n"
          ],
          "name": "stdout"
        },
        {
          "output_type": "stream",
          "text": [
            "\r  5%|▌         | 3/60 [09:25<4:12:27, 265.75s/it]"
          ],
          "name": "stderr"
        },
        {
          "output_type": "stream",
          "text": [
            "Train Epoch: 3 @ 01:28:00.433923 - Train Loss: 0.1364 - Valid Loss: 0.1071\n",
            "EarlyStopping counter: 1 out of 10\n"
          ],
          "name": "stdout"
        },
        {
          "output_type": "stream",
          "text": [
            "\r  7%|▋         | 4/60 [09:49<3:00:12, 193.08s/it]"
          ],
          "name": "stderr"
        },
        {
          "output_type": "stream",
          "text": [
            "Train Epoch: 4 @ 01:28:23.957715 - Train Loss: 0.1223 - Valid Loss: 0.1128\n",
            "Validation loss decreased (0.107056 --> 0.098493).  Saving model ...\n"
          ],
          "name": "stdout"
        },
        {
          "output_type": "stream",
          "text": [
            "\r  8%|▊         | 5/60 [10:13<2:10:34, 142.45s/it]"
          ],
          "name": "stderr"
        },
        {
          "output_type": "stream",
          "text": [
            "Train Epoch: 5 @ 01:28:48.253891 - Train Loss: 0.1190 - Valid Loss: 0.0985\n",
            "Validation loss decreased (0.098493 --> 0.094236).  Saving model ...\n"
          ],
          "name": "stdout"
        },
        {
          "output_type": "stream",
          "text": [
            "\r 10%|█         | 6/60 [10:38<1:36:31, 107.24s/it]"
          ],
          "name": "stderr"
        },
        {
          "output_type": "stream",
          "text": [
            "Train Epoch: 6 @ 01:29:13.351868 - Train Loss: 0.1068 - Valid Loss: 0.0942\n",
            "EarlyStopping counter: 1 out of 10\n"
          ],
          "name": "stdout"
        },
        {
          "output_type": "stream",
          "text": [
            "\r 12%|█▏        | 7/60 [11:02<1:12:37, 82.22s/it] "
          ],
          "name": "stderr"
        },
        {
          "output_type": "stream",
          "text": [
            "Train Epoch: 7 @ 01:29:37.189753 - Train Loss: 0.1050 - Valid Loss: 0.0982\n",
            "EarlyStopping counter: 2 out of 10\n"
          ],
          "name": "stdout"
        },
        {
          "output_type": "stream",
          "text": [
            "\r 13%|█▎        | 8/60 [11:26<56:08, 64.77s/it]  "
          ],
          "name": "stderr"
        },
        {
          "output_type": "stream",
          "text": [
            "Train Epoch: 8 @ 01:30:01.243517 - Train Loss: 0.1053 - Valid Loss: 0.0968\n",
            "Validation loss decreased (0.094236 --> 0.093149).  Saving model ...\n"
          ],
          "name": "stdout"
        },
        {
          "output_type": "stream",
          "text": [
            "\r 15%|█▌        | 9/60 [11:50<44:38, 52.53s/it]"
          ],
          "name": "stderr"
        },
        {
          "output_type": "stream",
          "text": [
            "Train Epoch: 9 @ 01:30:25.209534 - Train Loss: 0.0987 - Valid Loss: 0.0931\n",
            "EarlyStopping counter: 1 out of 10\n"
          ],
          "name": "stdout"
        },
        {
          "output_type": "stream",
          "text": [
            "\r 17%|█▋        | 10/60 [12:14<36:42, 44.05s/it]"
          ],
          "name": "stderr"
        },
        {
          "output_type": "stream",
          "text": [
            "Train Epoch: 10 @ 01:30:49.484629 - Train Loss: 0.0961 - Valid Loss: 0.0932\n",
            "EarlyStopping counter: 2 out of 10\n"
          ],
          "name": "stdout"
        },
        {
          "output_type": "stream",
          "text": [
            "\r 18%|█▊        | 11/60 [12:38<30:58, 37.94s/it]"
          ],
          "name": "stderr"
        },
        {
          "output_type": "stream",
          "text": [
            "Train Epoch: 11 @ 01:31:13.145826 - Train Loss: 0.0935 - Valid Loss: 0.0976\n",
            "Validation loss decreased (0.093149 --> 0.089430).  Saving model ...\n"
          ],
          "name": "stdout"
        },
        {
          "output_type": "stream",
          "text": [
            "\r 20%|██        | 12/60 [13:02<27:07, 33.90s/it]"
          ],
          "name": "stderr"
        },
        {
          "output_type": "stream",
          "text": [
            "Train Epoch: 12 @ 01:31:37.629910 - Train Loss: 0.0894 - Valid Loss: 0.0894\n",
            "Validation loss decreased (0.089430 --> 0.084472).  Saving model ...\n"
          ],
          "name": "stdout"
        },
        {
          "output_type": "stream",
          "text": [
            "\r 22%|██▏       | 13/60 [13:27<24:23, 31.14s/it]"
          ],
          "name": "stderr"
        },
        {
          "output_type": "stream",
          "text": [
            "Train Epoch: 13 @ 01:32:02.342509 - Train Loss: 0.0879 - Valid Loss: 0.0845\n",
            "EarlyStopping counter: 1 out of 10\n"
          ],
          "name": "stdout"
        },
        {
          "output_type": "stream",
          "text": [
            "\r 23%|██▎       | 14/60 [13:50<22:04, 28.79s/it]"
          ],
          "name": "stderr"
        },
        {
          "output_type": "stream",
          "text": [
            "Train Epoch: 14 @ 01:32:25.624427 - Train Loss: 0.0906 - Valid Loss: 0.0916\n",
            "EarlyStopping counter: 2 out of 10\n"
          ],
          "name": "stdout"
        },
        {
          "output_type": "stream",
          "text": [
            "\r 25%|██▌       | 15/60 [14:14<20:30, 27.35s/it]"
          ],
          "name": "stderr"
        },
        {
          "output_type": "stream",
          "text": [
            "Train Epoch: 15 @ 01:32:49.613782 - Train Loss: 0.0897 - Valid Loss: 0.1049\n",
            "Validation loss decreased (0.084472 --> 0.083555).  Saving model ...\n"
          ],
          "name": "stdout"
        },
        {
          "output_type": "stream",
          "text": [
            "\r 27%|██▋       | 16/60 [14:38<19:13, 26.23s/it]"
          ],
          "name": "stderr"
        },
        {
          "output_type": "stream",
          "text": [
            "Train Epoch: 16 @ 01:33:13.226535 - Train Loss: 0.0878 - Valid Loss: 0.0836\n",
            "Validation loss decreased (0.083555 --> 0.079384).  Saving model ...\n"
          ],
          "name": "stdout"
        },
        {
          "output_type": "stream",
          "text": [
            "\r 28%|██▊       | 17/60 [15:03<18:29, 25.80s/it]"
          ],
          "name": "stderr"
        },
        {
          "output_type": "stream",
          "text": [
            "Train Epoch: 17 @ 01:33:38.032750 - Train Loss: 0.0832 - Valid Loss: 0.0794\n",
            "EarlyStopping counter: 1 out of 10\n"
          ],
          "name": "stdout"
        },
        {
          "output_type": "stream",
          "text": [
            "\r 30%|███       | 18/60 [15:28<17:51, 25.51s/it]"
          ],
          "name": "stderr"
        },
        {
          "output_type": "stream",
          "text": [
            "Train Epoch: 18 @ 01:34:02.863069 - Train Loss: 0.0842 - Valid Loss: 0.0870\n",
            "EarlyStopping counter: 2 out of 10\n"
          ],
          "name": "stdout"
        },
        {
          "output_type": "stream",
          "text": [
            "\r 32%|███▏      | 19/60 [15:51<17:04, 24.98s/it]"
          ],
          "name": "stderr"
        },
        {
          "output_type": "stream",
          "text": [
            "Train Epoch: 19 @ 01:34:26.616922 - Train Loss: 0.0868 - Valid Loss: 0.0827\n",
            "EarlyStopping counter: 3 out of 10\n"
          ],
          "name": "stdout"
        },
        {
          "output_type": "stream",
          "text": [
            "\r 33%|███▎      | 20/60 [16:15<16:23, 24.59s/it]"
          ],
          "name": "stderr"
        },
        {
          "output_type": "stream",
          "text": [
            "Train Epoch: 20 @ 01:34:50.287770 - Train Loss: 0.0821 - Valid Loss: 0.0847\n",
            "EarlyStopping counter: 4 out of 10\n"
          ],
          "name": "stdout"
        },
        {
          "output_type": "stream",
          "text": [
            "\r 35%|███▌      | 21/60 [16:38<15:43, 24.20s/it]"
          ],
          "name": "stderr"
        },
        {
          "output_type": "stream",
          "text": [
            "Train Epoch: 21 @ 01:35:13.564971 - Train Loss: 0.0857 - Valid Loss: 0.0800\n",
            "EarlyStopping counter: 5 out of 10\n"
          ],
          "name": "stdout"
        },
        {
          "output_type": "stream",
          "text": [
            "\r 37%|███▋      | 22/60 [17:02<15:15, 24.10s/it]"
          ],
          "name": "stderr"
        },
        {
          "output_type": "stream",
          "text": [
            "Train Epoch: 22 @ 01:35:37.431942 - Train Loss: 0.0820 - Valid Loss: 0.0810\n",
            "Validation loss decreased (0.079384 --> 0.076834).  Saving model ...\n"
          ],
          "name": "stdout"
        },
        {
          "output_type": "stream",
          "text": [
            "\r 38%|███▊      | 23/60 [17:26<14:52, 24.11s/it]"
          ],
          "name": "stderr"
        },
        {
          "output_type": "stream",
          "text": [
            "Train Epoch: 23 @ 01:36:01.586092 - Train Loss: 0.0812 - Valid Loss: 0.0768\n",
            "EarlyStopping counter: 1 out of 10\n"
          ],
          "name": "stdout"
        },
        {
          "output_type": "stream",
          "text": [
            "\r 40%|████      | 24/60 [17:52<14:44, 24.57s/it]"
          ],
          "name": "stderr"
        },
        {
          "output_type": "stream",
          "text": [
            "Train Epoch: 24 @ 01:36:27.219079 - Train Loss: 0.0784 - Valid Loss: 0.0804\n",
            "Validation loss decreased (0.076834 --> 0.075376).  Saving model ...\n"
          ],
          "name": "stdout"
        },
        {
          "output_type": "stream",
          "text": [
            "\r 42%|████▏     | 25/60 [18:17<14:21, 24.63s/it]"
          ],
          "name": "stderr"
        },
        {
          "output_type": "stream",
          "text": [
            "Train Epoch: 25 @ 01:36:51.982883 - Train Loss: 0.0771 - Valid Loss: 0.0754\n",
            "EarlyStopping counter: 1 out of 10\n"
          ],
          "name": "stdout"
        },
        {
          "output_type": "stream",
          "text": [
            "\r 43%|████▎     | 26/60 [18:40<13:47, 24.33s/it]"
          ],
          "name": "stderr"
        },
        {
          "output_type": "stream",
          "text": [
            "Train Epoch: 26 @ 01:37:15.617989 - Train Loss: 0.0735 - Valid Loss: 0.0808\n",
            "EarlyStopping counter: 2 out of 10\n"
          ],
          "name": "stdout"
        },
        {
          "output_type": "stream",
          "text": [
            "\r 45%|████▌     | 27/60 [19:04<13:17, 24.15s/it]"
          ],
          "name": "stderr"
        },
        {
          "output_type": "stream",
          "text": [
            "Train Epoch: 27 @ 01:37:39.352935 - Train Loss: 0.0720 - Valid Loss: 0.0763\n",
            "EarlyStopping counter: 3 out of 10\n"
          ],
          "name": "stdout"
        },
        {
          "output_type": "stream",
          "text": [
            "\r 47%|████▋     | 28/60 [19:27<12:43, 23.87s/it]"
          ],
          "name": "stderr"
        },
        {
          "output_type": "stream",
          "text": [
            "Train Epoch: 28 @ 01:38:02.566030 - Train Loss: 0.0708 - Valid Loss: 0.0789\n",
            "EarlyStopping counter: 4 out of 10\n"
          ],
          "name": "stdout"
        },
        {
          "output_type": "stream",
          "text": [
            "\r 48%|████▊     | 29/60 [19:51<12:16, 23.76s/it]"
          ],
          "name": "stderr"
        },
        {
          "output_type": "stream",
          "text": [
            "Train Epoch: 29 @ 01:38:26.074442 - Train Loss: 0.0704 - Valid Loss: 0.0818\n",
            "EarlyStopping counter: 5 out of 10\n"
          ],
          "name": "stdout"
        },
        {
          "output_type": "stream",
          "text": [
            "\r 50%|█████     | 30/60 [20:15<11:57, 23.91s/it]"
          ],
          "name": "stderr"
        },
        {
          "output_type": "stream",
          "text": [
            "Train Epoch: 30 @ 01:38:50.330049 - Train Loss: 0.0741 - Valid Loss: 0.0880\n",
            "EarlyStopping counter: 6 out of 10\n"
          ],
          "name": "stdout"
        },
        {
          "output_type": "stream",
          "text": [
            "\r 52%|█████▏    | 31/60 [20:38<11:27, 23.70s/it]"
          ],
          "name": "stderr"
        },
        {
          "output_type": "stream",
          "text": [
            "Train Epoch: 31 @ 01:39:13.540774 - Train Loss: 0.0773 - Valid Loss: 0.0820\n",
            "EarlyStopping counter: 7 out of 10\n"
          ],
          "name": "stdout"
        },
        {
          "output_type": "stream",
          "text": [
            "\r 53%|█████▎    | 32/60 [21:02<11:06, 23.80s/it]"
          ],
          "name": "stderr"
        },
        {
          "output_type": "stream",
          "text": [
            "Train Epoch: 32 @ 01:39:37.578305 - Train Loss: 0.0769 - Valid Loss: 0.0876\n",
            "EarlyStopping counter: 8 out of 10\n"
          ],
          "name": "stdout"
        },
        {
          "output_type": "stream",
          "text": [
            "\r 55%|█████▌    | 33/60 [21:26<10:42, 23.81s/it]"
          ],
          "name": "stderr"
        },
        {
          "output_type": "stream",
          "text": [
            "Train Epoch: 33 @ 01:40:01.394072 - Train Loss: 0.0721 - Valid Loss: 0.0804\n",
            "EarlyStopping counter: 9 out of 10\n"
          ],
          "name": "stdout"
        },
        {
          "output_type": "stream",
          "text": [
            "\r 57%|█████▋    | 34/60 [21:50<10:20, 23.86s/it]"
          ],
          "name": "stderr"
        },
        {
          "output_type": "stream",
          "text": [
            "Train Epoch: 34 @ 01:40:25.383877 - Train Loss: 0.0688 - Valid Loss: 0.0976\n",
            "EarlyStopping counter: 10 out of 10\n",
            "Early stopping\n"
          ],
          "name": "stdout"
        },
        {
          "output_type": "display_data",
          "data": {
            "image/png": "[encoded data removed]",
            "text/plain": [
              "<Figure size 720x576 with 1 Axes>"
            ]
          },
          "metadata": {
            "tags": [],
            "needs_background": "light"
          }
        },
        {
          "output_type": "stream",
          "text": [
            "Dice2 score: 0.9453235973011364\n",
            "Batch size: 4, Learning rate: 0.0001 , Epochs: 60\n",
            "\n"
          ],
          "name": "stdout"
        },
        {
          "output_type": "stream",
          "text": [
            "\n",
            "  0%|          | 0/60 [00:00<?, ?it/s]\u001b[A"
          ],
          "name": "stderr"
        },
        {
          "output_type": "stream",
          "text": [
            "Validation loss decreased (inf --> 0.175257).  Saving model ...\n"
          ],
          "name": "stdout"
        },
        {
          "output_type": "stream",
          "text": [
            "\n",
            "  2%|▏         | 1/60 [00:22<22:04, 22.46s/it]\u001b[A"
          ],
          "name": "stderr"
        },
        {
          "output_type": "stream",
          "text": [
            "Train Epoch: 1 @ 01:41:12.096887 - Train Loss: 0.2528 - Valid Loss: 0.1753\n",
            "Validation loss decreased (0.175257 --> 0.139882).  Saving model ...\n"
          ],
          "name": "stdout"
        },
        {
          "output_type": "stream",
          "text": [
            "\n",
            "  3%|▎         | 2/60 [00:45<21:56, 22.70s/it]\u001b[A"
          ],
          "name": "stderr"
        },
        {
          "output_type": "stream",
          "text": [
            "Train Epoch: 2 @ 01:41:35.370485 - Train Loss: 0.1705 - Valid Loss: 0.1399\n",
            "Validation loss decreased (0.139882 --> 0.125541).  Saving model ...\n"
          ],
          "name": "stdout"
        },
        {
          "output_type": "stream",
          "text": [
            "\n",
            "  5%|▌         | 3/60 [01:08<21:35, 22.74s/it]\u001b[A"
          ],
          "name": "stderr"
        },
        {
          "output_type": "stream",
          "text": [
            "Train Epoch: 3 @ 01:41:58.185861 - Train Loss: 0.1488 - Valid Loss: 0.1255\n",
            "Validation loss decreased (0.125541 --> 0.114266).  Saving model ...\n"
          ],
          "name": "stdout"
        },
        {
          "output_type": "stream",
          "text": [
            "\n",
            "  7%|▋         | 4/60 [01:31<21:14, 22.76s/it]\u001b[A"
          ],
          "name": "stderr"
        },
        {
          "output_type": "stream",
          "text": [
            "Train Epoch: 4 @ 01:42:21.006350 - Train Loss: 0.1299 - Valid Loss: 0.1143\n",
            "Validation loss decreased (0.114266 --> 0.102608).  Saving model ...\n"
          ],
          "name": "stdout"
        },
        {
          "output_type": "stream",
          "text": [
            "\n",
            "  8%|▊         | 5/60 [01:54<20:57, 22.86s/it]\u001b[A"
          ],
          "name": "stderr"
        },
        {
          "output_type": "stream",
          "text": [
            "Train Epoch: 5 @ 01:42:44.090950 - Train Loss: 0.1159 - Valid Loss: 0.1026\n",
            "Validation loss decreased (0.102608 --> 0.101657).  Saving model ...\n"
          ],
          "name": "stdout"
        },
        {
          "output_type": "stream",
          "text": [
            "\n",
            " 10%|█         | 6/60 [02:17<20:33, 22.84s/it]\u001b[A"
          ],
          "name": "stderr"
        },
        {
          "output_type": "stream",
          "text": [
            "Train Epoch: 6 @ 01:43:06.873960 - Train Loss: 0.1088 - Valid Loss: 0.1017\n",
            "Validation loss decreased (0.101657 --> 0.095215).  Saving model ...\n"
          ],
          "name": "stdout"
        },
        {
          "output_type": "stream",
          "text": [
            "\n",
            " 12%|█▏        | 7/60 [02:40<20:13, 22.90s/it]\u001b[A"
          ],
          "name": "stderr"
        },
        {
          "output_type": "stream",
          "text": [
            "Train Epoch: 7 @ 01:43:29.931999 - Train Loss: 0.1006 - Valid Loss: 0.0952\n",
            "Validation loss decreased (0.095215 --> 0.092334).  Saving model ...\n"
          ],
          "name": "stdout"
        },
        {
          "output_type": "stream",
          "text": [
            "\n",
            " 13%|█▎        | 8/60 [03:03<19:53, 22.96s/it]\u001b[A"
          ],
          "name": "stderr"
        },
        {
          "output_type": "stream",
          "text": [
            "Train Epoch: 8 @ 01:43:53.016055 - Train Loss: 0.0948 - Valid Loss: 0.0923\n",
            "Validation loss decreased (0.092334 --> 0.091777).  Saving model ...\n"
          ],
          "name": "stdout"
        },
        {
          "output_type": "stream",
          "text": [
            "\n",
            " 15%|█▌        | 9/60 [03:26<19:28, 22.91s/it]\u001b[A"
          ],
          "name": "stderr"
        },
        {
          "output_type": "stream",
          "text": [
            "Train Epoch: 9 @ 01:44:15.814053 - Train Loss: 0.0873 - Valid Loss: 0.0918\n",
            "Validation loss decreased (0.091777 --> 0.089494).  Saving model ...\n"
          ],
          "name": "stdout"
        },
        {
          "output_type": "stream",
          "text": [
            "\n",
            " 17%|█▋        | 10/60 [03:52<19:53, 23.86s/it]\u001b[A"
          ],
          "name": "stderr"
        },
        {
          "output_type": "stream",
          "text": [
            "Train Epoch: 10 @ 01:44:41.893848 - Train Loss: 0.0878 - Valid Loss: 0.0895\n",
            "Validation loss decreased (0.089494 --> 0.088124).  Saving model ...\n"
          ],
          "name": "stdout"
        },
        {
          "output_type": "stream",
          "text": [
            "\n",
            " 18%|█▊        | 11/60 [04:15<19:21, 23.70s/it]\u001b[A"
          ],
          "name": "stderr"
        },
        {
          "output_type": "stream",
          "text": [
            "Train Epoch: 11 @ 01:45:05.212649 - Train Loss: 0.0828 - Valid Loss: 0.0881\n",
            "Validation loss decreased (0.088124 --> 0.087878).  Saving model ...\n"
          ],
          "name": "stdout"
        },
        {
          "output_type": "stream",
          "text": [
            "\n",
            " 20%|██        | 12/60 [04:39<18:55, 23.65s/it]\u001b[A"
          ],
          "name": "stderr"
        },
        {
          "output_type": "stream",
          "text": [
            "Train Epoch: 12 @ 01:45:28.763008 - Train Loss: 0.0798 - Valid Loss: 0.0879\n",
            "Validation loss decreased (0.087878 --> 0.086095).  Saving model ...\n"
          ],
          "name": "stdout"
        },
        {
          "output_type": "stream",
          "text": [
            "\n",
            " 22%|██▏       | 13/60 [05:01<18:17, 23.36s/it]\u001b[A"
          ],
          "name": "stderr"
        },
        {
          "output_type": "stream",
          "text": [
            "Train Epoch: 13 @ 01:45:51.436014 - Train Loss: 0.0750 - Valid Loss: 0.0861\n",
            "EarlyStopping counter: 1 out of 10\n"
          ],
          "name": "stdout"
        },
        {
          "output_type": "stream",
          "text": [
            "\n",
            " 23%|██▎       | 14/60 [05:24<17:43, 23.12s/it]\u001b[A"
          ],
          "name": "stderr"
        },
        {
          "output_type": "stream",
          "text": [
            "Train Epoch: 14 @ 01:46:13.990443 - Train Loss: 0.0736 - Valid Loss: 0.0900\n",
            "Validation loss decreased (0.086095 --> 0.083504).  Saving model ...\n"
          ],
          "name": "stdout"
        },
        {
          "output_type": "stream",
          "text": [
            "\n",
            " 25%|██▌       | 15/60 [05:47<17:17, 23.06s/it]\u001b[A"
          ],
          "name": "stderr"
        },
        {
          "output_type": "stream",
          "text": [
            "Train Epoch: 15 @ 01:46:36.908840 - Train Loss: 0.0689 - Valid Loss: 0.0835\n",
            "EarlyStopping counter: 1 out of 10\n"
          ],
          "name": "stdout"
        },
        {
          "output_type": "stream",
          "text": [
            "\n",
            " 27%|██▋       | 16/60 [06:09<16:42, 22.79s/it]\u001b[A"
          ],
          "name": "stderr"
        },
        {
          "output_type": "stream",
          "text": [
            "Train Epoch: 16 @ 01:46:59.073072 - Train Loss: 0.0659 - Valid Loss: 0.0841\n",
            "EarlyStopping counter: 2 out of 10\n"
          ],
          "name": "stdout"
        },
        {
          "output_type": "stream",
          "text": [
            "\n",
            " 28%|██▊       | 17/60 [06:31<16:15, 22.70s/it]\u001b[A"
          ],
          "name": "stderr"
        },
        {
          "output_type": "stream",
          "text": [
            "Train Epoch: 17 @ 01:47:21.554075 - Train Loss: 0.0653 - Valid Loss: 0.0865\n",
            "EarlyStopping counter: 3 out of 10\n"
          ],
          "name": "stdout"
        },
        {
          "output_type": "stream",
          "text": [
            "\n",
            " 30%|███       | 18/60 [06:54<15:50, 22.64s/it]\u001b[A"
          ],
          "name": "stderr"
        },
        {
          "output_type": "stream",
          "text": [
            "Train Epoch: 18 @ 01:47:44.058465 - Train Loss: 0.0642 - Valid Loss: 0.0870\n",
            "Validation loss decreased (0.083504 --> 0.083262).  Saving model ...\n"
          ],
          "name": "stdout"
        },
        {
          "output_type": "stream",
          "text": [
            "\n",
            " 32%|███▏      | 19/60 [07:17<15:28, 22.65s/it]\u001b[A"
          ],
          "name": "stderr"
        },
        {
          "output_type": "stream",
          "text": [
            "Train Epoch: 19 @ 01:48:06.745288 - Train Loss: 0.0615 - Valid Loss: 0.0833\n",
            "EarlyStopping counter: 1 out of 10\n"
          ],
          "name": "stdout"
        },
        {
          "output_type": "stream",
          "text": [
            "\n",
            " 33%|███▎      | 20/60 [07:39<15:08, 22.70s/it]\u001b[A"
          ],
          "name": "stderr"
        },
        {
          "output_type": "stream",
          "text": [
            "Train Epoch: 20 @ 01:48:29.564718 - Train Loss: 0.0588 - Valid Loss: 0.0847\n",
            "EarlyStopping counter: 2 out of 10\n"
          ],
          "name": "stdout"
        },
        {
          "output_type": "stream",
          "text": [
            "\n",
            " 35%|███▌      | 21/60 [08:02<14:43, 22.64s/it]\u001b[A"
          ],
          "name": "stderr"
        },
        {
          "output_type": "stream",
          "text": [
            "Train Epoch: 21 @ 01:48:52.072008 - Train Loss: 0.0567 - Valid Loss: 0.0873\n",
            "EarlyStopping counter: 3 out of 10\n"
          ],
          "name": "stdout"
        },
        {
          "output_type": "stream",
          "text": [
            "\n",
            " 37%|███▋      | 22/60 [08:24<14:16, 22.53s/it]\u001b[A"
          ],
          "name": "stderr"
        },
        {
          "output_type": "stream",
          "text": [
            "Train Epoch: 22 @ 01:49:14.327617 - Train Loss: 0.0544 - Valid Loss: 0.0862\n",
            "EarlyStopping counter: 4 out of 10\n"
          ],
          "name": "stdout"
        },
        {
          "output_type": "stream",
          "text": [
            "\n",
            " 38%|███▊      | 23/60 [08:47<13:54, 22.56s/it]\u001b[A"
          ],
          "name": "stderr"
        },
        {
          "output_type": "stream",
          "text": [
            "Train Epoch: 23 @ 01:49:36.941889 - Train Loss: 0.0536 - Valid Loss: 0.0845\n",
            "EarlyStopping counter: 5 out of 10\n"
          ],
          "name": "stdout"
        },
        {
          "output_type": "stream",
          "text": [
            "\n",
            " 40%|████      | 24/60 [09:09<13:30, 22.52s/it]\u001b[A"
          ],
          "name": "stderr"
        },
        {
          "output_type": "stream",
          "text": [
            "Train Epoch: 24 @ 01:49:59.370379 - Train Loss: 0.0504 - Valid Loss: 0.0848\n",
            "EarlyStopping counter: 6 out of 10\n"
          ],
          "name": "stdout"
        },
        {
          "output_type": "stream",
          "text": [
            "\n",
            " 42%|████▏     | 25/60 [09:32<13:06, 22.47s/it]\u001b[A"
          ],
          "name": "stderr"
        },
        {
          "output_type": "stream",
          "text": [
            "Train Epoch: 25 @ 01:50:21.719902 - Train Loss: 0.0508 - Valid Loss: 0.0918\n",
            "EarlyStopping counter: 7 out of 10\n"
          ],
          "name": "stdout"
        },
        {
          "output_type": "stream",
          "text": [
            "\n",
            " 43%|████▎     | 26/60 [09:54<12:46, 22.53s/it]\u001b[A"
          ],
          "name": "stderr"
        },
        {
          "output_type": "stream",
          "text": [
            "Train Epoch: 26 @ 01:50:44.406755 - Train Loss: 0.0488 - Valid Loss: 0.0881\n",
            "EarlyStopping counter: 8 out of 10\n"
          ],
          "name": "stdout"
        },
        {
          "output_type": "stream",
          "text": [
            "\n",
            " 45%|████▌     | 27/60 [10:17<12:24, 22.55s/it]\u001b[A"
          ],
          "name": "stderr"
        },
        {
          "output_type": "stream",
          "text": [
            "Train Epoch: 27 @ 01:51:06.996178 - Train Loss: 0.0474 - Valid Loss: 0.0915\n",
            "EarlyStopping counter: 9 out of 10\n"
          ],
          "name": "stdout"
        },
        {
          "output_type": "stream",
          "text": [
            "\n",
            " 47%|████▋     | 28/60 [10:40<12:03, 22.62s/it]\u001b[A"
          ],
          "name": "stderr"
        },
        {
          "output_type": "stream",
          "text": [
            "Train Epoch: 28 @ 01:51:29.786535 - Train Loss: 0.0465 - Valid Loss: 0.0874\n",
            "EarlyStopping counter: 10 out of 10\n",
            "Early stopping\n"
          ],
          "name": "stdout"
        },
        {
          "output_type": "display_data",
          "data": {
            "image/png": "[encoded data removed]",
            "text/plain": [
              "<Figure size 720x576 with 1 Axes>"
            ]
          },
          "metadata": {
            "tags": [],
            "needs_background": "light"
          }
        },
        {
          "output_type": "stream",
          "text": [
            "Dice2 score: 0.9434557828036222\n",
            "Batch size: 4, Learning rate: 1e-05 , Epochs: 60\n",
            "\n"
          ],
          "name": "stdout"
        },
        {
          "output_type": "stream",
          "text": [
            "\n",
            "\n",
            "  0%|          | 0/60 [00:00<?, ?it/s]\u001b[A\u001b[A"
          ],
          "name": "stderr"
        },
        {
          "output_type": "stream",
          "text": [
            "Validation loss decreased (inf --> 0.222451).  Saving model ...\n"
          ],
          "name": "stdout"
        },
        {
          "output_type": "stream",
          "text": [
            "\n",
            "\n",
            "  2%|▏         | 1/60 [00:22<22:19, 22.70s/it]\u001b[A\u001b[A"
          ],
          "name": "stderr"
        },
        {
          "output_type": "stream",
          "text": [
            "Train Epoch: 1 @ 01:52:15.549695 - Train Loss: 0.3885 - Valid Loss: 0.2225\n",
            "Validation loss decreased (0.222451 --> 0.211828).  Saving model ...\n"
          ],
          "name": "stdout"
        },
        {
          "output_type": "stream",
          "text": [
            "\n",
            "\n",
            "  3%|▎         | 2/60 [00:47<22:26, 23.21s/it]\u001b[A\u001b[A"
          ],
          "name": "stderr"
        },
        {
          "output_type": "stream",
          "text": [
            "Train Epoch: 2 @ 01:52:39.936946 - Train Loss: 0.2366 - Valid Loss: 0.2118\n",
            "Validation loss decreased (0.211828 --> 0.211532).  Saving model ...\n"
          ],
          "name": "stdout"
        },
        {
          "output_type": "stream",
          "text": [
            "\n",
            "\n",
            "  5%|▌         | 3/60 [01:10<22:00, 23.17s/it]\u001b[A\u001b[A"
          ],
          "name": "stderr"
        },
        {
          "output_type": "stream",
          "text": [
            "Train Epoch: 3 @ 01:53:03.019804 - Train Loss: 0.2206 - Valid Loss: 0.2115\n",
            "Validation loss decreased (0.211532 --> 0.185072).  Saving model ...\n"
          ],
          "name": "stdout"
        },
        {
          "output_type": "stream",
          "text": [
            "\n",
            "\n",
            "  7%|▋         | 4/60 [01:33<21:41, 23.24s/it]\u001b[A\u001b[A"
          ],
          "name": "stderr"
        },
        {
          "output_type": "stream",
          "text": [
            "Train Epoch: 4 @ 01:53:26.428148 - Train Loss: 0.2038 - Valid Loss: 0.1851\n",
            "Validation loss decreased (0.185072 --> 0.173807).  Saving model ...\n"
          ],
          "name": "stdout"
        },
        {
          "output_type": "stream",
          "text": [
            "\n",
            "\n",
            "  8%|▊         | 5/60 [01:56<21:18, 23.25s/it]\u001b[A\u001b[A"
          ],
          "name": "stderr"
        },
        {
          "output_type": "stream",
          "text": [
            "Train Epoch: 5 @ 01:53:49.709665 - Train Loss: 0.1870 - Valid Loss: 0.1738\n",
            "Validation loss decreased (0.173807 --> 0.158145).  Saving model ...\n"
          ],
          "name": "stdout"
        },
        {
          "output_type": "stream",
          "text": [
            "\n",
            "\n",
            " 10%|█         | 6/60 [02:19<20:53, 23.21s/it]\u001b[A\u001b[A"
          ],
          "name": "stderr"
        },
        {
          "output_type": "stream",
          "text": [
            "Train Epoch: 6 @ 01:54:12.830659 - Train Loss: 0.1717 - Valid Loss: 0.1581\n",
            "Validation loss decreased (0.158145 --> 0.152119).  Saving model ...\n"
          ],
          "name": "stdout"
        },
        {
          "output_type": "stream",
          "text": [
            "\n",
            "\n",
            " 12%|█▏        | 7/60 [02:43<20:33, 23.28s/it]\u001b[A\u001b[A"
          ],
          "name": "stderr"
        },
        {
          "output_type": "stream",
          "text": [
            "Train Epoch: 7 @ 01:54:36.253923 - Train Loss: 0.1619 - Valid Loss: 0.1521\n",
            "Validation loss decreased (0.152119 --> 0.134088).  Saving model ...\n"
          ],
          "name": "stdout"
        },
        {
          "output_type": "stream",
          "text": [
            "\n",
            "\n",
            " 13%|█▎        | 8/60 [03:07<20:18, 23.44s/it]\u001b[A\u001b[A"
          ],
          "name": "stderr"
        },
        {
          "output_type": "stream",
          "text": [
            "Train Epoch: 8 @ 01:55:00.065628 - Train Loss: 0.1521 - Valid Loss: 0.1341\n",
            "Validation loss decreased (0.134088 --> 0.124437).  Saving model ...\n"
          ],
          "name": "stdout"
        },
        {
          "output_type": "stream",
          "text": [
            "\n",
            "\n",
            " 15%|█▌        | 9/60 [03:30<19:49, 23.33s/it]\u001b[A\u001b[A"
          ],
          "name": "stderr"
        },
        {
          "output_type": "stream",
          "text": [
            "Train Epoch: 9 @ 01:55:23.156455 - Train Loss: 0.1439 - Valid Loss: 0.1244\n",
            "EarlyStopping counter: 1 out of 10\n"
          ],
          "name": "stdout"
        },
        {
          "output_type": "stream",
          "text": [
            "\n",
            "\n",
            " 17%|█▋        | 10/60 [03:53<19:25, 23.32s/it]\u001b[A\u001b[A"
          ],
          "name": "stderr"
        },
        {
          "output_type": "stream",
          "text": [
            "Train Epoch: 10 @ 01:55:46.445516 - Train Loss: 0.1418 - Valid Loss: 0.1285\n",
            "Validation loss decreased (0.124437 --> 0.119340).  Saving model ...\n"
          ],
          "name": "stdout"
        },
        {
          "output_type": "stream",
          "text": [
            "\n",
            "\n",
            " 18%|█▊        | 11/60 [04:17<19:04, 23.36s/it]\u001b[A\u001b[A"
          ],
          "name": "stderr"
        },
        {
          "output_type": "stream",
          "text": [
            "Train Epoch: 11 @ 01:56:09.896516 - Train Loss: 0.1354 - Valid Loss: 0.1193\n",
            "Validation loss decreased (0.119340 --> 0.115864).  Saving model ...\n"
          ],
          "name": "stdout"
        },
        {
          "output_type": "stream",
          "text": [
            "\n",
            "\n",
            " 20%|██        | 12/60 [04:40<18:41, 23.37s/it]\u001b[A\u001b[A"
          ],
          "name": "stderr"
        },
        {
          "output_type": "stream",
          "text": [
            "Train Epoch: 12 @ 01:56:33.298969 - Train Loss: 0.1303 - Valid Loss: 0.1159\n",
            "EarlyStopping counter: 1 out of 10\n"
          ],
          "name": "stdout"
        },
        {
          "output_type": "stream",
          "text": [
            "\n",
            "\n",
            " 22%|██▏       | 13/60 [05:03<18:07, 23.15s/it]\u001b[A\u001b[A"
          ],
          "name": "stderr"
        },
        {
          "output_type": "stream",
          "text": [
            "Train Epoch: 13 @ 01:56:55.920850 - Train Loss: 0.1262 - Valid Loss: 0.1191\n",
            "EarlyStopping counter: 2 out of 10\n"
          ],
          "name": "stdout"
        },
        {
          "output_type": "stream",
          "text": [
            "\n",
            "\n",
            " 23%|██▎       | 14/60 [05:25<17:38, 23.01s/it]\u001b[A\u001b[A"
          ],
          "name": "stderr"
        },
        {
          "output_type": "stream",
          "text": [
            "Train Epoch: 14 @ 01:57:18.597941 - Train Loss: 0.1232 - Valid Loss: 0.1170\n",
            "Validation loss decreased (0.115864 --> 0.113116).  Saving model ...\n"
          ],
          "name": "stdout"
        },
        {
          "output_type": "stream",
          "text": [
            "\n",
            "\n",
            " 25%|██▌       | 15/60 [05:48<17:17, 23.05s/it]\u001b[A\u001b[A"
          ],
          "name": "stderr"
        },
        {
          "output_type": "stream",
          "text": [
            "Train Epoch: 15 @ 01:57:41.751773 - Train Loss: 0.1181 - Valid Loss: 0.1131\n",
            "Validation loss decreased (0.113116 --> 0.110005).  Saving model ...\n"
          ],
          "name": "stdout"
        },
        {
          "output_type": "stream",
          "text": [
            "\n",
            "\n",
            " 27%|██▋       | 16/60 [06:11<16:54, 23.06s/it]\u001b[A\u001b[A"
          ],
          "name": "stderr"
        },
        {
          "output_type": "stream",
          "text": [
            "Train Epoch: 16 @ 01:58:04.835132 - Train Loss: 0.1150 - Valid Loss: 0.1100\n",
            "Validation loss decreased (0.110005 --> 0.109953).  Saving model ...\n"
          ],
          "name": "stdout"
        },
        {
          "output_type": "stream",
          "text": [
            "\n",
            "\n",
            " 28%|██▊       | 17/60 [06:35<16:38, 23.23s/it]\u001b[A\u001b[A"
          ],
          "name": "stderr"
        },
        {
          "output_type": "stream",
          "text": [
            "Train Epoch: 17 @ 01:58:28.460093 - Train Loss: 0.1131 - Valid Loss: 0.1100\n",
            "Validation loss decreased (0.109953 --> 0.108467).  Saving model ...\n"
          ],
          "name": "stdout"
        },
        {
          "output_type": "stream",
          "text": [
            "\n",
            "\n",
            " 30%|███       | 18/60 [06:58<16:16, 23.25s/it]\u001b[A\u001b[A"
          ],
          "name": "stderr"
        },
        {
          "output_type": "stream",
          "text": [
            "Train Epoch: 18 @ 01:58:51.747265 - Train Loss: 0.1087 - Valid Loss: 0.1085\n",
            "EarlyStopping counter: 1 out of 10\n"
          ],
          "name": "stdout"
        },
        {
          "output_type": "stream",
          "text": [
            "\n",
            "\n",
            " 32%|███▏      | 19/60 [07:21<15:43, 23.02s/it]\u001b[A\u001b[A"
          ],
          "name": "stderr"
        },
        {
          "output_type": "stream",
          "text": [
            "Train Epoch: 19 @ 01:59:14.237087 - Train Loss: 0.1112 - Valid Loss: 0.1094\n",
            "EarlyStopping counter: 2 out of 10\n"
          ],
          "name": "stdout"
        },
        {
          "output_type": "stream",
          "text": [
            "\n",
            "\n",
            " 33%|███▎      | 20/60 [07:44<15:19, 22.99s/it]\u001b[A\u001b[A"
          ],
          "name": "stderr"
        },
        {
          "output_type": "stream",
          "text": [
            "Train Epoch: 20 @ 01:59:37.171710 - Train Loss: 0.1045 - Valid Loss: 0.1117\n",
            "Validation loss decreased (0.108467 --> 0.106783).  Saving model ...\n"
          ],
          "name": "stdout"
        },
        {
          "output_type": "stream",
          "text": [
            "\n",
            "\n",
            " 35%|███▌      | 21/60 [08:07<14:56, 22.99s/it]\u001b[A\u001b[A"
          ],
          "name": "stderr"
        },
        {
          "output_type": "stream",
          "text": [
            "Train Epoch: 21 @ 02:00:00.135593 - Train Loss: 0.1058 - Valid Loss: 0.1068\n",
            "Validation loss decreased (0.106783 --> 0.106288).  Saving model ...\n"
          ],
          "name": "stdout"
        },
        {
          "output_type": "stream",
          "text": [
            "\n",
            "\n",
            " 37%|███▋      | 22/60 [08:30<14:34, 23.01s/it]\u001b[A\u001b[A"
          ],
          "name": "stderr"
        },
        {
          "output_type": "stream",
          "text": [
            "Train Epoch: 22 @ 02:00:23.191137 - Train Loss: 0.1029 - Valid Loss: 0.1063\n",
            "Validation loss decreased (0.106288 --> 0.104438).  Saving model ...\n"
          ],
          "name": "stdout"
        },
        {
          "output_type": "stream",
          "text": [
            "\n",
            "\n",
            " 38%|███▊      | 23/60 [08:54<14:20, 23.24s/it]\u001b[A\u001b[A"
          ],
          "name": "stderr"
        },
        {
          "output_type": "stream",
          "text": [
            "Train Epoch: 23 @ 02:00:46.990380 - Train Loss: 0.0994 - Valid Loss: 0.1044\n",
            "Validation loss decreased (0.104438 --> 0.103889).  Saving model ...\n"
          ],
          "name": "stdout"
        },
        {
          "output_type": "stream",
          "text": [
            "\n",
            "\n",
            " 40%|████      | 24/60 [09:17<13:57, 23.25s/it]\u001b[A\u001b[A"
          ],
          "name": "stderr"
        },
        {
          "output_type": "stream",
          "text": [
            "Train Epoch: 24 @ 02:01:10.261999 - Train Loss: 0.0996 - Valid Loss: 0.1039\n",
            "EarlyStopping counter: 1 out of 10\n"
          ],
          "name": "stdout"
        },
        {
          "output_type": "stream",
          "text": [
            "\n",
            "\n",
            " 42%|████▏     | 25/60 [09:41<13:39, 23.41s/it]\u001b[A\u001b[A"
          ],
          "name": "stderr"
        },
        {
          "output_type": "stream",
          "text": [
            "Train Epoch: 25 @ 02:01:34.025793 - Train Loss: 0.0957 - Valid Loss: 0.1057\n",
            "EarlyStopping counter: 2 out of 10\n"
          ],
          "name": "stdout"
        },
        {
          "output_type": "stream",
          "text": [
            "\n",
            "\n",
            " 43%|████▎     | 26/60 [10:04<13:10, 23.24s/it]\u001b[A\u001b[A"
          ],
          "name": "stderr"
        },
        {
          "output_type": "stream",
          "text": [
            "Train Epoch: 26 @ 02:01:56.859028 - Train Loss: 0.0951 - Valid Loss: 0.1057\n",
            "Validation loss decreased (0.103889 --> 0.103186).  Saving model ...\n"
          ],
          "name": "stdout"
        },
        {
          "output_type": "stream",
          "text": [
            "\n",
            "\n",
            " 45%|████▌     | 27/60 [10:27<12:48, 23.27s/it]\u001b[A\u001b[A"
          ],
          "name": "stderr"
        },
        {
          "output_type": "stream",
          "text": [
            "Train Epoch: 27 @ 02:02:20.230173 - Train Loss: 0.0934 - Valid Loss: 0.1032\n",
            "Validation loss decreased (0.103186 --> 0.102141).  Saving model ...\n"
          ],
          "name": "stdout"
        },
        {
          "output_type": "stream",
          "text": [
            "\n",
            "\n",
            " 47%|████▋     | 28/60 [10:50<12:25, 23.28s/it]\u001b[A\u001b[A"
          ],
          "name": "stderr"
        },
        {
          "output_type": "stream",
          "text": [
            "Train Epoch: 28 @ 02:02:43.534550 - Train Loss: 0.0919 - Valid Loss: 0.1021\n",
            "Validation loss decreased (0.102141 --> 0.101979).  Saving model ...\n"
          ],
          "name": "stdout"
        },
        {
          "output_type": "stream",
          "text": [
            "\n",
            "\n",
            " 48%|████▊     | 29/60 [11:13<11:59, 23.21s/it]\u001b[A\u001b[A"
          ],
          "name": "stderr"
        },
        {
          "output_type": "stream",
          "text": [
            "Train Epoch: 29 @ 02:03:06.559544 - Train Loss: 0.0915 - Valid Loss: 0.1020\n",
            "Validation loss decreased (0.101979 --> 0.101491).  Saving model ...\n"
          ],
          "name": "stdout"
        },
        {
          "output_type": "stream",
          "text": [
            "\n",
            "\n",
            " 50%|█████     | 30/60 [11:37<11:41, 23.37s/it]\u001b[A\u001b[A"
          ],
          "name": "stderr"
        },
        {
          "output_type": "stream",
          "text": [
            "Train Epoch: 30 @ 02:03:30.306204 - Train Loss: 0.0900 - Valid Loss: 0.1015\n",
            "Validation loss decreased (0.101491 --> 0.101350).  Saving model ...\n"
          ],
          "name": "stdout"
        },
        {
          "output_type": "stream",
          "text": [
            "\n",
            "\n",
            " 52%|█████▏    | 31/60 [12:00<11:17, 23.34s/it]\u001b[A\u001b[A"
          ],
          "name": "stderr"
        },
        {
          "output_type": "stream",
          "text": [
            "Train Epoch: 31 @ 02:03:53.596627 - Train Loss: 0.0888 - Valid Loss: 0.1014\n",
            "EarlyStopping counter: 1 out of 10\n"
          ],
          "name": "stdout"
        },
        {
          "output_type": "stream",
          "text": [
            "\n",
            "\n",
            " 53%|█████▎    | 32/60 [12:23<10:46, 23.10s/it]\u001b[A\u001b[A"
          ],
          "name": "stderr"
        },
        {
          "output_type": "stream",
          "text": [
            "Train Epoch: 32 @ 02:04:16.129706 - Train Loss: 0.0884 - Valid Loss: 0.1037\n",
            "EarlyStopping counter: 2 out of 10\n"
          ],
          "name": "stdout"
        },
        {
          "output_type": "stream",
          "text": [
            "\n",
            "\n",
            " 55%|█████▌    | 33/60 [12:46<10:22, 23.04s/it]\u001b[A\u001b[A"
          ],
          "name": "stderr"
        },
        {
          "output_type": "stream",
          "text": [
            "Train Epoch: 33 @ 02:04:39.038032 - Train Loss: 0.0883 - Valid Loss: 0.1044\n",
            "EarlyStopping counter: 3 out of 10\n"
          ],
          "name": "stdout"
        },
        {
          "output_type": "stream",
          "text": [
            "\n",
            "\n",
            " 57%|█████▋    | 34/60 [13:08<09:52, 22.81s/it]\u001b[A\u001b[A"
          ],
          "name": "stderr"
        },
        {
          "output_type": "stream",
          "text": [
            "Train Epoch: 34 @ 02:05:01.288668 - Train Loss: 0.0853 - Valid Loss: 0.1014\n",
            "EarlyStopping counter: 4 out of 10\n"
          ],
          "name": "stdout"
        },
        {
          "output_type": "stream",
          "text": [
            "\n",
            "\n",
            " 58%|█████▊    | 35/60 [13:33<09:47, 23.48s/it]\u001b[A\u001b[A"
          ],
          "name": "stderr"
        },
        {
          "output_type": "stream",
          "text": [
            "Train Epoch: 35 @ 02:05:26.344591 - Train Loss: 0.0849 - Valid Loss: 0.1037\n",
            "EarlyStopping counter: 5 out of 10\n"
          ],
          "name": "stdout"
        },
        {
          "output_type": "stream",
          "text": [
            "\n",
            "\n",
            " 60%|██████    | 36/60 [13:57<09:29, 23.75s/it]\u001b[A\u001b[A"
          ],
          "name": "stderr"
        },
        {
          "output_type": "stream",
          "text": [
            "Train Epoch: 36 @ 02:05:50.716958 - Train Loss: 0.0829 - Valid Loss: 0.1026\n",
            "EarlyStopping counter: 6 out of 10\n"
          ],
          "name": "stdout"
        },
        {
          "output_type": "stream",
          "text": [
            "\n",
            "\n",
            " 62%|██████▏   | 37/60 [14:21<09:07, 23.82s/it]\u001b[A\u001b[A"
          ],
          "name": "stderr"
        },
        {
          "output_type": "stream",
          "text": [
            "Train Epoch: 37 @ 02:06:14.710838 - Train Loss: 0.0831 - Valid Loss: 0.1017\n",
            "Validation loss decreased (0.101350 --> 0.101251).  Saving model ...\n"
          ],
          "name": "stdout"
        },
        {
          "output_type": "stream",
          "text": [
            "\n",
            "\n",
            " 63%|██████▎   | 38/60 [14:48<09:00, 24.57s/it]\u001b[A\u001b[A"
          ],
          "name": "stderr"
        },
        {
          "output_type": "stream",
          "text": [
            "Train Epoch: 38 @ 02:06:41.030131 - Train Loss: 0.0841 - Valid Loss: 0.1013\n",
            "EarlyStopping counter: 1 out of 10\n"
          ],
          "name": "stdout"
        },
        {
          "output_type": "stream",
          "text": [
            "\n",
            "\n",
            " 65%|██████▌   | 39/60 [15:12<08:34, 24.49s/it]\u001b[A\u001b[A"
          ],
          "name": "stderr"
        },
        {
          "output_type": "stream",
          "text": [
            "Train Epoch: 39 @ 02:07:05.322833 - Train Loss: 0.0812 - Valid Loss: 0.1024\n",
            "Validation loss decreased (0.101251 --> 0.100583).  Saving model ...\n"
          ],
          "name": "stdout"
        },
        {
          "output_type": "stream",
          "text": [
            "\n",
            "\n",
            " 67%|██████▋   | 40/60 [15:36<08:09, 24.47s/it]\u001b[A\u001b[A"
          ],
          "name": "stderr"
        },
        {
          "output_type": "stream",
          "text": [
            "Train Epoch: 40 @ 02:07:29.751639 - Train Loss: 0.0830 - Valid Loss: 0.1006\n",
            "EarlyStopping counter: 1 out of 10\n"
          ],
          "name": "stdout"
        },
        {
          "output_type": "stream",
          "text": [
            "\n",
            "\n",
            " 68%|██████▊   | 41/60 [16:01<07:48, 24.65s/it]\u001b[A\u001b[A"
          ],
          "name": "stderr"
        },
        {
          "output_type": "stream",
          "text": [
            "Train Epoch: 41 @ 02:07:54.809428 - Train Loss: 0.0810 - Valid Loss: 0.1025\n",
            "Validation loss decreased (0.100583 --> 0.099065).  Saving model ...\n"
          ],
          "name": "stdout"
        },
        {
          "output_type": "stream",
          "text": [
            "\n",
            "\n",
            " 70%|███████   | 42/60 [16:26<07:23, 24.62s/it]\u001b[A\u001b[A"
          ],
          "name": "stderr"
        },
        {
          "output_type": "stream",
          "text": [
            "Train Epoch: 42 @ 02:08:19.365473 - Train Loss: 0.0776 - Valid Loss: 0.0991\n",
            "EarlyStopping counter: 1 out of 10\n"
          ],
          "name": "stdout"
        },
        {
          "output_type": "stream",
          "text": [
            "\n",
            "\n",
            " 72%|███████▏  | 43/60 [16:52<07:06, 25.06s/it]\u001b[A\u001b[A"
          ],
          "name": "stderr"
        },
        {
          "output_type": "stream",
          "text": [
            "Train Epoch: 43 @ 02:08:45.454146 - Train Loss: 0.0781 - Valid Loss: 0.1018\n",
            "Validation loss decreased (0.099065 --> 0.098635).  Saving model ...\n"
          ],
          "name": "stdout"
        },
        {
          "output_type": "stream",
          "text": [
            "\n",
            "\n",
            " 73%|███████▎  | 44/60 [17:17<06:38, 24.92s/it]\u001b[A\u001b[A"
          ],
          "name": "stderr"
        },
        {
          "output_type": "stream",
          "text": [
            "Train Epoch: 44 @ 02:09:10.036036 - Train Loss: 0.0759 - Valid Loss: 0.0986\n",
            "EarlyStopping counter: 1 out of 10\n"
          ],
          "name": "stdout"
        },
        {
          "output_type": "stream",
          "text": [
            "\n",
            "\n",
            " 75%|███████▌  | 45/60 [17:42<06:14, 24.95s/it]\u001b[A\u001b[A"
          ],
          "name": "stderr"
        },
        {
          "output_type": "stream",
          "text": [
            "Train Epoch: 45 @ 02:09:35.080452 - Train Loss: 0.0757 - Valid Loss: 0.1015\n",
            "EarlyStopping counter: 2 out of 10\n"
          ],
          "name": "stdout"
        },
        {
          "output_type": "stream",
          "text": [
            "\n",
            "\n",
            " 77%|███████▋  | 46/60 [18:06<05:47, 24.79s/it]\u001b[A\u001b[A"
          ],
          "name": "stderr"
        },
        {
          "output_type": "stream",
          "text": [
            "Train Epoch: 46 @ 02:09:59.481514 - Train Loss: 0.0743 - Valid Loss: 0.1006\n",
            "EarlyStopping counter: 3 out of 10\n"
          ],
          "name": "stdout"
        },
        {
          "output_type": "stream",
          "text": [
            "\n",
            "\n",
            " 78%|███████▊  | 47/60 [18:30<05:18, 24.49s/it]\u001b[A\u001b[A"
          ],
          "name": "stderr"
        },
        {
          "output_type": "stream",
          "text": [
            "Train Epoch: 47 @ 02:10:23.268773 - Train Loss: 0.0745 - Valid Loss: 0.1017\n",
            "EarlyStopping counter: 4 out of 10\n"
          ],
          "name": "stdout"
        },
        {
          "output_type": "stream",
          "text": [
            "\n",
            "\n",
            " 80%|████████  | 48/60 [18:54<04:52, 24.40s/it]\u001b[A\u001b[A"
          ],
          "name": "stderr"
        },
        {
          "output_type": "stream",
          "text": [
            "Train Epoch: 48 @ 02:10:47.468925 - Train Loss: 0.0740 - Valid Loss: 0.0986\n",
            "Validation loss decreased (0.098635 --> 0.097907).  Saving model ...\n"
          ],
          "name": "stdout"
        },
        {
          "output_type": "stream",
          "text": [
            "\n",
            "\n",
            " 82%|████████▏ | 49/60 [19:18<04:27, 24.31s/it]\u001b[A\u001b[A"
          ],
          "name": "stderr"
        },
        {
          "output_type": "stream",
          "text": [
            "Train Epoch: 49 @ 02:11:11.573615 - Train Loss: 0.0726 - Valid Loss: 0.0979\n",
            "EarlyStopping counter: 1 out of 10\n"
          ],
          "name": "stdout"
        },
        {
          "output_type": "stream",
          "text": [
            "\n",
            "\n",
            " 83%|████████▎ | 50/60 [19:43<04:04, 24.43s/it]\u001b[A\u001b[A"
          ],
          "name": "stderr"
        },
        {
          "output_type": "stream",
          "text": [
            "Train Epoch: 50 @ 02:11:36.287005 - Train Loss: 0.0762 - Valid Loss: 0.0984\n",
            "Validation loss decreased (0.097907 --> 0.096388).  Saving model ...\n"
          ],
          "name": "stdout"
        },
        {
          "output_type": "stream",
          "text": [
            "\n",
            "\n",
            " 85%|████████▌ | 51/60 [20:09<03:43, 24.81s/it]\u001b[A\u001b[A"
          ],
          "name": "stderr"
        },
        {
          "output_type": "stream",
          "text": [
            "Train Epoch: 51 @ 02:12:01.972238 - Train Loss: 0.0722 - Valid Loss: 0.0964\n",
            "EarlyStopping counter: 1 out of 10\n"
          ],
          "name": "stdout"
        },
        {
          "output_type": "stream",
          "text": [
            "\n",
            "\n",
            " 87%|████████▋ | 52/60 [20:35<03:21, 25.18s/it]\u001b[A\u001b[A"
          ],
          "name": "stderr"
        },
        {
          "output_type": "stream",
          "text": [
            "Train Epoch: 52 @ 02:12:28.009035 - Train Loss: 0.0711 - Valid Loss: 0.0997\n",
            "EarlyStopping counter: 2 out of 10\n"
          ],
          "name": "stdout"
        },
        {
          "output_type": "stream",
          "text": [
            "\n",
            "\n",
            " 88%|████████▊ | 53/60 [20:59<02:54, 24.94s/it]\u001b[A\u001b[A"
          ],
          "name": "stderr"
        },
        {
          "output_type": "stream",
          "text": [
            "Train Epoch: 53 @ 02:12:52.400682 - Train Loss: 0.0699 - Valid Loss: 0.1004\n",
            "EarlyStopping counter: 3 out of 10\n"
          ],
          "name": "stdout"
        },
        {
          "output_type": "stream",
          "text": [
            "\n",
            "\n",
            " 90%|█████████ | 54/60 [21:23<02:28, 24.68s/it]\u001b[A\u001b[A"
          ],
          "name": "stderr"
        },
        {
          "output_type": "stream",
          "text": [
            "Train Epoch: 54 @ 02:13:16.463750 - Train Loss: 0.0687 - Valid Loss: 0.0982\n",
            "EarlyStopping counter: 4 out of 10\n"
          ],
          "name": "stdout"
        },
        {
          "output_type": "stream",
          "text": [
            "\n",
            "\n",
            " 92%|█████████▏| 55/60 [21:47<02:02, 24.57s/it]\u001b[A\u001b[A"
          ],
          "name": "stderr"
        },
        {
          "output_type": "stream",
          "text": [
            "Train Epoch: 55 @ 02:13:40.772706 - Train Loss: 0.0704 - Valid Loss: 0.0967\n",
            "EarlyStopping counter: 5 out of 10\n"
          ],
          "name": "stdout"
        },
        {
          "output_type": "stream",
          "text": [
            "\n",
            "\n",
            " 93%|█████████▎| 56/60 [22:11<01:37, 24.27s/it]\u001b[A\u001b[A"
          ],
          "name": "stderr"
        },
        {
          "output_type": "stream",
          "text": [
            "Train Epoch: 56 @ 02:14:04.334775 - Train Loss: 0.0683 - Valid Loss: 0.0997\n",
            "EarlyStopping counter: 6 out of 10\n"
          ],
          "name": "stdout"
        },
        {
          "output_type": "stream",
          "text": [
            "\n",
            "\n",
            " 95%|█████████▌| 57/60 [22:36<01:13, 24.36s/it]\u001b[A\u001b[A"
          ],
          "name": "stderr"
        },
        {
          "output_type": "stream",
          "text": [
            "Train Epoch: 57 @ 02:14:28.900649 - Train Loss: 0.0666 - Valid Loss: 0.0995\n",
            "EarlyStopping counter: 7 out of 10\n"
          ],
          "name": "stdout"
        },
        {
          "output_type": "stream",
          "text": [
            "\n",
            "\n",
            " 97%|█████████▋| 58/60 [23:01<00:49, 24.68s/it]\u001b[A\u001b[A"
          ],
          "name": "stderr"
        },
        {
          "output_type": "stream",
          "text": [
            "Train Epoch: 58 @ 02:14:54.345338 - Train Loss: 0.0665 - Valid Loss: 0.0975\n",
            "EarlyStopping counter: 8 out of 10\n"
          ],
          "name": "stdout"
        },
        {
          "output_type": "stream",
          "text": [
            "\n",
            "\n",
            " 98%|█████████▊| 59/60 [23:25<00:24, 24.36s/it]\u001b[A\u001b[A"
          ],
          "name": "stderr"
        },
        {
          "output_type": "stream",
          "text": [
            "Train Epoch: 59 @ 02:15:17.954374 - Train Loss: 0.0663 - Valid Loss: 0.0988\n",
            "EarlyStopping counter: 9 out of 10\n"
          ],
          "name": "stdout"
        },
        {
          "output_type": "stream",
          "text": [
            "\n",
            "\n",
            "100%|██████████| 60/60 [23:49<00:00, 23.83s/it]"
          ],
          "name": "stderr"
        },
        {
          "output_type": "stream",
          "text": [
            "Train Epoch: 60 @ 02:15:42.677078 - Train Loss: 0.0651 - Valid Loss: 0.0973\n"
          ],
          "name": "stdout"
        },
        {
          "output_type": "stream",
          "text": [
            "\n"
          ],
          "name": "stderr"
        },
        {
          "output_type": "display_data",
          "data": {
            "image/png": "[encoded data removed]",
            "text/plain": [
              "<Figure size 720x576 with 1 Axes>"
            ]
          },
          "metadata": {
            "tags": [],
            "needs_background": "light"
          }
        },
        {
          "output_type": "stream",
          "text": [
            "Dice2 score: 0.9342124245383523\n"
          ],
          "name": "stdout"
        }
      ]
    },
    {
      "cell_type": "code",
      "metadata": {
        "id": "rAjQsHNUzvrt",
        "colab": {
          "base_uri": "https://localhost:8080/",
          "height": 1000
        },
        "outputId": "df755bd1-741b-4cce-e517-735f74a234d4"
      },
      "source": [
        "n_bs = [8]\n",
        "n_lr = [0.001, 0.0001, 0.00001]\n",
        "epochs = 60\n",
        "patience = 10\n",
        "\n",
        "train_dir = \"./Train/train_250\"\n",
        "model_chkpt_name = \"ResNet-250x250_4layer\"\n",
        "\n",
        "for bs in n_bs:\n",
        "    for lr in n_lr:\n",
        "        hyperparam_tuning(train_dir, bs, lr, epochs, patience, model_chkpt_name)"
      ],
      "execution_count": null,
      "outputs": [
        {
          "output_type": "stream",
          "text": [
            "Batch size: 8, Learning rate: 0.001 , Epochs: 60\n",
            "\n"
          ],
          "name": "stdout"
        },
        {
          "output_type": "stream",
          "text": [
            "\n",
            "\n",
            "  0%|          | 0/60 [00:00<?, ?it/s]\u001b[A\u001b[A"
          ],
          "name": "stderr"
        },
        {
          "output_type": "stream",
          "text": [
            "Validation loss decreased (inf --> 0.160501).  Saving model ...\n"
          ],
          "name": "stdout"
        },
        {
          "output_type": "stream",
          "text": [
            "\n",
            "\n",
            "  2%|▏         | 1/60 [00:20<20:15, 20.60s/it]\u001b[A\u001b[A"
          ],
          "name": "stderr"
        },
        {
          "output_type": "stream",
          "text": [
            "Train Epoch: 1 @ 08:37:48.281473 - Train Loss: 0.2510 - Valid Loss: 0.1605\n",
            "Validation loss decreased (0.160501 --> 0.142209).  Saving model ...\n"
          ],
          "name": "stdout"
        },
        {
          "output_type": "stream",
          "text": [
            "\n",
            "\n",
            "  3%|▎         | 2/60 [00:41<20:01, 20.72s/it]\u001b[A\u001b[A"
          ],
          "name": "stderr"
        },
        {
          "output_type": "stream",
          "text": [
            "Train Epoch: 2 @ 08:38:09.279532 - Train Loss: 0.1587 - Valid Loss: 0.1422\n",
            "Validation loss decreased (0.142209 --> 0.126204).  Saving model ...\n"
          ],
          "name": "stdout"
        },
        {
          "output_type": "stream",
          "text": [
            "\n",
            "\n",
            "  5%|▌         | 3/60 [01:02<19:47, 20.84s/it]\u001b[A\u001b[A"
          ],
          "name": "stderr"
        },
        {
          "output_type": "stream",
          "text": [
            "Train Epoch: 3 @ 08:38:30.396225 - Train Loss: 0.1383 - Valid Loss: 0.1262\n",
            "Validation loss decreased (0.126204 --> 0.113586).  Saving model ...\n"
          ],
          "name": "stdout"
        },
        {
          "output_type": "stream",
          "text": [
            "\n",
            "\n",
            "  7%|▋         | 4/60 [01:23<19:28, 20.87s/it]\u001b[A\u001b[A"
          ],
          "name": "stderr"
        },
        {
          "output_type": "stream",
          "text": [
            "Train Epoch: 4 @ 08:38:51.335985 - Train Loss: 0.1357 - Valid Loss: 0.1136\n",
            "EarlyStopping counter: 1 out of 10\n"
          ],
          "name": "stdout"
        },
        {
          "output_type": "stream",
          "text": [
            "\n",
            "\n",
            "  8%|▊         | 5/60 [01:44<19:00, 20.73s/it]\u001b[A\u001b[A"
          ],
          "name": "stderr"
        },
        {
          "output_type": "stream",
          "text": [
            "Train Epoch: 5 @ 08:39:11.737407 - Train Loss: 0.1257 - Valid Loss: 0.1153\n",
            "Validation loss decreased (0.113586 --> 0.104612).  Saving model ...\n"
          ],
          "name": "stdout"
        },
        {
          "output_type": "stream",
          "text": [
            "\n",
            "\n",
            " 10%|█         | 6/60 [02:05<18:43, 20.80s/it]\u001b[A\u001b[A"
          ],
          "name": "stderr"
        },
        {
          "output_type": "stream",
          "text": [
            "Train Epoch: 6 @ 08:39:32.693767 - Train Loss: 0.1238 - Valid Loss: 0.1046\n",
            "Validation loss decreased (0.104612 --> 0.102693).  Saving model ...\n"
          ],
          "name": "stdout"
        },
        {
          "output_type": "stream",
          "text": [
            "\n",
            "\n",
            " 12%|█▏        | 7/60 [02:28<18:58, 21.48s/it]\u001b[A\u001b[A"
          ],
          "name": "stderr"
        },
        {
          "output_type": "stream",
          "text": [
            "Train Epoch: 7 @ 08:39:55.759094 - Train Loss: 0.1115 - Valid Loss: 0.1027\n",
            "EarlyStopping counter: 1 out of 10\n"
          ],
          "name": "stdout"
        },
        {
          "output_type": "stream",
          "text": [
            "\n",
            "\n",
            " 13%|█▎        | 8/60 [02:48<18:19, 21.15s/it]\u001b[A\u001b[A"
          ],
          "name": "stderr"
        },
        {
          "output_type": "stream",
          "text": [
            "Train Epoch: 8 @ 08:40:16.148027 - Train Loss: 0.1086 - Valid Loss: 0.1168\n",
            "EarlyStopping counter: 2 out of 10\n"
          ],
          "name": "stdout"
        },
        {
          "output_type": "stream",
          "text": [
            "\n",
            "\n",
            " 15%|█▌        | 9/60 [03:08<17:42, 20.84s/it]\u001b[A\u001b[A"
          ],
          "name": "stderr"
        },
        {
          "output_type": "stream",
          "text": [
            "Train Epoch: 9 @ 08:40:36.271373 - Train Loss: 0.1103 - Valid Loss: 0.1073\n",
            "Validation loss decreased (0.102693 --> 0.090891).  Saving model ...\n"
          ],
          "name": "stdout"
        },
        {
          "output_type": "stream",
          "text": [
            "\n",
            "\n",
            " 17%|█▋        | 10/60 [03:29<17:26, 20.93s/it]\u001b[A\u001b[A"
          ],
          "name": "stderr"
        },
        {
          "output_type": "stream",
          "text": [
            "Train Epoch: 10 @ 08:40:57.400427 - Train Loss: 0.1093 - Valid Loss: 0.0909\n",
            "EarlyStopping counter: 1 out of 10\n"
          ],
          "name": "stdout"
        },
        {
          "output_type": "stream",
          "text": [
            "\n",
            "\n",
            " 18%|█▊        | 11/60 [03:50<16:56, 20.74s/it]\u001b[A\u001b[A"
          ],
          "name": "stderr"
        },
        {
          "output_type": "stream",
          "text": [
            "Train Epoch: 11 @ 08:41:17.699709 - Train Loss: 0.1046 - Valid Loss: 0.1174\n",
            "Validation loss decreased (0.090891 --> 0.085112).  Saving model ...\n"
          ],
          "name": "stdout"
        },
        {
          "output_type": "stream",
          "text": [
            "\n",
            "\n",
            " 20%|██        | 12/60 [04:10<16:34, 20.71s/it]\u001b[A\u001b[A"
          ],
          "name": "stderr"
        },
        {
          "output_type": "stream",
          "text": [
            "Train Epoch: 12 @ 08:41:38.341236 - Train Loss: 0.0992 - Valid Loss: 0.0851\n",
            "EarlyStopping counter: 1 out of 10\n"
          ],
          "name": "stdout"
        },
        {
          "output_type": "stream",
          "text": [
            "\n",
            "\n",
            " 22%|██▏       | 13/60 [04:31<16:09, 20.62s/it]\u001b[A\u001b[A"
          ],
          "name": "stderr"
        },
        {
          "output_type": "stream",
          "text": [
            "Train Epoch: 13 @ 08:41:58.752229 - Train Loss: 0.0978 - Valid Loss: 0.0871\n",
            "EarlyStopping counter: 2 out of 10\n"
          ],
          "name": "stdout"
        },
        {
          "output_type": "stream",
          "text": [
            "\n",
            "\n",
            " 23%|██▎       | 14/60 [04:51<15:46, 20.57s/it]\u001b[A\u001b[A"
          ],
          "name": "stderr"
        },
        {
          "output_type": "stream",
          "text": [
            "Train Epoch: 14 @ 08:42:19.198202 - Train Loss: 0.0904 - Valid Loss: 0.0978\n",
            "EarlyStopping counter: 3 out of 10\n"
          ],
          "name": "stdout"
        },
        {
          "output_type": "stream",
          "text": [
            "\n",
            "\n",
            " 25%|██▌       | 15/60 [05:11<15:18, 20.41s/it]\u001b[A\u001b[A"
          ],
          "name": "stderr"
        },
        {
          "output_type": "stream",
          "text": [
            "Train Epoch: 15 @ 08:42:39.226613 - Train Loss: 0.0946 - Valid Loss: 0.0868\n",
            "EarlyStopping counter: 4 out of 10\n"
          ],
          "name": "stdout"
        },
        {
          "output_type": "stream",
          "text": [
            "\n",
            "\n",
            " 27%|██▋       | 16/60 [05:31<14:54, 20.32s/it]\u001b[A\u001b[A"
          ],
          "name": "stderr"
        },
        {
          "output_type": "stream",
          "text": [
            "Train Epoch: 16 @ 08:42:59.346155 - Train Loss: 0.0915 - Valid Loss: 0.1061\n",
            "Validation loss decreased (0.085112 --> 0.082641).  Saving model ...\n"
          ],
          "name": "stdout"
        },
        {
          "output_type": "stream",
          "text": [
            "\n",
            "\n",
            " 28%|██▊       | 17/60 [05:53<14:58, 20.90s/it]\u001b[A\u001b[A"
          ],
          "name": "stderr"
        },
        {
          "output_type": "stream",
          "text": [
            "Train Epoch: 17 @ 08:43:21.613660 - Train Loss: 0.0869 - Valid Loss: 0.0826\n",
            "EarlyStopping counter: 1 out of 10\n"
          ],
          "name": "stdout"
        },
        {
          "output_type": "stream",
          "text": [
            "\n",
            "\n",
            " 30%|███       | 18/60 [06:14<14:27, 20.66s/it]\u001b[A\u001b[A"
          ],
          "name": "stderr"
        },
        {
          "output_type": "stream",
          "text": [
            "Train Epoch: 18 @ 08:43:41.705668 - Train Loss: 0.0890 - Valid Loss: 0.0847\n",
            "EarlyStopping counter: 2 out of 10\n"
          ],
          "name": "stdout"
        },
        {
          "output_type": "stream",
          "text": [
            "\n",
            "\n",
            " 32%|███▏      | 19/60 [06:34<14:00, 20.49s/it]\u001b[A\u001b[A"
          ],
          "name": "stderr"
        },
        {
          "output_type": "stream",
          "text": [
            "Train Epoch: 19 @ 08:44:01.806459 - Train Loss: 0.0907 - Valid Loss: 0.1138\n",
            "EarlyStopping counter: 3 out of 10\n"
          ],
          "name": "stdout"
        },
        {
          "output_type": "stream",
          "text": [
            "\n",
            "\n",
            " 33%|███▎      | 20/60 [06:54<13:36, 20.41s/it]\u001b[A\u001b[A"
          ],
          "name": "stderr"
        },
        {
          "output_type": "stream",
          "text": [
            "Train Epoch: 20 @ 08:44:22.024979 - Train Loss: 0.0868 - Valid Loss: 0.0993\n",
            "Validation loss decreased (0.082641 --> 0.080830).  Saving model ...\n"
          ],
          "name": "stdout"
        },
        {
          "output_type": "stream",
          "text": [
            "\n",
            "\n",
            " 35%|███▌      | 21/60 [07:14<13:18, 20.47s/it]\u001b[A\u001b[A"
          ],
          "name": "stderr"
        },
        {
          "output_type": "stream",
          "text": [
            "Train Epoch: 21 @ 08:44:42.642843 - Train Loss: 0.0815 - Valid Loss: 0.0808\n",
            "EarlyStopping counter: 1 out of 10\n"
          ],
          "name": "stdout"
        },
        {
          "output_type": "stream",
          "text": [
            "\n",
            "\n",
            " 37%|███▋      | 22/60 [07:35<12:55, 20.41s/it]\u001b[A\u001b[A"
          ],
          "name": "stderr"
        },
        {
          "output_type": "stream",
          "text": [
            "Train Epoch: 22 @ 08:45:02.916262 - Train Loss: 0.0852 - Valid Loss: 0.1014\n",
            "EarlyStopping counter: 2 out of 10\n"
          ],
          "name": "stdout"
        },
        {
          "output_type": "stream",
          "text": [
            "\n",
            "\n",
            " 38%|███▊      | 23/60 [07:55<12:28, 20.24s/it]\u001b[A\u001b[A"
          ],
          "name": "stderr"
        },
        {
          "output_type": "stream",
          "text": [
            "Train Epoch: 23 @ 08:45:22.737192 - Train Loss: 0.0870 - Valid Loss: 0.0883\n",
            "EarlyStopping counter: 3 out of 10\n"
          ],
          "name": "stdout"
        },
        {
          "output_type": "stream",
          "text": [
            "\n",
            "\n",
            " 40%|████      | 24/60 [08:15<12:05, 20.16s/it]\u001b[A\u001b[A"
          ],
          "name": "stderr"
        },
        {
          "output_type": "stream",
          "text": [
            "Train Epoch: 24 @ 08:45:42.734798 - Train Loss: 0.0862 - Valid Loss: 0.0864\n",
            "Validation loss decreased (0.080830 --> 0.079045).  Saving model ...\n"
          ],
          "name": "stdout"
        },
        {
          "output_type": "stream",
          "text": [
            "\n",
            "\n",
            " 42%|████▏     | 25/60 [08:35<11:51, 20.33s/it]\u001b[A\u001b[A"
          ],
          "name": "stderr"
        },
        {
          "output_type": "stream",
          "text": [
            "Train Epoch: 25 @ 08:46:03.457073 - Train Loss: 0.0812 - Valid Loss: 0.0790\n",
            "EarlyStopping counter: 1 out of 10\n"
          ],
          "name": "stdout"
        },
        {
          "output_type": "stream",
          "text": [
            "\n",
            "\n",
            " 43%|████▎     | 26/60 [08:55<11:28, 20.24s/it]\u001b[A\u001b[A"
          ],
          "name": "stderr"
        },
        {
          "output_type": "stream",
          "text": [
            "Train Epoch: 26 @ 08:46:23.479938 - Train Loss: 0.0813 - Valid Loss: 0.0812\n",
            "EarlyStopping counter: 2 out of 10\n"
          ],
          "name": "stdout"
        },
        {
          "output_type": "stream",
          "text": [
            "\n",
            "\n",
            " 45%|████▌     | 27/60 [09:15<11:04, 20.15s/it]\u001b[A\u001b[A"
          ],
          "name": "stderr"
        },
        {
          "output_type": "stream",
          "text": [
            "Train Epoch: 27 @ 08:46:43.405482 - Train Loss: 0.0807 - Valid Loss: 0.0867\n",
            "Validation loss decreased (0.079045 --> 0.077410).  Saving model ...\n"
          ],
          "name": "stdout"
        },
        {
          "output_type": "stream",
          "text": [
            "\n",
            "\n",
            " 47%|████▋     | 28/60 [09:37<10:55, 20.49s/it]\u001b[A\u001b[A"
          ],
          "name": "stderr"
        },
        {
          "output_type": "stream",
          "text": [
            "Train Epoch: 28 @ 08:47:04.672555 - Train Loss: 0.0764 - Valid Loss: 0.0774\n",
            "EarlyStopping counter: 1 out of 10\n"
          ],
          "name": "stdout"
        },
        {
          "output_type": "stream",
          "text": [
            "\n",
            "\n",
            " 48%|████▊     | 29/60 [09:57<10:32, 20.41s/it]\u001b[A\u001b[A"
          ],
          "name": "stderr"
        },
        {
          "output_type": "stream",
          "text": [
            "Train Epoch: 29 @ 08:47:24.915575 - Train Loss: 0.0764 - Valid Loss: 0.0900\n",
            "EarlyStopping counter: 2 out of 10\n"
          ],
          "name": "stdout"
        },
        {
          "output_type": "stream",
          "text": [
            "\n",
            "\n",
            " 50%|█████     | 30/60 [10:17<10:09, 20.31s/it]\u001b[A\u001b[A"
          ],
          "name": "stderr"
        },
        {
          "output_type": "stream",
          "text": [
            "Train Epoch: 30 @ 08:47:44.999626 - Train Loss: 0.0745 - Valid Loss: 0.0820\n",
            "Validation loss decreased (0.077410 --> 0.075677).  Saving model ...\n"
          ],
          "name": "stdout"
        },
        {
          "output_type": "stream",
          "text": [
            "\n",
            "\n",
            " 52%|█████▏    | 31/60 [10:38<09:54, 20.49s/it]\u001b[A\u001b[A"
          ],
          "name": "stderr"
        },
        {
          "output_type": "stream",
          "text": [
            "Train Epoch: 31 @ 08:48:05.916418 - Train Loss: 0.0728 - Valid Loss: 0.0757\n",
            "EarlyStopping counter: 1 out of 10\n"
          ],
          "name": "stdout"
        },
        {
          "output_type": "stream",
          "text": [
            "\n",
            "\n",
            " 53%|█████▎    | 32/60 [10:58<09:34, 20.51s/it]\u001b[A\u001b[A"
          ],
          "name": "stderr"
        },
        {
          "output_type": "stream",
          "text": [
            "Train Epoch: 32 @ 08:48:26.459564 - Train Loss: 0.0716 - Valid Loss: 0.0935\n",
            "EarlyStopping counter: 2 out of 10\n"
          ],
          "name": "stdout"
        },
        {
          "output_type": "stream",
          "text": [
            "\n",
            "\n",
            " 55%|█████▌    | 33/60 [11:18<09:10, 20.39s/it]\u001b[A\u001b[A"
          ],
          "name": "stderr"
        },
        {
          "output_type": "stream",
          "text": [
            "Train Epoch: 33 @ 08:48:46.561449 - Train Loss: 0.0723 - Valid Loss: 0.0795\n",
            "EarlyStopping counter: 3 out of 10\n"
          ],
          "name": "stdout"
        },
        {
          "output_type": "stream",
          "text": [
            "\n",
            "\n",
            " 57%|█████▋    | 34/60 [11:39<08:51, 20.43s/it]\u001b[A\u001b[A"
          ],
          "name": "stderr"
        },
        {
          "output_type": "stream",
          "text": [
            "Train Epoch: 34 @ 08:49:07.103899 - Train Loss: 0.0731 - Valid Loss: 0.0827\n",
            "EarlyStopping counter: 4 out of 10\n"
          ],
          "name": "stdout"
        },
        {
          "output_type": "stream",
          "text": [
            "\n",
            "\n",
            " 58%|█████▊    | 35/60 [11:59<08:31, 20.46s/it]\u001b[A\u001b[A"
          ],
          "name": "stderr"
        },
        {
          "output_type": "stream",
          "text": [
            "Train Epoch: 35 @ 08:49:27.628379 - Train Loss: 0.0708 - Valid Loss: 0.0861\n",
            "EarlyStopping counter: 5 out of 10\n"
          ],
          "name": "stdout"
        },
        {
          "output_type": "stream",
          "text": [
            "\n",
            "\n",
            " 60%|██████    | 36/60 [12:20<08:09, 20.40s/it]\u001b[A\u001b[A"
          ],
          "name": "stderr"
        },
        {
          "output_type": "stream",
          "text": [
            "Train Epoch: 36 @ 08:49:47.883666 - Train Loss: 0.0664 - Valid Loss: 0.0778\n",
            "EarlyStopping counter: 6 out of 10\n"
          ],
          "name": "stdout"
        },
        {
          "output_type": "stream",
          "text": [
            "\n",
            "\n",
            " 62%|██████▏   | 37/60 [12:40<07:48, 20.35s/it]\u001b[A\u001b[A"
          ],
          "name": "stderr"
        },
        {
          "output_type": "stream",
          "text": [
            "Train Epoch: 37 @ 08:50:08.114390 - Train Loss: 0.0719 - Valid Loss: 0.0878\n",
            "EarlyStopping counter: 7 out of 10\n"
          ],
          "name": "stdout"
        },
        {
          "output_type": "stream",
          "text": [
            "\n",
            "\n",
            " 63%|██████▎   | 38/60 [13:00<07:28, 20.38s/it]\u001b[A\u001b[A"
          ],
          "name": "stderr"
        },
        {
          "output_type": "stream",
          "text": [
            "Train Epoch: 38 @ 08:50:28.574220 - Train Loss: 0.0714 - Valid Loss: 0.0850\n",
            "EarlyStopping counter: 8 out of 10\n"
          ],
          "name": "stdout"
        },
        {
          "output_type": "stream",
          "text": [
            "\n",
            "\n",
            " 65%|██████▌   | 39/60 [13:21<07:08, 20.40s/it]\u001b[A\u001b[A"
          ],
          "name": "stderr"
        },
        {
          "output_type": "stream",
          "text": [
            "Train Epoch: 39 @ 08:50:49.000044 - Train Loss: 0.0658 - Valid Loss: 0.0851\n",
            "EarlyStopping counter: 9 out of 10\n"
          ],
          "name": "stdout"
        },
        {
          "output_type": "stream",
          "text": [
            "\n",
            "\n",
            " 67%|██████▋   | 40/60 [13:41<06:47, 20.40s/it]\u001b[A\u001b[A"
          ],
          "name": "stderr"
        },
        {
          "output_type": "stream",
          "text": [
            "Train Epoch: 40 @ 08:51:09.410553 - Train Loss: 0.0682 - Valid Loss: 0.1020\n",
            "EarlyStopping counter: 10 out of 10\n",
            "Early stopping\n"
          ],
          "name": "stdout"
        },
        {
          "output_type": "display_data",
          "data": {
            "image/png": "[encoded data removed]",
            "text/plain": [
              "<Figure size 720x576 with 1 Axes>"
            ]
          },
          "metadata": {
            "tags": [],
            "needs_background": "light"
          }
        },
        {
          "output_type": "stream",
          "text": [
            "Dice2 score: 0.9547133012251421\n",
            "Batch size: 8, Learning rate: 0.0001 , Epochs: 60\n",
            "\n"
          ],
          "name": "stdout"
        },
        {
          "output_type": "stream",
          "text": [
            "\n",
            "\n",
            "\n",
            "  0%|          | 0/60 [00:00<?, ?it/s]\u001b[A\u001b[A\u001b[A"
          ],
          "name": "stderr"
        },
        {
          "output_type": "stream",
          "text": [
            "Validation loss decreased (inf --> 0.188914).  Saving model ...\n"
          ],
          "name": "stdout"
        },
        {
          "output_type": "stream",
          "text": [
            "\n",
            "\n",
            "\n",
            "  2%|▏         | 1/60 [00:20<20:35, 20.94s/it]\u001b[A\u001b[A\u001b[A"
          ],
          "name": "stderr"
        },
        {
          "output_type": "stream",
          "text": [
            "Train Epoch: 1 @ 08:51:51.221751 - Train Loss: 0.3470 - Valid Loss: 0.1889\n",
            "Validation loss decreased (0.188914 --> 0.141396).  Saving model ...\n"
          ],
          "name": "stdout"
        },
        {
          "output_type": "stream",
          "text": [
            "\n",
            "\n",
            "\n",
            "  3%|▎         | 2/60 [00:42<20:20, 21.04s/it]\u001b[A\u001b[A\u001b[A"
          ],
          "name": "stderr"
        },
        {
          "output_type": "stream",
          "text": [
            "Train Epoch: 2 @ 08:52:12.480508 - Train Loss: 0.2218 - Valid Loss: 0.1414\n",
            "Validation loss decreased (0.141396 --> 0.115835).  Saving model ...\n"
          ],
          "name": "stdout"
        },
        {
          "output_type": "stream",
          "text": [
            "\n",
            "\n",
            "\n",
            "  5%|▌         | 3/60 [01:03<19:58, 21.03s/it]\u001b[A\u001b[A\u001b[A"
          ],
          "name": "stderr"
        },
        {
          "output_type": "stream",
          "text": [
            "Train Epoch: 3 @ 08:52:33.507434 - Train Loss: 0.1788 - Valid Loss: 0.1158\n",
            "Validation loss decreased (0.115835 --> 0.102870).  Saving model ...\n"
          ],
          "name": "stdout"
        },
        {
          "output_type": "stream",
          "text": [
            "\n",
            "\n",
            "\n",
            "  7%|▋         | 4/60 [01:24<19:43, 21.13s/it]\u001b[A\u001b[A\u001b[A"
          ],
          "name": "stderr"
        },
        {
          "output_type": "stream",
          "text": [
            "Train Epoch: 4 @ 08:52:54.877060 - Train Loss: 0.1505 - Valid Loss: 0.1029\n",
            "Validation loss decreased (0.102870 --> 0.097877).  Saving model ...\n"
          ],
          "name": "stdout"
        },
        {
          "output_type": "stream",
          "text": [
            "\n",
            "\n",
            "\n",
            "  8%|▊         | 5/60 [01:45<19:26, 21.20s/it]\u001b[A\u001b[A\u001b[A"
          ],
          "name": "stderr"
        },
        {
          "output_type": "stream",
          "text": [
            "Train Epoch: 5 @ 08:53:16.235055 - Train Loss: 0.1373 - Valid Loss: 0.0979\n",
            "Validation loss decreased (0.097877 --> 0.096560).  Saving model ...\n"
          ],
          "name": "stdout"
        },
        {
          "output_type": "stream",
          "text": [
            "\n",
            "\n",
            "\n",
            " 10%|█         | 6/60 [02:06<19:02, 21.15s/it]\u001b[A\u001b[A\u001b[A"
          ],
          "name": "stderr"
        },
        {
          "output_type": "stream",
          "text": [
            "Train Epoch: 6 @ 08:53:37.277191 - Train Loss: 0.1259 - Valid Loss: 0.0966\n",
            "Validation loss decreased (0.096560 --> 0.089054).  Saving model ...\n"
          ],
          "name": "stdout"
        },
        {
          "output_type": "stream",
          "text": [
            "\n",
            "\n",
            "\n",
            " 12%|█▏        | 7/60 [02:29<19:07, 21.66s/it]\u001b[A\u001b[A\u001b[A"
          ],
          "name": "stderr"
        },
        {
          "output_type": "stream",
          "text": [
            "Train Epoch: 7 @ 08:54:00.111378 - Train Loss: 0.1174 - Valid Loss: 0.0891\n",
            "Validation loss decreased (0.089054 --> 0.088118).  Saving model ...\n"
          ],
          "name": "stdout"
        },
        {
          "output_type": "stream",
          "text": [
            "\n",
            "\n",
            "\n",
            " 13%|█▎        | 8/60 [02:51<18:41, 21.57s/it]\u001b[A\u001b[A\u001b[A"
          ],
          "name": "stderr"
        },
        {
          "output_type": "stream",
          "text": [
            "Train Epoch: 8 @ 08:54:21.465274 - Train Loss: 0.1050 - Valid Loss: 0.0881\n",
            "Validation loss decreased (0.088118 --> 0.085178).  Saving model ...\n"
          ],
          "name": "stdout"
        },
        {
          "output_type": "stream",
          "text": [
            "\n",
            "\n",
            "\n",
            " 15%|█▌        | 9/60 [03:12<18:08, 21.35s/it]\u001b[A\u001b[A\u001b[A"
          ],
          "name": "stderr"
        },
        {
          "output_type": "stream",
          "text": [
            "Train Epoch: 9 @ 08:54:42.295016 - Train Loss: 0.1025 - Valid Loss: 0.0852\n",
            "Validation loss decreased (0.085178 --> 0.083228).  Saving model ...\n"
          ],
          "name": "stdout"
        },
        {
          "output_type": "stream",
          "text": [
            "\n",
            "\n",
            "\n",
            " 17%|█▋        | 10/60 [03:32<17:40, 21.20s/it]\u001b[A\u001b[A\u001b[A"
          ],
          "name": "stderr"
        },
        {
          "output_type": "stream",
          "text": [
            "Train Epoch: 10 @ 08:55:03.154431 - Train Loss: 0.0987 - Valid Loss: 0.0832\n",
            "Validation loss decreased (0.083228 --> 0.082161).  Saving model ...\n"
          ],
          "name": "stdout"
        },
        {
          "output_type": "stream",
          "text": [
            "\n",
            "\n",
            "\n",
            " 18%|█▊        | 11/60 [03:53<17:17, 21.17s/it]\u001b[A\u001b[A\u001b[A"
          ],
          "name": "stderr"
        },
        {
          "output_type": "stream",
          "text": [
            "Train Epoch: 11 @ 08:55:24.242726 - Train Loss: 0.0906 - Valid Loss: 0.0822\n",
            "EarlyStopping counter: 1 out of 10\n"
          ],
          "name": "stdout"
        },
        {
          "output_type": "stream",
          "text": [
            "\n",
            "\n",
            "\n",
            " 20%|██        | 12/60 [04:14<16:47, 21.00s/it]\u001b[A\u001b[A\u001b[A"
          ],
          "name": "stderr"
        },
        {
          "output_type": "stream",
          "text": [
            "Train Epoch: 12 @ 08:55:44.845203 - Train Loss: 0.0882 - Valid Loss: 0.0840\n",
            "EarlyStopping counter: 2 out of 10\n"
          ],
          "name": "stdout"
        },
        {
          "output_type": "stream",
          "text": [
            "\n",
            "\n",
            "\n",
            " 22%|██▏       | 13/60 [04:34<16:17, 20.80s/it]\u001b[A\u001b[A\u001b[A"
          ],
          "name": "stderr"
        },
        {
          "output_type": "stream",
          "text": [
            "Train Epoch: 13 @ 08:56:05.188341 - Train Loss: 0.0889 - Valid Loss: 0.0862\n",
            "Validation loss decreased (0.082161 --> 0.080566).  Saving model ...\n"
          ],
          "name": "stdout"
        },
        {
          "output_type": "stream",
          "text": [
            "\n",
            "\n",
            "\n",
            " 23%|██▎       | 14/60 [04:55<15:53, 20.73s/it]\u001b[A\u001b[A\u001b[A"
          ],
          "name": "stderr"
        },
        {
          "output_type": "stream",
          "text": [
            "Train Epoch: 14 @ 08:56:25.755870 - Train Loss: 0.0858 - Valid Loss: 0.0806\n",
            "Validation loss decreased (0.080566 --> 0.080210).  Saving model ...\n"
          ],
          "name": "stdout"
        },
        {
          "output_type": "stream",
          "text": [
            "\n",
            "\n",
            "\n",
            " 25%|██▌       | 15/60 [05:16<15:35, 20.79s/it]\u001b[A\u001b[A\u001b[A"
          ],
          "name": "stderr"
        },
        {
          "output_type": "stream",
          "text": [
            "Train Epoch: 15 @ 08:56:46.686813 - Train Loss: 0.0815 - Valid Loss: 0.0802\n",
            "Validation loss decreased (0.080210 --> 0.080024).  Saving model ...\n"
          ],
          "name": "stdout"
        },
        {
          "output_type": "stream",
          "text": [
            "\n",
            "\n",
            "\n",
            " 27%|██▋       | 16/60 [05:37<15:16, 20.83s/it]\u001b[A\u001b[A\u001b[A"
          ],
          "name": "stderr"
        },
        {
          "output_type": "stream",
          "text": [
            "Train Epoch: 16 @ 08:57:07.623630 - Train Loss: 0.0763 - Valid Loss: 0.0800\n",
            "EarlyStopping counter: 1 out of 10\n"
          ],
          "name": "stdout"
        },
        {
          "output_type": "stream",
          "text": [
            "\n",
            "\n",
            "\n",
            " 28%|██▊       | 17/60 [05:57<14:48, 20.66s/it]\u001b[A\u001b[A\u001b[A"
          ],
          "name": "stderr"
        },
        {
          "output_type": "stream",
          "text": [
            "Train Epoch: 17 @ 08:57:27.881613 - Train Loss: 0.0737 - Valid Loss: 0.0856\n",
            "EarlyStopping counter: 2 out of 10\n"
          ],
          "name": "stdout"
        },
        {
          "output_type": "stream",
          "text": [
            "\n",
            "\n",
            "\n",
            " 30%|███       | 18/60 [06:17<14:21, 20.51s/it]\u001b[A\u001b[A\u001b[A"
          ],
          "name": "stderr"
        },
        {
          "output_type": "stream",
          "text": [
            "Train Epoch: 18 @ 08:57:48.025273 - Train Loss: 0.0750 - Valid Loss: 0.0856\n",
            "EarlyStopping counter: 3 out of 10\n"
          ],
          "name": "stdout"
        },
        {
          "output_type": "stream",
          "text": [
            "\n",
            "\n",
            "\n",
            " 32%|███▏      | 19/60 [06:38<13:59, 20.47s/it]\u001b[A\u001b[A\u001b[A"
          ],
          "name": "stderr"
        },
        {
          "output_type": "stream",
          "text": [
            "Train Epoch: 19 @ 08:58:08.416368 - Train Loss: 0.0875 - Valid Loss: 0.0807\n",
            "EarlyStopping counter: 4 out of 10\n"
          ],
          "name": "stdout"
        },
        {
          "output_type": "stream",
          "text": [
            "\n",
            "\n",
            "\n",
            " 33%|███▎      | 20/60 [06:58<13:33, 20.34s/it]\u001b[A\u001b[A\u001b[A"
          ],
          "name": "stderr"
        },
        {
          "output_type": "stream",
          "text": [
            "Train Epoch: 20 @ 08:58:28.441750 - Train Loss: 0.0795 - Valid Loss: 0.0801\n",
            "EarlyStopping counter: 5 out of 10\n"
          ],
          "name": "stdout"
        },
        {
          "output_type": "stream",
          "text": [
            "\n",
            "\n",
            "\n",
            " 35%|███▌      | 21/60 [07:18<13:09, 20.25s/it]\u001b[A\u001b[A\u001b[A"
          ],
          "name": "stderr"
        },
        {
          "output_type": "stream",
          "text": [
            "Train Epoch: 21 @ 08:58:48.477349 - Train Loss: 0.0723 - Valid Loss: 0.0820\n",
            "EarlyStopping counter: 6 out of 10\n"
          ],
          "name": "stdout"
        },
        {
          "output_type": "stream",
          "text": [
            "\n",
            "\n",
            "\n",
            " 37%|███▋      | 22/60 [07:38<12:50, 20.29s/it]\u001b[A\u001b[A\u001b[A"
          ],
          "name": "stderr"
        },
        {
          "output_type": "stream",
          "text": [
            "Train Epoch: 22 @ 08:59:08.858472 - Train Loss: 0.0663 - Valid Loss: 0.0801\n",
            "Validation loss decreased (0.080024 --> 0.079711).  Saving model ...\n"
          ],
          "name": "stdout"
        },
        {
          "output_type": "stream",
          "text": [
            "\n",
            "\n",
            "\n",
            " 38%|███▊      | 23/60 [07:59<12:34, 20.40s/it]\u001b[A\u001b[A\u001b[A"
          ],
          "name": "stderr"
        },
        {
          "output_type": "stream",
          "text": [
            "Train Epoch: 23 @ 08:59:29.527946 - Train Loss: 0.0644 - Valid Loss: 0.0797\n",
            "Validation loss decreased (0.079711 --> 0.078830).  Saving model ...\n"
          ],
          "name": "stdout"
        },
        {
          "output_type": "stream",
          "text": [
            "\n",
            "\n",
            "\n",
            " 40%|████      | 24/60 [08:19<12:17, 20.49s/it]\u001b[A\u001b[A\u001b[A"
          ],
          "name": "stderr"
        },
        {
          "output_type": "stream",
          "text": [
            "Train Epoch: 24 @ 08:59:50.235570 - Train Loss: 0.0623 - Valid Loss: 0.0788\n",
            "EarlyStopping counter: 1 out of 10\n"
          ],
          "name": "stdout"
        },
        {
          "output_type": "stream",
          "text": [
            "\n",
            "\n",
            "\n",
            " 42%|████▏     | 25/60 [08:40<11:57, 20.50s/it]\u001b[A\u001b[A\u001b[A"
          ],
          "name": "stderr"
        },
        {
          "output_type": "stream",
          "text": [
            "Train Epoch: 25 @ 09:00:10.760972 - Train Loss: 0.0601 - Valid Loss: 0.0817\n",
            "EarlyStopping counter: 2 out of 10\n"
          ],
          "name": "stdout"
        },
        {
          "output_type": "stream",
          "text": [
            "\n",
            "\n",
            "\n",
            " 43%|████▎     | 26/60 [09:00<11:33, 20.41s/it]\u001b[A\u001b[A\u001b[A"
          ],
          "name": "stderr"
        },
        {
          "output_type": "stream",
          "text": [
            "Train Epoch: 26 @ 09:00:30.951145 - Train Loss: 0.0589 - Valid Loss: 0.0804\n",
            "EarlyStopping counter: 3 out of 10\n"
          ],
          "name": "stdout"
        },
        {
          "output_type": "stream",
          "text": [
            "\n",
            "\n",
            "\n",
            " 45%|████▌     | 27/60 [09:20<11:08, 20.26s/it]\u001b[A\u001b[A\u001b[A"
          ],
          "name": "stderr"
        },
        {
          "output_type": "stream",
          "text": [
            "Train Epoch: 27 @ 09:00:50.873270 - Train Loss: 0.0565 - Valid Loss: 0.0799\n",
            "EarlyStopping counter: 4 out of 10\n"
          ],
          "name": "stdout"
        },
        {
          "output_type": "stream",
          "text": [
            "\n",
            "\n",
            "\n",
            " 47%|████▋     | 28/60 [09:40<10:49, 20.29s/it]\u001b[A\u001b[A\u001b[A"
          ],
          "name": "stderr"
        },
        {
          "output_type": "stream",
          "text": [
            "Train Epoch: 28 @ 09:01:11.222850 - Train Loss: 0.0551 - Valid Loss: 0.0809\n",
            "EarlyStopping counter: 5 out of 10\n"
          ],
          "name": "stdout"
        },
        {
          "output_type": "stream",
          "text": [
            "\n",
            "\n",
            "\n",
            " 48%|████▊     | 29/60 [10:01<10:29, 20.29s/it]\u001b[A\u001b[A\u001b[A"
          ],
          "name": "stderr"
        },
        {
          "output_type": "stream",
          "text": [
            "Train Epoch: 29 @ 09:01:31.522772 - Train Loss: 0.0539 - Valid Loss: 0.0815\n",
            "EarlyStopping counter: 6 out of 10\n"
          ],
          "name": "stdout"
        },
        {
          "output_type": "stream",
          "text": [
            "\n",
            "\n",
            "\n",
            " 50%|█████     | 30/60 [10:21<10:09, 20.31s/it]\u001b[A\u001b[A\u001b[A"
          ],
          "name": "stderr"
        },
        {
          "output_type": "stream",
          "text": [
            "Train Epoch: 30 @ 09:01:51.890003 - Train Loss: 0.0523 - Valid Loss: 0.0823\n",
            "EarlyStopping counter: 7 out of 10\n"
          ],
          "name": "stdout"
        },
        {
          "output_type": "stream",
          "text": [
            "\n",
            "\n",
            "\n",
            " 52%|█████▏    | 31/60 [10:41<09:48, 20.29s/it]\u001b[A\u001b[A\u001b[A"
          ],
          "name": "stderr"
        },
        {
          "output_type": "stream",
          "text": [
            "Train Epoch: 31 @ 09:02:12.132787 - Train Loss: 0.0514 - Valid Loss: 0.0811\n",
            "EarlyStopping counter: 8 out of 10\n"
          ],
          "name": "stdout"
        },
        {
          "output_type": "stream",
          "text": [
            "\n",
            "\n",
            "\n",
            " 53%|█████▎    | 32/60 [11:01<09:25, 20.20s/it]\u001b[A\u001b[A\u001b[A"
          ],
          "name": "stderr"
        },
        {
          "output_type": "stream",
          "text": [
            "Train Epoch: 32 @ 09:02:32.109698 - Train Loss: 0.0506 - Valid Loss: 0.0855\n",
            "EarlyStopping counter: 9 out of 10\n"
          ],
          "name": "stdout"
        },
        {
          "output_type": "stream",
          "text": [
            "\n",
            "\n",
            "\n",
            " 55%|█████▌    | 33/60 [11:22<09:05, 20.22s/it]\u001b[A\u001b[A\u001b[A"
          ],
          "name": "stderr"
        },
        {
          "output_type": "stream",
          "text": [
            "Train Epoch: 33 @ 09:02:52.364671 - Train Loss: 0.0559 - Valid Loss: 0.0859\n",
            "EarlyStopping counter: 10 out of 10\n",
            "Early stopping\n"
          ],
          "name": "stdout"
        },
        {
          "output_type": "display_data",
          "data": {
            "image/png": "[encoded data removed]",
            "text/plain": [
              "<Figure size 720x576 with 1 Axes>"
            ]
          },
          "metadata": {
            "tags": [],
            "needs_background": "light"
          }
        },
        {
          "output_type": "stream",
          "text": [
            "Dice2 score: 0.9549449573863636\n",
            "Batch size: 8, Learning rate: 1e-05 , Epochs: 60\n",
            "\n"
          ],
          "name": "stdout"
        },
        {
          "output_type": "stream",
          "text": [
            "\n",
            "\n",
            "\n",
            "\n",
            "  0%|          | 0/60 [00:00<?, ?it/s]\u001b[A\u001b[A\u001b[A\u001b[A"
          ],
          "name": "stderr"
        },
        {
          "output_type": "stream",
          "text": [
            "Validation loss decreased (inf --> 0.268325).  Saving model ...\n"
          ],
          "name": "stdout"
        },
        {
          "output_type": "stream",
          "text": [
            "\n",
            "\n",
            "\n",
            "\n",
            "  2%|▏         | 1/60 [00:20<20:03, 20.40s/it]\u001b[A\u001b[A\u001b[A\u001b[A"
          ],
          "name": "stderr"
        },
        {
          "output_type": "stream",
          "text": [
            "Train Epoch: 1 @ 09:03:33.945095 - Train Loss: 0.5764 - Valid Loss: 0.2683\n",
            "Validation loss decreased (0.268325 --> 0.216079).  Saving model ...\n"
          ],
          "name": "stdout"
        },
        {
          "output_type": "stream",
          "text": [
            "\n",
            "\n",
            "\n",
            "\n",
            "  3%|▎         | 2/60 [00:42<20:12, 20.91s/it]\u001b[A\u001b[A\u001b[A\u001b[A"
          ],
          "name": "stderr"
        },
        {
          "output_type": "stream",
          "text": [
            "Train Epoch: 2 @ 09:03:56.040577 - Train Loss: 0.2972 - Valid Loss: 0.2161\n",
            "Validation loss decreased (0.216079 --> 0.210416).  Saving model ...\n"
          ],
          "name": "stdout"
        },
        {
          "output_type": "stream",
          "text": [
            "\n",
            "\n",
            "\n",
            "\n",
            "  5%|▌         | 3/60 [01:03<19:51, 20.90s/it]\u001b[A\u001b[A\u001b[A\u001b[A"
          ],
          "name": "stderr"
        },
        {
          "output_type": "stream",
          "text": [
            "Train Epoch: 3 @ 09:04:16.908605 - Train Loss: 0.2628 - Valid Loss: 0.2104\n",
            "Validation loss decreased (0.210416 --> 0.203716).  Saving model ...\n"
          ],
          "name": "stdout"
        },
        {
          "output_type": "stream",
          "text": [
            "\n",
            "\n",
            "\n",
            "\n",
            "  7%|▋         | 4/60 [01:24<19:28, 20.87s/it]\u001b[A\u001b[A\u001b[A\u001b[A"
          ],
          "name": "stderr"
        },
        {
          "output_type": "stream",
          "text": [
            "Train Epoch: 4 @ 09:04:37.701484 - Train Loss: 0.2528 - Valid Loss: 0.2037\n",
            "EarlyStopping counter: 1 out of 10\n"
          ],
          "name": "stdout"
        },
        {
          "output_type": "stream",
          "text": [
            "\n",
            "\n",
            "\n",
            "\n",
            "  8%|▊         | 5/60 [01:44<19:01, 20.75s/it]\u001b[A\u001b[A\u001b[A\u001b[A"
          ],
          "name": "stderr"
        },
        {
          "output_type": "stream",
          "text": [
            "Train Epoch: 5 @ 09:04:58.176482 - Train Loss: 0.2414 - Valid Loss: 0.2042\n",
            "Validation loss decreased (0.203716 --> 0.196507).  Saving model ...\n"
          ],
          "name": "stdout"
        },
        {
          "output_type": "stream",
          "text": [
            "\n",
            "\n",
            "\n",
            "\n",
            " 10%|█         | 6/60 [02:05<18:46, 20.87s/it]\u001b[A\u001b[A\u001b[A\u001b[A"
          ],
          "name": "stderr"
        },
        {
          "output_type": "stream",
          "text": [
            "Train Epoch: 6 @ 09:05:19.326084 - Train Loss: 0.2302 - Valid Loss: 0.1965\n",
            "Validation loss decreased (0.196507 --> 0.192175).  Saving model ...\n"
          ],
          "name": "stdout"
        },
        {
          "output_type": "stream",
          "text": [
            "\n",
            "\n",
            "\n",
            "\n",
            " 12%|█▏        | 7/60 [02:26<18:22, 20.80s/it]\u001b[A\u001b[A\u001b[A\u001b[A"
          ],
          "name": "stderr"
        },
        {
          "output_type": "stream",
          "text": [
            "Train Epoch: 7 @ 09:05:39.965754 - Train Loss: 0.2221 - Valid Loss: 0.1922\n",
            "Validation loss decreased (0.192175 --> 0.179525).  Saving model ...\n"
          ],
          "name": "stdout"
        },
        {
          "output_type": "stream",
          "text": [
            "\n",
            "\n",
            "\n",
            "\n",
            " 13%|█▎        | 8/60 [02:46<17:57, 20.73s/it]\u001b[A\u001b[A\u001b[A\u001b[A"
          ],
          "name": "stderr"
        },
        {
          "output_type": "stream",
          "text": [
            "Train Epoch: 8 @ 09:06:00.527792 - Train Loss: 0.2090 - Valid Loss: 0.1795\n",
            "Validation loss decreased (0.179525 --> 0.172882).  Saving model ...\n"
          ],
          "name": "stdout"
        },
        {
          "output_type": "stream",
          "text": [
            "\n",
            "\n",
            "\n",
            "\n",
            " 15%|█▌        | 9/60 [03:07<17:41, 20.81s/it]\u001b[A\u001b[A\u001b[A\u001b[A"
          ],
          "name": "stderr"
        },
        {
          "output_type": "stream",
          "text": [
            "Train Epoch: 9 @ 09:06:21.521265 - Train Loss: 0.2024 - Valid Loss: 0.1729\n",
            "Validation loss decreased (0.172882 --> 0.159126).  Saving model ...\n"
          ],
          "name": "stdout"
        },
        {
          "output_type": "stream",
          "text": [
            "\n",
            "\n",
            "\n",
            "\n",
            " 17%|█▋        | 10/60 [03:28<17:21, 20.83s/it]\u001b[A\u001b[A\u001b[A\u001b[A"
          ],
          "name": "stderr"
        },
        {
          "output_type": "stream",
          "text": [
            "Train Epoch: 10 @ 09:06:42.418700 - Train Loss: 0.1897 - Valid Loss: 0.1591\n",
            "Validation loss decreased (0.159126 --> 0.149321).  Saving model ...\n"
          ],
          "name": "stdout"
        },
        {
          "output_type": "stream",
          "text": [
            "\n",
            "\n",
            "\n",
            "\n",
            " 18%|█▊        | 11/60 [03:49<16:59, 20.81s/it]\u001b[A\u001b[A\u001b[A\u001b[A"
          ],
          "name": "stderr"
        },
        {
          "output_type": "stream",
          "text": [
            "Train Epoch: 11 @ 09:07:03.177151 - Train Loss: 0.1745 - Valid Loss: 0.1493\n",
            "Validation loss decreased (0.149321 --> 0.144398).  Saving model ...\n"
          ],
          "name": "stdout"
        },
        {
          "output_type": "stream",
          "text": [
            "\n",
            "\n",
            "\n",
            "\n",
            " 20%|██        | 12/60 [04:10<16:33, 20.69s/it]\u001b[A\u001b[A\u001b[A\u001b[A"
          ],
          "name": "stderr"
        },
        {
          "output_type": "stream",
          "text": [
            "Train Epoch: 12 @ 09:07:23.584096 - Train Loss: 0.1691 - Valid Loss: 0.1444\n",
            "Validation loss decreased (0.144398 --> 0.140894).  Saving model ...\n"
          ],
          "name": "stdout"
        },
        {
          "output_type": "stream",
          "text": [
            "\n",
            "\n",
            "\n",
            "\n",
            " 22%|██▏       | 13/60 [04:30<16:11, 20.68s/it]\u001b[A\u001b[A\u001b[A\u001b[A"
          ],
          "name": "stderr"
        },
        {
          "output_type": "stream",
          "text": [
            "Train Epoch: 13 @ 09:07:44.224442 - Train Loss: 0.1626 - Valid Loss: 0.1409\n",
            "Validation loss decreased (0.140894 --> 0.135686).  Saving model ...\n"
          ],
          "name": "stdout"
        },
        {
          "output_type": "stream",
          "text": [
            "\n",
            "\n",
            "\n",
            "\n",
            " 23%|██▎       | 14/60 [04:51<15:54, 20.74s/it]\u001b[A\u001b[A\u001b[A\u001b[A"
          ],
          "name": "stderr"
        },
        {
          "output_type": "stream",
          "text": [
            "Train Epoch: 14 @ 09:08:05.112860 - Train Loss: 0.1602 - Valid Loss: 0.1357\n",
            "Validation loss decreased (0.135686 --> 0.130739).  Saving model ...\n"
          ],
          "name": "stdout"
        },
        {
          "output_type": "stream",
          "text": [
            "\n",
            "\n",
            "\n",
            "\n",
            " 25%|██▌       | 15/60 [05:12<15:29, 20.67s/it]\u001b[A\u001b[A\u001b[A\u001b[A"
          ],
          "name": "stderr"
        },
        {
          "output_type": "stream",
          "text": [
            "Train Epoch: 15 @ 09:08:25.606251 - Train Loss: 0.1522 - Valid Loss: 0.1307\n",
            "Validation loss decreased (0.130739 --> 0.127816).  Saving model ...\n"
          ],
          "name": "stdout"
        },
        {
          "output_type": "stream",
          "text": [
            "\n",
            "\n",
            "\n",
            "\n",
            " 27%|██▋       | 16/60 [05:33<15:21, 20.95s/it]\u001b[A\u001b[A\u001b[A\u001b[A"
          ],
          "name": "stderr"
        },
        {
          "output_type": "stream",
          "text": [
            "Train Epoch: 16 @ 09:08:47.210862 - Train Loss: 0.1471 - Valid Loss: 0.1278\n",
            "Validation loss decreased (0.127816 --> 0.126181).  Saving model ...\n"
          ],
          "name": "stdout"
        },
        {
          "output_type": "stream",
          "text": [
            "\n",
            "\n",
            "\n",
            "\n",
            " 28%|██▊       | 17/60 [05:54<15:01, 20.96s/it]\u001b[A\u001b[A\u001b[A\u001b[A"
          ],
          "name": "stderr"
        },
        {
          "output_type": "stream",
          "text": [
            "Train Epoch: 17 @ 09:09:08.214670 - Train Loss: 0.1438 - Valid Loss: 0.1262\n",
            "EarlyStopping counter: 1 out of 10\n"
          ],
          "name": "stdout"
        },
        {
          "output_type": "stream",
          "text": [
            "\n",
            "\n",
            "\n",
            "\n",
            " 30%|███       | 18/60 [06:14<14:29, 20.70s/it]\u001b[A\u001b[A\u001b[A\u001b[A"
          ],
          "name": "stderr"
        },
        {
          "output_type": "stream",
          "text": [
            "Train Epoch: 18 @ 09:09:28.290626 - Train Loss: 0.1410 - Valid Loss: 0.1264\n",
            "Validation loss decreased (0.126181 --> 0.123004).  Saving model ...\n"
          ],
          "name": "stdout"
        },
        {
          "output_type": "stream",
          "text": [
            "\n",
            "\n",
            "\n",
            "\n",
            " 32%|███▏      | 19/60 [06:35<14:06, 20.64s/it]\u001b[A\u001b[A\u001b[A\u001b[A"
          ],
          "name": "stderr"
        },
        {
          "output_type": "stream",
          "text": [
            "Train Epoch: 19 @ 09:09:48.784957 - Train Loss: 0.1342 - Valid Loss: 0.1230\n",
            "Validation loss decreased (0.123004 --> 0.120717).  Saving model ...\n"
          ],
          "name": "stdout"
        },
        {
          "output_type": "stream",
          "text": [
            "\n",
            "\n",
            "\n",
            "\n",
            " 33%|███▎      | 20/60 [06:56<13:50, 20.77s/it]\u001b[A\u001b[A\u001b[A\u001b[A"
          ],
          "name": "stderr"
        },
        {
          "output_type": "stream",
          "text": [
            "Train Epoch: 20 @ 09:10:09.861270 - Train Loss: 0.1347 - Valid Loss: 0.1207\n",
            "Validation loss decreased (0.120717 --> 0.119935).  Saving model ...\n"
          ],
          "name": "stdout"
        },
        {
          "output_type": "stream",
          "text": [
            "\n",
            "\n",
            "\n",
            "\n",
            " 35%|███▌      | 21/60 [07:17<13:29, 20.75s/it]\u001b[A\u001b[A\u001b[A\u001b[A"
          ],
          "name": "stderr"
        },
        {
          "output_type": "stream",
          "text": [
            "Train Epoch: 21 @ 09:10:30.563468 - Train Loss: 0.1316 - Valid Loss: 0.1199\n",
            "Validation loss decreased (0.119935 --> 0.117388).  Saving model ...\n"
          ],
          "name": "stdout"
        },
        {
          "output_type": "stream",
          "text": [
            "\n",
            "\n",
            "\n",
            "\n",
            " 37%|███▋      | 22/60 [07:37<13:05, 20.68s/it]\u001b[A\u001b[A\u001b[A\u001b[A"
          ],
          "name": "stderr"
        },
        {
          "output_type": "stream",
          "text": [
            "Train Epoch: 22 @ 09:10:51.080986 - Train Loss: 0.1279 - Valid Loss: 0.1174\n",
            "Validation loss decreased (0.117388 --> 0.114920).  Saving model ...\n"
          ],
          "name": "stdout"
        },
        {
          "output_type": "stream",
          "text": [
            "\n",
            "\n",
            "\n",
            "\n",
            " 38%|███▊      | 23/60 [07:58<12:48, 20.76s/it]\u001b[A\u001b[A\u001b[A\u001b[A"
          ],
          "name": "stderr"
        },
        {
          "output_type": "stream",
          "text": [
            "Train Epoch: 23 @ 09:11:12.022200 - Train Loss: 0.1271 - Valid Loss: 0.1149\n",
            "Validation loss decreased (0.114920 --> 0.112191).  Saving model ...\n"
          ],
          "name": "stdout"
        },
        {
          "output_type": "stream",
          "text": [
            "\n",
            "\n",
            "\n",
            "\n",
            " 40%|████      | 24/60 [08:20<12:40, 21.13s/it]\u001b[A\u001b[A\u001b[A\u001b[A"
          ],
          "name": "stderr"
        },
        {
          "output_type": "stream",
          "text": [
            "Train Epoch: 24 @ 09:11:34.008319 - Train Loss: 0.1296 - Valid Loss: 0.1122\n",
            "EarlyStopping counter: 1 out of 10\n"
          ],
          "name": "stdout"
        },
        {
          "output_type": "stream",
          "text": [
            "\n",
            "\n",
            "\n",
            "\n",
            " 42%|████▏     | 25/60 [08:40<12:08, 20.81s/it]\u001b[A\u001b[A\u001b[A\u001b[A"
          ],
          "name": "stderr"
        },
        {
          "output_type": "stream",
          "text": [
            "Train Epoch: 25 @ 09:11:54.080537 - Train Loss: 0.1228 - Valid Loss: 0.1123\n",
            "Validation loss decreased (0.112191 --> 0.111309).  Saving model ...\n"
          ],
          "name": "stdout"
        },
        {
          "output_type": "stream",
          "text": [
            "\n",
            "\n",
            "\n",
            "\n",
            " 43%|████▎     | 26/60 [09:01<11:46, 20.77s/it]\u001b[A\u001b[A\u001b[A\u001b[A"
          ],
          "name": "stderr"
        },
        {
          "output_type": "stream",
          "text": [
            "Train Epoch: 26 @ 09:12:14.750881 - Train Loss: 0.1195 - Valid Loss: 0.1113\n",
            "Validation loss decreased (0.111309 --> 0.109166).  Saving model ...\n"
          ],
          "name": "stdout"
        },
        {
          "output_type": "stream",
          "text": [
            "\n",
            "\n",
            "\n",
            "\n",
            " 45%|████▌     | 27/60 [09:22<11:25, 20.78s/it]\u001b[A\u001b[A\u001b[A\u001b[A"
          ],
          "name": "stderr"
        },
        {
          "output_type": "stream",
          "text": [
            "Train Epoch: 27 @ 09:12:35.562338 - Train Loss: 0.1161 - Valid Loss: 0.1092\n",
            "EarlyStopping counter: 1 out of 10\n"
          ],
          "name": "stdout"
        },
        {
          "output_type": "stream",
          "text": [
            "\n",
            "\n",
            "\n",
            "\n",
            " 47%|████▋     | 28/60 [09:42<11:01, 20.67s/it]\u001b[A\u001b[A\u001b[A\u001b[A"
          ],
          "name": "stderr"
        },
        {
          "output_type": "stream",
          "text": [
            "Train Epoch: 28 @ 09:12:55.965454 - Train Loss: 0.1182 - Valid Loss: 0.1094\n",
            "EarlyStopping counter: 2 out of 10\n"
          ],
          "name": "stdout"
        },
        {
          "output_type": "stream",
          "text": [
            "\n",
            "\n",
            "\n",
            "\n",
            " 48%|████▊     | 29/60 [10:02<10:34, 20.47s/it]\u001b[A\u001b[A\u001b[A\u001b[A"
          ],
          "name": "stderr"
        },
        {
          "output_type": "stream",
          "text": [
            "Train Epoch: 29 @ 09:13:15.956838 - Train Loss: 0.1138 - Valid Loss: 0.1092\n",
            "Validation loss decreased (0.109166 --> 0.108284).  Saving model ...\n"
          ],
          "name": "stdout"
        },
        {
          "output_type": "stream",
          "text": [
            "\n",
            "\n",
            "\n",
            "\n",
            " 50%|█████     | 30/60 [10:22<10:13, 20.46s/it]\u001b[A\u001b[A\u001b[A\u001b[A"
          ],
          "name": "stderr"
        },
        {
          "output_type": "stream",
          "text": [
            "Train Epoch: 30 @ 09:13:36.405761 - Train Loss: 0.1108 - Valid Loss: 0.1083\n",
            "Validation loss decreased (0.108284 --> 0.107368).  Saving model ...\n"
          ],
          "name": "stdout"
        },
        {
          "output_type": "stream",
          "text": [
            "\n",
            "\n",
            "\n",
            "\n",
            " 52%|█████▏    | 31/60 [10:43<09:56, 20.55s/it]\u001b[A\u001b[A\u001b[A\u001b[A"
          ],
          "name": "stderr"
        },
        {
          "output_type": "stream",
          "text": [
            "Train Epoch: 31 @ 09:13:57.177271 - Train Loss: 0.1092 - Valid Loss: 0.1074\n",
            "Validation loss decreased (0.107368 --> 0.106863).  Saving model ...\n"
          ],
          "name": "stdout"
        },
        {
          "output_type": "stream",
          "text": [
            "\n",
            "\n",
            "\n",
            "\n",
            " 53%|█████▎    | 32/60 [11:04<09:37, 20.61s/it]\u001b[A\u001b[A\u001b[A\u001b[A"
          ],
          "name": "stderr"
        },
        {
          "output_type": "stream",
          "text": [
            "Train Epoch: 32 @ 09:14:17.922252 - Train Loss: 0.1096 - Valid Loss: 0.1069\n",
            "Validation loss decreased (0.106863 --> 0.106073).  Saving model ...\n"
          ],
          "name": "stdout"
        },
        {
          "output_type": "stream",
          "text": [
            "\n",
            "\n",
            "\n",
            "\n",
            " 55%|█████▌    | 33/60 [11:25<09:23, 20.86s/it]\u001b[A\u001b[A\u001b[A\u001b[A"
          ],
          "name": "stderr"
        },
        {
          "output_type": "stream",
          "text": [
            "Train Epoch: 33 @ 09:14:39.351588 - Train Loss: 0.1063 - Valid Loss: 0.1061\n",
            "Validation loss decreased (0.106073 --> 0.105650).  Saving model ...\n"
          ],
          "name": "stdout"
        },
        {
          "output_type": "stream",
          "text": [
            "\n",
            "\n",
            "\n",
            "\n",
            " 57%|█████▋    | 34/60 [11:46<09:02, 20.87s/it]\u001b[A\u001b[A\u001b[A\u001b[A"
          ],
          "name": "stderr"
        },
        {
          "output_type": "stream",
          "text": [
            "Train Epoch: 34 @ 09:15:00.253126 - Train Loss: 0.1048 - Valid Loss: 0.1056\n",
            "Validation loss decreased (0.105650 --> 0.104319).  Saving model ...\n"
          ],
          "name": "stdout"
        },
        {
          "output_type": "stream",
          "text": [
            "\n",
            "\n",
            "\n",
            "\n",
            " 58%|█████▊    | 35/60 [12:07<08:41, 20.85s/it]\u001b[A\u001b[A\u001b[A\u001b[A"
          ],
          "name": "stderr"
        },
        {
          "output_type": "stream",
          "text": [
            "Train Epoch: 35 @ 09:15:21.041660 - Train Loss: 0.1053 - Valid Loss: 0.1043\n",
            "Validation loss decreased (0.104319 --> 0.102888).  Saving model ...\n"
          ],
          "name": "stdout"
        },
        {
          "output_type": "stream",
          "text": [
            "\n",
            "\n",
            "\n",
            "\n",
            " 60%|██████    | 36/60 [12:28<08:17, 20.75s/it]\u001b[A\u001b[A\u001b[A\u001b[A"
          ],
          "name": "stderr"
        },
        {
          "output_type": "stream",
          "text": [
            "Train Epoch: 36 @ 09:15:41.563013 - Train Loss: 0.1074 - Valid Loss: 0.1029\n",
            "EarlyStopping counter: 1 out of 10\n"
          ],
          "name": "stdout"
        },
        {
          "output_type": "stream",
          "text": [
            "\n",
            "\n",
            "\n",
            "\n",
            " 62%|██████▏   | 37/60 [12:48<07:52, 20.56s/it]\u001b[A\u001b[A\u001b[A\u001b[A"
          ],
          "name": "stderr"
        },
        {
          "output_type": "stream",
          "text": [
            "Train Epoch: 37 @ 09:16:01.697321 - Train Loss: 0.1033 - Valid Loss: 0.1033\n",
            "EarlyStopping counter: 2 out of 10\n"
          ],
          "name": "stdout"
        },
        {
          "output_type": "stream",
          "text": [
            "\n",
            "\n",
            "\n",
            "\n",
            " 63%|██████▎   | 38/60 [13:08<07:29, 20.44s/it]\u001b[A\u001b[A\u001b[A\u001b[A"
          ],
          "name": "stderr"
        },
        {
          "output_type": "stream",
          "text": [
            "Train Epoch: 38 @ 09:16:21.860420 - Train Loss: 0.0997 - Valid Loss: 0.1040\n",
            "Validation loss decreased (0.102888 --> 0.102780).  Saving model ...\n"
          ],
          "name": "stdout"
        },
        {
          "output_type": "stream",
          "text": [
            "\n",
            "\n",
            "\n",
            "\n",
            " 65%|██████▌   | 39/60 [13:28<07:09, 20.43s/it]\u001b[A\u001b[A\u001b[A\u001b[A"
          ],
          "name": "stderr"
        },
        {
          "output_type": "stream",
          "text": [
            "Train Epoch: 39 @ 09:16:42.254771 - Train Loss: 0.1004 - Valid Loss: 0.1028\n",
            "EarlyStopping counter: 1 out of 10\n"
          ],
          "name": "stdout"
        },
        {
          "output_type": "stream",
          "text": [
            "\n",
            "\n",
            "\n",
            "\n",
            " 67%|██████▋   | 40/60 [13:48<06:46, 20.32s/it]\u001b[A\u001b[A\u001b[A\u001b[A"
          ],
          "name": "stderr"
        },
        {
          "output_type": "stream",
          "text": [
            "Train Epoch: 40 @ 09:17:02.336712 - Train Loss: 0.1100 - Valid Loss: 0.1038\n",
            "EarlyStopping counter: 2 out of 10\n"
          ],
          "name": "stdout"
        },
        {
          "output_type": "stream",
          "text": [
            "\n",
            "\n",
            "\n",
            "\n",
            " 68%|██████▊   | 41/60 [14:09<06:29, 20.53s/it]\u001b[A\u001b[A\u001b[A\u001b[A"
          ],
          "name": "stderr"
        },
        {
          "output_type": "stream",
          "text": [
            "Train Epoch: 41 @ 09:17:23.329738 - Train Loss: 0.1012 - Valid Loss: 0.1031\n",
            "Validation loss decreased (0.102780 --> 0.101814).  Saving model ...\n"
          ],
          "name": "stdout"
        },
        {
          "output_type": "stream",
          "text": [
            "\n",
            "\n",
            "\n",
            "\n",
            " 70%|███████   | 42/60 [14:30<06:10, 20.60s/it]\u001b[A\u001b[A\u001b[A\u001b[A"
          ],
          "name": "stderr"
        },
        {
          "output_type": "stream",
          "text": [
            "Train Epoch: 42 @ 09:17:44.111083 - Train Loss: 0.0973 - Valid Loss: 0.1018\n",
            "Validation loss decreased (0.101814 --> 0.100706).  Saving model ...\n"
          ],
          "name": "stdout"
        },
        {
          "output_type": "stream",
          "text": [
            "\n",
            "\n",
            "\n",
            "\n",
            " 72%|███████▏  | 43/60 [14:51<05:52, 20.73s/it]\u001b[A\u001b[A\u001b[A\u001b[A"
          ],
          "name": "stderr"
        },
        {
          "output_type": "stream",
          "text": [
            "Train Epoch: 43 @ 09:18:05.128287 - Train Loss: 0.0955 - Valid Loss: 0.1007\n",
            "EarlyStopping counter: 1 out of 10\n"
          ],
          "name": "stdout"
        },
        {
          "output_type": "stream",
          "text": [
            "\n",
            "\n",
            "\n",
            "\n",
            " 73%|███████▎  | 44/60 [15:11<05:28, 20.53s/it]\u001b[A\u001b[A\u001b[A\u001b[A"
          ],
          "name": "stderr"
        },
        {
          "output_type": "stream",
          "text": [
            "Train Epoch: 44 @ 09:18:25.196551 - Train Loss: 0.0935 - Valid Loss: 0.1010\n",
            "Validation loss decreased (0.100706 --> 0.100513).  Saving model ...\n"
          ],
          "name": "stdout"
        },
        {
          "output_type": "stream",
          "text": [
            "\n",
            "\n",
            "\n",
            "\n",
            " 75%|███████▌  | 45/60 [15:32<05:08, 20.55s/it]\u001b[A\u001b[A\u001b[A\u001b[A"
          ],
          "name": "stderr"
        },
        {
          "output_type": "stream",
          "text": [
            "Train Epoch: 45 @ 09:18:45.805677 - Train Loss: 0.0920 - Valid Loss: 0.1005\n",
            "EarlyStopping counter: 1 out of 10\n"
          ],
          "name": "stdout"
        },
        {
          "output_type": "stream",
          "text": [
            "\n",
            "\n",
            "\n",
            "\n",
            " 77%|███████▋  | 46/60 [15:52<04:46, 20.48s/it]\u001b[A\u001b[A\u001b[A\u001b[A"
          ],
          "name": "stderr"
        },
        {
          "output_type": "stream",
          "text": [
            "Train Epoch: 46 @ 09:19:06.101044 - Train Loss: 0.0933 - Valid Loss: 0.1021\n",
            "EarlyStopping counter: 2 out of 10\n"
          ],
          "name": "stdout"
        },
        {
          "output_type": "stream",
          "text": [
            "\n",
            "\n",
            "\n",
            "\n",
            " 78%|███████▊  | 47/60 [16:12<04:24, 20.32s/it]\u001b[A\u001b[A\u001b[A\u001b[A"
          ],
          "name": "stderr"
        },
        {
          "output_type": "stream",
          "text": [
            "Train Epoch: 47 @ 09:19:26.065195 - Train Loss: 0.1017 - Valid Loss: 0.1020\n",
            "Validation loss decreased (0.100513 --> 0.099000).  Saving model ...\n"
          ],
          "name": "stdout"
        },
        {
          "output_type": "stream",
          "text": [
            "\n",
            "\n",
            "\n",
            "\n",
            " 80%|████████  | 48/60 [16:33<04:04, 20.40s/it]\u001b[A\u001b[A\u001b[A\u001b[A"
          ],
          "name": "stderr"
        },
        {
          "output_type": "stream",
          "text": [
            "Train Epoch: 48 @ 09:19:46.656382 - Train Loss: 0.0941 - Valid Loss: 0.0990\n",
            "EarlyStopping counter: 1 out of 10\n"
          ],
          "name": "stdout"
        },
        {
          "output_type": "stream",
          "text": [
            "\n",
            "\n",
            "\n",
            "\n",
            " 82%|████████▏ | 49/60 [16:53<03:45, 20.47s/it]\u001b[A\u001b[A\u001b[A\u001b[A"
          ],
          "name": "stderr"
        },
        {
          "output_type": "stream",
          "text": [
            "Train Epoch: 49 @ 09:20:07.285080 - Train Loss: 0.0894 - Valid Loss: 0.1013\n",
            "EarlyStopping counter: 2 out of 10\n"
          ],
          "name": "stdout"
        },
        {
          "output_type": "stream",
          "text": [
            "\n",
            "\n",
            "\n",
            "\n",
            " 83%|████████▎ | 50/60 [17:13<03:24, 20.40s/it]\u001b[A\u001b[A\u001b[A\u001b[A"
          ],
          "name": "stderr"
        },
        {
          "output_type": "stream",
          "text": [
            "Train Epoch: 50 @ 09:20:27.527089 - Train Loss: 0.0891 - Valid Loss: 0.1002\n",
            "EarlyStopping counter: 3 out of 10\n"
          ],
          "name": "stdout"
        },
        {
          "output_type": "stream",
          "text": [
            "\n",
            "\n",
            "\n",
            "\n",
            " 85%|████████▌ | 51/60 [17:33<03:02, 20.25s/it]\u001b[A\u001b[A\u001b[A\u001b[A"
          ],
          "name": "stderr"
        },
        {
          "output_type": "stream",
          "text": [
            "Train Epoch: 51 @ 09:20:47.417003 - Train Loss: 0.0902 - Valid Loss: 0.1010\n",
            "EarlyStopping counter: 4 out of 10\n"
          ],
          "name": "stdout"
        },
        {
          "output_type": "stream",
          "text": [
            "\n",
            "\n",
            "\n",
            "\n",
            " 87%|████████▋ | 52/60 [17:54<02:41, 20.24s/it]\u001b[A\u001b[A\u001b[A\u001b[A"
          ],
          "name": "stderr"
        },
        {
          "output_type": "stream",
          "text": [
            "Train Epoch: 52 @ 09:21:07.644650 - Train Loss: 0.0880 - Valid Loss: 0.1006\n",
            "EarlyStopping counter: 5 out of 10\n"
          ],
          "name": "stdout"
        },
        {
          "output_type": "stream",
          "text": [
            "\n",
            "\n",
            "\n",
            "\n",
            " 88%|████████▊ | 53/60 [18:14<02:21, 20.19s/it]\u001b[A\u001b[A\u001b[A\u001b[A"
          ],
          "name": "stderr"
        },
        {
          "output_type": "stream",
          "text": [
            "Train Epoch: 53 @ 09:21:27.718656 - Train Loss: 0.0877 - Valid Loss: 0.0997\n",
            "EarlyStopping counter: 6 out of 10\n"
          ],
          "name": "stdout"
        },
        {
          "output_type": "stream",
          "text": [
            "\n",
            "\n",
            "\n",
            "\n",
            " 90%|█████████ | 54/60 [18:34<02:00, 20.13s/it]\u001b[A\u001b[A\u001b[A\u001b[A"
          ],
          "name": "stderr"
        },
        {
          "output_type": "stream",
          "text": [
            "Train Epoch: 54 @ 09:21:47.689138 - Train Loss: 0.0875 - Valid Loss: 0.1003\n",
            "Validation loss decreased (0.099000 --> 0.098364).  Saving model ...\n"
          ],
          "name": "stdout"
        },
        {
          "output_type": "stream",
          "text": [
            "\n",
            "\n",
            "\n",
            "\n",
            " 92%|█████████▏| 55/60 [18:54<01:41, 20.30s/it]\u001b[A\u001b[A\u001b[A\u001b[A"
          ],
          "name": "stderr"
        },
        {
          "output_type": "stream",
          "text": [
            "Train Epoch: 55 @ 09:22:08.409999 - Train Loss: 0.0868 - Valid Loss: 0.0984\n",
            "EarlyStopping counter: 1 out of 10\n"
          ],
          "name": "stdout"
        },
        {
          "output_type": "stream",
          "text": [
            "\n",
            "\n",
            "\n",
            "\n",
            " 93%|█████████▎| 56/60 [19:15<01:21, 20.33s/it]\u001b[A\u001b[A\u001b[A\u001b[A"
          ],
          "name": "stderr"
        },
        {
          "output_type": "stream",
          "text": [
            "Train Epoch: 56 @ 09:22:28.804005 - Train Loss: 0.0878 - Valid Loss: 0.1006\n",
            "Validation loss decreased (0.098364 --> 0.098159).  Saving model ...\n"
          ],
          "name": "stdout"
        },
        {
          "output_type": "stream",
          "text": [
            "\n",
            "\n",
            "\n",
            "\n",
            " 95%|█████████▌| 57/60 [19:35<01:01, 20.35s/it]\u001b[A\u001b[A\u001b[A\u001b[A"
          ],
          "name": "stderr"
        },
        {
          "output_type": "stream",
          "text": [
            "Train Epoch: 57 @ 09:22:49.210151 - Train Loss: 0.0846 - Valid Loss: 0.0982\n",
            "EarlyStopping counter: 1 out of 10\n"
          ],
          "name": "stdout"
        },
        {
          "output_type": "stream",
          "text": [
            "\n",
            "\n",
            "\n",
            "\n",
            " 97%|█████████▋| 58/60 [19:55<00:40, 20.32s/it]\u001b[A\u001b[A\u001b[A\u001b[A"
          ],
          "name": "stderr"
        },
        {
          "output_type": "stream",
          "text": [
            "Train Epoch: 58 @ 09:23:09.444795 - Train Loss: 0.0827 - Valid Loss: 0.0994\n",
            "EarlyStopping counter: 2 out of 10\n"
          ],
          "name": "stdout"
        },
        {
          "output_type": "stream",
          "text": [
            "\n",
            "\n",
            "\n",
            "\n",
            " 98%|█████████▊| 59/60 [20:16<00:20, 20.28s/it]\u001b[A\u001b[A\u001b[A\u001b[A"
          ],
          "name": "stderr"
        },
        {
          "output_type": "stream",
          "text": [
            "Train Epoch: 59 @ 09:23:29.622807 - Train Loss: 0.0836 - Valid Loss: 0.0997\n",
            "EarlyStopping counter: 3 out of 10\n"
          ],
          "name": "stdout"
        },
        {
          "output_type": "stream",
          "text": [
            "\n",
            "\n",
            "\n",
            "\n",
            "100%|██████████| 60/60 [20:36<00:00, 20.60s/it]"
          ],
          "name": "stderr"
        },
        {
          "output_type": "stream",
          "text": [
            "Train Epoch: 60 @ 09:23:49.728069 - Train Loss: 0.0845 - Valid Loss: 0.0989\n"
          ],
          "name": "stdout"
        },
        {
          "output_type": "stream",
          "text": [
            "\n"
          ],
          "name": "stderr"
        },
        {
          "output_type": "display_data",
          "data": {
            "image/png": "[encoded data removed]",
            "text/plain": [
              "<Figure size 720x576 with 1 Axes>"
            ]
          },
          "metadata": {
            "tags": [],
            "needs_background": "light"
          }
        },
        {
          "output_type": "stream",
          "text": [
            "Dice2 score: 0.9548991810191761\n"
          ],
          "name": "stdout"
        }
      ]
    },
    {
      "cell_type": "code",
      "metadata": {
        "id": "vverJay4zwvE",
        "colab": {
          "base_uri": "https://localhost:8080/",
          "height": 1000
        },
        "outputId": "4d983636-0ef3-4798-bb6e-cef38a6b943e"
      },
      "source": [
        "n_bs = [16]\n",
        "n_lr = [0.001, 0.0001, 0.00001]\n",
        "epochs = 60\n",
        "patience = 10\n",
        "\n",
        "train_dir = \"./Train/train_250\"\n",
        "model_chkpt_name = \"ResNet-250x250_4layer\"\n",
        "\n",
        "for bs in n_bs:\n",
        "    for lr in n_lr:\n",
        "        hyperparam_tuning(train_dir, bs, lr, epochs, patience, model_chkpt_name)"
      ],
      "execution_count": null,
      "outputs": [
        {
          "output_type": "stream",
          "text": [
            "Batch size: 16, Learning rate: 0.001 , Epochs: 60\n",
            "\n"
          ],
          "name": "stdout"
        },
        {
          "output_type": "stream",
          "text": [
            "\n",
            "\n",
            "\n",
            "\n",
            "  0%|          | 0/60 [00:00<?, ?it/s]\u001b[A\u001b[A\u001b[A\u001b[A"
          ],
          "name": "stderr"
        },
        {
          "output_type": "stream",
          "text": [
            "Validation loss decreased (inf --> 0.162941).  Saving model ...\n"
          ],
          "name": "stdout"
        },
        {
          "output_type": "stream",
          "text": [
            "\n",
            "\n",
            "\n",
            "\n",
            "  2%|▏         | 1/60 [00:17<17:08, 17.43s/it]\u001b[A\u001b[A\u001b[A\u001b[A"
          ],
          "name": "stderr"
        },
        {
          "output_type": "stream",
          "text": [
            "Train Epoch: 1 @ 09:26:40.948224 - Train Loss: 0.3623 - Valid Loss: 0.1629\n",
            "Validation loss decreased (0.162941 --> 0.147980).  Saving model ...\n"
          ],
          "name": "stdout"
        },
        {
          "output_type": "stream",
          "text": [
            "\n",
            "\n",
            "\n",
            "\n",
            "  3%|▎         | 2/60 [00:35<16:58, 17.55s/it]\u001b[A\u001b[A\u001b[A\u001b[A"
          ],
          "name": "stderr"
        },
        {
          "output_type": "stream",
          "text": [
            "Train Epoch: 2 @ 09:26:58.795513 - Train Loss: 0.1949 - Valid Loss: 0.1480\n",
            "Validation loss decreased (0.147980 --> 0.130188).  Saving model ...\n"
          ],
          "name": "stdout"
        },
        {
          "output_type": "stream",
          "text": [
            "\n",
            "\n",
            "\n",
            "\n",
            "  5%|▌         | 3/60 [00:53<16:50, 17.72s/it]\u001b[A\u001b[A\u001b[A\u001b[A"
          ],
          "name": "stderr"
        },
        {
          "output_type": "stream",
          "text": [
            "Train Epoch: 3 @ 09:27:16.916565 - Train Loss: 0.1764 - Valid Loss: 0.1302\n",
            "Validation loss decreased (0.130188 --> 0.117371).  Saving model ...\n"
          ],
          "name": "stdout"
        },
        {
          "output_type": "stream",
          "text": [
            "\n",
            "\n",
            "\n",
            "\n",
            "  7%|▋         | 4/60 [01:11<16:38, 17.83s/it]\u001b[A\u001b[A\u001b[A\u001b[A"
          ],
          "name": "stderr"
        },
        {
          "output_type": "stream",
          "text": [
            "Train Epoch: 4 @ 09:27:34.984823 - Train Loss: 0.1651 - Valid Loss: 0.1174\n",
            "EarlyStopping counter: 1 out of 10\n"
          ],
          "name": "stdout"
        },
        {
          "output_type": "stream",
          "text": [
            "\n",
            "\n",
            "\n",
            "\n",
            "  8%|▊         | 5/60 [01:29<16:16, 17.76s/it]\u001b[A\u001b[A\u001b[A\u001b[A"
          ],
          "name": "stderr"
        },
        {
          "output_type": "stream",
          "text": [
            "Train Epoch: 5 @ 09:27:52.588729 - Train Loss: 0.1596 - Valid Loss: 0.1239\n",
            "Validation loss decreased (0.117371 --> 0.100924).  Saving model ...\n"
          ],
          "name": "stdout"
        },
        {
          "output_type": "stream",
          "text": [
            "\n",
            "\n",
            "\n",
            "\n",
            " 10%|█         | 6/60 [01:47<16:06, 17.90s/it]\u001b[A\u001b[A\u001b[A\u001b[A"
          ],
          "name": "stderr"
        },
        {
          "output_type": "stream",
          "text": [
            "Train Epoch: 6 @ 09:28:10.816895 - Train Loss: 0.1503 - Valid Loss: 0.1009\n",
            "Validation loss decreased (0.100924 --> 0.094717).  Saving model ...\n"
          ],
          "name": "stdout"
        },
        {
          "output_type": "stream",
          "text": [
            "\n",
            "\n",
            "\n",
            "\n",
            " 12%|█▏        | 7/60 [02:05<15:54, 18.00s/it]\u001b[A\u001b[A\u001b[A\u001b[A"
          ],
          "name": "stderr"
        },
        {
          "output_type": "stream",
          "text": [
            "Train Epoch: 7 @ 09:28:29.061156 - Train Loss: 0.1376 - Valid Loss: 0.0947\n",
            "Validation loss decreased (0.094717 --> 0.092841).  Saving model ...\n"
          ],
          "name": "stdout"
        },
        {
          "output_type": "stream",
          "text": [
            "\n",
            "\n",
            "\n",
            "\n",
            " 13%|█▎        | 8/60 [02:24<15:52, 18.31s/it]\u001b[A\u001b[A\u001b[A\u001b[A"
          ],
          "name": "stderr"
        },
        {
          "output_type": "stream",
          "text": [
            "Train Epoch: 8 @ 09:28:48.085951 - Train Loss: 0.1283 - Valid Loss: 0.0928\n",
            "EarlyStopping counter: 1 out of 10\n"
          ],
          "name": "stdout"
        },
        {
          "output_type": "stream",
          "text": [
            "\n",
            "\n",
            "\n",
            "\n",
            " 15%|█▌        | 9/60 [02:42<15:24, 18.13s/it]\u001b[A\u001b[A\u001b[A\u001b[A"
          ],
          "name": "stderr"
        },
        {
          "output_type": "stream",
          "text": [
            "Train Epoch: 9 @ 09:29:05.803831 - Train Loss: 0.1194 - Valid Loss: 0.1053\n",
            "Validation loss decreased (0.092841 --> 0.089274).  Saving model ...\n"
          ],
          "name": "stdout"
        },
        {
          "output_type": "stream",
          "text": [
            "\n",
            "\n",
            "\n",
            "\n",
            " 17%|█▋        | 10/60 [03:00<15:03, 18.08s/it]\u001b[A\u001b[A\u001b[A\u001b[A"
          ],
          "name": "stderr"
        },
        {
          "output_type": "stream",
          "text": [
            "Train Epoch: 10 @ 09:29:23.749163 - Train Loss: 0.1154 - Valid Loss: 0.0893\n",
            "Validation loss decreased (0.089274 --> 0.088455).  Saving model ...\n"
          ],
          "name": "stdout"
        },
        {
          "output_type": "stream",
          "text": [
            "\n",
            "\n",
            "\n",
            "\n",
            " 18%|█▊        | 11/60 [03:18<14:47, 18.12s/it]\u001b[A\u001b[A\u001b[A\u001b[A"
          ],
          "name": "stderr"
        },
        {
          "output_type": "stream",
          "text": [
            "Train Epoch: 11 @ 09:29:41.975427 - Train Loss: 0.1148 - Valid Loss: 0.0885\n",
            "EarlyStopping counter: 1 out of 10\n"
          ],
          "name": "stdout"
        },
        {
          "output_type": "stream",
          "text": [
            "\n",
            "\n",
            "\n",
            "\n",
            " 20%|██        | 12/60 [03:36<14:27, 18.07s/it]\u001b[A\u001b[A\u001b[A\u001b[A"
          ],
          "name": "stderr"
        },
        {
          "output_type": "stream",
          "text": [
            "Train Epoch: 12 @ 09:29:59.930882 - Train Loss: 0.1083 - Valid Loss: 0.0955\n",
            "Validation loss decreased (0.088455 --> 0.073314).  Saving model ...\n"
          ],
          "name": "stdout"
        },
        {
          "output_type": "stream",
          "text": [
            "\n",
            "\n",
            "\n",
            "\n",
            " 22%|██▏       | 13/60 [03:54<14:09, 18.08s/it]\u001b[A\u001b[A\u001b[A\u001b[A"
          ],
          "name": "stderr"
        },
        {
          "output_type": "stream",
          "text": [
            "Train Epoch: 13 @ 09:30:18.019381 - Train Loss: 0.1042 - Valid Loss: 0.0733\n",
            "EarlyStopping counter: 1 out of 10\n"
          ],
          "name": "stdout"
        },
        {
          "output_type": "stream",
          "text": [
            "\n",
            "\n",
            "\n",
            "\n",
            " 23%|██▎       | 14/60 [04:12<13:44, 17.93s/it]\u001b[A\u001b[A\u001b[A\u001b[A"
          ],
          "name": "stderr"
        },
        {
          "output_type": "stream",
          "text": [
            "Train Epoch: 14 @ 09:30:35.601582 - Train Loss: 0.1000 - Valid Loss: 0.0853\n",
            "EarlyStopping counter: 2 out of 10\n"
          ],
          "name": "stdout"
        },
        {
          "output_type": "stream",
          "text": [
            "\n",
            "\n",
            "\n",
            "\n",
            " 25%|██▌       | 15/60 [04:29<13:24, 17.87s/it]\u001b[A\u001b[A\u001b[A\u001b[A"
          ],
          "name": "stderr"
        },
        {
          "output_type": "stream",
          "text": [
            "Train Epoch: 15 @ 09:30:53.337224 - Train Loss: 0.1007 - Valid Loss: 0.0738\n",
            "Validation loss decreased (0.073314 --> 0.068664).  Saving model ...\n"
          ],
          "name": "stdout"
        },
        {
          "output_type": "stream",
          "text": [
            "\n",
            "\n",
            "\n",
            "\n",
            " 27%|██▋       | 16/60 [04:48<13:11, 17.99s/it]\u001b[A\u001b[A\u001b[A\u001b[A"
          ],
          "name": "stderr"
        },
        {
          "output_type": "stream",
          "text": [
            "Train Epoch: 16 @ 09:31:11.624103 - Train Loss: 0.0978 - Valid Loss: 0.0687\n",
            "EarlyStopping counter: 1 out of 10\n"
          ],
          "name": "stdout"
        },
        {
          "output_type": "stream",
          "text": [
            "\n",
            "\n",
            "\n",
            "\n",
            " 28%|██▊       | 17/60 [05:05<12:49, 17.89s/it]\u001b[A\u001b[A\u001b[A\u001b[A"
          ],
          "name": "stderr"
        },
        {
          "output_type": "stream",
          "text": [
            "Train Epoch: 17 @ 09:31:29.282004 - Train Loss: 0.0902 - Valid Loss: 0.0741\n",
            "EarlyStopping counter: 2 out of 10\n"
          ],
          "name": "stdout"
        },
        {
          "output_type": "stream",
          "text": [
            "\n",
            "\n",
            "\n",
            "\n",
            " 30%|███       | 18/60 [05:23<12:27, 17.80s/it]\u001b[A\u001b[A\u001b[A\u001b[A"
          ],
          "name": "stderr"
        },
        {
          "output_type": "stream",
          "text": [
            "Train Epoch: 18 @ 09:31:46.856757 - Train Loss: 0.0934 - Valid Loss: 0.0772\n",
            "EarlyStopping counter: 3 out of 10\n"
          ],
          "name": "stdout"
        },
        {
          "output_type": "stream",
          "text": [
            "\n",
            "\n",
            "\n",
            "\n",
            " 32%|███▏      | 19/60 [05:41<12:09, 17.80s/it]\u001b[A\u001b[A\u001b[A\u001b[A"
          ],
          "name": "stderr"
        },
        {
          "output_type": "stream",
          "text": [
            "Train Epoch: 19 @ 09:32:04.673883 - Train Loss: 0.0904 - Valid Loss: 0.0695\n",
            "EarlyStopping counter: 4 out of 10\n"
          ],
          "name": "stdout"
        },
        {
          "output_type": "stream",
          "text": [
            "\n",
            "\n",
            "\n",
            "\n",
            " 33%|███▎      | 20/60 [05:58<11:50, 17.77s/it]\u001b[A\u001b[A\u001b[A\u001b[A"
          ],
          "name": "stderr"
        },
        {
          "output_type": "stream",
          "text": [
            "Train Epoch: 20 @ 09:32:22.348798 - Train Loss: 0.0930 - Valid Loss: 0.0779\n",
            "EarlyStopping counter: 5 out of 10\n"
          ],
          "name": "stdout"
        },
        {
          "output_type": "stream",
          "text": [
            "\n",
            "\n",
            "\n",
            "\n",
            " 35%|███▌      | 21/60 [06:16<11:30, 17.71s/it]\u001b[A\u001b[A\u001b[A\u001b[A"
          ],
          "name": "stderr"
        },
        {
          "output_type": "stream",
          "text": [
            "Train Epoch: 21 @ 09:32:39.938216 - Train Loss: 0.0963 - Valid Loss: 0.0805\n",
            "EarlyStopping counter: 6 out of 10\n"
          ],
          "name": "stdout"
        },
        {
          "output_type": "stream",
          "text": [
            "\n",
            "\n",
            "\n",
            "\n",
            " 37%|███▋      | 22/60 [06:33<11:11, 17.66s/it]\u001b[A\u001b[A\u001b[A\u001b[A"
          ],
          "name": "stderr"
        },
        {
          "output_type": "stream",
          "text": [
            "Train Epoch: 22 @ 09:32:57.492615 - Train Loss: 0.0886 - Valid Loss: 0.0690\n",
            "EarlyStopping counter: 7 out of 10\n"
          ],
          "name": "stdout"
        },
        {
          "output_type": "stream",
          "text": [
            "\n",
            "\n",
            "\n",
            "\n",
            " 38%|███▊      | 23/60 [06:51<10:55, 17.71s/it]\u001b[A\u001b[A\u001b[A\u001b[A"
          ],
          "name": "stderr"
        },
        {
          "output_type": "stream",
          "text": [
            "Train Epoch: 23 @ 09:33:15.310112 - Train Loss: 0.0857 - Valid Loss: 0.0688\n",
            "EarlyStopping counter: 8 out of 10\n"
          ],
          "name": "stdout"
        },
        {
          "output_type": "stream",
          "text": [
            "\n",
            "\n",
            "\n",
            "\n",
            " 40%|████      | 24/60 [07:09<10:36, 17.69s/it]\u001b[A\u001b[A\u001b[A\u001b[A"
          ],
          "name": "stderr"
        },
        {
          "output_type": "stream",
          "text": [
            "Train Epoch: 24 @ 09:33:32.956851 - Train Loss: 0.0864 - Valid Loss: 0.0763\n",
            "EarlyStopping counter: 9 out of 10\n"
          ],
          "name": "stdout"
        },
        {
          "output_type": "stream",
          "text": [
            "\n",
            "\n",
            "\n",
            "\n",
            " 42%|████▏     | 25/60 [07:27<10:18, 17.68s/it]\u001b[A\u001b[A\u001b[A\u001b[A"
          ],
          "name": "stderr"
        },
        {
          "output_type": "stream",
          "text": [
            "Train Epoch: 25 @ 09:33:50.608210 - Train Loss: 0.0841 - Valid Loss: 0.0760\n",
            "EarlyStopping counter: 10 out of 10\n",
            "Early stopping\n"
          ],
          "name": "stdout"
        },
        {
          "output_type": "display_data",
          "data": {
            "image/png": "[encoded data removed]",
            "text/plain": [
              "<Figure size 720x576 with 1 Axes>"
            ]
          },
          "metadata": {
            "tags": [],
            "needs_background": "light"
          }
        },
        {
          "output_type": "stream",
          "text": [
            "Dice2 score: 0.9646402994791666\n",
            "Batch size: 16, Learning rate: 0.0001 , Epochs: 60\n",
            "\n"
          ],
          "name": "stdout"
        },
        {
          "output_type": "stream",
          "text": [
            "\n",
            "\n",
            "\n",
            "\n",
            "\n",
            "  0%|          | 0/60 [00:00<?, ?it/s]\u001b[A\u001b[A\u001b[A\u001b[A\u001b[A"
          ],
          "name": "stderr"
        },
        {
          "output_type": "stream",
          "text": [
            "Validation loss decreased (inf --> 0.208653).  Saving model ...\n"
          ],
          "name": "stdout"
        },
        {
          "output_type": "stream",
          "text": [
            "\n",
            "\n",
            "\n",
            "\n",
            "\n",
            "  2%|▏         | 1/60 [00:18<18:10, 18.48s/it]\u001b[A\u001b[A\u001b[A\u001b[A\u001b[A"
          ],
          "name": "stderr"
        },
        {
          "output_type": "stream",
          "text": [
            "Train Epoch: 1 @ 09:34:27.817795 - Train Loss: 0.4220 - Valid Loss: 0.2087\n",
            "Validation loss decreased (0.208653 --> 0.186110).  Saving model ...\n"
          ],
          "name": "stdout"
        },
        {
          "output_type": "stream",
          "text": [
            "\n",
            "\n",
            "\n",
            "\n",
            "\n",
            "  3%|▎         | 2/60 [00:36<17:51, 18.48s/it]\u001b[A\u001b[A\u001b[A\u001b[A\u001b[A"
          ],
          "name": "stderr"
        },
        {
          "output_type": "stream",
          "text": [
            "Train Epoch: 2 @ 09:34:46.296991 - Train Loss: 0.2839 - Valid Loss: 0.1861\n",
            "Validation loss decreased (0.186110 --> 0.158393).  Saving model ...\n"
          ],
          "name": "stdout"
        },
        {
          "output_type": "stream",
          "text": [
            "\n",
            "\n",
            "\n",
            "\n",
            "\n",
            "  5%|▌         | 3/60 [00:55<17:34, 18.50s/it]\u001b[A\u001b[A\u001b[A\u001b[A\u001b[A"
          ],
          "name": "stderr"
        },
        {
          "output_type": "stream",
          "text": [
            "Train Epoch: 3 @ 09:35:04.853976 - Train Loss: 0.2378 - Valid Loss: 0.1584\n",
            "Validation loss decreased (0.158393 --> 0.138719).  Saving model ...\n"
          ],
          "name": "stdout"
        },
        {
          "output_type": "stream",
          "text": [
            "\n",
            "\n",
            "\n",
            "\n",
            "\n",
            "  7%|▋         | 4/60 [01:13<17:14, 18.47s/it]\u001b[A\u001b[A\u001b[A\u001b[A\u001b[A"
          ],
          "name": "stderr"
        },
        {
          "output_type": "stream",
          "text": [
            "Train Epoch: 4 @ 09:35:23.249956 - Train Loss: 0.2076 - Valid Loss: 0.1387\n",
            "Validation loss decreased (0.138719 --> 0.134014).  Saving model ...\n"
          ],
          "name": "stdout"
        },
        {
          "output_type": "stream",
          "text": [
            "\n",
            "\n",
            "\n",
            "\n",
            "\n",
            "  8%|▊         | 5/60 [01:32<16:54, 18.45s/it]\u001b[A\u001b[A\u001b[A\u001b[A\u001b[A"
          ],
          "name": "stderr"
        },
        {
          "output_type": "stream",
          "text": [
            "Train Epoch: 5 @ 09:35:41.652991 - Train Loss: 0.1859 - Valid Loss: 0.1340\n",
            "Validation loss decreased (0.134014 --> 0.130107).  Saving model ...\n"
          ],
          "name": "stdout"
        },
        {
          "output_type": "stream",
          "text": [
            "\n",
            "\n",
            "\n",
            "\n",
            "\n",
            " 10%|█         | 6/60 [01:51<16:40, 18.53s/it]\u001b[A\u001b[A\u001b[A\u001b[A\u001b[A"
          ],
          "name": "stderr"
        },
        {
          "output_type": "stream",
          "text": [
            "Train Epoch: 6 @ 09:36:00.377425 - Train Loss: 0.1664 - Valid Loss: 0.1301\n",
            "Validation loss decreased (0.130107 --> 0.111599).  Saving model ...\n"
          ],
          "name": "stdout"
        },
        {
          "output_type": "stream",
          "text": [
            "\n",
            "\n",
            "\n",
            "\n",
            "\n",
            " 12%|█▏        | 7/60 [02:09<16:22, 18.53s/it]\u001b[A\u001b[A\u001b[A\u001b[A\u001b[A"
          ],
          "name": "stderr"
        },
        {
          "output_type": "stream",
          "text": [
            "Train Epoch: 7 @ 09:36:18.903447 - Train Loss: 0.1538 - Valid Loss: 0.1116\n",
            "Validation loss decreased (0.111599 --> 0.099716).  Saving model ...\n"
          ],
          "name": "stdout"
        },
        {
          "output_type": "stream",
          "text": [
            "\n",
            "\n",
            "\n",
            "\n",
            "\n",
            " 13%|█▎        | 8/60 [02:27<16:00, 18.48s/it]\u001b[A\u001b[A\u001b[A\u001b[A\u001b[A"
          ],
          "name": "stderr"
        },
        {
          "output_type": "stream",
          "text": [
            "Train Epoch: 8 @ 09:36:37.265515 - Train Loss: 0.1397 - Valid Loss: 0.0997\n",
            "Validation loss decreased (0.099716 --> 0.093183).  Saving model ...\n"
          ],
          "name": "stdout"
        },
        {
          "output_type": "stream",
          "text": [
            "\n",
            "\n",
            "\n",
            "\n",
            "\n",
            " 15%|█▌        | 9/60 [02:48<16:08, 19.00s/it]\u001b[A\u001b[A\u001b[A\u001b[A\u001b[A"
          ],
          "name": "stderr"
        },
        {
          "output_type": "stream",
          "text": [
            "Train Epoch: 9 @ 09:36:57.476741 - Train Loss: 0.1287 - Valid Loss: 0.0932\n",
            "EarlyStopping counter: 1 out of 10\n"
          ],
          "name": "stdout"
        },
        {
          "output_type": "stream",
          "text": [
            "\n",
            "\n",
            "\n",
            "\n",
            "\n",
            " 17%|█▋        | 10/60 [03:06<15:38, 18.76s/it]\u001b[A\u001b[A\u001b[A\u001b[A\u001b[A"
          ],
          "name": "stderr"
        },
        {
          "output_type": "stream",
          "text": [
            "Train Epoch: 10 @ 09:37:15.678788 - Train Loss: 0.1186 - Valid Loss: 0.0953\n",
            "Validation loss decreased (0.093183 --> 0.089448).  Saving model ...\n"
          ],
          "name": "stdout"
        },
        {
          "output_type": "stream",
          "text": [
            "\n",
            "\n",
            "\n",
            "\n",
            "\n",
            " 18%|█▊        | 11/60 [03:24<15:10, 18.59s/it]\u001b[A\u001b[A\u001b[A\u001b[A\u001b[A"
          ],
          "name": "stderr"
        },
        {
          "output_type": "stream",
          "text": [
            "Train Epoch: 11 @ 09:37:33.867574 - Train Loss: 0.1107 - Valid Loss: 0.0894\n",
            "Validation loss decreased (0.089448 --> 0.087826).  Saving model ...\n"
          ],
          "name": "stdout"
        },
        {
          "output_type": "stream",
          "text": [
            "\n",
            "\n",
            "\n",
            "\n",
            "\n",
            " 20%|██        | 12/60 [03:42<14:48, 18.50s/it]\u001b[A\u001b[A\u001b[A\u001b[A\u001b[A"
          ],
          "name": "stderr"
        },
        {
          "output_type": "stream",
          "text": [
            "Train Epoch: 12 @ 09:37:52.166042 - Train Loss: 0.1053 - Valid Loss: 0.0878\n",
            "EarlyStopping counter: 1 out of 10\n"
          ],
          "name": "stdout"
        },
        {
          "output_type": "stream",
          "text": [
            "\n",
            "\n",
            "\n",
            "\n",
            "\n",
            " 22%|██▏       | 13/60 [04:00<14:23, 18.38s/it]\u001b[A\u001b[A\u001b[A\u001b[A\u001b[A"
          ],
          "name": "stderr"
        },
        {
          "output_type": "stream",
          "text": [
            "Train Epoch: 13 @ 09:38:10.264606 - Train Loss: 0.1006 - Valid Loss: 0.0940\n",
            "EarlyStopping counter: 2 out of 10\n"
          ],
          "name": "stdout"
        },
        {
          "output_type": "stream",
          "text": [
            "\n",
            "\n",
            "\n",
            "\n",
            "\n",
            " 23%|██▎       | 14/60 [04:18<13:58, 18.22s/it]\u001b[A\u001b[A\u001b[A\u001b[A\u001b[A"
          ],
          "name": "stderr"
        },
        {
          "output_type": "stream",
          "text": [
            "Train Epoch: 14 @ 09:38:28.125254 - Train Loss: 0.0965 - Valid Loss: 0.0928\n",
            "Validation loss decreased (0.087826 --> 0.087804).  Saving model ...\n"
          ],
          "name": "stdout"
        },
        {
          "output_type": "stream",
          "text": [
            "\n",
            "\n",
            "\n",
            "\n",
            "\n",
            " 25%|██▌       | 15/60 [04:36<13:39, 18.21s/it]\u001b[A\u001b[A\u001b[A\u001b[A\u001b[A"
          ],
          "name": "stderr"
        },
        {
          "output_type": "stream",
          "text": [
            "Train Epoch: 15 @ 09:38:46.300726 - Train Loss: 0.0901 - Valid Loss: 0.0878\n",
            "EarlyStopping counter: 1 out of 10\n"
          ],
          "name": "stdout"
        },
        {
          "output_type": "stream",
          "text": [
            "\n",
            "\n",
            "\n",
            "\n",
            "\n",
            " 27%|██▋       | 16/60 [04:54<13:17, 18.11s/it]\u001b[A\u001b[A\u001b[A\u001b[A\u001b[A"
          ],
          "name": "stderr"
        },
        {
          "output_type": "stream",
          "text": [
            "Train Epoch: 16 @ 09:39:04.193366 - Train Loss: 0.0871 - Valid Loss: 0.0954\n",
            "Validation loss decreased (0.087804 --> 0.085926).  Saving model ...\n"
          ],
          "name": "stdout"
        },
        {
          "output_type": "stream",
          "text": [
            "\n",
            "\n",
            "\n",
            "\n",
            "\n",
            " 28%|██▊       | 17/60 [05:13<13:07, 18.32s/it]\u001b[A\u001b[A\u001b[A\u001b[A\u001b[A"
          ],
          "name": "stderr"
        },
        {
          "output_type": "stream",
          "text": [
            "Train Epoch: 17 @ 09:39:23.003472 - Train Loss: 0.0853 - Valid Loss: 0.0859\n",
            "EarlyStopping counter: 1 out of 10\n"
          ],
          "name": "stdout"
        },
        {
          "output_type": "stream",
          "text": [
            "\n",
            "\n",
            "\n",
            "\n",
            "\n",
            " 30%|███       | 18/60 [05:31<12:46, 18.25s/it]\u001b[A\u001b[A\u001b[A\u001b[A\u001b[A"
          ],
          "name": "stderr"
        },
        {
          "output_type": "stream",
          "text": [
            "Train Epoch: 18 @ 09:39:41.085464 - Train Loss: 0.0807 - Valid Loss: 0.0906\n",
            "EarlyStopping counter: 2 out of 10\n"
          ],
          "name": "stdout"
        },
        {
          "output_type": "stream",
          "text": [
            "\n",
            "\n",
            "\n",
            "\n",
            "\n",
            " 32%|███▏      | 19/60 [05:49<12:25, 18.19s/it]\u001b[A\u001b[A\u001b[A\u001b[A\u001b[A"
          ],
          "name": "stderr"
        },
        {
          "output_type": "stream",
          "text": [
            "Train Epoch: 19 @ 09:39:59.122878 - Train Loss: 0.0767 - Valid Loss: 0.0888\n",
            "EarlyStopping counter: 3 out of 10\n"
          ],
          "name": "stdout"
        },
        {
          "output_type": "stream",
          "text": [
            "\n",
            "\n",
            "\n",
            "\n",
            "\n",
            " 33%|███▎      | 20/60 [06:07<12:02, 18.06s/it]\u001b[A\u001b[A\u001b[A\u001b[A\u001b[A"
          ],
          "name": "stderr"
        },
        {
          "output_type": "stream",
          "text": [
            "Train Epoch: 20 @ 09:40:16.898352 - Train Loss: 0.0812 - Valid Loss: 0.0953\n",
            "EarlyStopping counter: 4 out of 10\n"
          ],
          "name": "stdout"
        },
        {
          "output_type": "stream",
          "text": [
            "\n",
            "\n",
            "\n",
            "\n",
            "\n",
            " 35%|███▌      | 21/60 [06:25<11:40, 17.96s/it]\u001b[A\u001b[A\u001b[A\u001b[A\u001b[A"
          ],
          "name": "stderr"
        },
        {
          "output_type": "stream",
          "text": [
            "Train Epoch: 21 @ 09:40:34.607649 - Train Loss: 0.0789 - Valid Loss: 0.0917\n",
            "EarlyStopping counter: 5 out of 10\n"
          ],
          "name": "stdout"
        },
        {
          "output_type": "stream",
          "text": [
            "\n",
            "\n",
            "\n",
            "\n",
            "\n",
            " 37%|███▋      | 22/60 [06:43<11:23, 17.98s/it]\u001b[A\u001b[A\u001b[A\u001b[A\u001b[A"
          ],
          "name": "stderr"
        },
        {
          "output_type": "stream",
          "text": [
            "Train Epoch: 22 @ 09:40:52.636943 - Train Loss: 0.0738 - Valid Loss: 0.0920\n",
            "EarlyStopping counter: 6 out of 10\n"
          ],
          "name": "stdout"
        },
        {
          "output_type": "stream",
          "text": [
            "\n",
            "\n",
            "\n",
            "\n",
            "\n",
            " 38%|███▊      | 23/60 [07:01<11:05, 18.00s/it]\u001b[A\u001b[A\u001b[A\u001b[A\u001b[A"
          ],
          "name": "stderr"
        },
        {
          "output_type": "stream",
          "text": [
            "Train Epoch: 23 @ 09:41:10.676427 - Train Loss: 0.0724 - Valid Loss: 0.0939\n",
            "EarlyStopping counter: 7 out of 10\n"
          ],
          "name": "stdout"
        },
        {
          "output_type": "stream",
          "text": [
            "\n",
            "\n",
            "\n",
            "\n",
            "\n",
            " 40%|████      | 24/60 [07:19<10:44, 17.91s/it]\u001b[A\u001b[A\u001b[A\u001b[A\u001b[A"
          ],
          "name": "stderr"
        },
        {
          "output_type": "stream",
          "text": [
            "Train Epoch: 24 @ 09:41:28.382915 - Train Loss: 0.0693 - Valid Loss: 0.0887\n",
            "EarlyStopping counter: 8 out of 10\n"
          ],
          "name": "stdout"
        },
        {
          "output_type": "stream",
          "text": [
            "\n",
            "\n",
            "\n",
            "\n",
            "\n",
            " 42%|████▏     | 25/60 [07:36<10:25, 17.87s/it]\u001b[A\u001b[A\u001b[A\u001b[A\u001b[A"
          ],
          "name": "stderr"
        },
        {
          "output_type": "stream",
          "text": [
            "Train Epoch: 25 @ 09:41:46.146299 - Train Loss: 0.0656 - Valid Loss: 0.0865\n",
            "EarlyStopping counter: 9 out of 10\n"
          ],
          "name": "stdout"
        },
        {
          "output_type": "stream",
          "text": [
            "\n",
            "\n",
            "\n",
            "\n",
            "\n",
            " 43%|████▎     | 26/60 [07:55<10:11, 17.99s/it]\u001b[A\u001b[A\u001b[A\u001b[A\u001b[A"
          ],
          "name": "stderr"
        },
        {
          "output_type": "stream",
          "text": [
            "Train Epoch: 26 @ 09:42:04.416029 - Train Loss: 0.0640 - Valid Loss: 0.0873\n",
            "EarlyStopping counter: 10 out of 10\n",
            "Early stopping\n"
          ],
          "name": "stdout"
        },
        {
          "output_type": "display_data",
          "data": {
            "image/png": "[encoded data removed]",
            "text/plain": [
              "<Figure size 720x576 with 1 Axes>"
            ]
          },
          "metadata": {
            "tags": [],
            "needs_background": "light"
          }
        },
        {
          "output_type": "stream",
          "text": [
            "Dice2 score: 0.9689992268880209\n",
            "Batch size: 16, Learning rate: 1e-05 , Epochs: 60\n",
            "\n"
          ],
          "name": "stdout"
        },
        {
          "output_type": "stream",
          "text": [
            "\n",
            "\n",
            "\n",
            "\n",
            "\n",
            "\n",
            "  0%|          | 0/60 [00:00<?, ?it/s]\u001b[A\u001b[A\u001b[A\u001b[A\u001b[A\u001b[A"
          ],
          "name": "stderr"
        },
        {
          "output_type": "stream",
          "text": [
            "Validation loss decreased (inf --> 0.619731).  Saving model ...\n"
          ],
          "name": "stdout"
        },
        {
          "output_type": "stream",
          "text": [
            "\n",
            "\n",
            "\n",
            "\n",
            "\n",
            "\n",
            "  2%|▏         | 1/60 [00:18<17:56, 18.24s/it]\u001b[A\u001b[A\u001b[A\u001b[A\u001b[A\u001b[A"
          ],
          "name": "stderr"
        },
        {
          "output_type": "stream",
          "text": [
            "Train Epoch: 1 @ 09:42:41.260381 - Train Loss: 0.6597 - Valid Loss: 0.6197\n",
            "Validation loss decreased (0.619731 --> 0.248494).  Saving model ...\n"
          ],
          "name": "stdout"
        },
        {
          "output_type": "stream",
          "text": [
            "\n",
            "\n",
            "\n",
            "\n",
            "\n",
            "\n",
            "  3%|▎         | 2/60 [00:36<17:43, 18.34s/it]\u001b[A\u001b[A\u001b[A\u001b[A\u001b[A\u001b[A"
          ],
          "name": "stderr"
        },
        {
          "output_type": "stream",
          "text": [
            "Train Epoch: 2 @ 09:42:59.820173 - Train Loss: 0.4585 - Valid Loss: 0.2485\n",
            "Validation loss decreased (0.248494 --> 0.208067).  Saving model ...\n"
          ],
          "name": "stdout"
        },
        {
          "output_type": "stream",
          "text": [
            "\n",
            "\n",
            "\n",
            "\n",
            "\n",
            "\n",
            "  5%|▌         | 3/60 [00:55<17:32, 18.46s/it]\u001b[A\u001b[A\u001b[A\u001b[A\u001b[A\u001b[A"
          ],
          "name": "stderr"
        },
        {
          "output_type": "stream",
          "text": [
            "Train Epoch: 3 @ 09:43:18.566356 - Train Loss: 0.3034 - Valid Loss: 0.2081\n",
            "Validation loss decreased (0.208067 --> 0.202533).  Saving model ...\n"
          ],
          "name": "stdout"
        },
        {
          "output_type": "stream",
          "text": [
            "\n",
            "\n",
            "\n",
            "\n",
            "\n",
            "\n",
            "  7%|▋         | 4/60 [01:13<17:12, 18.43s/it]\u001b[A\u001b[A\u001b[A\u001b[A\u001b[A\u001b[A"
          ],
          "name": "stderr"
        },
        {
          "output_type": "stream",
          "text": [
            "Train Epoch: 4 @ 09:43:36.933149 - Train Loss: 0.2695 - Valid Loss: 0.2025\n",
            "EarlyStopping counter: 1 out of 10\n"
          ],
          "name": "stdout"
        },
        {
          "output_type": "stream",
          "text": [
            "\n",
            "\n",
            "\n",
            "\n",
            "\n",
            "\n",
            "  8%|▊         | 5/60 [01:31<16:43, 18.25s/it]\u001b[A\u001b[A\u001b[A\u001b[A\u001b[A\u001b[A"
          ],
          "name": "stderr"
        },
        {
          "output_type": "stream",
          "text": [
            "Train Epoch: 5 @ 09:43:54.753580 - Train Loss: 0.2528 - Valid Loss: 0.2142\n",
            "EarlyStopping counter: 2 out of 10\n"
          ],
          "name": "stdout"
        },
        {
          "output_type": "stream",
          "text": [
            "\n",
            "\n",
            "\n",
            "\n",
            "\n",
            "\n",
            " 10%|█         | 6/60 [01:49<16:23, 18.21s/it]\u001b[A\u001b[A\u001b[A\u001b[A\u001b[A\u001b[A"
          ],
          "name": "stderr"
        },
        {
          "output_type": "stream",
          "text": [
            "Train Epoch: 6 @ 09:44:12.889578 - Train Loss: 0.2450 - Valid Loss: 0.2083\n",
            "Validation loss decreased (0.202533 --> 0.194414).  Saving model ...\n"
          ],
          "name": "stdout"
        },
        {
          "output_type": "stream",
          "text": [
            "\n",
            "\n",
            "\n",
            "\n",
            "\n",
            "\n",
            " 12%|█▏        | 7/60 [02:08<16:09, 18.30s/it]\u001b[A\u001b[A\u001b[A\u001b[A\u001b[A\u001b[A"
          ],
          "name": "stderr"
        },
        {
          "output_type": "stream",
          "text": [
            "Train Epoch: 7 @ 09:44:31.375756 - Train Loss: 0.2407 - Valid Loss: 0.1944\n",
            "Validation loss decreased (0.194414 --> 0.182571).  Saving model ...\n"
          ],
          "name": "stdout"
        },
        {
          "output_type": "stream",
          "text": [
            "\n",
            "\n",
            "\n",
            "\n",
            "\n",
            "\n",
            " 13%|█▎        | 8/60 [02:27<15:59, 18.45s/it]\u001b[A\u001b[A\u001b[A\u001b[A\u001b[A\u001b[A"
          ],
          "name": "stderr"
        },
        {
          "output_type": "stream",
          "text": [
            "Train Epoch: 8 @ 09:44:50.173268 - Train Loss: 0.2350 - Valid Loss: 0.1826\n",
            "EarlyStopping counter: 1 out of 10\n"
          ],
          "name": "stdout"
        },
        {
          "output_type": "stream",
          "text": [
            "\n",
            "\n",
            "\n",
            "\n",
            "\n",
            "\n",
            " 15%|█▌        | 9/60 [02:45<15:33, 18.30s/it]\u001b[A\u001b[A\u001b[A\u001b[A\u001b[A\u001b[A"
          ],
          "name": "stderr"
        },
        {
          "output_type": "stream",
          "text": [
            "Train Epoch: 9 @ 09:45:08.131613 - Train Loss: 0.2309 - Valid Loss: 0.2011\n",
            "EarlyStopping counter: 2 out of 10\n"
          ],
          "name": "stdout"
        },
        {
          "output_type": "stream",
          "text": [
            "\n",
            "\n",
            "\n",
            "\n",
            "\n",
            "\n",
            " 17%|█▋        | 10/60 [03:02<15:06, 18.13s/it]\u001b[A\u001b[A\u001b[A\u001b[A\u001b[A\u001b[A"
          ],
          "name": "stderr"
        },
        {
          "output_type": "stream",
          "text": [
            "Train Epoch: 10 @ 09:45:25.875536 - Train Loss: 0.2232 - Valid Loss: 0.1906\n",
            "Validation loss decreased (0.182571 --> 0.181234).  Saving model ...\n"
          ],
          "name": "stdout"
        },
        {
          "output_type": "stream",
          "text": [
            "\n",
            "\n",
            "\n",
            "\n",
            "\n",
            "\n",
            " 18%|█▊        | 11/60 [03:21<14:53, 18.24s/it]\u001b[A\u001b[A\u001b[A\u001b[A\u001b[A\u001b[A"
          ],
          "name": "stderr"
        },
        {
          "output_type": "stream",
          "text": [
            "Train Epoch: 11 @ 09:45:44.359602 - Train Loss: 0.2145 - Valid Loss: 0.1812\n",
            "Validation loss decreased (0.181234 --> 0.174760).  Saving model ...\n"
          ],
          "name": "stdout"
        },
        {
          "output_type": "stream",
          "text": [
            "\n",
            "\n",
            "\n",
            "\n",
            "\n",
            "\n",
            " 20%|██        | 12/60 [03:40<14:44, 18.43s/it]\u001b[A\u001b[A\u001b[A\u001b[A\u001b[A\u001b[A"
          ],
          "name": "stderr"
        },
        {
          "output_type": "stream",
          "text": [
            "Train Epoch: 12 @ 09:46:03.250353 - Train Loss: 0.2112 - Valid Loss: 0.1748\n",
            "EarlyStopping counter: 1 out of 10\n"
          ],
          "name": "stdout"
        },
        {
          "output_type": "stream",
          "text": [
            "\n",
            "\n",
            "\n",
            "\n",
            "\n",
            "\n",
            " 22%|██▏       | 13/60 [03:58<14:19, 18.29s/it]\u001b[A\u001b[A\u001b[A\u001b[A\u001b[A\u001b[A"
          ],
          "name": "stderr"
        },
        {
          "output_type": "stream",
          "text": [
            "Train Epoch: 13 @ 09:46:21.188769 - Train Loss: 0.2017 - Valid Loss: 0.1768\n",
            "EarlyStopping counter: 2 out of 10\n"
          ],
          "name": "stdout"
        },
        {
          "output_type": "stream",
          "text": [
            "\n",
            "\n",
            "\n",
            "\n",
            "\n",
            "\n",
            " 23%|██▎       | 14/60 [04:15<13:53, 18.12s/it]\u001b[A\u001b[A\u001b[A\u001b[A\u001b[A\u001b[A"
          ],
          "name": "stderr"
        },
        {
          "output_type": "stream",
          "text": [
            "Train Epoch: 14 @ 09:46:38.930007 - Train Loss: 0.1966 - Valid Loss: 0.1756\n",
            "Validation loss decreased (0.174760 --> 0.165871).  Saving model ...\n"
          ],
          "name": "stdout"
        },
        {
          "output_type": "stream",
          "text": [
            "\n",
            "\n",
            "\n",
            "\n",
            "\n",
            "\n",
            " 25%|██▌       | 15/60 [04:34<13:41, 18.26s/it]\u001b[A\u001b[A\u001b[A\u001b[A\u001b[A\u001b[A"
          ],
          "name": "stderr"
        },
        {
          "output_type": "stream",
          "text": [
            "Train Epoch: 15 @ 09:46:57.504795 - Train Loss: 0.1901 - Valid Loss: 0.1659\n",
            "Validation loss decreased (0.165871 --> 0.163957).  Saving model ...\n"
          ],
          "name": "stdout"
        },
        {
          "output_type": "stream",
          "text": [
            "\n",
            "\n",
            "\n",
            "\n",
            "\n",
            "\n",
            " 27%|██▋       | 16/60 [04:53<13:28, 18.37s/it]\u001b[A\u001b[A\u001b[A\u001b[A\u001b[A\u001b[A"
          ],
          "name": "stderr"
        },
        {
          "output_type": "stream",
          "text": [
            "Train Epoch: 16 @ 09:47:16.123586 - Train Loss: 0.1827 - Valid Loss: 0.1640\n",
            "Validation loss decreased (0.163957 --> 0.157125).  Saving model ...\n"
          ],
          "name": "stdout"
        },
        {
          "output_type": "stream",
          "text": [
            "\n",
            "\n",
            "\n",
            "\n",
            "\n",
            "\n",
            " 28%|██▊       | 17/60 [05:11<13:11, 18.40s/it]\u001b[A\u001b[A\u001b[A\u001b[A\u001b[A\u001b[A"
          ],
          "name": "stderr"
        },
        {
          "output_type": "stream",
          "text": [
            "Train Epoch: 17 @ 09:47:34.612535 - Train Loss: 0.1754 - Valid Loss: 0.1571\n",
            "Validation loss decreased (0.157125 --> 0.148314).  Saving model ...\n"
          ],
          "name": "stdout"
        },
        {
          "output_type": "stream",
          "text": [
            "\n",
            "\n",
            "\n",
            "\n",
            "\n",
            "\n",
            " 30%|███       | 18/60 [05:30<12:54, 18.43s/it]\u001b[A\u001b[A\u001b[A\u001b[A\u001b[A\u001b[A"
          ],
          "name": "stderr"
        },
        {
          "output_type": "stream",
          "text": [
            "Train Epoch: 18 @ 09:47:53.105026 - Train Loss: 0.1673 - Valid Loss: 0.1483\n",
            "Validation loss decreased (0.148314 --> 0.142154).  Saving model ...\n"
          ],
          "name": "stdout"
        },
        {
          "output_type": "stream",
          "text": [
            "\n",
            "\n",
            "\n",
            "\n",
            "\n",
            "\n",
            " 32%|███▏      | 19/60 [05:48<12:38, 18.51s/it]\u001b[A\u001b[A\u001b[A\u001b[A\u001b[A\u001b[A"
          ],
          "name": "stderr"
        },
        {
          "output_type": "stream",
          "text": [
            "Train Epoch: 19 @ 09:48:11.802868 - Train Loss: 0.1618 - Valid Loss: 0.1422\n",
            "Validation loss decreased (0.142154 --> 0.134718).  Saving model ...\n"
          ],
          "name": "stdout"
        },
        {
          "output_type": "stream",
          "text": [
            "\n",
            "\n",
            "\n",
            "\n",
            "\n",
            "\n",
            " 33%|███▎      | 20/60 [06:07<12:19, 18.50s/it]\u001b[A\u001b[A\u001b[A\u001b[A\u001b[A\u001b[A"
          ],
          "name": "stderr"
        },
        {
          "output_type": "stream",
          "text": [
            "Train Epoch: 20 @ 09:48:30.268742 - Train Loss: 0.1531 - Valid Loss: 0.1347\n",
            "Validation loss decreased (0.134718 --> 0.124420).  Saving model ...\n"
          ],
          "name": "stdout"
        },
        {
          "output_type": "stream",
          "text": [
            "\n",
            "\n",
            "\n",
            "\n",
            "\n",
            "\n",
            " 35%|███▌      | 21/60 [06:25<12:00, 18.47s/it]\u001b[A\u001b[A\u001b[A\u001b[A\u001b[A\u001b[A"
          ],
          "name": "stderr"
        },
        {
          "output_type": "stream",
          "text": [
            "Train Epoch: 21 @ 09:48:48.675649 - Train Loss: 0.1494 - Valid Loss: 0.1244\n",
            "EarlyStopping counter: 1 out of 10\n"
          ],
          "name": "stdout"
        },
        {
          "output_type": "stream",
          "text": [
            "\n",
            "\n",
            "\n",
            "\n",
            "\n",
            "\n",
            " 37%|███▋      | 22/60 [06:43<11:37, 18.36s/it]\u001b[A\u001b[A\u001b[A\u001b[A\u001b[A\u001b[A"
          ],
          "name": "stderr"
        },
        {
          "output_type": "stream",
          "text": [
            "Train Epoch: 22 @ 09:49:06.770692 - Train Loss: 0.1452 - Valid Loss: 0.1281\n",
            "EarlyStopping counter: 2 out of 10\n"
          ],
          "name": "stdout"
        },
        {
          "output_type": "stream",
          "text": [
            "\n",
            "\n",
            "\n",
            "\n",
            "\n",
            "\n",
            " 38%|███▊      | 23/60 [07:01<11:15, 18.26s/it]\u001b[A\u001b[A\u001b[A\u001b[A\u001b[A\u001b[A"
          ],
          "name": "stderr"
        },
        {
          "output_type": "stream",
          "text": [
            "Train Epoch: 23 @ 09:49:24.790415 - Train Loss: 0.1423 - Valid Loss: 0.1302\n",
            "Validation loss decreased (0.124420 --> 0.122336).  Saving model ...\n"
          ],
          "name": "stdout"
        },
        {
          "output_type": "stream",
          "text": [
            "\n",
            "\n",
            "\n",
            "\n",
            "\n",
            "\n",
            " 40%|████      | 24/60 [07:20<10:58, 18.28s/it]\u001b[A\u001b[A\u001b[A\u001b[A\u001b[A\u001b[A"
          ],
          "name": "stderr"
        },
        {
          "output_type": "stream",
          "text": [
            "Train Epoch: 24 @ 09:49:43.125451 - Train Loss: 0.1388 - Valid Loss: 0.1223\n",
            "Validation loss decreased (0.122336 --> 0.119723).  Saving model ...\n"
          ],
          "name": "stdout"
        },
        {
          "output_type": "stream",
          "text": [
            "\n",
            "\n",
            "\n",
            "\n",
            "\n",
            "\n",
            " 42%|████▏     | 25/60 [07:38<10:42, 18.35s/it]\u001b[A\u001b[A\u001b[A\u001b[A\u001b[A\u001b[A"
          ],
          "name": "stderr"
        },
        {
          "output_type": "stream",
          "text": [
            "Train Epoch: 25 @ 09:50:01.627927 - Train Loss: 0.1367 - Valid Loss: 0.1197\n",
            "Validation loss decreased (0.119723 --> 0.117483).  Saving model ...\n"
          ],
          "name": "stdout"
        },
        {
          "output_type": "stream",
          "text": [
            "\n",
            "\n",
            "\n",
            "\n",
            "\n",
            "\n",
            " 43%|████▎     | 26/60 [07:57<10:29, 18.51s/it]\u001b[A\u001b[A\u001b[A\u001b[A\u001b[A\u001b[A"
          ],
          "name": "stderr"
        },
        {
          "output_type": "stream",
          "text": [
            "Train Epoch: 26 @ 09:50:20.518584 - Train Loss: 0.1345 - Valid Loss: 0.1175\n",
            "EarlyStopping counter: 1 out of 10\n"
          ],
          "name": "stdout"
        },
        {
          "output_type": "stream",
          "text": [
            "\n",
            "\n",
            "\n",
            "\n",
            "\n",
            "\n",
            " 45%|████▌     | 27/60 [08:15<10:07, 18.42s/it]\u001b[A\u001b[A\u001b[A\u001b[A\u001b[A\u001b[A"
          ],
          "name": "stderr"
        },
        {
          "output_type": "stream",
          "text": [
            "Train Epoch: 27 @ 09:50:38.727542 - Train Loss: 0.1312 - Valid Loss: 0.1188\n",
            "EarlyStopping counter: 2 out of 10\n"
          ],
          "name": "stdout"
        },
        {
          "output_type": "stream",
          "text": [
            "\n",
            "\n",
            "\n",
            "\n",
            "\n",
            "\n",
            " 47%|████▋     | 28/60 [08:33<09:46, 18.34s/it]\u001b[A\u001b[A\u001b[A\u001b[A\u001b[A\u001b[A"
          ],
          "name": "stderr"
        },
        {
          "output_type": "stream",
          "text": [
            "Train Epoch: 28 @ 09:50:56.868025 - Train Loss: 0.1299 - Valid Loss: 0.1225\n",
            "Validation loss decreased (0.117483 --> 0.112247).  Saving model ...\n"
          ],
          "name": "stdout"
        },
        {
          "output_type": "stream",
          "text": [
            "\n",
            "\n",
            "\n",
            "\n",
            "\n",
            "\n",
            " 48%|████▊     | 29/60 [08:52<09:30, 18.40s/it]\u001b[A\u001b[A\u001b[A\u001b[A\u001b[A\u001b[A"
          ],
          "name": "stderr"
        },
        {
          "output_type": "stream",
          "text": [
            "Train Epoch: 29 @ 09:51:15.406840 - Train Loss: 0.1277 - Valid Loss: 0.1122\n",
            "Validation loss decreased (0.112247 --> 0.107911).  Saving model ...\n"
          ],
          "name": "stdout"
        },
        {
          "output_type": "stream",
          "text": [
            "\n",
            "\n",
            "\n",
            "\n",
            "\n",
            "\n",
            " 50%|█████     | 30/60 [09:10<09:11, 18.40s/it]\u001b[A\u001b[A\u001b[A\u001b[A\u001b[A\u001b[A"
          ],
          "name": "stderr"
        },
        {
          "output_type": "stream",
          "text": [
            "Train Epoch: 30 @ 09:51:33.803489 - Train Loss: 0.1273 - Valid Loss: 0.1079\n",
            "EarlyStopping counter: 1 out of 10\n"
          ],
          "name": "stdout"
        },
        {
          "output_type": "stream",
          "text": [
            "\n",
            "\n",
            "\n",
            "\n",
            "\n",
            "\n",
            " 52%|█████▏    | 31/60 [09:28<08:51, 18.33s/it]\u001b[A\u001b[A\u001b[A\u001b[A\u001b[A\u001b[A"
          ],
          "name": "stderr"
        },
        {
          "output_type": "stream",
          "text": [
            "Train Epoch: 31 @ 09:51:51.969574 - Train Loss: 0.1256 - Valid Loss: 0.1136\n",
            "EarlyStopping counter: 2 out of 10\n"
          ],
          "name": "stdout"
        },
        {
          "output_type": "stream",
          "text": [
            "\n",
            "\n",
            "\n",
            "\n",
            "\n",
            "\n",
            " 53%|█████▎    | 32/60 [09:47<08:31, 18.25s/it]\u001b[A\u001b[A\u001b[A\u001b[A\u001b[A\u001b[A"
          ],
          "name": "stderr"
        },
        {
          "output_type": "stream",
          "text": [
            "Train Epoch: 32 @ 09:52:10.045116 - Train Loss: 0.1225 - Valid Loss: 0.1095\n",
            "EarlyStopping counter: 3 out of 10\n"
          ],
          "name": "stdout"
        },
        {
          "output_type": "stream",
          "text": [
            "\n",
            "\n",
            "\n",
            "\n",
            "\n",
            "\n",
            " 55%|█████▌    | 33/60 [10:04<08:08, 18.11s/it]\u001b[A\u001b[A\u001b[A\u001b[A\u001b[A\u001b[A"
          ],
          "name": "stderr"
        },
        {
          "output_type": "stream",
          "text": [
            "Train Epoch: 33 @ 09:52:27.825317 - Train Loss: 0.1206 - Valid Loss: 0.1112\n",
            "EarlyStopping counter: 4 out of 10\n"
          ],
          "name": "stdout"
        },
        {
          "output_type": "stream",
          "text": [
            "\n",
            "\n",
            "\n",
            "\n",
            "\n",
            "\n",
            " 57%|█████▋    | 34/60 [10:22<07:49, 18.08s/it]\u001b[A\u001b[A\u001b[A\u001b[A\u001b[A\u001b[A"
          ],
          "name": "stderr"
        },
        {
          "output_type": "stream",
          "text": [
            "Train Epoch: 34 @ 09:52:45.819999 - Train Loss: 0.1190 - Valid Loss: 0.1087\n",
            "EarlyStopping counter: 5 out of 10\n"
          ],
          "name": "stdout"
        },
        {
          "output_type": "stream",
          "text": [
            "\n",
            "\n",
            "\n",
            "\n",
            "\n",
            "\n",
            " 58%|█████▊    | 35/60 [10:40<07:32, 18.10s/it]\u001b[A\u001b[A\u001b[A\u001b[A\u001b[A\u001b[A"
          ],
          "name": "stderr"
        },
        {
          "output_type": "stream",
          "text": [
            "Train Epoch: 35 @ 09:53:03.968327 - Train Loss: 0.1165 - Valid Loss: 0.1096\n",
            "Validation loss decreased (0.107911 --> 0.103590).  Saving model ...\n"
          ],
          "name": "stdout"
        },
        {
          "output_type": "stream",
          "text": [
            "\n",
            "\n",
            "\n",
            "\n",
            "\n",
            "\n",
            " 60%|██████    | 36/60 [10:59<07:16, 18.20s/it]\u001b[A\u001b[A\u001b[A\u001b[A\u001b[A\u001b[A"
          ],
          "name": "stderr"
        },
        {
          "output_type": "stream",
          "text": [
            "Train Epoch: 36 @ 09:53:22.419367 - Train Loss: 0.1161 - Valid Loss: 0.1036\n",
            "Validation loss decreased (0.103590 --> 0.103002).  Saving model ...\n"
          ],
          "name": "stdout"
        },
        {
          "output_type": "stream",
          "text": [
            "\n",
            "\n",
            "\n",
            "\n",
            "\n",
            "\n",
            " 62%|██████▏   | 37/60 [11:17<07:00, 18.27s/it]\u001b[A\u001b[A\u001b[A\u001b[A\u001b[A\u001b[A"
          ],
          "name": "stderr"
        },
        {
          "output_type": "stream",
          "text": [
            "Train Epoch: 37 @ 09:53:40.831019 - Train Loss: 0.1141 - Valid Loss: 0.1030\n",
            "EarlyStopping counter: 1 out of 10\n"
          ],
          "name": "stdout"
        },
        {
          "output_type": "stream",
          "text": [
            "\n",
            "\n",
            "\n",
            "\n",
            "\n",
            "\n",
            " 63%|██████▎   | 38/60 [11:35<06:40, 18.21s/it]\u001b[A\u001b[A\u001b[A\u001b[A\u001b[A\u001b[A"
          ],
          "name": "stderr"
        },
        {
          "output_type": "stream",
          "text": [
            "Train Epoch: 38 @ 09:53:58.908168 - Train Loss: 0.1121 - Valid Loss: 0.1066\n",
            "EarlyStopping counter: 2 out of 10\n"
          ],
          "name": "stdout"
        },
        {
          "output_type": "stream",
          "text": [
            "\n",
            "\n",
            "\n",
            "\n",
            "\n",
            "\n",
            " 65%|██████▌   | 39/60 [11:53<06:21, 18.17s/it]\u001b[A\u001b[A\u001b[A\u001b[A\u001b[A\u001b[A"
          ],
          "name": "stderr"
        },
        {
          "output_type": "stream",
          "text": [
            "Train Epoch: 39 @ 09:54:16.973782 - Train Loss: 0.1113 - Valid Loss: 0.1030\n",
            "EarlyStopping counter: 3 out of 10\n"
          ],
          "name": "stdout"
        },
        {
          "output_type": "stream",
          "text": [
            "\n",
            "\n",
            "\n",
            "\n",
            "\n",
            "\n",
            " 67%|██████▋   | 40/60 [12:11<06:01, 18.06s/it]\u001b[A\u001b[A\u001b[A\u001b[A\u001b[A\u001b[A"
          ],
          "name": "stderr"
        },
        {
          "output_type": "stream",
          "text": [
            "Train Epoch: 40 @ 09:54:34.786269 - Train Loss: 0.1106 - Valid Loss: 0.1072\n",
            "Validation loss decreased (0.103002 --> 0.100221).  Saving model ...\n"
          ],
          "name": "stdout"
        },
        {
          "output_type": "stream",
          "text": [
            "\n",
            "\n",
            "\n",
            "\n",
            "\n",
            "\n",
            " 68%|██████▊   | 41/60 [12:30<05:44, 18.12s/it]\u001b[A\u001b[A\u001b[A\u001b[A\u001b[A\u001b[A"
          ],
          "name": "stderr"
        },
        {
          "output_type": "stream",
          "text": [
            "Train Epoch: 41 @ 09:54:53.039504 - Train Loss: 0.1087 - Valid Loss: 0.1002\n",
            "Validation loss decreased (0.100221 --> 0.095187).  Saving model ...\n"
          ],
          "name": "stdout"
        },
        {
          "output_type": "stream",
          "text": [
            "\n",
            "\n",
            "\n",
            "\n",
            "\n",
            "\n",
            " 70%|███████   | 42/60 [12:48<05:29, 18.30s/it]\u001b[A\u001b[A\u001b[A\u001b[A\u001b[A\u001b[A"
          ],
          "name": "stderr"
        },
        {
          "output_type": "stream",
          "text": [
            "Train Epoch: 42 @ 09:55:11.777614 - Train Loss: 0.1075 - Valid Loss: 0.0952\n",
            "EarlyStopping counter: 1 out of 10\n"
          ],
          "name": "stdout"
        },
        {
          "output_type": "stream",
          "text": [
            "\n",
            "\n",
            "\n",
            "\n",
            "\n",
            "\n",
            " 72%|███████▏  | 43/60 [13:06<05:09, 18.23s/it]\u001b[A\u001b[A\u001b[A\u001b[A\u001b[A\u001b[A"
          ],
          "name": "stderr"
        },
        {
          "output_type": "stream",
          "text": [
            "Train Epoch: 43 @ 09:55:29.827331 - Train Loss: 0.1060 - Valid Loss: 0.0990\n",
            "EarlyStopping counter: 2 out of 10\n"
          ],
          "name": "stdout"
        },
        {
          "output_type": "stream",
          "text": [
            "\n",
            "\n",
            "\n",
            "\n",
            "\n",
            "\n",
            " 73%|███████▎  | 44/60 [13:24<04:51, 18.20s/it]\u001b[A\u001b[A\u001b[A\u001b[A\u001b[A\u001b[A"
          ],
          "name": "stderr"
        },
        {
          "output_type": "stream",
          "text": [
            "Train Epoch: 44 @ 09:55:47.956406 - Train Loss: 0.1051 - Valid Loss: 0.1026\n",
            "EarlyStopping counter: 3 out of 10\n"
          ],
          "name": "stdout"
        },
        {
          "output_type": "stream",
          "text": [
            "\n",
            "\n",
            "\n",
            "\n",
            "\n",
            "\n",
            " 75%|███████▌  | 45/60 [13:42<04:31, 18.13s/it]\u001b[A\u001b[A\u001b[A\u001b[A\u001b[A\u001b[A"
          ],
          "name": "stderr"
        },
        {
          "output_type": "stream",
          "text": [
            "Train Epoch: 45 @ 09:56:05.918421 - Train Loss: 0.1039 - Valid Loss: 0.0973\n",
            "EarlyStopping counter: 4 out of 10\n"
          ],
          "name": "stdout"
        },
        {
          "output_type": "stream",
          "text": [
            "\n",
            "\n",
            "\n",
            "\n",
            "\n",
            "\n",
            " 77%|███████▋  | 46/60 [14:00<04:12, 18.04s/it]\u001b[A\u001b[A\u001b[A\u001b[A\u001b[A\u001b[A"
          ],
          "name": "stderr"
        },
        {
          "output_type": "stream",
          "text": [
            "Train Epoch: 46 @ 09:56:23.742710 - Train Loss: 0.1015 - Valid Loss: 0.1009\n",
            "EarlyStopping counter: 5 out of 10\n"
          ],
          "name": "stdout"
        },
        {
          "output_type": "stream",
          "text": [
            "\n",
            "\n",
            "\n",
            "\n",
            "\n",
            "\n",
            " 78%|███████▊  | 47/60 [14:18<03:53, 17.99s/it]\u001b[A\u001b[A\u001b[A\u001b[A\u001b[A\u001b[A"
          ],
          "name": "stderr"
        },
        {
          "output_type": "stream",
          "text": [
            "Train Epoch: 47 @ 09:56:41.619200 - Train Loss: 0.1015 - Valid Loss: 0.1019\n",
            "EarlyStopping counter: 6 out of 10\n"
          ],
          "name": "stdout"
        },
        {
          "output_type": "stream",
          "text": [
            "\n",
            "\n",
            "\n",
            "\n",
            "\n",
            "\n",
            " 80%|████████  | 48/60 [14:36<03:36, 18.04s/it]\u001b[A\u001b[A\u001b[A\u001b[A\u001b[A\u001b[A"
          ],
          "name": "stderr"
        },
        {
          "output_type": "stream",
          "text": [
            "Train Epoch: 48 @ 09:56:59.790637 - Train Loss: 0.0997 - Valid Loss: 0.1030\n",
            "EarlyStopping counter: 7 out of 10\n"
          ],
          "name": "stdout"
        },
        {
          "output_type": "stream",
          "text": [
            "\n",
            "\n",
            "\n",
            "\n",
            "\n",
            "\n",
            " 82%|████████▏ | 49/60 [14:54<03:18, 18.01s/it]\u001b[A\u001b[A\u001b[A\u001b[A\u001b[A\u001b[A"
          ],
          "name": "stderr"
        },
        {
          "output_type": "stream",
          "text": [
            "Train Epoch: 49 @ 09:57:17.714804 - Train Loss: 0.0987 - Valid Loss: 0.1012\n",
            "Validation loss decreased (0.095187 --> 0.094151).  Saving model ...\n"
          ],
          "name": "stdout"
        },
        {
          "output_type": "stream",
          "text": [
            "\n",
            "\n",
            "\n",
            "\n",
            "\n",
            "\n",
            " 83%|████████▎ | 50/60 [15:12<03:00, 18.08s/it]\u001b[A\u001b[A\u001b[A\u001b[A\u001b[A\u001b[A"
          ],
          "name": "stderr"
        },
        {
          "output_type": "stream",
          "text": [
            "Train Epoch: 50 @ 09:57:35.980174 - Train Loss: 0.0990 - Valid Loss: 0.0942\n",
            "Validation loss decreased (0.094151 --> 0.091516).  Saving model ...\n"
          ],
          "name": "stdout"
        },
        {
          "output_type": "stream",
          "text": [
            "\n",
            "\n",
            "\n",
            "\n",
            "\n",
            "\n",
            " 85%|████████▌ | 51/60 [15:31<02:44, 18.25s/it]\u001b[A\u001b[A\u001b[A\u001b[A\u001b[A\u001b[A"
          ],
          "name": "stderr"
        },
        {
          "output_type": "stream",
          "text": [
            "Train Epoch: 51 @ 09:57:54.608050 - Train Loss: 0.0977 - Valid Loss: 0.0915\n",
            "EarlyStopping counter: 1 out of 10\n"
          ],
          "name": "stdout"
        },
        {
          "output_type": "stream",
          "text": [
            "\n",
            "\n",
            "\n",
            "\n",
            "\n",
            "\n",
            " 87%|████████▋ | 52/60 [15:49<02:25, 18.22s/it]\u001b[A\u001b[A\u001b[A\u001b[A\u001b[A\u001b[A"
          ],
          "name": "stderr"
        },
        {
          "output_type": "stream",
          "text": [
            "Train Epoch: 52 @ 09:58:12.747065 - Train Loss: 0.0980 - Valid Loss: 0.0960\n",
            "EarlyStopping counter: 2 out of 10\n"
          ],
          "name": "stdout"
        },
        {
          "output_type": "stream",
          "text": [
            "\n",
            "\n",
            "\n",
            "\n",
            "\n",
            "\n",
            " 88%|████████▊ | 53/60 [16:07<02:06, 18.10s/it]\u001b[A\u001b[A\u001b[A\u001b[A\u001b[A\u001b[A"
          ],
          "name": "stderr"
        },
        {
          "output_type": "stream",
          "text": [
            "Train Epoch: 53 @ 09:58:30.577813 - Train Loss: 0.0965 - Valid Loss: 0.0991\n",
            "EarlyStopping counter: 3 out of 10\n"
          ],
          "name": "stdout"
        },
        {
          "output_type": "stream",
          "text": [
            "\n",
            "\n",
            "\n",
            "\n",
            "\n",
            "\n",
            " 90%|█████████ | 54/60 [16:25<01:47, 18.00s/it]\u001b[A\u001b[A\u001b[A\u001b[A\u001b[A\u001b[A"
          ],
          "name": "stderr"
        },
        {
          "output_type": "stream",
          "text": [
            "Train Epoch: 54 @ 09:58:48.329507 - Train Loss: 0.0949 - Valid Loss: 0.0986\n",
            "EarlyStopping counter: 4 out of 10\n"
          ],
          "name": "stdout"
        },
        {
          "output_type": "stream",
          "text": [
            "\n",
            "\n",
            "\n",
            "\n",
            "\n",
            "\n",
            " 92%|█████████▏| 55/60 [16:43<01:30, 18.05s/it]\u001b[A\u001b[A\u001b[A\u001b[A\u001b[A\u001b[A"
          ],
          "name": "stderr"
        },
        {
          "output_type": "stream",
          "text": [
            "Train Epoch: 55 @ 09:59:06.523173 - Train Loss: 0.0941 - Valid Loss: 0.0956\n",
            "EarlyStopping counter: 5 out of 10\n"
          ],
          "name": "stdout"
        },
        {
          "output_type": "stream",
          "text": [
            "\n",
            "\n",
            "\n",
            "\n",
            "\n",
            "\n",
            " 93%|█████████▎| 56/60 [17:01<01:12, 18.03s/it]\u001b[A\u001b[A\u001b[A\u001b[A\u001b[A\u001b[A"
          ],
          "name": "stderr"
        },
        {
          "output_type": "stream",
          "text": [
            "Train Epoch: 56 @ 09:59:24.512472 - Train Loss: 0.0937 - Valid Loss: 0.0919\n",
            "EarlyStopping counter: 6 out of 10\n"
          ],
          "name": "stdout"
        },
        {
          "output_type": "stream",
          "text": [
            "\n",
            "\n",
            "\n",
            "\n",
            "\n",
            "\n",
            " 95%|█████████▌| 57/60 [17:19<00:53, 17.96s/it]\u001b[A\u001b[A\u001b[A\u001b[A\u001b[A\u001b[A"
          ],
          "name": "stderr"
        },
        {
          "output_type": "stream",
          "text": [
            "Train Epoch: 57 @ 09:59:42.297882 - Train Loss: 0.0926 - Valid Loss: 0.1019\n",
            "EarlyStopping counter: 7 out of 10\n"
          ],
          "name": "stdout"
        },
        {
          "output_type": "stream",
          "text": [
            "\n",
            "\n",
            "\n",
            "\n",
            "\n",
            "\n",
            " 97%|█████████▋| 58/60 [17:37<00:35, 17.95s/it]\u001b[A\u001b[A\u001b[A\u001b[A\u001b[A\u001b[A"
          ],
          "name": "stderr"
        },
        {
          "output_type": "stream",
          "text": [
            "Train Epoch: 58 @ 10:00:00.217044 - Train Loss: 0.0941 - Valid Loss: 0.0995\n",
            "Validation loss decreased (0.091516 --> 0.090786).  Saving model ...\n"
          ],
          "name": "stdout"
        },
        {
          "output_type": "stream",
          "text": [
            "\n",
            "\n",
            "\n",
            "\n",
            "\n",
            "\n",
            " 98%|█████████▊| 59/60 [17:55<00:18, 18.17s/it]\u001b[A\u001b[A\u001b[A\u001b[A\u001b[A\u001b[A"
          ],
          "name": "stderr"
        },
        {
          "output_type": "stream",
          "text": [
            "Train Epoch: 59 @ 10:00:18.915183 - Train Loss: 0.0908 - Valid Loss: 0.0908\n",
            "EarlyStopping counter: 1 out of 10\n"
          ],
          "name": "stdout"
        },
        {
          "output_type": "stream",
          "text": [
            "\n",
            "\n",
            "\n",
            "\n",
            "\n",
            "\n",
            "100%|██████████| 60/60 [18:13<00:00, 18.23s/it]"
          ],
          "name": "stderr"
        },
        {
          "output_type": "stream",
          "text": [
            "Train Epoch: 60 @ 10:00:36.899584 - Train Loss: 0.0916 - Valid Loss: 0.0961\n"
          ],
          "name": "stdout"
        },
        {
          "output_type": "stream",
          "text": [
            "\n"
          ],
          "name": "stderr"
        },
        {
          "output_type": "display_data",
          "data": {
            "image/png": "[encoded data removed]",
            "text/plain": [
              "<Figure size 720x576 with 1 Axes>"
            ]
          },
          "metadata": {
            "tags": [],
            "needs_background": "light"
          }
        },
        {
          "output_type": "stream",
          "text": [
            "Dice2 score: 0.969970703125\n"
          ],
          "name": "stdout"
        }
      ]
    }
  ]
}