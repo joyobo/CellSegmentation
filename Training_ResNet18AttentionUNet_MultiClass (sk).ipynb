{
 "cells": [
  {
   "cell_type": "code",
   "execution_count": null,
   "metadata": {
    "colab": {
     "base_uri": "https://localhost:8080/"
    },
    "id": "gNLQvPTKpOHV",
    "outputId": "66dc564e-bf50-45b6-b813-92e3a239ee34"
   },
   "outputs": [
    {
     "name": "stdout",
     "output_type": "stream",
     "text": [
      "Drive already mounted at /content/drive; to attempt to forcibly remount, call drive.mount(\"/content/drive\", force_remount=True).\n"
     ]
    }
   ],
   "source": [
    "from google.colab import drive\n",
    "drive.mount('/content/drive')"
   ]
  },
  {
   "cell_type": "code",
   "execution_count": null,
   "metadata": {
    "colab": {
     "base_uri": "https://localhost:8080/"
    },
    "id": "ri0wzjpOF03D",
    "outputId": "d2bf3c59-44e9-4a2d-f597-0cfc6ea8f776"
   },
   "outputs": [
    {
     "name": "stdout",
     "output_type": "stream",
     "text": [
      "/content/drive/MyDrive/AI/CellCount\n"
     ]
    }
   ],
   "source": [
    "# %cd /content/drive/MyDrive/Term 8/Term 8 Artificial Intelligence/folder\n",
    "%cd /content/drive/MyDrive/AI/CellCount"
   ]
  },
  {
   "cell_type": "code",
   "execution_count": null,
   "metadata": {
    "colab": {
     "base_uri": "https://localhost:8080/"
    },
    "id": "0KhkJi2uFlMD",
    "outputId": "e6938762-6346-47f6-9eb9-46baa87eb750"
   },
   "outputs": [
    {
     "name": "stdout",
     "output_type": "stream",
     "text": [
      "fatal: destination path './earlystopping' already exists and is not an empty directory.\n"
     ]
    }
   ],
   "source": [
    "!git clone https://github.com/Bjarten/early-stopping-pytorch.git ./earlystopping"
   ]
  },
  {
   "cell_type": "code",
   "execution_count": null,
   "metadata": {
    "id": "US40j-7RoYYw"
   },
   "outputs": [],
   "source": [
    "import os\n",
    "import torch\n",
    "import datetime\n",
    "from model import *\n",
    "from utils import *\n",
    "import numpy as np\n",
    "from tqdm import tqdm\n",
    "from PIL import Image\n",
    "from skimage import io\n",
    "from torch.optim import Adam\n",
    "import torch.nn.functional as F\n",
    "import matplotlib.pyplot as plt\n",
    "from torchvision import transforms\n",
    "from scipy.io import loadmat, savemat\n",
    "from torch.utils.data import Dataset, DataLoader\n",
    "from earlystopping.pytorchtools import EarlyStopping\n",
    "from torch.utils.data.sampler import SubsetRandomSampler"
   ]
  },
  {
   "cell_type": "markdown",
   "metadata": {
    "id": "cwZAWxnvq04l"
   },
   "source": [
    "# Dataset and Dataloader"
   ]
  },
  {
   "cell_type": "code",
   "execution_count": null,
   "metadata": {
    "id": "R2HRFeuVoYZe"
   },
   "outputs": [],
   "source": [
    "def to_categorical(y, num_classes):\n",
    "    \"\"\" 1-hot encodes a tensor \"\"\"\n",
    "    return np.eye(num_classes, dtype='uint8')[y]\n",
    "\n",
    "class CellDataset(Dataset):\n",
    "\n",
    "    def __init__(self, root_dir, transform=None):\n",
    "        self.fileNames = [i[:-4] for i in sorted(os.listdir(root_dir+\"/Labels/\"))]\n",
    "        self.root_dir = root_dir\n",
    "        self.transform = transform\n",
    "\n",
    "    def __len__(self):\n",
    "        return len(self.fileNames)\n",
    "    \n",
    "    \"\"\"\n",
    "    returns: tuple of\n",
    "    - image\n",
    "    - mask of size n x n with unique values/classes ranging from 0 to 4 \n",
    "        0: background\n",
    "        1: others (1)\n",
    "        2: inflammatory(2)\n",
    "        3: healthy epithelial(3) , dysplastic/malignant epithelial(4)\n",
    "        4: fibroblast(5) , muscle(6) , endothelial(7)\n",
    "    \"\"\"\n",
    "    def __getitem__(self, idx):\n",
    "        img_name = os.path.join(self.root_dir,\"Images\",self.fileNames[idx])+\".png\"\n",
    "        image = img = Image.open(img_name).convert('RGB')\n",
    "        mask_name = os.path.join(self.root_dir,\"Labels\",self.fileNames[idx])+\".mat\"\n",
    "        x = loadmat(mask_name)['type_map']\n",
    "        x[(x==3)|(x==4)]=3\n",
    "        x[(x==5)|(x==6)|(x==7)]=4\n",
    "        \n",
    "        # 250x250 images\n",
    "        # x=np.pad(x.astype(int),3)\n",
    "\n",
    "        # 500x500 images\n",
    "        x=np.pad(x.astype(int),6)\n",
    "\n",
    "        # 1000x1000 images\n",
    "        # x=np.pad(x.astype(int),12)\n",
    "\n",
    "        if self.transform:\n",
    "            image = self.transform(image)\n",
    "        return image, to_categorical(x,5).transpose(2, 0, 1) #(num_classes=5, n, n)"
   ]
  },
  {
   "cell_type": "code",
   "execution_count": null,
   "metadata": {
    "id": "oql6fi9poYZf"
   },
   "outputs": [],
   "source": [
    "transform = transforms.Compose([\n",
    "    # 250x250 images\n",
    "    # transforms.Pad(3),\n",
    "\n",
    "    # 500x500 images\n",
    "    transforms.Pad(6),\n",
    "\n",
    "    # 1000x1000 images\n",
    "    # transforms.Pad(12),\n",
    "    \n",
    "    transforms.ToTensor()    \n",
    "])\n",
    "\n",
    "valid_size = 0.2\n",
    "batch_size =1\n",
    "\n",
    "# DataLoader\n",
    "train_data = CellDataset(root_dir=\"../Train/train_500\", transform = transform)\n",
    "test_data = CellDataset(root_dir=\"../Test/test_500\", transform = transform)\n",
    "\n",
    "# obtain training indices that will be used for validation\n",
    "num_train = len(train_data)\n",
    "indices = list(range(num_train))\n",
    "np.random.shuffle(indices)\n",
    "split = int(np.floor(valid_size * num_train))\n",
    "train_idx, valid_idx = indices[split:], indices[:split]\n",
    "\n",
    "# define samplers for obtaining training and validation batches\n",
    "train_sampler = SubsetRandomSampler(train_idx)\n",
    "valid_sampler = SubsetRandomSampler(valid_idx)\n",
    "\n",
    "# load training data in batches\n",
    "train_loader = DataLoader(train_data,\n",
    "                          batch_size=batch_size,\n",
    "                          sampler=train_sampler,\n",
    "                          num_workers=0)\n",
    "\n",
    "# load validation data in batches\n",
    "valid_loader = DataLoader(train_data,\n",
    "                          batch_size=batch_size,\n",
    "                          sampler=valid_sampler,\n",
    "                          num_workers=0)\n",
    "\n",
    "# load test data in batches\n",
    "test_loader = DataLoader(test_data,\n",
    "                        batch_size=batch_size,\n",
    "                        num_workers=0)"
   ]
  },
  {
   "cell_type": "markdown",
   "metadata": {
    "id": "UsikYua8oYZg"
   },
   "source": [
    "## Training"
   ]
  },
  {
   "cell_type": "code",
   "execution_count": null,
   "metadata": {
    "id": "m1cCDQzFoYZh"
   },
   "outputs": [],
   "source": [
    "def weighted_loss(pred,targ,bce_weight=0.7, smooth=1.):\n",
    "    \n",
    "    bce = F.binary_cross_entropy_with_logits(pred.squeeze(dim=1), targ)\n",
    "    \n",
    "    pred = torch.sigmoid(pred)\n",
    "    \n",
    "    pred = pred.contiguous().squeeze(dim=1)  \n",
    "    targ = targ.contiguous()  \n",
    "\n",
    "    intersection = (pred * targ).sum(dim=1).sum(dim=1)\n",
    "    dice = (1 - ((2. * intersection + smooth) / (pred.sum(dim=1).sum(dim=1) + targ.sum(dim=1).sum(dim=1) + smooth)))\n",
    "    \n",
    "    loss = bce * bce_weight + dice.mean() * (1 - bce_weight)\n",
    "    \n",
    "    return loss\n",
    "\n",
    "def train(model, device, train_loader, valid_loader, optimizer, epochs, patience, model_chkpt_name):\n",
    "    train_losses = []\n",
    "    valid_losses = []\n",
    "    avg_train_losses = [] # average training loss per epoch\n",
    "    avg_valid_losses = [] # average validation loss per epoch\n",
    "    valid_acc = 0\n",
    "    \n",
    "    os.makedirs(\"best_model_checkpoints\", exist_ok=True)\n",
    "    os.makedirs(\"model_checkpoints\", exist_ok=True)\n",
    "    save_path = f\"best_model_checkpoints/{model.__class__.__name__}.pth\"\n",
    "    early_stopping = EarlyStopping(patience=patience, path=save_path, verbose=True)\n",
    "    for epoch in tqdm(range(1, epochs + 1)):\n",
    "        train_loss = 0\n",
    "        valid_loss = 0\n",
    "        score = 0\n",
    "        \"\"\"\n",
    "        Trains the model on training data\n",
    "        \"\"\"\n",
    "        for batch_idx, (data, target) in enumerate(train_loader):\n",
    "            model.train()\n",
    "            data, target = data.to(device), target.to(device).float()\n",
    "\n",
    "            optimizer.zero_grad()\n",
    "            output = model(data)\n",
    "            loss = weighted_loss(output,target,bce_weight=0.5) \n",
    "            loss.backward()\n",
    "            optimizer.step()\n",
    "\n",
    "            train_loss+=(loss/len(data)).item()\n",
    "            train_losses.append(loss.item())\n",
    "            # Find accuracy\n",
    "        \n",
    "        \"\"\"\n",
    "        Validate the model on validation data\n",
    "        \"\"\"\n",
    "        model.eval()\n",
    "        for batch_idx, (data, target) in enumerate(valid_loader):\n",
    "            data, target = data.to(device), target.to(device).float()\n",
    "            output = model(data)\n",
    "            loss = weighted_loss(output,target,bce_weight=0.3)\n",
    "            valid_loss+=(loss/len(data)).item()\n",
    "            valid_losses.append(loss.item())\n",
    "            pred = output[0].to('cpu').detach()\n",
    "            pred=F.softmax(pred, dim=0)# along the channel\n",
    "            pred=pred.numpy()\n",
    "            pred[pred.max(axis=0,keepdims=1) == pred] = 1\n",
    "            pred[pred.max(axis=0,keepdims=1) != pred] = 0\n",
    "            score+=get_dice_1(target, pred)\n",
    "\n",
    "        train_loss /= len(train_loader)\n",
    "        valid_loss /= len(valid_loader)\n",
    "        score /= len(valid_loader)\n",
    "        if score > valid_acc:\n",
    "            valid_acc = score\n",
    "\n",
    "        # average loss over an epoch\n",
    "        train_loss = np.average(train_losses)\n",
    "        valid_loss = np.average(valid_losses)\n",
    "        avg_train_losses.append(train_loss)\n",
    "        avg_valid_losses.append(valid_loss)\n",
    "\n",
    "        # clear lists to track next epoch\n",
    "        train_losses = []\n",
    "        valid_losses = []\n",
    "\n",
    "        # early_stopping needs the validation loss to check if it has decresed, \n",
    "        # and if it has, it will make a checkpoint of the current model\n",
    "        early_stopping(valid_loss, model)\n",
    "\n",
    "        if early_stopping.early_stop:\n",
    "            print(\"Early stopping\")\n",
    "            break\n",
    "\n",
    "        torch.save(model.state_dict(), f\"model_checkpoints/{model.__class__.__name__}_{model_chkpt_name}_{epoch}.pth\")\n",
    "        print('Train Epoch: {} @ {} - Train Loss: {:.4f} - Valid Loss: {:.4f}'.format(epoch, datetime.datetime.now().time(), train_loss, valid_loss))\n",
    "\n",
    "    # load the last checkpoint with the best model\n",
    "    model.load_state_dict(torch.load(save_path)) \n",
    "\n",
    "    return  model, avg_train_losses, avg_valid_losses, valid_acc"
   ]
  },
  {
   "cell_type": "code",
   "execution_count": null,
   "metadata": {
    "id": "g85aEsploYZj"
   },
   "outputs": [],
   "source": [
    "# Set cpu / gpu\n",
    "device = torch.device(\"cuda\" if torch.cuda.is_available() else \"cpu\")\n",
    "\n",
    "# Initialize model and optimizer\n",
    "model = build_model(device, \"resnet\")\n",
    "model.to(device)\n",
    "\n",
    "lr = 0.001\n",
    "optimizer = Adam(model.parameters(), lr=lr)"
   ]
  },
  {
   "cell_type": "code",
   "execution_count": null,
   "metadata": {
    "colab": {
     "base_uri": "https://localhost:8080/"
    },
    "id": "6-XwZQyFHA_L",
    "outputId": "a659e001-e0e9-442b-84a8-52cf9c459ce6",
    "scrolled": true
   },
   "outputs": [
    {
     "name": "stderr",
     "output_type": "stream",
     "text": [
      "  0%|          | 0/100 [00:00<?, ?it/s]"
     ]
    },
    {
     "name": "stdout",
     "output_type": "stream",
     "text": [
      "Training\n",
      "Validation loss decreased (inf --> 0.118768).  Saving model ...\n"
     ]
    },
    {
     "name": "stderr",
     "output_type": "stream",
     "text": [
      "  1%|          | 1/100 [00:22<36:19, 22.02s/it]"
     ]
    },
    {
     "name": "stdout",
     "output_type": "stream",
     "text": [
      "Train Epoch: 1 @ 09:41:33.840128 - Train Loss: 0.2196 - Valid Loss: 0.1188\n",
      "EarlyStopping counter: 1 out of 10\n"
     ]
    },
    {
     "name": "stderr",
     "output_type": "stream",
     "text": [
      "  2%|▏         | 2/100 [00:43<35:41, 21.85s/it]"
     ]
    },
    {
     "name": "stdout",
     "output_type": "stream",
     "text": [
      "Train Epoch: 2 @ 09:41:55.303631 - Train Loss: 0.1615 - Valid Loss: 0.2089\n",
      "Validation loss decreased (0.118768 --> 0.106937).  Saving model ...\n"
     ]
    },
    {
     "name": "stderr",
     "output_type": "stream",
     "text": [
      "  3%|▎         | 3/100 [01:05<35:12, 21.78s/it]"
     ]
    },
    {
     "name": "stdout",
     "output_type": "stream",
     "text": [
      "Train Epoch: 3 @ 09:42:16.921137 - Train Loss: 0.1464 - Valid Loss: 0.1069\n",
      "Validation loss decreased (0.106937 --> 0.093654).  Saving model ...\n"
     ]
    },
    {
     "name": "stderr",
     "output_type": "stream",
     "text": [
      "  4%|▍         | 4/100 [01:26<34:52, 21.80s/it]"
     ]
    },
    {
     "name": "stdout",
     "output_type": "stream",
     "text": [
      "Train Epoch: 4 @ 09:42:38.769319 - Train Loss: 0.1387 - Valid Loss: 0.0937\n",
      "Validation loss decreased (0.093654 --> 0.090398).  Saving model ...\n"
     ]
    },
    {
     "name": "stderr",
     "output_type": "stream",
     "text": [
      "  5%|▌         | 5/100 [01:48<34:35, 21.85s/it]"
     ]
    },
    {
     "name": "stdout",
     "output_type": "stream",
     "text": [
      "Train Epoch: 5 @ 09:43:00.730824 - Train Loss: 0.1231 - Valid Loss: 0.0904\n",
      "EarlyStopping counter: 1 out of 10\n"
     ]
    },
    {
     "name": "stderr",
     "output_type": "stream",
     "text": [
      "  6%|▌         | 6/100 [02:10<33:59, 21.69s/it]"
     ]
    },
    {
     "name": "stdout",
     "output_type": "stream",
     "text": [
      "Train Epoch: 6 @ 09:43:22.057064 - Train Loss: 0.1196 - Valid Loss: 0.1680\n",
      "Validation loss decreased (0.090398 --> 0.082560).  Saving model ...\n"
     ]
    },
    {
     "name": "stderr",
     "output_type": "stream",
     "text": [
      "  7%|▋         | 7/100 [02:31<33:28, 21.60s/it]"
     ]
    },
    {
     "name": "stdout",
     "output_type": "stream",
     "text": [
      "Train Epoch: 7 @ 09:43:43.439997 - Train Loss: 0.1245 - Valid Loss: 0.0826\n",
      "Validation loss decreased (0.082560 --> 0.080655).  Saving model ...\n"
     ]
    },
    {
     "name": "stderr",
     "output_type": "stream",
     "text": [
      "  8%|▊         | 8/100 [02:53<33:11, 21.64s/it]"
     ]
    },
    {
     "name": "stdout",
     "output_type": "stream",
     "text": [
      "Train Epoch: 8 @ 09:44:05.190902 - Train Loss: 0.1094 - Valid Loss: 0.0807\n",
      "EarlyStopping counter: 1 out of 10\n"
     ]
    },
    {
     "name": "stderr",
     "output_type": "stream",
     "text": [
      "  9%|▉         | 9/100 [03:14<32:38, 21.52s/it]"
     ]
    },
    {
     "name": "stdout",
     "output_type": "stream",
     "text": [
      "Train Epoch: 9 @ 09:44:26.429101 - Train Loss: 0.1017 - Valid Loss: 0.0854\n",
      "EarlyStopping counter: 2 out of 10\n"
     ]
    },
    {
     "name": "stderr",
     "output_type": "stream",
     "text": [
      " 10%|█         | 10/100 [03:35<32:06, 21.41s/it]"
     ]
    },
    {
     "name": "stdout",
     "output_type": "stream",
     "text": [
      "Train Epoch: 10 @ 09:44:47.561785 - Train Loss: 0.1311 - Valid Loss: 0.0912\n",
      "EarlyStopping counter: 3 out of 10\n"
     ]
    },
    {
     "name": "stderr",
     "output_type": "stream",
     "text": [
      " 11%|█         | 11/100 [03:56<31:41, 21.36s/it]"
     ]
    },
    {
     "name": "stdout",
     "output_type": "stream",
     "text": [
      "Train Epoch: 11 @ 09:45:08.819825 - Train Loss: 0.1066 - Valid Loss: 0.0864\n",
      "EarlyStopping counter: 4 out of 10\n"
     ]
    },
    {
     "name": "stderr",
     "output_type": "stream",
     "text": [
      " 12%|█▏        | 12/100 [04:18<31:18, 21.34s/it]"
     ]
    },
    {
     "name": "stdout",
     "output_type": "stream",
     "text": [
      "Train Epoch: 12 @ 09:45:30.116021 - Train Loss: 0.0948 - Valid Loss: 0.0899\n",
      "EarlyStopping counter: 5 out of 10\n"
     ]
    },
    {
     "name": "stderr",
     "output_type": "stream",
     "text": [
      " 13%|█▎        | 13/100 [04:39<31:00, 21.38s/it]"
     ]
    },
    {
     "name": "stdout",
     "output_type": "stream",
     "text": [
      "Train Epoch: 13 @ 09:45:51.599131 - Train Loss: 0.0939 - Valid Loss: 0.0893\n",
      "Validation loss decreased (0.080655 --> 0.077225).  Saving model ...\n"
     ]
    },
    {
     "name": "stderr",
     "output_type": "stream",
     "text": [
      " 14%|█▍        | 14/100 [05:01<30:43, 21.43s/it]"
     ]
    },
    {
     "name": "stdout",
     "output_type": "stream",
     "text": [
      "Train Epoch: 14 @ 09:46:13.151649 - Train Loss: 0.0881 - Valid Loss: 0.0772\n",
      "EarlyStopping counter: 1 out of 10\n"
     ]
    },
    {
     "name": "stderr",
     "output_type": "stream",
     "text": [
      " 15%|█▌        | 15/100 [05:22<30:20, 21.42s/it]"
     ]
    },
    {
     "name": "stdout",
     "output_type": "stream",
     "text": [
      "Train Epoch: 15 @ 09:46:34.521498 - Train Loss: 0.0896 - Valid Loss: 0.1002\n",
      "EarlyStopping counter: 2 out of 10\n"
     ]
    },
    {
     "name": "stderr",
     "output_type": "stream",
     "text": [
      " 16%|█▌        | 16/100 [05:43<29:54, 21.36s/it]"
     ]
    },
    {
     "name": "stdout",
     "output_type": "stream",
     "text": [
      "Train Epoch: 16 @ 09:46:55.750758 - Train Loss: 0.0837 - Valid Loss: 0.0795\n",
      "Validation loss decreased (0.077225 --> 0.075603).  Saving model ...\n"
     ]
    },
    {
     "name": "stderr",
     "output_type": "stream",
     "text": [
      " 17%|█▋        | 17/100 [06:05<29:33, 21.37s/it]"
     ]
    },
    {
     "name": "stdout",
     "output_type": "stream",
     "text": [
      "Train Epoch: 17 @ 09:47:17.156479 - Train Loss: 0.0829 - Valid Loss: 0.0756\n",
      "Validation loss decreased (0.075603 --> 0.073766).  Saving model ...\n"
     ]
    },
    {
     "name": "stderr",
     "output_type": "stream",
     "text": [
      " 18%|█▊        | 18/100 [06:26<29:12, 21.37s/it]"
     ]
    },
    {
     "name": "stdout",
     "output_type": "stream",
     "text": [
      "Train Epoch: 18 @ 09:47:38.526401 - Train Loss: 0.0822 - Valid Loss: 0.0738\n",
      "EarlyStopping counter: 1 out of 10\n"
     ]
    },
    {
     "name": "stderr",
     "output_type": "stream",
     "text": [
      " 19%|█▉        | 19/100 [06:48<28:52, 21.39s/it]"
     ]
    },
    {
     "name": "stdout",
     "output_type": "stream",
     "text": [
      "Train Epoch: 19 @ 09:47:59.960669 - Train Loss: 0.0832 - Valid Loss: 0.0843\n",
      "EarlyStopping counter: 2 out of 10\n"
     ]
    },
    {
     "name": "stderr",
     "output_type": "stream",
     "text": [
      " 20%|██        | 20/100 [07:09<28:28, 21.35s/it]"
     ]
    },
    {
     "name": "stdout",
     "output_type": "stream",
     "text": [
      "Train Epoch: 20 @ 09:48:21.215520 - Train Loss: 0.0783 - Valid Loss: 0.0755\n",
      "EarlyStopping counter: 3 out of 10\n"
     ]
    },
    {
     "name": "stderr",
     "output_type": "stream",
     "text": [
      " 21%|██        | 21/100 [07:30<28:03, 21.31s/it]"
     ]
    },
    {
     "name": "stdout",
     "output_type": "stream",
     "text": [
      "Train Epoch: 21 @ 09:48:42.417200 - Train Loss: 0.0738 - Valid Loss: 0.0819\n",
      "EarlyStopping counter: 4 out of 10\n"
     ]
    },
    {
     "name": "stderr",
     "output_type": "stream",
     "text": [
      " 22%|██▏       | 22/100 [07:51<27:42, 21.31s/it]"
     ]
    },
    {
     "name": "stdout",
     "output_type": "stream",
     "text": [
      "Train Epoch: 22 @ 09:49:03.739320 - Train Loss: 0.0735 - Valid Loss: 0.0824\n",
      "EarlyStopping counter: 5 out of 10\n"
     ]
    },
    {
     "name": "stderr",
     "output_type": "stream",
     "text": [
      " 23%|██▎       | 23/100 [08:12<27:14, 21.23s/it]"
     ]
    },
    {
     "name": "stdout",
     "output_type": "stream",
     "text": [
      "Train Epoch: 23 @ 09:49:24.769280 - Train Loss: 0.0852 - Valid Loss: 0.0842\n",
      "EarlyStopping counter: 6 out of 10\n"
     ]
    },
    {
     "name": "stderr",
     "output_type": "stream",
     "text": [
      " 24%|██▍       | 24/100 [08:34<26:53, 21.23s/it]"
     ]
    },
    {
     "name": "stdout",
     "output_type": "stream",
     "text": [
      "Train Epoch: 24 @ 09:49:46.008466 - Train Loss: 0.0805 - Valid Loss: 0.0841\n",
      "EarlyStopping counter: 7 out of 10\n"
     ]
    },
    {
     "name": "stderr",
     "output_type": "stream",
     "text": [
      " 25%|██▌       | 25/100 [08:55<26:34, 21.26s/it]"
     ]
    },
    {
     "name": "stdout",
     "output_type": "stream",
     "text": [
      "Train Epoch: 25 @ 09:50:07.324353 - Train Loss: 0.0725 - Valid Loss: 0.0755\n",
      "EarlyStopping counter: 8 out of 10\n"
     ]
    },
    {
     "name": "stderr",
     "output_type": "stream",
     "text": [
      " 26%|██▌       | 26/100 [09:16<26:13, 21.26s/it]"
     ]
    },
    {
     "name": "stdout",
     "output_type": "stream",
     "text": [
      "Train Epoch: 26 @ 09:50:28.607389 - Train Loss: 0.0708 - Valid Loss: 0.0755\n",
      "EarlyStopping counter: 9 out of 10\n"
     ]
    },
    {
     "name": "stderr",
     "output_type": "stream",
     "text": [
      " 27%|██▋       | 27/100 [09:37<25:50, 21.24s/it]"
     ]
    },
    {
     "name": "stdout",
     "output_type": "stream",
     "text": [
      "Train Epoch: 27 @ 09:50:49.787331 - Train Loss: 0.0691 - Valid Loss: 0.0742\n"
     ]
    },
    {
     "name": "stderr",
     "output_type": "stream",
     "text": [
      " 27%|██▋       | 27/100 [09:58<26:59, 22.18s/it]"
     ]
    },
    {
     "name": "stdout",
     "output_type": "stream",
     "text": [
      "EarlyStopping counter: 10 out of 10\n",
      "Early stopping\n"
     ]
    },
    {
     "name": "stderr",
     "output_type": "stream",
     "text": [
      "\n"
     ]
    }
   ],
   "source": [
    "# Training the model\n",
    "print(\"Training\")\n",
    "\n",
    "epochs = 100\n",
    "patience = 10  # how long to wait after last time validation loss improved\n",
    "model_chkpt_name = \"ResNet-500x500\"\n",
    "\n",
    "model, train_loss, valid_loss, valid_acc = train(model, device, train_loader, valid_loader, optimizer, epochs, patience, model_chkpt_name)"
   ]
  },
  {
   "cell_type": "code",
   "execution_count": null,
   "metadata": {
    "id": "X5SSioMVArTN",
    "outputId": "3ff2bb6f-fcb7-4132-990b-2441c19d40e6"
   },
   "outputs": [
    {
     "name": "stdout",
     "output_type": "stream",
     "text": [
      "DICE score: 0.9381444012677228\n"
     ]
    }
   ],
   "source": [
    "print(\"DICE score:\", valid_acc)"
   ]
  },
  {
   "cell_type": "markdown",
   "metadata": {
    "id": "Vi81-A1GMg1M"
   },
   "source": [
    "# Graph"
   ]
  },
  {
   "cell_type": "code",
   "execution_count": null,
   "metadata": {
    "id": "h-CSgLOsMf-A"
   },
   "outputs": [],
   "source": [
    "def plot_graph(train_loss, valid_loss):\n",
    "  fig = plt.figure(figsize=(10,8))\n",
    "  plt.plot(range(1,len(train_loss)+1),train_loss, label='Training Loss')\n",
    "  plt.plot(range(1,len(valid_loss)+1),valid_loss,label='Validation Loss')\n",
    "\n",
    "  # find position of lowest validation loss\n",
    "  minposs = valid_loss.index(min(valid_loss))+1 \n",
    "  plt.axvline(minposs, linestyle='--', color='r',label='Early Stopping Checkpoint')\n",
    "\n",
    "  plt.xlabel('epochs')\n",
    "  plt.ylabel('loss')\n",
    "  plt.ylim(0, 0.5) # consistent scale\n",
    "  plt.xlim(0, len(train_loss)+1) # consistent scale\n",
    "  plt.grid(True)\n",
    "  plt.legend()\n",
    "  plt.tight_layout()\n",
    "  plt.show()\n",
    "  fig.savefig('loss_plot.png', bbox_inches='tight')"
   ]
  },
  {
   "cell_type": "code",
   "execution_count": null,
   "metadata": {
    "id": "1kbc297UMkPD"
   },
   "outputs": [],
   "source": [
    "plot_graph(train_loss, valid_loss)"
   ]
  },
  {
   "cell_type": "markdown",
   "metadata": {
    "id": "Cy8OdumOVIar"
   },
   "source": [
    "# Load model\n"
   ]
  },
  {
   "cell_type": "code",
   "execution_count": null,
   "metadata": {
    "id": "26rd63IGVMrF"
   },
   "outputs": [],
   "source": [
    "# load saved model\n",
    "def load_model(model):\n",
    "  path = f\"best_model_checkpoints/{model.__class__.__name__}.pth\"\n",
    "  model.load_state_dict(torch.load(path)) \n",
    "  model.eval()\n",
    "  return model\n",
    "model = load_model(model)"
   ]
  },
  {
   "cell_type": "markdown",
   "metadata": {
    "id": "N-QK3yY7lGbc"
   },
   "source": [
    "# Test"
   ]
  },
  {
   "cell_type": "code",
   "execution_count": null,
   "metadata": {
    "id": "fIsIYknpArTP"
   },
   "outputs": [],
   "source": [
    "\"\"\"\n",
    "0: black: background\n",
    "1: red: others (1)\n",
    "2: green: inflammatory(2)\n",
    "3: dark blue: healthy epithelial(3) , dysplastic/malignant epithelial(4)\n",
    "4: light blue: fibroblast(5) , muscle(6) , endothelial(7)\n",
    "\"\"\"\n",
    "# params: 5 x n x n numpy or n x n x 5\n",
    "def printColoredMask(npMask,numchannel=5):\n",
    "    if npMask.shape[-1]!=5:\n",
    "        npMask=npMask.transpose(1, 2, 0)\n",
    "    finalnpMask=np.where(npMask[:,:,1]==1,255,0) # one color\n",
    "    finalnpMask=finalnpMask[:,:,None]\n",
    "    temp=np.where((npMask[:,:,2]==1)|(npMask[:,:,4]==1),255,0) # one color\n",
    "    finalnpMask = np.concatenate((finalnpMask,temp[:, :, None]),axis=2)\n",
    "    temp=np.where((npMask[:,:,3]==1)|(npMask[:,:,4]==1),255,0) # one color\n",
    "    finalnpMask = np.concatenate((finalnpMask,temp[:, :, None]),axis=2)\n",
    "    plt.imshow(finalnpMask)\n",
    "    plt.show()"
   ]
  },
  {
   "cell_type": "code",
   "execution_count": null,
   "metadata": {
    "id": "Cy3v6P2k0gqn"
   },
   "outputs": [],
   "source": [
    "def test(model, device, data, target):\n",
    "    print(\"Input Image\")\n",
    "    plt.imshow(data[0].numpy().transpose(1, 2, 0))\n",
    "    plt.show()\n",
    "    outputs = model(data.to(device))[0]\n",
    "    pred = outputs.to('cpu').detach()\n",
    "    pred=F.softmax(pred, dim=0)# along the channel\n",
    "    pred=pred.numpy()\n",
    "\n",
    "    print(\"Predicted Mask Sigmoid\")\n",
    "    pred[pred.max(axis=0,keepdims=1) == pred] = 1\n",
    "    pred[pred.max(axis=0,keepdims=1) != pred] = 0\n",
    "    printColoredMask(pred)\n",
    "    print(\"Actual Mask\")\n",
    "    printColoredMask(target[0].numpy())\n",
    "\n",
    "    # PQ\n",
    "    pq_score = get_fast_pq(target, pred)[0]\n",
    "    print(\"Detection Quality (DQ):\", pq_score[0])\n",
    "    print(\"Segmentation Quality (SQ):\", pq_score[1])\n",
    "    print(\"Panoptic Quality (PQ):\", pq_score[2])\n",
    "    \n",
    "    dice_score = get_dice_1(target, pred)\n",
    "    print(\"Dice score:\", dice_score, \"\\n\")"
   ]
  },
  {
   "cell_type": "code",
   "execution_count": null,
   "metadata": {
    "colab": {
     "base_uri": "https://localhost:8080/",
     "height": 1000
    },
    "id": "EhR_iX6gPIed",
    "outputId": "59ac81fe-31ad-4e72-f47f-c3e693e14f74"
   },
   "outputs": [
    {
     "name": "stdout",
     "output_type": "stream",
     "text": [
      "Input Image\n"
     ]
    },
    {
     "data": {
      "image/png": "[encoded data removed]",
      "text/plain": [
       "<Figure size 432x288 with 1 Axes>"
      ]
     },
     "metadata": {
      "needs_background": "light",
      "tags": []
     },
     "output_type": "display_data"
    },
    {
     "name": "stdout",
     "output_type": "stream",
     "text": [
      "Predicted Mask Sigmoid\n"
     ]
    },
    {
     "data": {
      "image/png": "[encoded data removed]",
      "text/plain": [
       "<Figure size 432x288 with 1 Axes>"
      ]
     },
     "metadata": {
      "needs_background": "light",
      "tags": []
     },
     "output_type": "display_data"
    },
    {
     "name": "stdout",
     "output_type": "stream",
     "text": [
      "Actual Mask\n"
     ]
    },
    {
     "data": {
      "image/png": "[encoded data removed]",
      "text/plain": [
       "<Figure size 432x288 with 1 Axes>"
      ]
     },
     "metadata": {
      "needs_background": "light",
      "tags": []
     },
     "output_type": "display_data"
    },
    {
     "name": "stdout",
     "output_type": "stream",
     "text": [
      "Detection Quality (DQ): 1.0\n",
      "Segmentation Quality (SQ): 0.7608853784101839\n",
      "Panoptic Quality (PQ): 0.7608853784101839\n",
      "Dice score: 0.8642082214355469 \n",
      "\n"
     ]
    }
   ],
   "source": [
    "# Testing the model\n",
    "for data, target in test_loader:\n",
    "    test(model, device, data, target)\n",
    "    break"
   ]
  },
  {
   "cell_type": "markdown",
   "metadata": {
    "id": "tEsZeHNFyx7J"
   },
   "source": [
    "# Hyperparameter"
   ]
  },
  {
   "cell_type": "code",
   "execution_count": null,
   "metadata": {
    "id": "KVgUkJAtoBO2"
   },
   "outputs": [],
   "source": [
    "def hyperparam_tuning(train_dir, bs, lr, epochs, patience, model_chkpt_name):\n",
    "    print(\"Batch size: {}, Learning rate: {} , Epochs: {}\\n\".format(bs, lr, epochs))\n",
    "    \n",
    "    valid_size = 0.2\n",
    "\n",
    "    # DataLoader\n",
    "    train_data = CellDataset(root_dir=train_dir, transform = transform)\n",
    "\n",
    "    # obtain training indices that will be used for validation\n",
    "    num_train = len(train_data)\n",
    "    indices = list(range(num_train))\n",
    "    np.random.shuffle(indices)\n",
    "    split = int(np.floor(valid_size * num_train))\n",
    "    train_idx, valid_idx = indices[split:], indices[:split]\n",
    "\n",
    "    # define samplers for obtaining training and validation batches\n",
    "    train_sampler = SubsetRandomSampler(train_idx)\n",
    "    valid_sampler = SubsetRandomSampler(valid_idx)\n",
    "\n",
    "    # load training data in batches\n",
    "    train_loader = DataLoader(train_data,\n",
    "                              batch_size=bs,\n",
    "                              sampler=train_sampler,\n",
    "                              num_workers=0)\n",
    "\n",
    "    # load validation data in batches\n",
    "    valid_loader = DataLoader(train_data,\n",
    "                              batch_size=bs,\n",
    "                              sampler=valid_sampler,\n",
    "                              num_workers=0)\n",
    "    \n",
    "    # Set cpu / gpu\n",
    "    device = torch.device(\"cuda\" if torch.cuda.is_available() else \"cpu\")\n",
    "\n",
    "    # Initialize model and optimizer\n",
    "    model = build_model(device, \"resnet\")\n",
    "    model.to(device)\n",
    "    optimizer = Adam(model.parameters(), lr=lr)\n",
    "    \n",
    "    # Train model\n",
    "    model, train_loss, valid_loss, valid_acc = train(model, device, train_loader, valid_loader, optimizer, epochs, patience, model_chkpt_name)\n",
    "    plot_graph(train_loss, valid_loss)\n",
    "    \n",
    "    print(\"Dice2 score:\", valid_acc)"
   ]
  },
  {
   "cell_type": "markdown",
   "metadata": {
    "id": "54DQsZ030_58"
   },
   "source": [
    "#### model(2layer) - 500x500 images"
   ]
  },
  {
   "cell_type": "code",
   "execution_count": null,
   "metadata": {
    "colab": {
     "base_uri": "https://localhost:8080/",
     "height": 1000
    },
    "id": "Yp6DBLW11CXB",
    "outputId": "b18d734c-6097-4406-8c7c-6ac0764bb81a"
   },
   "outputs": [
    {
     "name": "stdout",
     "output_type": "stream",
     "text": [
      "Batch size: 1, Learning rate: 0.001 , Epochs: 60\n",
      "\n"
     ]
    },
    {
     "name": "stderr",
     "output_type": "stream",
     "text": [
      "\r",
      "  0%|          | 0/60 [00:00<?, ?it/s]/usr/local/lib/python3.7/dist-packages/torch/nn/functional.py:718: UserWarning: Named tensors and all their associated APIs are an experimental feature and subject to change. Please do not use them for anything important until they are released as stable. (Triggered internally at  /pytorch/c10/core/TensorImpl.h:1156.)\n",
      "  return torch.max_pool2d(input, kernel_size, stride, padding, dilation, ceil_mode)\n"
     ]
    },
    {
     "name": "stdout",
     "output_type": "stream",
     "text": [
      "Validation loss decreased (inf --> 0.167197).  Saving model ...\n"
     ]
    },
    {
     "name": "stderr",
     "output_type": "stream",
     "text": [
      "\r",
      "  2%|▏         | 1/60 [00:23<23:09, 23.55s/it]"
     ]
    },
    {
     "name": "stdout",
     "output_type": "stream",
     "text": [
      "Train Epoch: 1 @ 15:56:37.496044 - Train Loss: 0.2172 - Valid Loss: 0.1672\n",
      "Validation loss decreased (0.167197 --> 0.142752).  Saving model ...\n"
     ]
    },
    {
     "name": "stderr",
     "output_type": "stream",
     "text": [
      "\r",
      "  3%|▎         | 2/60 [00:47<22:59, 23.78s/it]"
     ]
    },
    {
     "name": "stdout",
     "output_type": "stream",
     "text": [
      "Train Epoch: 2 @ 15:57:01.801490 - Train Loss: 0.1507 - Valid Loss: 0.1428\n",
      "Validation loss decreased (0.142752 --> 0.124919).  Saving model ...\n"
     ]
    },
    {
     "name": "stderr",
     "output_type": "stream",
     "text": [
      "\r",
      "  5%|▌         | 3/60 [01:12<22:43, 23.91s/it]"
     ]
    },
    {
     "name": "stdout",
     "output_type": "stream",
     "text": [
      "Train Epoch: 3 @ 15:57:26.039513 - Train Loss: 0.1422 - Valid Loss: 0.1249\n",
      "EarlyStopping counter: 1 out of 10\n"
     ]
    },
    {
     "name": "stderr",
     "output_type": "stream",
     "text": [
      "\r",
      "  7%|▋         | 4/60 [01:35<22:11, 23.78s/it]"
     ]
    },
    {
     "name": "stdout",
     "output_type": "stream",
     "text": [
      "Train Epoch: 4 @ 15:57:49.502074 - Train Loss: 0.1278 - Valid Loss: 0.1262\n",
      "EarlyStopping counter: 2 out of 10\n"
     ]
    },
    {
     "name": "stderr",
     "output_type": "stream",
     "text": [
      "\r",
      "  8%|▊         | 5/60 [01:59<21:46, 23.76s/it]"
     ]
    },
    {
     "name": "stdout",
     "output_type": "stream",
     "text": [
      "Train Epoch: 5 @ 15:58:13.229057 - Train Loss: 0.1193 - Valid Loss: 0.1457\n",
      "Validation loss decreased (0.124919 --> 0.116768).  Saving model ...\n"
     ]
    },
    {
     "name": "stderr",
     "output_type": "stream",
     "text": [
      "\r",
      " 10%|█         | 6/60 [02:23<21:31, 23.91s/it]"
     ]
    },
    {
     "name": "stdout",
     "output_type": "stream",
     "text": [
      "Train Epoch: 6 @ 15:58:37.495327 - Train Loss: 0.1183 - Valid Loss: 0.1168\n",
      "Validation loss decreased (0.116768 --> 0.108702).  Saving model ...\n"
     ]
    },
    {
     "name": "stderr",
     "output_type": "stream",
     "text": [
      "\r",
      " 12%|█▏        | 7/60 [02:47<21:12, 24.02s/it]"
     ]
    },
    {
     "name": "stdout",
     "output_type": "stream",
     "text": [
      "Train Epoch: 7 @ 15:59:01.751075 - Train Loss: 0.1072 - Valid Loss: 0.1087\n",
      "EarlyStopping counter: 1 out of 10\n"
     ]
    },
    {
     "name": "stderr",
     "output_type": "stream",
     "text": [
      "\r",
      " 13%|█▎        | 8/60 [03:12<20:54, 24.12s/it]"
     ]
    },
    {
     "name": "stdout",
     "output_type": "stream",
     "text": [
      "Train Epoch: 8 @ 15:59:26.111617 - Train Loss: 0.1028 - Valid Loss: 0.1160\n",
      "EarlyStopping counter: 2 out of 10\n"
     ]
    },
    {
     "name": "stderr",
     "output_type": "stream",
     "text": [
      "\r",
      " 15%|█▌        | 9/60 [03:36<20:28, 24.09s/it]"
     ]
    },
    {
     "name": "stdout",
     "output_type": "stream",
     "text": [
      "Train Epoch: 9 @ 15:59:50.146961 - Train Loss: 0.0992 - Valid Loss: 0.1156\n",
      "EarlyStopping counter: 3 out of 10\n"
     ]
    },
    {
     "name": "stderr",
     "output_type": "stream",
     "text": [
      "\r",
      " 17%|█▋        | 10/60 [04:00<20:02, 24.06s/it]"
     ]
    },
    {
     "name": "stdout",
     "output_type": "stream",
     "text": [
      "Train Epoch: 10 @ 16:00:14.117002 - Train Loss: 0.0930 - Valid Loss: 0.1301\n",
      "Validation loss decreased (0.108702 --> 0.094306).  Saving model ...\n"
     ]
    },
    {
     "name": "stderr",
     "output_type": "stream",
     "text": [
      "\r",
      " 18%|█▊        | 11/60 [04:24<19:41, 24.10s/it]"
     ]
    },
    {
     "name": "stdout",
     "output_type": "stream",
     "text": [
      "Train Epoch: 11 @ 16:00:38.326883 - Train Loss: 0.0948 - Valid Loss: 0.0943\n",
      "Validation loss decreased (0.094306 --> 0.086897).  Saving model ...\n"
     ]
    },
    {
     "name": "stderr",
     "output_type": "stream",
     "text": [
      "\r",
      " 20%|██        | 12/60 [04:49<19:27, 24.33s/it]"
     ]
    },
    {
     "name": "stdout",
     "output_type": "stream",
     "text": [
      "Train Epoch: 12 @ 16:01:03.170667 - Train Loss: 0.0895 - Valid Loss: 0.0869\n",
      "EarlyStopping counter: 1 out of 10\n"
     ]
    },
    {
     "name": "stderr",
     "output_type": "stream",
     "text": [
      "\r",
      " 22%|██▏       | 13/60 [05:13<19:02, 24.30s/it]"
     ]
    },
    {
     "name": "stdout",
     "output_type": "stream",
     "text": [
      "Train Epoch: 13 @ 16:01:27.407991 - Train Loss: 0.0820 - Valid Loss: 0.1169\n",
      "EarlyStopping counter: 2 out of 10\n"
     ]
    },
    {
     "name": "stderr",
     "output_type": "stream",
     "text": [
      "\r",
      " 23%|██▎       | 14/60 [05:37<18:30, 24.14s/it]"
     ]
    },
    {
     "name": "stdout",
     "output_type": "stream",
     "text": [
      "Train Epoch: 14 @ 16:01:51.175930 - Train Loss: 0.0753 - Valid Loss: 0.0911\n",
      "EarlyStopping counter: 3 out of 10\n"
     ]
    },
    {
     "name": "stderr",
     "output_type": "stream",
     "text": [
      "\r",
      " 25%|██▌       | 15/60 [06:01<18:10, 24.24s/it]"
     ]
    },
    {
     "name": "stdout",
     "output_type": "stream",
     "text": [
      "Train Epoch: 15 @ 16:02:15.633984 - Train Loss: 0.0757 - Valid Loss: 0.0954\n",
      "EarlyStopping counter: 4 out of 10\n"
     ]
    },
    {
     "name": "stderr",
     "output_type": "stream",
     "text": [
      "\r",
      " 27%|██▋       | 16/60 [06:25<17:40, 24.10s/it]"
     ]
    },
    {
     "name": "stdout",
     "output_type": "stream",
     "text": [
      "Train Epoch: 16 @ 16:02:39.405919 - Train Loss: 0.0729 - Valid Loss: 0.1269\n",
      "EarlyStopping counter: 5 out of 10\n"
     ]
    },
    {
     "name": "stderr",
     "output_type": "stream",
     "text": [
      "\r",
      " 28%|██▊       | 17/60 [06:49<17:14, 24.06s/it]"
     ]
    },
    {
     "name": "stdout",
     "output_type": "stream",
     "text": [
      "Train Epoch: 17 @ 16:03:03.372198 - Train Loss: 0.0845 - Valid Loss: 0.1102\n",
      "EarlyStopping counter: 6 out of 10\n"
     ]
    },
    {
     "name": "stderr",
     "output_type": "stream",
     "text": [
      "\r",
      " 30%|███       | 18/60 [07:13<16:52, 24.10s/it]"
     ]
    },
    {
     "name": "stdout",
     "output_type": "stream",
     "text": [
      "Train Epoch: 18 @ 16:03:27.571982 - Train Loss: 0.0681 - Valid Loss: 0.1006\n",
      "EarlyStopping counter: 7 out of 10\n"
     ]
    },
    {
     "name": "stderr",
     "output_type": "stream",
     "text": [
      "\r",
      " 32%|███▏      | 19/60 [07:37<16:24, 24.01s/it]"
     ]
    },
    {
     "name": "stdout",
     "output_type": "stream",
     "text": [
      "Train Epoch: 19 @ 16:03:51.378855 - Train Loss: 0.0609 - Valid Loss: 0.1245\n",
      "EarlyStopping counter: 8 out of 10\n"
     ]
    },
    {
     "name": "stderr",
     "output_type": "stream",
     "text": [
      "\r",
      " 33%|███▎      | 20/60 [08:01<16:02, 24.05s/it]"
     ]
    },
    {
     "name": "stdout",
     "output_type": "stream",
     "text": [
      "Train Epoch: 20 @ 16:04:15.532923 - Train Loss: 0.0560 - Valid Loss: 0.1002\n",
      "EarlyStopping counter: 9 out of 10\n"
     ]
    },
    {
     "name": "stderr",
     "output_type": "stream",
     "text": [
      "\r",
      " 35%|███▌      | 21/60 [08:25<15:38, 24.07s/it]"
     ]
    },
    {
     "name": "stdout",
     "output_type": "stream",
     "text": [
      "Train Epoch: 21 @ 16:04:39.651331 - Train Loss: 0.0533 - Valid Loss: 0.0947\n",
      "EarlyStopping counter: 10 out of 10\n",
      "Early stopping\n"
     ]
    },
    {
     "data": {
      "image/png": "[encoded data removed]",
      "text/plain": [
       "<Figure size 720x576 with 1 Axes>"
      ]
     },
     "metadata": {
      "needs_background": "light",
      "tags": []
     },
     "output_type": "display_data"
    },
    {
     "name": "stdout",
     "output_type": "stream",
     "text": [
      "Dice2 score: 0.9274987114800347\n",
      "Batch size: 1, Learning rate: 0.0001 , Epochs: 60\n",
      "\n"
     ]
    },
    {
     "name": "stderr",
     "output_type": "stream",
     "text": [
      "\n",
      "  0%|          | 0/60 [00:00<?, ?it/s]\u001b[A"
     ]
    },
    {
     "name": "stdout",
     "output_type": "stream",
     "text": [
      "Validation loss decreased (inf --> 0.125300).  Saving model ...\n"
     ]
    },
    {
     "name": "stderr",
     "output_type": "stream",
     "text": [
      "\n",
      "  2%|▏         | 1/60 [00:24<24:01, 24.44s/it]\u001b[A"
     ]
    },
    {
     "name": "stdout",
     "output_type": "stream",
     "text": [
      "Train Epoch: 1 @ 16:05:29.654560 - Train Loss: 0.2730 - Valid Loss: 0.1253\n",
      "Validation loss decreased (0.125300 --> 0.110183).  Saving model ...\n"
     ]
    },
    {
     "name": "stderr",
     "output_type": "stream",
     "text": [
      "\n",
      "  3%|▎         | 2/60 [00:49<23:45, 24.58s/it]\u001b[A"
     ]
    },
    {
     "name": "stdout",
     "output_type": "stream",
     "text": [
      "Train Epoch: 2 @ 16:05:54.549459 - Train Loss: 0.1818 - Valid Loss: 0.1102\n",
      "Validation loss decreased (0.110183 --> 0.108151).  Saving model ...\n"
     ]
    },
    {
     "name": "stderr",
     "output_type": "stream",
     "text": [
      "\n",
      "  5%|▌         | 3/60 [01:14<23:30, 24.74s/it]\u001b[A"
     ]
    },
    {
     "name": "stdout",
     "output_type": "stream",
     "text": [
      "Train Epoch: 3 @ 16:06:19.683048 - Train Loss: 0.1606 - Valid Loss: 0.1082\n",
      "Validation loss decreased (0.108151 --> 0.093997).  Saving model ...\n"
     ]
    },
    {
     "name": "stderr",
     "output_type": "stream",
     "text": [
      "\n",
      "  7%|▋         | 4/60 [01:39<23:06, 24.76s/it]\u001b[A"
     ]
    },
    {
     "name": "stdout",
     "output_type": "stream",
     "text": [
      "Train Epoch: 4 @ 16:06:44.486431 - Train Loss: 0.1422 - Valid Loss: 0.0940\n",
      "Validation loss decreased (0.093997 --> 0.090609).  Saving model ...\n"
     ]
    },
    {
     "name": "stderr",
     "output_type": "stream",
     "text": [
      "\n",
      "  8%|▊         | 5/60 [02:04<22:51, 24.94s/it]\u001b[A"
     ]
    },
    {
     "name": "stdout",
     "output_type": "stream",
     "text": [
      "Train Epoch: 5 @ 16:07:09.848421 - Train Loss: 0.1263 - Valid Loss: 0.0906\n",
      "EarlyStopping counter: 1 out of 10\n"
     ]
    },
    {
     "name": "stderr",
     "output_type": "stream",
     "text": [
      "\n",
      " 10%|█         | 6/60 [02:29<22:19, 24.80s/it]\u001b[A"
     ]
    },
    {
     "name": "stdout",
     "output_type": "stream",
     "text": [
      "Train Epoch: 6 @ 16:07:34.309293 - Train Loss: 0.1165 - Valid Loss: 0.0907\n",
      "Validation loss decreased (0.090609 --> 0.086745).  Saving model ...\n"
     ]
    },
    {
     "name": "stderr",
     "output_type": "stream",
     "text": [
      "\n",
      " 12%|█▏        | 7/60 [02:53<21:52, 24.76s/it]\u001b[A"
     ]
    },
    {
     "name": "stdout",
     "output_type": "stream",
     "text": [
      "Train Epoch: 7 @ 16:07:58.976447 - Train Loss: 0.1067 - Valid Loss: 0.0867\n",
      "Validation loss decreased (0.086745 --> 0.083327).  Saving model ...\n"
     ]
    },
    {
     "name": "stderr",
     "output_type": "stream",
     "text": [
      "\n",
      " 13%|█▎        | 8/60 [03:18<21:34, 24.89s/it]\u001b[A"
     ]
    },
    {
     "name": "stdout",
     "output_type": "stream",
     "text": [
      "Train Epoch: 8 @ 16:08:24.184684 - Train Loss: 0.0962 - Valid Loss: 0.0833\n",
      "Validation loss decreased (0.083327 --> 0.081376).  Saving model ...\n"
     ]
    },
    {
     "name": "stderr",
     "output_type": "stream",
     "text": [
      "\n",
      " 15%|█▌        | 9/60 [03:43<21:08, 24.87s/it]\u001b[A"
     ]
    },
    {
     "name": "stdout",
     "output_type": "stream",
     "text": [
      "Train Epoch: 9 @ 16:08:49.002897 - Train Loss: 0.0882 - Valid Loss: 0.0814\n",
      "EarlyStopping counter: 1 out of 10\n"
     ]
    },
    {
     "name": "stderr",
     "output_type": "stream",
     "text": [
      "\n",
      " 17%|█▋        | 10/60 [04:08<20:41, 24.82s/it]\u001b[A"
     ]
    },
    {
     "name": "stdout",
     "output_type": "stream",
     "text": [
      "Train Epoch: 10 @ 16:09:13.715970 - Train Loss: 0.0837 - Valid Loss: 0.0843\n",
      "EarlyStopping counter: 2 out of 10\n"
     ]
    },
    {
     "name": "stderr",
     "output_type": "stream",
     "text": [
      "\n",
      " 18%|█▊        | 11/60 [04:32<20:09, 24.69s/it]\u001b[A"
     ]
    },
    {
     "name": "stdout",
     "output_type": "stream",
     "text": [
      "Train Epoch: 11 @ 16:09:38.081409 - Train Loss: 0.0747 - Valid Loss: 0.0851\n",
      "EarlyStopping counter: 3 out of 10\n"
     ]
    },
    {
     "name": "stderr",
     "output_type": "stream",
     "text": [
      "\n",
      " 20%|██        | 12/60 [04:56<19:35, 24.48s/it]\u001b[A"
     ]
    },
    {
     "name": "stdout",
     "output_type": "stream",
     "text": [
      "Train Epoch: 12 @ 16:10:02.088820 - Train Loss: 0.0695 - Valid Loss: 0.0829\n",
      "EarlyStopping counter: 4 out of 10\n"
     ]
    },
    {
     "name": "stderr",
     "output_type": "stream",
     "text": [
      "\n",
      " 22%|██▏       | 13/60 [05:21<19:10, 24.49s/it]\u001b[A"
     ]
    },
    {
     "name": "stdout",
     "output_type": "stream",
     "text": [
      "Train Epoch: 13 @ 16:10:26.585567 - Train Loss: 0.0727 - Valid Loss: 0.0826\n",
      "EarlyStopping counter: 5 out of 10\n"
     ]
    },
    {
     "name": "stderr",
     "output_type": "stream",
     "text": [
      "\n",
      " 23%|██▎       | 14/60 [05:45<18:46, 24.50s/it]\u001b[A"
     ]
    },
    {
     "name": "stdout",
     "output_type": "stream",
     "text": [
      "Train Epoch: 14 @ 16:10:51.106198 - Train Loss: 0.0654 - Valid Loss: 0.0845\n",
      "EarlyStopping counter: 6 out of 10\n"
     ]
    },
    {
     "name": "stderr",
     "output_type": "stream",
     "text": [
      "\n",
      " 25%|██▌       | 15/60 [06:10<18:20, 24.45s/it]\u001b[A"
     ]
    },
    {
     "name": "stdout",
     "output_type": "stream",
     "text": [
      "Train Epoch: 15 @ 16:11:15.458575 - Train Loss: 0.0590 - Valid Loss: 0.0850\n",
      "EarlyStopping counter: 7 out of 10\n"
     ]
    },
    {
     "name": "stderr",
     "output_type": "stream",
     "text": [
      "\n",
      " 27%|██▋       | 16/60 [06:34<17:50, 24.33s/it]\u001b[A"
     ]
    },
    {
     "name": "stdout",
     "output_type": "stream",
     "text": [
      "Train Epoch: 16 @ 16:11:39.508294 - Train Loss: 0.0561 - Valid Loss: 0.0862\n",
      "EarlyStopping counter: 8 out of 10\n"
     ]
    },
    {
     "name": "stderr",
     "output_type": "stream",
     "text": [
      "\n",
      " 28%|██▊       | 17/60 [06:58<17:29, 24.40s/it]\u001b[A"
     ]
    },
    {
     "name": "stdout",
     "output_type": "stream",
     "text": [
      "Train Epoch: 17 @ 16:12:04.062061 - Train Loss: 0.0546 - Valid Loss: 0.0878\n",
      "EarlyStopping counter: 9 out of 10\n"
     ]
    },
    {
     "name": "stderr",
     "output_type": "stream",
     "text": [
      "\n",
      " 30%|███       | 18/60 [07:23<17:02, 24.35s/it]\u001b[A"
     ]
    },
    {
     "name": "stdout",
     "output_type": "stream",
     "text": [
      "Train Epoch: 18 @ 16:12:28.298125 - Train Loss: 0.0514 - Valid Loss: 0.0836\n",
      "EarlyStopping counter: 10 out of 10\n",
      "Early stopping\n"
     ]
    },
    {
     "data": {
      "image/png": "[encoded data removed]",
      "text/plain": [
       "<Figure size 720x576 with 1 Axes>"
      ]
     },
     "metadata": {
      "needs_background": "light",
      "tags": []
     },
     "output_type": "display_data"
    },
    {
     "name": "stdout",
     "output_type": "stream",
     "text": [
      "Dice2 score: 0.9314716480396412\n",
      "Batch size: 1, Learning rate: 1e-05 , Epochs: 60\n",
      "\n"
     ]
    },
    {
     "name": "stderr",
     "output_type": "stream",
     "text": [
      "\n",
      "\n",
      "  0%|          | 0/60 [00:00<?, ?it/s]\u001b[A\u001b[A"
     ]
    },
    {
     "name": "stdout",
     "output_type": "stream",
     "text": [
      "Validation loss decreased (inf --> 0.196757).  Saving model ...\n"
     ]
    },
    {
     "name": "stderr",
     "output_type": "stream",
     "text": [
      "\n",
      "\n",
      "  2%|▏         | 1/60 [00:25<24:41, 25.10s/it]\u001b[A\u001b[A"
     ]
    },
    {
     "name": "stdout",
     "output_type": "stream",
     "text": [
      "Train Epoch: 1 @ 16:13:18.313668 - Train Loss: 0.5026 - Valid Loss: 0.1968\n",
      "Validation loss decreased (0.196757 --> 0.183943).  Saving model ...\n"
     ]
    },
    {
     "name": "stderr",
     "output_type": "stream",
     "text": [
      "\n",
      "\n",
      "  3%|▎         | 2/60 [00:50<24:12, 25.04s/it]\u001b[A\u001b[A"
     ]
    },
    {
     "name": "stdout",
     "output_type": "stream",
     "text": [
      "Train Epoch: 2 @ 16:13:43.208574 - Train Loss: 0.2661 - Valid Loss: 0.1839\n",
      "Validation loss decreased (0.183943 --> 0.183649).  Saving model ...\n"
     ]
    },
    {
     "name": "stderr",
     "output_type": "stream",
     "text": [
      "\n",
      "\n",
      "  5%|▌         | 3/60 [01:15<23:51, 25.12s/it]\u001b[A\u001b[A"
     ]
    },
    {
     "name": "stdout",
     "output_type": "stream",
     "text": [
      "Train Epoch: 3 @ 16:14:08.504086 - Train Loss: 0.2397 - Valid Loss: 0.1836\n",
      "Validation loss decreased (0.183649 --> 0.170049).  Saving model ...\n"
     ]
    },
    {
     "name": "stderr",
     "output_type": "stream",
     "text": [
      "\n",
      "\n",
      "  7%|▋         | 4/60 [01:40<23:30, 25.19s/it]\u001b[A\u001b[A"
     ]
    },
    {
     "name": "stdout",
     "output_type": "stream",
     "text": [
      "Train Epoch: 4 @ 16:14:33.872044 - Train Loss: 0.2229 - Valid Loss: 0.1700\n",
      "Validation loss decreased (0.170049 --> 0.164911).  Saving model ...\n"
     ]
    },
    {
     "name": "stderr",
     "output_type": "stream",
     "text": [
      "\n",
      "\n",
      "  8%|▊         | 5/60 [02:05<23:00, 25.09s/it]\u001b[A\u001b[A"
     ]
    },
    {
     "name": "stdout",
     "output_type": "stream",
     "text": [
      "Train Epoch: 5 @ 16:14:58.732104 - Train Loss: 0.2095 - Valid Loss: 0.1649\n",
      "Validation loss decreased (0.164911 --> 0.158069).  Saving model ...\n"
     ]
    },
    {
     "name": "stderr",
     "output_type": "stream",
     "text": [
      "\n",
      "\n",
      " 10%|█         | 6/60 [02:33<23:17, 25.88s/it]\u001b[A\u001b[A"
     ]
    },
    {
     "name": "stdout",
     "output_type": "stream",
     "text": [
      "Train Epoch: 6 @ 16:15:26.447440 - Train Loss: 0.1963 - Valid Loss: 0.1581\n",
      "Validation loss decreased (0.158069 --> 0.152333).  Saving model ...\n"
     ]
    },
    {
     "name": "stderr",
     "output_type": "stream",
     "text": [
      "\n",
      "\n",
      " 12%|█▏        | 7/60 [02:58<22:44, 25.74s/it]\u001b[A\u001b[A"
     ]
    },
    {
     "name": "stdout",
     "output_type": "stream",
     "text": [
      "Train Epoch: 7 @ 16:15:51.875476 - Train Loss: 0.1874 - Valid Loss: 0.1523\n",
      "Validation loss decreased (0.152333 --> 0.145569).  Saving model ...\n"
     ]
    },
    {
     "name": "stderr",
     "output_type": "stream",
     "text": [
      "\n",
      "\n",
      " 13%|█▎        | 8/60 [03:23<22:09, 25.58s/it]\u001b[A\u001b[A"
     ]
    },
    {
     "name": "stdout",
     "output_type": "stream",
     "text": [
      "Train Epoch: 8 @ 16:16:17.062094 - Train Loss: 0.1810 - Valid Loss: 0.1456\n",
      "Validation loss decreased (0.145569 --> 0.140094).  Saving model ...\n"
     ]
    },
    {
     "name": "stderr",
     "output_type": "stream",
     "text": [
      "\n",
      "\n",
      " 15%|█▌        | 9/60 [03:48<21:32, 25.35s/it]\u001b[A\u001b[A"
     ]
    },
    {
     "name": "stdout",
     "output_type": "stream",
     "text": [
      "Train Epoch: 9 @ 16:16:41.892123 - Train Loss: 0.1760 - Valid Loss: 0.1401\n",
      "Validation loss decreased (0.140094 --> 0.137214).  Saving model ...\n"
     ]
    },
    {
     "name": "stderr",
     "output_type": "stream",
     "text": [
      "\n",
      "\n",
      " 17%|█▋        | 10/60 [04:14<21:09, 25.39s/it]\u001b[A\u001b[A"
     ]
    },
    {
     "name": "stdout",
     "output_type": "stream",
     "text": [
      "Train Epoch: 10 @ 16:17:07.369515 - Train Loss: 0.1711 - Valid Loss: 0.1372\n",
      "EarlyStopping counter: 1 out of 10\n"
     ]
    },
    {
     "name": "stderr",
     "output_type": "stream",
     "text": [
      "\n",
      "\n",
      " 18%|█▊        | 11/60 [04:38<20:30, 25.10s/it]\u001b[A\u001b[A"
     ]
    },
    {
     "name": "stdout",
     "output_type": "stream",
     "text": [
      "Train Epoch: 11 @ 16:17:31.802559 - Train Loss: 0.1669 - Valid Loss: 0.1383\n",
      "Validation loss decreased (0.137214 --> 0.130413).  Saving model ...\n"
     ]
    },
    {
     "name": "stderr",
     "output_type": "stream",
     "text": [
      "\n",
      "\n",
      " 20%|██        | 12/60 [05:03<20:03, 25.08s/it]\u001b[A\u001b[A"
     ]
    },
    {
     "name": "stdout",
     "output_type": "stream",
     "text": [
      "Train Epoch: 12 @ 16:17:56.816669 - Train Loss: 0.1629 - Valid Loss: 0.1304\n",
      "Validation loss decreased (0.130413 --> 0.126159).  Saving model ...\n"
     ]
    },
    {
     "name": "stderr",
     "output_type": "stream",
     "text": [
      "\n",
      "\n",
      " 22%|██▏       | 13/60 [05:29<19:45, 25.21s/it]\u001b[A\u001b[A"
     ]
    },
    {
     "name": "stdout",
     "output_type": "stream",
     "text": [
      "Train Epoch: 13 @ 16:18:22.353558 - Train Loss: 0.1592 - Valid Loss: 0.1262\n",
      "EarlyStopping counter: 1 out of 10\n"
     ]
    },
    {
     "name": "stderr",
     "output_type": "stream",
     "text": [
      "\n",
      "\n",
      " 23%|██▎       | 14/60 [05:53<19:08, 24.98s/it]\u001b[A\u001b[A"
     ]
    },
    {
     "name": "stdout",
     "output_type": "stream",
     "text": [
      "Train Epoch: 14 @ 16:18:46.779046 - Train Loss: 0.1553 - Valid Loss: 0.1311\n",
      "Validation loss decreased (0.126159 --> 0.122615).  Saving model ...\n"
     ]
    },
    {
     "name": "stderr",
     "output_type": "stream",
     "text": [
      "\n",
      "\n",
      " 25%|██▌       | 15/60 [06:18<18:49, 25.10s/it]\u001b[A\u001b[A"
     ]
    },
    {
     "name": "stdout",
     "output_type": "stream",
     "text": [
      "Train Epoch: 15 @ 16:19:12.165184 - Train Loss: 0.1510 - Valid Loss: 0.1226\n",
      "Validation loss decreased (0.122615 --> 0.119061).  Saving model ...\n"
     ]
    },
    {
     "name": "stderr",
     "output_type": "stream",
     "text": [
      "\n",
      "\n",
      " 27%|██▋       | 16/60 [06:44<18:28, 25.18s/it]\u001b[A\u001b[A"
     ]
    },
    {
     "name": "stdout",
     "output_type": "stream",
     "text": [
      "Train Epoch: 16 @ 16:19:37.537920 - Train Loss: 0.1475 - Valid Loss: 0.1191\n",
      "EarlyStopping counter: 1 out of 10\n"
     ]
    },
    {
     "name": "stderr",
     "output_type": "stream",
     "text": [
      "\n",
      "\n",
      " 28%|██▊       | 17/60 [07:08<17:51, 24.93s/it]\u001b[A\u001b[A"
     ]
    },
    {
     "name": "stdout",
     "output_type": "stream",
     "text": [
      "Train Epoch: 17 @ 16:20:01.874325 - Train Loss: 0.1443 - Valid Loss: 0.1195\n",
      "EarlyStopping counter: 2 out of 10\n"
     ]
    },
    {
     "name": "stderr",
     "output_type": "stream",
     "text": [
      "\n",
      "\n",
      " 30%|███       | 18/60 [07:33<17:27, 24.94s/it]\u001b[A\u001b[A"
     ]
    },
    {
     "name": "stdout",
     "output_type": "stream",
     "text": [
      "Train Epoch: 18 @ 16:20:26.857653 - Train Loss: 0.1413 - Valid Loss: 0.1237\n",
      "Validation loss decreased (0.119061 --> 0.117487).  Saving model ...\n"
     ]
    },
    {
     "name": "stderr",
     "output_type": "stream",
     "text": [
      "\n",
      "\n",
      " 32%|███▏      | 19/60 [07:58<17:06, 25.04s/it]\u001b[A\u001b[A"
     ]
    },
    {
     "name": "stdout",
     "output_type": "stream",
     "text": [
      "Train Epoch: 19 @ 16:20:52.126568 - Train Loss: 0.1390 - Valid Loss: 0.1175\n",
      "EarlyStopping counter: 1 out of 10\n"
     ]
    },
    {
     "name": "stderr",
     "output_type": "stream",
     "text": [
      "\n",
      "\n",
      " 33%|███▎      | 20/60 [08:23<16:37, 24.93s/it]\u001b[A\u001b[A"
     ]
    },
    {
     "name": "stdout",
     "output_type": "stream",
     "text": [
      "Train Epoch: 20 @ 16:21:16.810464 - Train Loss: 0.1361 - Valid Loss: 0.1191\n",
      "Validation loss decreased (0.117487 --> 0.115265).  Saving model ...\n"
     ]
    },
    {
     "name": "stderr",
     "output_type": "stream",
     "text": [
      "\n",
      "\n",
      " 35%|███▌      | 21/60 [08:48<16:09, 24.87s/it]\u001b[A\u001b[A"
     ]
    },
    {
     "name": "stdout",
     "output_type": "stream",
     "text": [
      "Train Epoch: 21 @ 16:21:41.516591 - Train Loss: 0.1341 - Valid Loss: 0.1153\n",
      "Validation loss decreased (0.115265 --> 0.111787).  Saving model ...\n"
     ]
    },
    {
     "name": "stderr",
     "output_type": "stream",
     "text": [
      "\n",
      "\n",
      " 37%|███▋      | 22/60 [09:13<15:52, 25.08s/it]\u001b[A\u001b[A"
     ]
    },
    {
     "name": "stdout",
     "output_type": "stream",
     "text": [
      "Train Epoch: 22 @ 16:22:07.081258 - Train Loss: 0.1317 - Valid Loss: 0.1118\n",
      "EarlyStopping counter: 1 out of 10\n"
     ]
    },
    {
     "name": "stderr",
     "output_type": "stream",
     "text": [
      "\n",
      "\n",
      " 38%|███▊      | 23/60 [09:38<15:23, 24.96s/it]\u001b[A\u001b[A"
     ]
    },
    {
     "name": "stdout",
     "output_type": "stream",
     "text": [
      "Train Epoch: 23 @ 16:22:31.765561 - Train Loss: 0.1296 - Valid Loss: 0.1136\n",
      "EarlyStopping counter: 2 out of 10\n"
     ]
    },
    {
     "name": "stderr",
     "output_type": "stream",
     "text": [
      "\n",
      "\n",
      " 40%|████      | 24/60 [10:03<14:55, 24.88s/it]\u001b[A\u001b[A"
     ]
    },
    {
     "name": "stdout",
     "output_type": "stream",
     "text": [
      "Train Epoch: 24 @ 16:22:56.470298 - Train Loss: 0.1279 - Valid Loss: 0.1133\n",
      "EarlyStopping counter: 3 out of 10\n"
     ]
    },
    {
     "name": "stderr",
     "output_type": "stream",
     "text": [
      "\n",
      "\n",
      " 42%|████▏     | 25/60 [10:27<14:27, 24.80s/it]\u001b[A\u001b[A"
     ]
    },
    {
     "name": "stdout",
     "output_type": "stream",
     "text": [
      "Train Epoch: 25 @ 16:23:21.077216 - Train Loss: 0.1255 - Valid Loss: 0.1127\n",
      "EarlyStopping counter: 4 out of 10\n"
     ]
    },
    {
     "name": "stderr",
     "output_type": "stream",
     "text": [
      "\n",
      "\n",
      " 43%|████▎     | 26/60 [10:52<13:57, 24.64s/it]\u001b[A\u001b[A"
     ]
    },
    {
     "name": "stdout",
     "output_type": "stream",
     "text": [
      "Train Epoch: 26 @ 16:23:45.356624 - Train Loss: 0.1237 - Valid Loss: 0.1139\n",
      "Validation loss decreased (0.111787 --> 0.110244).  Saving model ...\n"
     ]
    },
    {
     "name": "stderr",
     "output_type": "stream",
     "text": [
      "\n",
      "\n",
      " 45%|████▌     | 27/60 [11:17<13:39, 24.83s/it]\u001b[A\u001b[A"
     ]
    },
    {
     "name": "stdout",
     "output_type": "stream",
     "text": [
      "Train Epoch: 27 @ 16:24:10.609064 - Train Loss: 0.1221 - Valid Loss: 0.1102\n",
      "EarlyStopping counter: 1 out of 10\n"
     ]
    },
    {
     "name": "stderr",
     "output_type": "stream",
     "text": [
      "\n",
      "\n",
      " 47%|████▋     | 28/60 [11:42<13:13, 24.80s/it]\u001b[A\u001b[A"
     ]
    },
    {
     "name": "stdout",
     "output_type": "stream",
     "text": [
      "Train Epoch: 28 @ 16:24:35.333755 - Train Loss: 0.1200 - Valid Loss: 0.1118\n",
      "EarlyStopping counter: 2 out of 10\n"
     ]
    },
    {
     "name": "stderr",
     "output_type": "stream",
     "text": [
      "\n",
      "\n",
      " 48%|████▊     | 29/60 [12:06<12:44, 24.65s/it]\u001b[A\u001b[A"
     ]
    },
    {
     "name": "stdout",
     "output_type": "stream",
     "text": [
      "Train Epoch: 29 @ 16:24:59.641605 - Train Loss: 0.1184 - Valid Loss: 0.1102\n",
      "EarlyStopping counter: 3 out of 10\n"
     ]
    },
    {
     "name": "stderr",
     "output_type": "stream",
     "text": [
      "\n",
      "\n",
      " 50%|█████     | 30/60 [12:31<12:21, 24.73s/it]\u001b[A\u001b[A"
     ]
    },
    {
     "name": "stdout",
     "output_type": "stream",
     "text": [
      "Train Epoch: 30 @ 16:25:24.564844 - Train Loss: 0.1165 - Valid Loss: 0.1129\n",
      "EarlyStopping counter: 4 out of 10\n"
     ]
    },
    {
     "name": "stderr",
     "output_type": "stream",
     "text": [
      "\n",
      "\n",
      " 52%|█████▏    | 31/60 [12:55<11:52, 24.58s/it]\u001b[A\u001b[A"
     ]
    },
    {
     "name": "stdout",
     "output_type": "stream",
     "text": [
      "Train Epoch: 31 @ 16:25:48.786839 - Train Loss: 0.1151 - Valid Loss: 0.1135\n",
      "EarlyStopping counter: 5 out of 10\n"
     ]
    },
    {
     "name": "stderr",
     "output_type": "stream",
     "text": [
      "\n",
      "\n",
      " 53%|█████▎    | 32/60 [13:20<11:27, 24.57s/it]\u001b[A\u001b[A"
     ]
    },
    {
     "name": "stdout",
     "output_type": "stream",
     "text": [
      "Train Epoch: 32 @ 16:26:13.324655 - Train Loss: 0.1131 - Valid Loss: 0.1138\n",
      "EarlyStopping counter: 6 out of 10\n"
     ]
    },
    {
     "name": "stderr",
     "output_type": "stream",
     "text": [
      "\n",
      "\n",
      " 55%|█████▌    | 33/60 [13:45<11:05, 24.66s/it]\u001b[A\u001b[A"
     ]
    },
    {
     "name": "stdout",
     "output_type": "stream",
     "text": [
      "Train Epoch: 33 @ 16:26:38.213273 - Train Loss: 0.1117 - Valid Loss: 0.1118\n",
      "EarlyStopping counter: 7 out of 10\n"
     ]
    },
    {
     "name": "stderr",
     "output_type": "stream",
     "text": [
      "\n",
      "\n",
      " 57%|█████▋    | 34/60 [14:09<10:42, 24.72s/it]\u001b[A\u001b[A"
     ]
    },
    {
     "name": "stdout",
     "output_type": "stream",
     "text": [
      "Train Epoch: 34 @ 16:27:03.057904 - Train Loss: 0.1099 - Valid Loss: 0.1118\n",
      "Validation loss decreased (0.110244 --> 0.109837).  Saving model ...\n"
     ]
    },
    {
     "name": "stderr",
     "output_type": "stream",
     "text": [
      "\n",
      "\n",
      " 58%|█████▊    | 35/60 [14:34<10:18, 24.73s/it]\u001b[A\u001b[A"
     ]
    },
    {
     "name": "stdout",
     "output_type": "stream",
     "text": [
      "Train Epoch: 35 @ 16:27:27.820391 - Train Loss: 0.1080 - Valid Loss: 0.1098\n",
      "Validation loss decreased (0.109837 --> 0.107548).  Saving model ...\n"
     ]
    },
    {
     "name": "stderr",
     "output_type": "stream",
     "text": [
      "\n",
      "\n",
      " 60%|██████    | 36/60 [14:59<09:57, 24.90s/it]\u001b[A\u001b[A"
     ]
    },
    {
     "name": "stdout",
     "output_type": "stream",
     "text": [
      "Train Epoch: 36 @ 16:27:53.127492 - Train Loss: 0.1063 - Valid Loss: 0.1075\n",
      "EarlyStopping counter: 1 out of 10\n"
     ]
    },
    {
     "name": "stderr",
     "output_type": "stream",
     "text": [
      "\n",
      "\n",
      " 62%|██████▏   | 37/60 [15:24<09:33, 24.93s/it]\u001b[A\u001b[A"
     ]
    },
    {
     "name": "stdout",
     "output_type": "stream",
     "text": [
      "Train Epoch: 37 @ 16:28:18.105938 - Train Loss: 0.1049 - Valid Loss: 0.1101\n",
      "EarlyStopping counter: 2 out of 10\n"
     ]
    },
    {
     "name": "stderr",
     "output_type": "stream",
     "text": [
      "\n",
      "\n",
      " 63%|██████▎   | 38/60 [15:49<09:04, 24.75s/it]\u001b[A\u001b[A"
     ]
    },
    {
     "name": "stdout",
     "output_type": "stream",
     "text": [
      "Train Epoch: 38 @ 16:28:42.431531 - Train Loss: 0.1036 - Valid Loss: 0.1090\n",
      "EarlyStopping counter: 3 out of 10\n"
     ]
    },
    {
     "name": "stderr",
     "output_type": "stream",
     "text": [
      "\n",
      "\n",
      " 65%|██████▌   | 39/60 [16:14<08:39, 24.75s/it]\u001b[A\u001b[A"
     ]
    },
    {
     "name": "stdout",
     "output_type": "stream",
     "text": [
      "Train Epoch: 39 @ 16:29:07.192746 - Train Loss: 0.1018 - Valid Loss: 0.1089\n",
      "EarlyStopping counter: 4 out of 10\n"
     ]
    },
    {
     "name": "stderr",
     "output_type": "stream",
     "text": [
      "\n",
      "\n",
      " 67%|██████▋   | 40/60 [16:38<08:14, 24.71s/it]\u001b[A\u001b[A"
     ]
    },
    {
     "name": "stdout",
     "output_type": "stream",
     "text": [
      "Train Epoch: 40 @ 16:29:31.802736 - Train Loss: 0.1002 - Valid Loss: 0.1110\n",
      "EarlyStopping counter: 5 out of 10\n"
     ]
    },
    {
     "name": "stderr",
     "output_type": "stream",
     "text": [
      "\n",
      "\n",
      " 68%|██████▊   | 41/60 [17:02<07:46, 24.57s/it]\u001b[A\u001b[A"
     ]
    },
    {
     "name": "stdout",
     "output_type": "stream",
     "text": [
      "Train Epoch: 41 @ 16:29:56.065820 - Train Loss: 0.0988 - Valid Loss: 0.1100\n",
      "EarlyStopping counter: 6 out of 10\n"
     ]
    },
    {
     "name": "stderr",
     "output_type": "stream",
     "text": [
      "\n",
      "\n",
      " 70%|███████   | 42/60 [17:27<07:24, 24.70s/it]\u001b[A\u001b[A"
     ]
    },
    {
     "name": "stdout",
     "output_type": "stream",
     "text": [
      "Train Epoch: 42 @ 16:30:21.062715 - Train Loss: 0.0976 - Valid Loss: 0.1100\n",
      "EarlyStopping counter: 7 out of 10\n"
     ]
    },
    {
     "name": "stderr",
     "output_type": "stream",
     "text": [
      "\n",
      "\n",
      " 72%|███████▏  | 43/60 [17:52<06:59, 24.67s/it]\u001b[A\u001b[A"
     ]
    },
    {
     "name": "stdout",
     "output_type": "stream",
     "text": [
      "Train Epoch: 43 @ 16:30:45.644102 - Train Loss: 0.0960 - Valid Loss: 0.1088\n",
      "EarlyStopping counter: 8 out of 10\n"
     ]
    },
    {
     "name": "stderr",
     "output_type": "stream",
     "text": [
      "\n",
      "\n",
      " 73%|███████▎  | 44/60 [18:17<06:34, 24.66s/it]\u001b[A\u001b[A"
     ]
    },
    {
     "name": "stdout",
     "output_type": "stream",
     "text": [
      "Train Epoch: 44 @ 16:31:10.277139 - Train Loss: 0.0949 - Valid Loss: 0.1086\n",
      "EarlyStopping counter: 9 out of 10\n"
     ]
    },
    {
     "name": "stderr",
     "output_type": "stream",
     "text": [
      "\n",
      "\n",
      " 75%|███████▌  | 45/60 [18:41<06:10, 24.67s/it]\u001b[A\u001b[A"
     ]
    },
    {
     "name": "stdout",
     "output_type": "stream",
     "text": [
      "Train Epoch: 45 @ 16:31:34.993435 - Train Loss: 0.0932 - Valid Loss: 0.1108\n",
      "EarlyStopping counter: 10 out of 10\n",
      "Early stopping\n"
     ]
    },
    {
     "data": {
      "image/png": "[encoded data removed]",
      "text/plain": [
       "<Figure size 720x576 with 1 Axes>"
      ]
     },
     "metadata": {
      "needs_background": "light",
      "tags": []
     },
     "output_type": "display_data"
    },
    {
     "name": "stdout",
     "output_type": "stream",
     "text": [
      "Dice2 score: 0.9062559339735243\n"
     ]
    }
   ],
   "source": [
    "n_bs = [1]\n",
    "n_lr = [0.001, 0.0001, 0.00001]\n",
    "epochs = 60\n",
    "patience = 10\n",
    "\n",
    "train_dir = \"../Train/train_500\"\n",
    "model_chkpt_name = \"ResNet-500x500_2layer\"\n",
    "\n",
    "for bs in n_bs:\n",
    "    for lr in n_lr:\n",
    "        hyperparam_tuning(train_dir, bs, lr, epochs, patience, model_chkpt_name)"
   ]
  },
  {
   "cell_type": "code",
   "execution_count": null,
   "metadata": {
    "colab": {
     "base_uri": "https://localhost:8080/",
     "height": 1000
    },
    "id": "dqmjqWm31HDr",
    "outputId": "1acc8935-5198-4063-e635-dabbe1911d3d"
   },
   "outputs": [
    {
     "name": "stdout",
     "output_type": "stream",
     "text": [
      "Batch size: 4, Learning rate: 0.001 , Epochs: 60\n",
      "\n"
     ]
    },
    {
     "name": "stderr",
     "output_type": "stream",
     "text": [
      "\r",
      "  0%|          | 0/60 [00:00<?, ?it/s]/usr/local/lib/python3.7/dist-packages/torch/nn/functional.py:718: UserWarning: Named tensors and all their associated APIs are an experimental feature and subject to change. Please do not use them for anything important until they are released as stable. (Triggered internally at  /pytorch/c10/core/TensorImpl.h:1156.)\n",
      "  return torch.max_pool2d(input, kernel_size, stride, padding, dilation, ceil_mode)\n"
     ]
    },
    {
     "name": "stdout",
     "output_type": "stream",
     "text": [
      "Validation loss decreased (inf --> 0.136450).  Saving model ...\n"
     ]
    },
    {
     "name": "stderr",
     "output_type": "stream",
     "text": [
      "\r",
      "  2%|▏         | 1/60 [02:08<2:06:26, 128.58s/it]"
     ]
    },
    {
     "name": "stdout",
     "output_type": "stream",
     "text": [
      "Train Epoch: 1 @ 10:23:58.398528 - Train Loss: 0.2720 - Valid Loss: 0.1364\n",
      "Validation loss decreased (0.136450 --> 0.113173).  Saving model ...\n"
     ]
    },
    {
     "name": "stderr",
     "output_type": "stream",
     "text": [
      "\r",
      "  3%|▎         | 2/60 [02:28<1:32:50, 96.04s/it] "
     ]
    },
    {
     "name": "stdout",
     "output_type": "stream",
     "text": [
      "Train Epoch: 2 @ 10:24:18.506622 - Train Loss: 0.1814 - Valid Loss: 0.1132\n",
      "Validation loss decreased (0.113173 --> 0.105600).  Saving model ...\n"
     ]
    },
    {
     "name": "stderr",
     "output_type": "stream",
     "text": [
      "\r",
      "  5%|▌         | 3/60 [02:48<1:09:38, 73.30s/it]"
     ]
    },
    {
     "name": "stdout",
     "output_type": "stream",
     "text": [
      "Train Epoch: 3 @ 10:24:38.747276 - Train Loss: 0.1663 - Valid Loss: 0.1056\n",
      "EarlyStopping counter: 1 out of 10\n"
     ]
    },
    {
     "name": "stderr",
     "output_type": "stream",
     "text": [
      "\r",
      "  7%|▋         | 4/60 [03:08<53:30, 57.32s/it]  "
     ]
    },
    {
     "name": "stdout",
     "output_type": "stream",
     "text": [
      "Train Epoch: 4 @ 10:24:58.787866 - Train Loss: 0.1511 - Valid Loss: 0.1131\n",
      "Validation loss decreased (0.105600 --> 0.102327).  Saving model ...\n"
     ]
    },
    {
     "name": "stderr",
     "output_type": "stream",
     "text": [
      "\r",
      "  8%|▊         | 5/60 [03:29<42:28, 46.33s/it]"
     ]
    },
    {
     "name": "stdout",
     "output_type": "stream",
     "text": [
      "Train Epoch: 5 @ 10:25:19.477997 - Train Loss: 0.1432 - Valid Loss: 0.1023\n",
      "EarlyStopping counter: 1 out of 10\n"
     ]
    },
    {
     "name": "stderr",
     "output_type": "stream",
     "text": [
      "\r",
      " 10%|█         | 6/60 [03:49<34:36, 38.45s/it]"
     ]
    },
    {
     "name": "stdout",
     "output_type": "stream",
     "text": [
      "Train Epoch: 6 @ 10:25:39.523746 - Train Loss: 0.1415 - Valid Loss: 0.1023\n",
      "Validation loss decreased (0.102327 --> 0.088110).  Saving model ...\n"
     ]
    },
    {
     "name": "stderr",
     "output_type": "stream",
     "text": [
      "\r",
      " 12%|█▏        | 7/60 [04:09<29:08, 33.00s/it]"
     ]
    },
    {
     "name": "stdout",
     "output_type": "stream",
     "text": [
      "Train Epoch: 7 @ 10:25:59.811813 - Train Loss: 0.1367 - Valid Loss: 0.0881\n",
      "Validation loss decreased (0.088110 --> 0.083950).  Saving model ...\n"
     ]
    },
    {
     "name": "stderr",
     "output_type": "stream",
     "text": [
      "\r",
      " 13%|█▎        | 8/60 [04:30<25:22, 29.29s/it]"
     ]
    },
    {
     "name": "stdout",
     "output_type": "stream",
     "text": [
      "Train Epoch: 8 @ 10:26:20.439501 - Train Loss: 0.1235 - Valid Loss: 0.0840\n",
      "Validation loss decreased (0.083950 --> 0.077301).  Saving model ...\n"
     ]
    },
    {
     "name": "stderr",
     "output_type": "stream",
     "text": [
      "\r",
      " 15%|█▌        | 9/60 [04:53<23:18, 27.43s/it]"
     ]
    },
    {
     "name": "stdout",
     "output_type": "stream",
     "text": [
      "Train Epoch: 9 @ 10:26:43.535942 - Train Loss: 0.1197 - Valid Loss: 0.0773\n",
      "EarlyStopping counter: 1 out of 10\n"
     ]
    },
    {
     "name": "stderr",
     "output_type": "stream",
     "text": [
      "\r",
      " 17%|█▋        | 10/60 [05:13<21:00, 25.21s/it]"
     ]
    },
    {
     "name": "stdout",
     "output_type": "stream",
     "text": [
      "Train Epoch: 10 @ 10:27:03.573766 - Train Loss: 0.1125 - Valid Loss: 0.0918\n",
      "Validation loss decreased (0.077301 --> 0.075032).  Saving model ...\n"
     ]
    },
    {
     "name": "stderr",
     "output_type": "stream",
     "text": [
      "\r",
      " 18%|█▊        | 11/60 [05:34<19:26, 23.81s/it]"
     ]
    },
    {
     "name": "stdout",
     "output_type": "stream",
     "text": [
      "Train Epoch: 11 @ 10:27:24.124635 - Train Loss: 0.1145 - Valid Loss: 0.0750\n",
      "Validation loss decreased (0.075032 --> 0.070226).  Saving model ...\n"
     ]
    },
    {
     "name": "stderr",
     "output_type": "stream",
     "text": [
      "\r",
      " 20%|██        | 12/60 [05:54<18:17, 22.86s/it]"
     ]
    },
    {
     "name": "stdout",
     "output_type": "stream",
     "text": [
      "Train Epoch: 12 @ 10:27:44.761060 - Train Loss: 0.1064 - Valid Loss: 0.0702\n",
      "EarlyStopping counter: 1 out of 10\n"
     ]
    },
    {
     "name": "stderr",
     "output_type": "stream",
     "text": [
      "\r",
      " 22%|██▏       | 13/60 [06:15<17:18, 22.09s/it]"
     ]
    },
    {
     "name": "stdout",
     "output_type": "stream",
     "text": [
      "Train Epoch: 13 @ 10:28:05.042145 - Train Loss: 0.1034 - Valid Loss: 0.0890\n",
      "Validation loss decreased (0.070226 --> 0.067758).  Saving model ...\n"
     ]
    },
    {
     "name": "stderr",
     "output_type": "stream",
     "text": [
      "\r",
      " 23%|██▎       | 14/60 [06:35<16:33, 21.59s/it]"
     ]
    },
    {
     "name": "stdout",
     "output_type": "stream",
     "text": [
      "Train Epoch: 14 @ 10:28:25.471880 - Train Loss: 0.1052 - Valid Loss: 0.0678\n",
      "EarlyStopping counter: 1 out of 10\n"
     ]
    },
    {
     "name": "stderr",
     "output_type": "stream",
     "text": [
      "\r",
      " 25%|██▌       | 15/60 [06:55<15:50, 21.13s/it]"
     ]
    },
    {
     "name": "stdout",
     "output_type": "stream",
     "text": [
      "Train Epoch: 15 @ 10:28:45.540300 - Train Loss: 0.0991 - Valid Loss: 0.0744\n",
      "EarlyStopping counter: 2 out of 10\n"
     ]
    },
    {
     "name": "stderr",
     "output_type": "stream",
     "text": [
      "\r",
      " 27%|██▋       | 16/60 [07:15<15:17, 20.86s/it]"
     ]
    },
    {
     "name": "stdout",
     "output_type": "stream",
     "text": [
      "Train Epoch: 16 @ 10:29:05.754758 - Train Loss: 0.0963 - Valid Loss: 0.0765\n",
      "EarlyStopping counter: 3 out of 10\n"
     ]
    },
    {
     "name": "stderr",
     "output_type": "stream",
     "text": [
      "\r",
      " 28%|██▊       | 17/60 [07:35<14:45, 20.58s/it]"
     ]
    },
    {
     "name": "stdout",
     "output_type": "stream",
     "text": [
      "Train Epoch: 17 @ 10:29:25.692481 - Train Loss: 0.0926 - Valid Loss: 0.0714\n",
      "Validation loss decreased (0.067758 --> 0.066002).  Saving model ...\n"
     ]
    },
    {
     "name": "stderr",
     "output_type": "stream",
     "text": [
      "\r",
      " 30%|███       | 18/60 [07:56<14:20, 20.50s/it]"
     ]
    },
    {
     "name": "stdout",
     "output_type": "stream",
     "text": [
      "Train Epoch: 18 @ 10:29:45.989024 - Train Loss: 0.0916 - Valid Loss: 0.0660\n",
      "EarlyStopping counter: 1 out of 10\n"
     ]
    },
    {
     "name": "stderr",
     "output_type": "stream",
     "text": [
      "\r",
      " 32%|███▏      | 19/60 [08:16<13:56, 20.41s/it]"
     ]
    },
    {
     "name": "stdout",
     "output_type": "stream",
     "text": [
      "Train Epoch: 19 @ 10:30:06.186078 - Train Loss: 0.0870 - Valid Loss: 0.0695\n",
      "Validation loss decreased (0.066002 --> 0.064544).  Saving model ...\n"
     ]
    },
    {
     "name": "stderr",
     "output_type": "stream",
     "text": [
      "\r",
      " 33%|███▎      | 20/60 [08:36<13:36, 20.41s/it]"
     ]
    },
    {
     "name": "stdout",
     "output_type": "stream",
     "text": [
      "Train Epoch: 20 @ 10:30:26.589201 - Train Loss: 0.0901 - Valid Loss: 0.0645\n",
      "EarlyStopping counter: 1 out of 10\n"
     ]
    },
    {
     "name": "stderr",
     "output_type": "stream",
     "text": [
      "\r",
      " 35%|███▌      | 21/60 [08:56<13:10, 20.26s/it]"
     ]
    },
    {
     "name": "stdout",
     "output_type": "stream",
     "text": [
      "Train Epoch: 21 @ 10:30:46.500217 - Train Loss: 0.0857 - Valid Loss: 0.0662\n",
      "Validation loss decreased (0.064544 --> 0.063560).  Saving model ...\n"
     ]
    },
    {
     "name": "stderr",
     "output_type": "stream",
     "text": [
      "\r",
      " 37%|███▋      | 22/60 [09:17<12:51, 20.31s/it]"
     ]
    },
    {
     "name": "stdout",
     "output_type": "stream",
     "text": [
      "Train Epoch: 22 @ 10:31:06.917346 - Train Loss: 0.0829 - Valid Loss: 0.0636\n",
      "EarlyStopping counter: 1 out of 10\n"
     ]
    },
    {
     "name": "stderr",
     "output_type": "stream",
     "text": [
      "\r",
      " 38%|███▊      | 23/60 [09:37<12:29, 20.27s/it]"
     ]
    },
    {
     "name": "stdout",
     "output_type": "stream",
     "text": [
      "Train Epoch: 23 @ 10:31:27.089594 - Train Loss: 0.0775 - Valid Loss: 0.0691\n",
      "EarlyStopping counter: 2 out of 10\n"
     ]
    },
    {
     "name": "stderr",
     "output_type": "stream",
     "text": [
      "\r",
      " 40%|████      | 24/60 [09:57<12:05, 20.14s/it]"
     ]
    },
    {
     "name": "stdout",
     "output_type": "stream",
     "text": [
      "Train Epoch: 24 @ 10:31:46.934124 - Train Loss: 0.0758 - Valid Loss: 0.0665\n",
      "EarlyStopping counter: 3 out of 10\n"
     ]
    },
    {
     "name": "stderr",
     "output_type": "stream",
     "text": [
      "\r",
      " 42%|████▏     | 25/60 [10:17<11:44, 20.12s/it]"
     ]
    },
    {
     "name": "stdout",
     "output_type": "stream",
     "text": [
      "Train Epoch: 25 @ 10:32:06.997425 - Train Loss: 0.0704 - Valid Loss: 0.0721\n",
      "EarlyStopping counter: 4 out of 10\n"
     ]
    },
    {
     "name": "stderr",
     "output_type": "stream",
     "text": [
      "\r",
      " 43%|████▎     | 26/60 [10:37<11:23, 20.09s/it]"
     ]
    },
    {
     "name": "stdout",
     "output_type": "stream",
     "text": [
      "Train Epoch: 26 @ 10:32:27.026413 - Train Loss: 0.0718 - Valid Loss: 0.0661\n",
      "Validation loss decreased (0.063560 --> 0.063318).  Saving model ...\n"
     ]
    },
    {
     "name": "stderr",
     "output_type": "stream",
     "text": [
      "\r",
      " 45%|████▌     | 27/60 [10:57<11:07, 20.22s/it]"
     ]
    },
    {
     "name": "stdout",
     "output_type": "stream",
     "text": [
      "Train Epoch: 27 @ 10:32:47.546373 - Train Loss: 0.0751 - Valid Loss: 0.0633\n",
      "EarlyStopping counter: 1 out of 10\n"
     ]
    },
    {
     "name": "stderr",
     "output_type": "stream",
     "text": [
      "\r",
      " 47%|████▋     | 28/60 [11:17<10:45, 20.17s/it]"
     ]
    },
    {
     "name": "stdout",
     "output_type": "stream",
     "text": [
      "Train Epoch: 28 @ 10:33:07.588141 - Train Loss: 0.0714 - Valid Loss: 0.0691\n",
      "EarlyStopping counter: 2 out of 10\n"
     ]
    },
    {
     "name": "stderr",
     "output_type": "stream",
     "text": [
      "\r",
      " 48%|████▊     | 29/60 [11:37<10:21, 20.06s/it]"
     ]
    },
    {
     "name": "stdout",
     "output_type": "stream",
     "text": [
      "Train Epoch: 29 @ 10:33:27.400281 - Train Loss: 0.0663 - Valid Loss: 0.0698\n",
      "EarlyStopping counter: 3 out of 10\n"
     ]
    },
    {
     "name": "stderr",
     "output_type": "stream",
     "text": [
      "\r",
      " 50%|█████     | 30/60 [11:57<10:00, 20.02s/it]"
     ]
    },
    {
     "name": "stdout",
     "output_type": "stream",
     "text": [
      "Train Epoch: 30 @ 10:33:47.339161 - Train Loss: 0.0641 - Valid Loss: 0.0636\n",
      "EarlyStopping counter: 4 out of 10\n"
     ]
    },
    {
     "name": "stderr",
     "output_type": "stream",
     "text": [
      "\r",
      " 52%|█████▏    | 31/60 [12:17<09:40, 20.03s/it]"
     ]
    },
    {
     "name": "stdout",
     "output_type": "stream",
     "text": [
      "Train Epoch: 31 @ 10:34:07.369383 - Train Loss: 0.0588 - Valid Loss: 0.0649\n",
      "EarlyStopping counter: 5 out of 10\n"
     ]
    },
    {
     "name": "stderr",
     "output_type": "stream",
     "text": [
      "\r",
      " 53%|█████▎    | 32/60 [12:37<09:19, 19.97s/it]"
     ]
    },
    {
     "name": "stdout",
     "output_type": "stream",
     "text": [
      "Train Epoch: 32 @ 10:34:27.219806 - Train Loss: 0.0607 - Valid Loss: 0.0777\n",
      "EarlyStopping counter: 6 out of 10\n"
     ]
    },
    {
     "name": "stderr",
     "output_type": "stream",
     "text": [
      "\r",
      " 55%|█████▌    | 33/60 [12:57<08:58, 19.95s/it]"
     ]
    },
    {
     "name": "stdout",
     "output_type": "stream",
     "text": [
      "Train Epoch: 33 @ 10:34:47.105768 - Train Loss: 0.0569 - Valid Loss: 0.0637\n",
      "EarlyStopping counter: 7 out of 10\n"
     ]
    },
    {
     "name": "stderr",
     "output_type": "stream",
     "text": [
      "\r",
      " 57%|█████▋    | 34/60 [13:17<08:39, 19.99s/it]"
     ]
    },
    {
     "name": "stdout",
     "output_type": "stream",
     "text": [
      "Train Epoch: 34 @ 10:35:07.205997 - Train Loss: 0.0576 - Valid Loss: 0.0653\n",
      "EarlyStopping counter: 8 out of 10\n"
     ]
    },
    {
     "name": "stderr",
     "output_type": "stream",
     "text": [
      "\r",
      " 58%|█████▊    | 35/60 [13:37<08:19, 19.98s/it]"
     ]
    },
    {
     "name": "stdout",
     "output_type": "stream",
     "text": [
      "Train Epoch: 35 @ 10:35:27.166983 - Train Loss: 0.0558 - Valid Loss: 0.0642\n",
      "Validation loss decreased (0.063318 --> 0.062708).  Saving model ...\n"
     ]
    },
    {
     "name": "stderr",
     "output_type": "stream",
     "text": [
      "\r",
      " 60%|██████    | 36/60 [13:57<08:01, 20.08s/it]"
     ]
    },
    {
     "name": "stdout",
     "output_type": "stream",
     "text": [
      "Train Epoch: 36 @ 10:35:47.466802 - Train Loss: 0.0541 - Valid Loss: 0.0627\n",
      "EarlyStopping counter: 1 out of 10\n"
     ]
    },
    {
     "name": "stderr",
     "output_type": "stream",
     "text": [
      "\r",
      " 62%|██████▏   | 37/60 [14:18<07:44, 20.20s/it]"
     ]
    },
    {
     "name": "stdout",
     "output_type": "stream",
     "text": [
      "Train Epoch: 37 @ 10:36:07.956838 - Train Loss: 0.0511 - Valid Loss: 0.0643\n",
      "EarlyStopping counter: 2 out of 10\n"
     ]
    },
    {
     "name": "stderr",
     "output_type": "stream",
     "text": [
      "\r",
      " 63%|██████▎   | 38/60 [14:38<07:23, 20.15s/it]"
     ]
    },
    {
     "name": "stdout",
     "output_type": "stream",
     "text": [
      "Train Epoch: 38 @ 10:36:27.968911 - Train Loss: 0.0491 - Valid Loss: 0.0719\n",
      "EarlyStopping counter: 3 out of 10\n"
     ]
    },
    {
     "name": "stderr",
     "output_type": "stream",
     "text": [
      "\r",
      " 65%|██████▌   | 39/60 [14:58<07:01, 20.08s/it]"
     ]
    },
    {
     "name": "stdout",
     "output_type": "stream",
     "text": [
      "Train Epoch: 39 @ 10:36:47.891761 - Train Loss: 0.0467 - Valid Loss: 0.0686\n",
      "EarlyStopping counter: 4 out of 10\n"
     ]
    },
    {
     "name": "stderr",
     "output_type": "stream",
     "text": [
      "\r",
      " 67%|██████▋   | 40/60 [15:18<06:42, 20.10s/it]"
     ]
    },
    {
     "name": "stdout",
     "output_type": "stream",
     "text": [
      "Train Epoch: 40 @ 10:37:08.044260 - Train Loss: 0.0435 - Valid Loss: 0.0649\n",
      "EarlyStopping counter: 5 out of 10\n"
     ]
    },
    {
     "name": "stderr",
     "output_type": "stream",
     "text": [
      "\r",
      " 68%|██████▊   | 41/60 [15:38<06:22, 20.13s/it]"
     ]
    },
    {
     "name": "stdout",
     "output_type": "stream",
     "text": [
      "Train Epoch: 41 @ 10:37:28.242386 - Train Loss: 0.0416 - Valid Loss: 0.0685\n",
      "EarlyStopping counter: 6 out of 10\n"
     ]
    },
    {
     "name": "stderr",
     "output_type": "stream",
     "text": [
      "\r",
      " 70%|███████   | 42/60 [15:58<06:01, 20.06s/it]"
     ]
    },
    {
     "name": "stdout",
     "output_type": "stream",
     "text": [
      "Train Epoch: 42 @ 10:37:48.125692 - Train Loss: 0.0439 - Valid Loss: 0.0666\n",
      "EarlyStopping counter: 7 out of 10\n"
     ]
    },
    {
     "name": "stderr",
     "output_type": "stream",
     "text": [
      "\r",
      " 72%|███████▏  | 43/60 [16:18<05:40, 20.02s/it]"
     ]
    },
    {
     "name": "stdout",
     "output_type": "stream",
     "text": [
      "Train Epoch: 43 @ 10:38:08.065266 - Train Loss: 0.0493 - Valid Loss: 0.0692\n",
      "EarlyStopping counter: 8 out of 10\n"
     ]
    },
    {
     "name": "stderr",
     "output_type": "stream",
     "text": [
      "\r",
      " 73%|███████▎  | 44/60 [16:38<05:20, 20.03s/it]"
     ]
    },
    {
     "name": "stdout",
     "output_type": "stream",
     "text": [
      "Train Epoch: 44 @ 10:38:28.129425 - Train Loss: 0.0458 - Valid Loss: 0.0687\n",
      "EarlyStopping counter: 9 out of 10\n"
     ]
    },
    {
     "name": "stderr",
     "output_type": "stream",
     "text": [
      "\r",
      " 75%|███████▌  | 45/60 [16:58<05:00, 20.05s/it]"
     ]
    },
    {
     "name": "stdout",
     "output_type": "stream",
     "text": [
      "Train Epoch: 45 @ 10:38:48.218983 - Train Loss: 0.0430 - Valid Loss: 0.0710\n",
      "EarlyStopping counter: 10 out of 10\n",
      "Early stopping\n"
     ]
    },
    {
     "data": {
      "image/png": "[encoded data removed]",
      "text/plain": [
       "<Figure size 720x576 with 1 Axes>"
      ]
     },
     "metadata": {
      "needs_background": "light",
      "tags": []
     },
     "output_type": "display_data"
    },
    {
     "name": "stdout",
     "output_type": "stream",
     "text": [
      "Dice2 score: 0.9798943655831474\n",
      "Batch size: 4, Learning rate: 0.0001 , Epochs: 60\n",
      "\n"
     ]
    },
    {
     "name": "stderr",
     "output_type": "stream",
     "text": [
      "\n",
      "  0%|          | 0/60 [00:00<?, ?it/s]\u001b[A"
     ]
    },
    {
     "name": "stdout",
     "output_type": "stream",
     "text": [
      "Validation loss decreased (inf --> 0.217497).  Saving model ...\n"
     ]
    },
    {
     "name": "stderr",
     "output_type": "stream",
     "text": [
      "\n",
      "  2%|▏         | 1/60 [00:20<20:10, 20.52s/it]\u001b[A"
     ]
    },
    {
     "name": "stdout",
     "output_type": "stream",
     "text": [
      "Train Epoch: 1 @ 10:39:29.845520 - Train Loss: 0.4844 - Valid Loss: 0.2175\n",
      "Validation loss decreased (0.217497 --> 0.191413).  Saving model ...\n"
     ]
    },
    {
     "name": "stderr",
     "output_type": "stream",
     "text": [
      "\n",
      "  3%|▎         | 2/60 [00:42<20:19, 21.02s/it]\u001b[A"
     ]
    },
    {
     "name": "stdout",
     "output_type": "stream",
     "text": [
      "Train Epoch: 2 @ 10:39:52.035608 - Train Loss: 0.2933 - Valid Loss: 0.1914\n",
      "Validation loss decreased (0.191413 --> 0.168187).  Saving model ...\n"
     ]
    },
    {
     "name": "stderr",
     "output_type": "stream",
     "text": [
      "\n",
      "  5%|▌         | 3/60 [01:03<19:59, 21.05s/it]\u001b[A"
     ]
    },
    {
     "name": "stdout",
     "output_type": "stream",
     "text": [
      "Train Epoch: 3 @ 10:40:13.161234 - Train Loss: 0.2502 - Valid Loss: 0.1682\n",
      "Validation loss decreased (0.168187 --> 0.157359).  Saving model ...\n"
     ]
    },
    {
     "name": "stderr",
     "output_type": "stream",
     "text": [
      "\n",
      "  7%|▋         | 4/60 [01:24<19:35, 20.99s/it]\u001b[A"
     ]
    },
    {
     "name": "stdout",
     "output_type": "stream",
     "text": [
      "Train Epoch: 4 @ 10:40:34.017473 - Train Loss: 0.2185 - Valid Loss: 0.1574\n",
      "Validation loss decreased (0.157359 --> 0.152048).  Saving model ...\n"
     ]
    },
    {
     "name": "stderr",
     "output_type": "stream",
     "text": [
      "\n",
      "  8%|▊         | 5/60 [01:45<19:12, 20.95s/it]\u001b[A"
     ]
    },
    {
     "name": "stdout",
     "output_type": "stream",
     "text": [
      "Train Epoch: 5 @ 10:40:54.856665 - Train Loss: 0.1957 - Valid Loss: 0.1520\n",
      "Validation loss decreased (0.152048 --> 0.141043).  Saving model ...\n"
     ]
    },
    {
     "name": "stderr",
     "output_type": "stream",
     "text": [
      "\n",
      " 10%|█         | 6/60 [02:06<18:50, 20.94s/it]\u001b[A"
     ]
    },
    {
     "name": "stdout",
     "output_type": "stream",
     "text": [
      "Train Epoch: 6 @ 10:41:15.763306 - Train Loss: 0.1802 - Valid Loss: 0.1410\n",
      "Validation loss decreased (0.141043 --> 0.140050).  Saving model ...\n"
     ]
    },
    {
     "name": "stderr",
     "output_type": "stream",
     "text": [
      "\n",
      " 12%|█▏        | 7/60 [02:27<18:28, 20.92s/it]\u001b[A"
     ]
    },
    {
     "name": "stdout",
     "output_type": "stream",
     "text": [
      "Train Epoch: 7 @ 10:41:36.649169 - Train Loss: 0.1709 - Valid Loss: 0.1401\n",
      "Validation loss decreased (0.140050 --> 0.132573).  Saving model ...\n"
     ]
    },
    {
     "name": "stderr",
     "output_type": "stream",
     "text": [
      "\n",
      " 13%|█▎        | 8/60 [02:48<18:10, 20.97s/it]\u001b[A"
     ]
    },
    {
     "name": "stdout",
     "output_type": "stream",
     "text": [
      "Train Epoch: 8 @ 10:41:57.726563 - Train Loss: 0.1566 - Valid Loss: 0.1326\n",
      "Validation loss decreased (0.132573 --> 0.127425).  Saving model ...\n"
     ]
    },
    {
     "name": "stderr",
     "output_type": "stream",
     "text": [
      "\n",
      " 15%|█▌        | 9/60 [03:10<18:12, 21.43s/it]\u001b[A"
     ]
    },
    {
     "name": "stdout",
     "output_type": "stream",
     "text": [
      "Train Epoch: 9 @ 10:42:20.231014 - Train Loss: 0.1465 - Valid Loss: 0.1274\n",
      "Validation loss decreased (0.127425 --> 0.124533).  Saving model ...\n"
     ]
    },
    {
     "name": "stderr",
     "output_type": "stream",
     "text": [
      "\n",
      " 17%|█▋        | 10/60 [03:31<17:45, 21.32s/it]\u001b[A"
     ]
    },
    {
     "name": "stdout",
     "output_type": "stream",
     "text": [
      "Train Epoch: 10 @ 10:42:41.292481 - Train Loss: 0.1424 - Valid Loss: 0.1245\n",
      "EarlyStopping counter: 1 out of 10\n"
     ]
    },
    {
     "name": "stderr",
     "output_type": "stream",
     "text": [
      "\n",
      " 18%|█▊        | 11/60 [03:52<17:12, 21.07s/it]\u001b[A"
     ]
    },
    {
     "name": "stdout",
     "output_type": "stream",
     "text": [
      "Train Epoch: 11 @ 10:43:01.787203 - Train Loss: 0.1330 - Valid Loss: 0.1248\n",
      "Validation loss decreased (0.124533 --> 0.116662).  Saving model ...\n"
     ]
    },
    {
     "name": "stderr",
     "output_type": "stream",
     "text": [
      "\n",
      " 20%|██        | 12/60 [04:13<16:50, 21.04s/it]\u001b[A"
     ]
    },
    {
     "name": "stdout",
     "output_type": "stream",
     "text": [
      "Train Epoch: 12 @ 10:43:22.769745 - Train Loss: 0.1315 - Valid Loss: 0.1167\n",
      "EarlyStopping counter: 1 out of 10\n"
     ]
    },
    {
     "name": "stderr",
     "output_type": "stream",
     "text": [
      "\n",
      " 22%|██▏       | 13/60 [04:33<16:21, 20.88s/it]\u001b[A"
     ]
    },
    {
     "name": "stdout",
     "output_type": "stream",
     "text": [
      "Train Epoch: 13 @ 10:43:43.259192 - Train Loss: 0.1288 - Valid Loss: 0.1174\n",
      "Validation loss decreased (0.116662 --> 0.113001).  Saving model ...\n"
     ]
    },
    {
     "name": "stderr",
     "output_type": "stream",
     "text": [
      "\n",
      " 23%|██▎       | 14/60 [04:54<16:00, 20.89s/it]\u001b[A"
     ]
    },
    {
     "name": "stdout",
     "output_type": "stream",
     "text": [
      "Train Epoch: 14 @ 10:44:04.170216 - Train Loss: 0.1225 - Valid Loss: 0.1130\n",
      "Validation loss decreased (0.113001 --> 0.108382).  Saving model ...\n"
     ]
    },
    {
     "name": "stderr",
     "output_type": "stream",
     "text": [
      "\n",
      " 25%|██▌       | 15/60 [05:15<15:40, 20.91s/it]\u001b[A"
     ]
    },
    {
     "name": "stdout",
     "output_type": "stream",
     "text": [
      "Train Epoch: 15 @ 10:44:25.115419 - Train Loss: 0.1163 - Valid Loss: 0.1084\n",
      "EarlyStopping counter: 1 out of 10\n"
     ]
    },
    {
     "name": "stderr",
     "output_type": "stream",
     "text": [
      "\n",
      " 27%|██▋       | 16/60 [05:36<15:14, 20.79s/it]\u001b[A"
     ]
    },
    {
     "name": "stdout",
     "output_type": "stream",
     "text": [
      "Train Epoch: 16 @ 10:44:45.643180 - Train Loss: 0.1101 - Valid Loss: 0.1088\n",
      "EarlyStopping counter: 2 out of 10\n"
     ]
    },
    {
     "name": "stderr",
     "output_type": "stream",
     "text": [
      "\n",
      " 28%|██▊       | 17/60 [05:56<14:49, 20.68s/it]\u001b[A"
     ]
    },
    {
     "name": "stdout",
     "output_type": "stream",
     "text": [
      "Train Epoch: 17 @ 10:45:06.067996 - Train Loss: 0.1094 - Valid Loss: 0.1099\n",
      "Validation loss decreased (0.108382 --> 0.106673).  Saving model ...\n"
     ]
    },
    {
     "name": "stderr",
     "output_type": "stream",
     "text": [
      "\n",
      " 30%|███       | 18/60 [06:18<14:37, 20.89s/it]\u001b[A"
     ]
    },
    {
     "name": "stdout",
     "output_type": "stream",
     "text": [
      "Train Epoch: 18 @ 10:45:27.452908 - Train Loss: 0.1040 - Valid Loss: 0.1067\n",
      "Validation loss decreased (0.106673 --> 0.105279).  Saving model ...\n"
     ]
    },
    {
     "name": "stderr",
     "output_type": "stream",
     "text": [
      "\n",
      " 32%|███▏      | 19/60 [06:39<14:18, 20.93s/it]\u001b[A"
     ]
    },
    {
     "name": "stdout",
     "output_type": "stream",
     "text": [
      "Train Epoch: 19 @ 10:45:48.477926 - Train Loss: 0.1028 - Valid Loss: 0.1053\n",
      "Validation loss decreased (0.105279 --> 0.098829).  Saving model ...\n"
     ]
    },
    {
     "name": "stderr",
     "output_type": "stream",
     "text": [
      "\n",
      " 33%|███▎      | 20/60 [07:00<14:00, 21.02s/it]\u001b[A"
     ]
    },
    {
     "name": "stdout",
     "output_type": "stream",
     "text": [
      "Train Epoch: 20 @ 10:46:09.692935 - Train Loss: 0.1005 - Valid Loss: 0.0988\n",
      "EarlyStopping counter: 1 out of 10\n"
     ]
    },
    {
     "name": "stderr",
     "output_type": "stream",
     "text": [
      "\n",
      " 35%|███▌      | 21/60 [07:20<13:33, 20.86s/it]\u001b[A"
     ]
    },
    {
     "name": "stdout",
     "output_type": "stream",
     "text": [
      "Train Epoch: 21 @ 10:46:30.179593 - Train Loss: 0.0921 - Valid Loss: 0.0993\n",
      "EarlyStopping counter: 2 out of 10\n"
     ]
    },
    {
     "name": "stderr",
     "output_type": "stream",
     "text": [
      "\n",
      " 37%|███▋      | 22/60 [07:41<13:06, 20.71s/it]\u001b[A"
     ]
    },
    {
     "name": "stdout",
     "output_type": "stream",
     "text": [
      "Train Epoch: 22 @ 10:46:50.541880 - Train Loss: 0.0884 - Valid Loss: 0.1020\n",
      "EarlyStopping counter: 3 out of 10\n"
     ]
    },
    {
     "name": "stderr",
     "output_type": "stream",
     "text": [
      "\n",
      " 38%|███▊      | 23/60 [08:01<12:43, 20.63s/it]\u001b[A"
     ]
    },
    {
     "name": "stdout",
     "output_type": "stream",
     "text": [
      "Train Epoch: 23 @ 10:47:10.978876 - Train Loss: 0.0898 - Valid Loss: 0.1012\n",
      "EarlyStopping counter: 4 out of 10\n"
     ]
    },
    {
     "name": "stderr",
     "output_type": "stream",
     "text": [
      "\n",
      " 40%|████      | 24/60 [08:21<12:18, 20.52s/it]\u001b[A"
     ]
    },
    {
     "name": "stdout",
     "output_type": "stream",
     "text": [
      "Train Epoch: 24 @ 10:47:31.261282 - Train Loss: 0.0857 - Valid Loss: 0.1006\n",
      "EarlyStopping counter: 5 out of 10\n"
     ]
    },
    {
     "name": "stderr",
     "output_type": "stream",
     "text": [
      "\n",
      " 42%|████▏     | 25/60 [08:42<11:54, 20.42s/it]\u001b[A"
     ]
    },
    {
     "name": "stdout",
     "output_type": "stream",
     "text": [
      "Train Epoch: 25 @ 10:47:51.426275 - Train Loss: 0.0814 - Valid Loss: 0.0991\n",
      "Validation loss decreased (0.098829 --> 0.096322).  Saving model ...\n"
     ]
    },
    {
     "name": "stderr",
     "output_type": "stream",
     "text": [
      "\n",
      " 43%|████▎     | 26/60 [09:03<11:39, 20.57s/it]\u001b[A"
     ]
    },
    {
     "name": "stdout",
     "output_type": "stream",
     "text": [
      "Train Epoch: 26 @ 10:48:12.342093 - Train Loss: 0.0804 - Valid Loss: 0.0963\n",
      "Validation loss decreased (0.096322 --> 0.096056).  Saving model ...\n"
     ]
    },
    {
     "name": "stderr",
     "output_type": "stream",
     "text": [
      "\n",
      " 45%|████▌     | 27/60 [09:24<11:22, 20.69s/it]\u001b[A"
     ]
    },
    {
     "name": "stdout",
     "output_type": "stream",
     "text": [
      "Train Epoch: 27 @ 10:48:33.336910 - Train Loss: 0.0763 - Valid Loss: 0.0961\n",
      "EarlyStopping counter: 1 out of 10\n"
     ]
    },
    {
     "name": "stderr",
     "output_type": "stream",
     "text": [
      "\n",
      " 47%|████▋     | 28/60 [09:45<11:05, 20.80s/it]\u001b[A"
     ]
    },
    {
     "name": "stdout",
     "output_type": "stream",
     "text": [
      "Train Epoch: 28 @ 10:48:54.396792 - Train Loss: 0.0742 - Valid Loss: 0.0999\n",
      "EarlyStopping counter: 2 out of 10\n"
     ]
    },
    {
     "name": "stderr",
     "output_type": "stream",
     "text": [
      "\n",
      " 48%|████▊     | 29/60 [10:05<10:41, 20.68s/it]\u001b[A"
     ]
    },
    {
     "name": "stdout",
     "output_type": "stream",
     "text": [
      "Train Epoch: 29 @ 10:49:14.770096 - Train Loss: 0.0759 - Valid Loss: 0.0972\n",
      "EarlyStopping counter: 3 out of 10\n"
     ]
    },
    {
     "name": "stderr",
     "output_type": "stream",
     "text": [
      "\n",
      " 50%|█████     | 30/60 [10:25<10:18, 20.61s/it]\u001b[A"
     ]
    },
    {
     "name": "stdout",
     "output_type": "stream",
     "text": [
      "Train Epoch: 30 @ 10:49:35.235916 - Train Loss: 0.0716 - Valid Loss: 0.0982\n",
      "EarlyStopping counter: 4 out of 10\n"
     ]
    },
    {
     "name": "stderr",
     "output_type": "stream",
     "text": [
      "\n",
      " 52%|█████▏    | 31/60 [10:46<09:57, 20.60s/it]\u001b[A"
     ]
    },
    {
     "name": "stdout",
     "output_type": "stream",
     "text": [
      "Train Epoch: 31 @ 10:49:55.817238 - Train Loss: 0.0699 - Valid Loss: 0.0969\n",
      "EarlyStopping counter: 5 out of 10\n"
     ]
    },
    {
     "name": "stderr",
     "output_type": "stream",
     "text": [
      "\n",
      " 53%|█████▎    | 32/60 [11:06<09:35, 20.55s/it]\u001b[A"
     ]
    },
    {
     "name": "stdout",
     "output_type": "stream",
     "text": [
      "Train Epoch: 32 @ 10:50:16.233880 - Train Loss: 0.0722 - Valid Loss: 0.0993\n",
      "Validation loss decreased (0.096056 --> 0.095467).  Saving model ...\n"
     ]
    },
    {
     "name": "stderr",
     "output_type": "stream",
     "text": [
      "\n",
      " 55%|█████▌    | 33/60 [11:27<09:17, 20.64s/it]\u001b[A"
     ]
    },
    {
     "name": "stdout",
     "output_type": "stream",
     "text": [
      "Train Epoch: 33 @ 10:50:37.091283 - Train Loss: 0.0673 - Valid Loss: 0.0955\n",
      "EarlyStopping counter: 1 out of 10\n"
     ]
    },
    {
     "name": "stderr",
     "output_type": "stream",
     "text": [
      "\n",
      " 57%|█████▋    | 34/60 [11:48<08:56, 20.63s/it]\u001b[A"
     ]
    },
    {
     "name": "stdout",
     "output_type": "stream",
     "text": [
      "Train Epoch: 34 @ 10:50:57.703765 - Train Loss: 0.0663 - Valid Loss: 0.0970\n",
      "EarlyStopping counter: 2 out of 10\n"
     ]
    },
    {
     "name": "stderr",
     "output_type": "stream",
     "text": [
      "\n",
      " 58%|█████▊    | 35/60 [12:08<08:33, 20.55s/it]\u001b[A"
     ]
    },
    {
     "name": "stdout",
     "output_type": "stream",
     "text": [
      "Train Epoch: 35 @ 10:51:18.048265 - Train Loss: 0.0660 - Valid Loss: 0.0965\n",
      "EarlyStopping counter: 3 out of 10\n"
     ]
    },
    {
     "name": "stderr",
     "output_type": "stream",
     "text": [
      "\n",
      " 60%|██████    | 36/60 [12:28<08:11, 20.46s/it]\u001b[A"
     ]
    },
    {
     "name": "stdout",
     "output_type": "stream",
     "text": [
      "Train Epoch: 36 @ 10:51:38.319739 - Train Loss: 0.0623 - Valid Loss: 0.0964\n",
      "EarlyStopping counter: 4 out of 10\n"
     ]
    },
    {
     "name": "stderr",
     "output_type": "stream",
     "text": [
      "\n",
      " 62%|██████▏   | 37/60 [12:49<07:51, 20.49s/it]\u001b[A"
     ]
    },
    {
     "name": "stdout",
     "output_type": "stream",
     "text": [
      "Train Epoch: 37 @ 10:51:58.866871 - Train Loss: 0.0644 - Valid Loss: 0.0983\n",
      "EarlyStopping counter: 5 out of 10\n"
     ]
    },
    {
     "name": "stderr",
     "output_type": "stream",
     "text": [
      "\n",
      " 63%|██████▎   | 38/60 [13:10<07:32, 20.57s/it]\u001b[A"
     ]
    },
    {
     "name": "stdout",
     "output_type": "stream",
     "text": [
      "Train Epoch: 38 @ 10:52:19.637147 - Train Loss: 0.0611 - Valid Loss: 0.0972\n",
      "EarlyStopping counter: 6 out of 10\n"
     ]
    },
    {
     "name": "stderr",
     "output_type": "stream",
     "text": [
      "\n",
      " 65%|██████▌   | 39/60 [13:30<07:12, 20.60s/it]\u001b[A"
     ]
    },
    {
     "name": "stdout",
     "output_type": "stream",
     "text": [
      "Train Epoch: 39 @ 10:52:40.296357 - Train Loss: 0.0616 - Valid Loss: 0.0968\n",
      "EarlyStopping counter: 7 out of 10\n"
     ]
    },
    {
     "name": "stderr",
     "output_type": "stream",
     "text": [
      "\n",
      " 67%|██████▋   | 40/60 [13:51<06:50, 20.52s/it]\u001b[A"
     ]
    },
    {
     "name": "stdout",
     "output_type": "stream",
     "text": [
      "Train Epoch: 40 @ 10:53:00.620799 - Train Loss: 0.0652 - Valid Loss: 0.0984\n",
      "EarlyStopping counter: 8 out of 10\n"
     ]
    },
    {
     "name": "stderr",
     "output_type": "stream",
     "text": [
      "\n",
      " 68%|██████▊   | 41/60 [14:11<06:29, 20.51s/it]\u001b[A"
     ]
    },
    {
     "name": "stdout",
     "output_type": "stream",
     "text": [
      "Train Epoch: 41 @ 10:53:21.107333 - Train Loss: 0.0618 - Valid Loss: 0.0976\n",
      "Validation loss decreased (0.095467 --> 0.095331).  Saving model ...\n"
     ]
    },
    {
     "name": "stderr",
     "output_type": "stream",
     "text": [
      "\n",
      " 70%|███████   | 42/60 [14:32<06:09, 20.55s/it]\u001b[A"
     ]
    },
    {
     "name": "stdout",
     "output_type": "stream",
     "text": [
      "Train Epoch: 42 @ 10:53:41.753056 - Train Loss: 0.0592 - Valid Loss: 0.0953\n",
      "EarlyStopping counter: 1 out of 10\n"
     ]
    },
    {
     "name": "stderr",
     "output_type": "stream",
     "text": [
      "\n",
      " 72%|███████▏  | 43/60 [14:52<05:48, 20.48s/it]\u001b[A"
     ]
    },
    {
     "name": "stdout",
     "output_type": "stream",
     "text": [
      "Train Epoch: 43 @ 10:54:02.084223 - Train Loss: 0.0576 - Valid Loss: 0.0963\n",
      "EarlyStopping counter: 2 out of 10\n"
     ]
    },
    {
     "name": "stderr",
     "output_type": "stream",
     "text": [
      "\n",
      " 73%|███████▎  | 44/60 [15:13<05:27, 20.50s/it]\u001b[A"
     ]
    },
    {
     "name": "stdout",
     "output_type": "stream",
     "text": [
      "Train Epoch: 44 @ 10:54:22.609114 - Train Loss: 0.0554 - Valid Loss: 0.0963\n",
      "EarlyStopping counter: 3 out of 10\n"
     ]
    },
    {
     "name": "stderr",
     "output_type": "stream",
     "text": [
      "\n",
      " 75%|███████▌  | 45/60 [15:33<05:07, 20.47s/it]\u001b[A"
     ]
    },
    {
     "name": "stdout",
     "output_type": "stream",
     "text": [
      "Train Epoch: 45 @ 10:54:43.010996 - Train Loss: 0.0554 - Valid Loss: 0.1001\n",
      "EarlyStopping counter: 4 out of 10\n"
     ]
    },
    {
     "name": "stderr",
     "output_type": "stream",
     "text": [
      "\n",
      " 77%|███████▋  | 46/60 [15:54<04:46, 20.49s/it]\u001b[A"
     ]
    },
    {
     "name": "stdout",
     "output_type": "stream",
     "text": [
      "Train Epoch: 46 @ 10:55:03.567183 - Train Loss: 0.0539 - Valid Loss: 0.0969\n",
      "EarlyStopping counter: 5 out of 10\n"
     ]
    },
    {
     "name": "stderr",
     "output_type": "stream",
     "text": [
      "\n",
      " 78%|███████▊  | 47/60 [16:14<04:25, 20.44s/it]\u001b[A"
     ]
    },
    {
     "name": "stdout",
     "output_type": "stream",
     "text": [
      "Train Epoch: 47 @ 10:55:23.870807 - Train Loss: 0.0525 - Valid Loss: 0.0956\n",
      "EarlyStopping counter: 6 out of 10\n"
     ]
    },
    {
     "name": "stderr",
     "output_type": "stream",
     "text": [
      "\n",
      " 80%|████████  | 48/60 [16:34<04:04, 20.40s/it]\u001b[A"
     ]
    },
    {
     "name": "stdout",
     "output_type": "stream",
     "text": [
      "Train Epoch: 48 @ 10:55:44.195662 - Train Loss: 0.0517 - Valid Loss: 0.0976\n",
      "EarlyStopping counter: 7 out of 10\n"
     ]
    },
    {
     "name": "stderr",
     "output_type": "stream",
     "text": [
      "\n",
      " 82%|████████▏ | 49/60 [16:55<03:44, 20.44s/it]\u001b[A"
     ]
    },
    {
     "name": "stdout",
     "output_type": "stream",
     "text": [
      "Train Epoch: 49 @ 10:56:04.723029 - Train Loss: 0.0511 - Valid Loss: 0.0989\n",
      "EarlyStopping counter: 8 out of 10\n"
     ]
    },
    {
     "name": "stderr",
     "output_type": "stream",
     "text": [
      "\n",
      " 83%|████████▎ | 50/60 [17:15<03:23, 20.40s/it]\u001b[A"
     ]
    },
    {
     "name": "stdout",
     "output_type": "stream",
     "text": [
      "Train Epoch: 50 @ 10:56:25.024297 - Train Loss: 0.0505 - Valid Loss: 0.0998\n",
      "EarlyStopping counter: 9 out of 10\n"
     ]
    },
    {
     "name": "stderr",
     "output_type": "stream",
     "text": [
      "\n",
      " 85%|████████▌ | 51/60 [17:35<03:03, 20.34s/it]\u001b[A"
     ]
    },
    {
     "name": "stdout",
     "output_type": "stream",
     "text": [
      "Train Epoch: 51 @ 10:56:45.233818 - Train Loss: 0.0504 - Valid Loss: 0.0993\n",
      "EarlyStopping counter: 10 out of 10\n",
      "Early stopping\n"
     ]
    },
    {
     "data": {
      "image/png": "[encoded data removed]",
      "text/plain": [
       "<Figure size 720x576 with 1 Axes>"
      ]
     },
     "metadata": {
      "needs_background": "light",
      "tags": []
     },
     "output_type": "display_data"
    },
    {
     "name": "stdout",
     "output_type": "stream",
     "text": [
      "Dice2 score: 0.9633440290178571\n",
      "Batch size: 4, Learning rate: 1e-05 , Epochs: 60\n",
      "\n"
     ]
    },
    {
     "name": "stderr",
     "output_type": "stream",
     "text": [
      "\n",
      "\n",
      "  0%|          | 0/60 [00:00<?, ?it/s]\u001b[A\u001b[A"
     ]
    },
    {
     "name": "stdout",
     "output_type": "stream",
     "text": [
      "Validation loss decreased (inf --> 0.647296).  Saving model ...\n"
     ]
    },
    {
     "name": "stderr",
     "output_type": "stream",
     "text": [
      "\n",
      "\n",
      "  2%|▏         | 1/60 [00:20<20:17, 20.64s/it]\u001b[A\u001b[A"
     ]
    },
    {
     "name": "stdout",
     "output_type": "stream",
     "text": [
      "Train Epoch: 1 @ 10:57:27.280327 - Train Loss: 0.6615 - Valid Loss: 0.6473\n",
      "Validation loss decreased (0.647296 --> 0.454903).  Saving model ...\n"
     ]
    },
    {
     "name": "stderr",
     "output_type": "stream",
     "text": [
      "\n",
      "\n",
      "  3%|▎         | 2/60 [00:41<20:00, 20.70s/it]\u001b[A\u001b[A"
     ]
    },
    {
     "name": "stdout",
     "output_type": "stream",
     "text": [
      "Train Epoch: 2 @ 10:57:48.097102 - Train Loss: 0.5480 - Valid Loss: 0.4549\n",
      "Validation loss decreased (0.454903 --> 0.228892).  Saving model ...\n"
     ]
    },
    {
     "name": "stderr",
     "output_type": "stream",
     "text": [
      "\n",
      "\n",
      "  5%|▌         | 3/60 [01:02<19:46, 20.81s/it]\u001b[A\u001b[A"
     ]
    },
    {
     "name": "stdout",
     "output_type": "stream",
     "text": [
      "Train Epoch: 3 @ 10:58:09.164827 - Train Loss: 0.3730 - Valid Loss: 0.2289\n",
      "Validation loss decreased (0.228892 --> 0.180079).  Saving model ...\n"
     ]
    },
    {
     "name": "stderr",
     "output_type": "stream",
     "text": [
      "\n",
      "\n",
      "  7%|▋         | 4/60 [01:23<19:26, 20.82s/it]\u001b[A\u001b[A"
     ]
    },
    {
     "name": "stdout",
     "output_type": "stream",
     "text": [
      "Train Epoch: 4 @ 10:58:30.020235 - Train Loss: 0.2894 - Valid Loss: 0.1801\n",
      "Validation loss decreased (0.180079 --> 0.167398).  Saving model ...\n"
     ]
    },
    {
     "name": "stderr",
     "output_type": "stream",
     "text": [
      "\n",
      "\n",
      "  8%|▊         | 5/60 [01:44<19:04, 20.82s/it]\u001b[A\u001b[A"
     ]
    },
    {
     "name": "stdout",
     "output_type": "stream",
     "text": [
      "Train Epoch: 5 @ 10:58:50.828329 - Train Loss: 0.2642 - Valid Loss: 0.1674\n",
      "Validation loss decreased (0.167398 --> 0.160735).  Saving model ...\n"
     ]
    },
    {
     "name": "stderr",
     "output_type": "stream",
     "text": [
      "\n",
      "\n",
      " 10%|█         | 6/60 [02:06<19:14, 21.38s/it]\u001b[A\u001b[A"
     ]
    },
    {
     "name": "stdout",
     "output_type": "stream",
     "text": [
      "Train Epoch: 6 @ 10:59:13.511235 - Train Loss: 0.2457 - Valid Loss: 0.1607\n",
      "Validation loss decreased (0.160735 --> 0.153111).  Saving model ...\n"
     ]
    },
    {
     "name": "stderr",
     "output_type": "stream",
     "text": [
      "\n",
      "\n",
      " 12%|█▏        | 7/60 [02:27<18:46, 21.26s/it]\u001b[A\u001b[A"
     ]
    },
    {
     "name": "stdout",
     "output_type": "stream",
     "text": [
      "Train Epoch: 7 @ 10:59:34.490052 - Train Loss: 0.2342 - Valid Loss: 0.1531\n",
      "Validation loss decreased (0.153111 --> 0.153101).  Saving model ...\n"
     ]
    },
    {
     "name": "stderr",
     "output_type": "stream",
     "text": [
      "\n",
      "\n",
      " 13%|█▎        | 8/60 [02:48<18:18, 21.12s/it]\u001b[A\u001b[A"
     ]
    },
    {
     "name": "stdout",
     "output_type": "stream",
     "text": [
      "Train Epoch: 8 @ 10:59:55.301152 - Train Loss: 0.2232 - Valid Loss: 0.1531\n",
      "Validation loss decreased (0.153101 --> 0.151770).  Saving model ...\n"
     ]
    },
    {
     "name": "stderr",
     "output_type": "stream",
     "text": [
      "\n",
      "\n",
      " 15%|█▌        | 9/60 [03:09<17:55, 21.09s/it]\u001b[A\u001b[A"
     ]
    },
    {
     "name": "stdout",
     "output_type": "stream",
     "text": [
      "Train Epoch: 9 @ 11:00:16.304943 - Train Loss: 0.2176 - Valid Loss: 0.1518\n",
      "Validation loss decreased (0.151770 --> 0.151332).  Saving model ...\n"
     ]
    },
    {
     "name": "stderr",
     "output_type": "stream",
     "text": [
      "\n",
      "\n",
      " 17%|█▋        | 10/60 [03:30<17:31, 21.03s/it]\u001b[A\u001b[A"
     ]
    },
    {
     "name": "stdout",
     "output_type": "stream",
     "text": [
      "Train Epoch: 10 @ 11:00:37.185090 - Train Loss: 0.2103 - Valid Loss: 0.1513\n",
      "Validation loss decreased (0.151332 --> 0.140420).  Saving model ...\n"
     ]
    },
    {
     "name": "stderr",
     "output_type": "stream",
     "text": [
      "\n",
      "\n",
      " 18%|█▊        | 11/60 [03:51<17:10, 21.04s/it]\u001b[A\u001b[A"
     ]
    },
    {
     "name": "stdout",
     "output_type": "stream",
     "text": [
      "Train Epoch: 11 @ 11:00:58.254339 - Train Loss: 0.2049 - Valid Loss: 0.1404\n",
      "Validation loss decreased (0.140420 --> 0.135208).  Saving model ...\n"
     ]
    },
    {
     "name": "stderr",
     "output_type": "stream",
     "text": [
      "\n",
      "\n",
      " 20%|██        | 12/60 [04:12<16:48, 21.01s/it]\u001b[A\u001b[A"
     ]
    },
    {
     "name": "stdout",
     "output_type": "stream",
     "text": [
      "Train Epoch: 12 @ 11:01:19.196618 - Train Loss: 0.1957 - Valid Loss: 0.1352\n",
      "Validation loss decreased (0.135208 --> 0.131749).  Saving model ...\n"
     ]
    },
    {
     "name": "stderr",
     "output_type": "stream",
     "text": [
      "\n",
      "\n",
      " 22%|██▏       | 13/60 [04:33<16:24, 20.95s/it]\u001b[A\u001b[A"
     ]
    },
    {
     "name": "stdout",
     "output_type": "stream",
     "text": [
      "Train Epoch: 13 @ 11:01:40.021712 - Train Loss: 0.1954 - Valid Loss: 0.1317\n",
      "Validation loss decreased (0.131749 --> 0.127945).  Saving model ...\n"
     ]
    },
    {
     "name": "stderr",
     "output_type": "stream",
     "text": [
      "\n",
      "\n",
      " 23%|██▎       | 14/60 [04:54<16:05, 20.99s/it]\u001b[A\u001b[A"
     ]
    },
    {
     "name": "stdout",
     "output_type": "stream",
     "text": [
      "Train Epoch: 14 @ 11:02:01.084939 - Train Loss: 0.1898 - Valid Loss: 0.1279\n",
      "Validation loss decreased (0.127945 --> 0.120540).  Saving model ...\n"
     ]
    },
    {
     "name": "stderr",
     "output_type": "stream",
     "text": [
      "\n",
      "\n",
      " 25%|██▌       | 15/60 [05:15<15:48, 21.07s/it]\u001b[A\u001b[A"
     ]
    },
    {
     "name": "stdout",
     "output_type": "stream",
     "text": [
      "Train Epoch: 15 @ 11:02:22.351493 - Train Loss: 0.1836 - Valid Loss: 0.1205\n",
      "Validation loss decreased (0.120540 --> 0.118109).  Saving model ...\n"
     ]
    },
    {
     "name": "stderr",
     "output_type": "stream",
     "text": [
      "\n",
      "\n",
      " 27%|██▋       | 16/60 [05:36<15:22, 20.97s/it]\u001b[A\u001b[A"
     ]
    },
    {
     "name": "stdout",
     "output_type": "stream",
     "text": [
      "Train Epoch: 16 @ 11:02:43.075072 - Train Loss: 0.1798 - Valid Loss: 0.1181\n",
      "Validation loss decreased (0.118109 --> 0.112617).  Saving model ...\n"
     ]
    },
    {
     "name": "stderr",
     "output_type": "stream",
     "text": [
      "\n",
      "\n",
      " 28%|██▊       | 17/60 [05:57<15:03, 21.02s/it]\u001b[A\u001b[A"
     ]
    },
    {
     "name": "stdout",
     "output_type": "stream",
     "text": [
      "Train Epoch: 17 @ 11:03:04.223869 - Train Loss: 0.1786 - Valid Loss: 0.1126\n",
      "EarlyStopping counter: 1 out of 10\n"
     ]
    },
    {
     "name": "stderr",
     "output_type": "stream",
     "text": [
      "\n",
      "\n",
      " 30%|███       | 18/60 [06:18<14:36, 20.86s/it]\u001b[A\u001b[A"
     ]
    },
    {
     "name": "stdout",
     "output_type": "stream",
     "text": [
      "Train Epoch: 18 @ 11:03:24.701555 - Train Loss: 0.1762 - Valid Loss: 0.1132\n",
      "EarlyStopping counter: 2 out of 10\n"
     ]
    },
    {
     "name": "stderr",
     "output_type": "stream",
     "text": [
      "\n",
      "\n",
      " 32%|███▏      | 19/60 [06:38<14:07, 20.66s/it]\u001b[A\u001b[A"
     ]
    },
    {
     "name": "stdout",
     "output_type": "stream",
     "text": [
      "Train Epoch: 19 @ 11:03:44.905109 - Train Loss: 0.1784 - Valid Loss: 0.1144\n",
      "EarlyStopping counter: 3 out of 10\n"
     ]
    },
    {
     "name": "stderr",
     "output_type": "stream",
     "text": [
      "\n",
      "\n",
      " 33%|███▎      | 20/60 [06:58<13:43, 20.58s/it]\u001b[A\u001b[A"
     ]
    },
    {
     "name": "stdout",
     "output_type": "stream",
     "text": [
      "Train Epoch: 20 @ 11:04:05.288243 - Train Loss: 0.1733 - Valid Loss: 0.1127\n",
      "Validation loss decreased (0.112617 --> 0.107687).  Saving model ...\n"
     ]
    },
    {
     "name": "stderr",
     "output_type": "stream",
     "text": [
      "\n",
      "\n",
      " 35%|███▌      | 21/60 [07:19<13:27, 20.70s/it]\u001b[A\u001b[A"
     ]
    },
    {
     "name": "stdout",
     "output_type": "stream",
     "text": [
      "Train Epoch: 21 @ 11:04:26.283257 - Train Loss: 0.1714 - Valid Loss: 0.1077\n",
      "EarlyStopping counter: 1 out of 10\n"
     ]
    },
    {
     "name": "stderr",
     "output_type": "stream",
     "text": [
      "\n",
      "\n",
      " 37%|███▋      | 22/60 [07:40<13:03, 20.61s/it]\u001b[A\u001b[A"
     ]
    },
    {
     "name": "stdout",
     "output_type": "stream",
     "text": [
      "Train Epoch: 22 @ 11:04:46.680586 - Train Loss: 0.1664 - Valid Loss: 0.1099\n",
      "EarlyStopping counter: 2 out of 10\n"
     ]
    },
    {
     "name": "stderr",
     "output_type": "stream",
     "text": [
      "\n",
      "\n",
      " 38%|███▊      | 23/60 [08:00<12:39, 20.52s/it]\u001b[A\u001b[A"
     ]
    },
    {
     "name": "stdout",
     "output_type": "stream",
     "text": [
      "Train Epoch: 23 @ 11:05:07.001376 - Train Loss: 0.1662 - Valid Loss: 0.1079\n",
      "EarlyStopping counter: 3 out of 10\n"
     ]
    },
    {
     "name": "stderr",
     "output_type": "stream",
     "text": [
      "\n",
      "\n",
      " 40%|████      | 24/60 [08:20<12:18, 20.52s/it]\u001b[A\u001b[A"
     ]
    },
    {
     "name": "stdout",
     "output_type": "stream",
     "text": [
      "Train Epoch: 24 @ 11:05:27.514647 - Train Loss: 0.1628 - Valid Loss: 0.1079\n",
      "EarlyStopping counter: 4 out of 10\n"
     ]
    },
    {
     "name": "stderr",
     "output_type": "stream",
     "text": [
      "\n",
      "\n",
      " 42%|████▏     | 25/60 [08:41<11:56, 20.48s/it]\u001b[A\u001b[A"
     ]
    },
    {
     "name": "stdout",
     "output_type": "stream",
     "text": [
      "Train Epoch: 25 @ 11:05:47.910330 - Train Loss: 0.1621 - Valid Loss: 0.1080\n",
      "Validation loss decreased (0.107687 --> 0.105960).  Saving model ...\n"
     ]
    },
    {
     "name": "stderr",
     "output_type": "stream",
     "text": [
      "\n",
      "\n",
      " 43%|████▎     | 26/60 [09:02<11:41, 20.62s/it]\u001b[A\u001b[A"
     ]
    },
    {
     "name": "stdout",
     "output_type": "stream",
     "text": [
      "Train Epoch: 26 @ 11:06:08.846528 - Train Loss: 0.1613 - Valid Loss: 0.1060\n",
      "Validation loss decreased (0.105960 --> 0.104831).  Saving model ...\n"
     ]
    },
    {
     "name": "stderr",
     "output_type": "stream",
     "text": [
      "\n",
      "\n",
      " 45%|████▌     | 27/60 [09:23<11:22, 20.69s/it]\u001b[A\u001b[A"
     ]
    },
    {
     "name": "stdout",
     "output_type": "stream",
     "text": [
      "Train Epoch: 27 @ 11:06:29.691238 - Train Loss: 0.1577 - Valid Loss: 0.1048\n",
      "Validation loss decreased (0.104831 --> 0.101032).  Saving model ...\n"
     ]
    },
    {
     "name": "stderr",
     "output_type": "stream",
     "text": [
      "\n",
      "\n",
      " 47%|████▋     | 28/60 [09:44<11:05, 20.80s/it]\u001b[A\u001b[A"
     ]
    },
    {
     "name": "stdout",
     "output_type": "stream",
     "text": [
      "Train Epoch: 28 @ 11:06:50.756843 - Train Loss: 0.1581 - Valid Loss: 0.1010\n",
      "Validation loss decreased (0.101032 --> 0.100638).  Saving model ...\n"
     ]
    },
    {
     "name": "stderr",
     "output_type": "stream",
     "text": [
      "\n",
      "\n",
      " 48%|████▊     | 29/60 [10:05<10:47, 20.89s/it]\u001b[A\u001b[A"
     ]
    },
    {
     "name": "stdout",
     "output_type": "stream",
     "text": [
      "Train Epoch: 29 @ 11:07:11.862345 - Train Loss: 0.1578 - Valid Loss: 0.1006\n",
      "EarlyStopping counter: 1 out of 10\n"
     ]
    },
    {
     "name": "stderr",
     "output_type": "stream",
     "text": [
      "\n",
      "\n",
      " 50%|█████     | 30/60 [10:25<10:22, 20.75s/it]\u001b[A\u001b[A"
     ]
    },
    {
     "name": "stdout",
     "output_type": "stream",
     "text": [
      "Train Epoch: 30 @ 11:07:32.271319 - Train Loss: 0.1573 - Valid Loss: 0.1018\n",
      "Validation loss decreased (0.100638 --> 0.099163).  Saving model ...\n"
     ]
    },
    {
     "name": "stderr",
     "output_type": "stream",
     "text": [
      "\n",
      "\n",
      " 52%|█████▏    | 31/60 [10:46<10:04, 20.85s/it]\u001b[A\u001b[A"
     ]
    },
    {
     "name": "stdout",
     "output_type": "stream",
     "text": [
      "Train Epoch: 31 @ 11:07:53.367082 - Train Loss: 0.1526 - Valid Loss: 0.0992\n",
      "EarlyStopping counter: 1 out of 10\n"
     ]
    },
    {
     "name": "stderr",
     "output_type": "stream",
     "text": [
      "\n",
      "\n",
      " 53%|█████▎    | 32/60 [11:07<09:43, 20.83s/it]\u001b[A\u001b[A"
     ]
    },
    {
     "name": "stdout",
     "output_type": "stream",
     "text": [
      "Train Epoch: 32 @ 11:08:14.130862 - Train Loss: 0.1505 - Valid Loss: 0.1004\n",
      "Validation loss decreased (0.099163 --> 0.098879).  Saving model ...\n"
     ]
    },
    {
     "name": "stderr",
     "output_type": "stream",
     "text": [
      "\n",
      "\n",
      " 55%|█████▌    | 33/60 [11:28<09:23, 20.86s/it]\u001b[A\u001b[A"
     ]
    },
    {
     "name": "stdout",
     "output_type": "stream",
     "text": [
      "Train Epoch: 33 @ 11:08:35.075931 - Train Loss: 0.1523 - Valid Loss: 0.0989\n",
      "Validation loss decreased (0.098879 --> 0.098326).  Saving model ...\n"
     ]
    },
    {
     "name": "stderr",
     "output_type": "stream",
     "text": [
      "\n",
      "\n",
      " 57%|█████▋    | 34/60 [11:49<09:02, 20.88s/it]\u001b[A\u001b[A"
     ]
    },
    {
     "name": "stdout",
     "output_type": "stream",
     "text": [
      "Train Epoch: 34 @ 11:08:55.996522 - Train Loss: 0.1492 - Valid Loss: 0.0983\n",
      "Validation loss decreased (0.098326 --> 0.095680).  Saving model ...\n"
     ]
    },
    {
     "name": "stderr",
     "output_type": "stream",
     "text": [
      "\n",
      "\n",
      " 58%|█████▊    | 35/60 [12:10<08:44, 20.96s/it]\u001b[A\u001b[A"
     ]
    },
    {
     "name": "stdout",
     "output_type": "stream",
     "text": [
      "Train Epoch: 35 @ 11:09:17.160734 - Train Loss: 0.1466 - Valid Loss: 0.0957\n",
      "EarlyStopping counter: 1 out of 10\n"
     ]
    },
    {
     "name": "stderr",
     "output_type": "stream",
     "text": [
      "\n",
      "\n",
      " 60%|██████    | 36/60 [12:30<08:19, 20.79s/it]\u001b[A\u001b[A"
     ]
    },
    {
     "name": "stdout",
     "output_type": "stream",
     "text": [
      "Train Epoch: 36 @ 11:09:37.554321 - Train Loss: 0.1498 - Valid Loss: 0.1015\n",
      "EarlyStopping counter: 2 out of 10\n"
     ]
    },
    {
     "name": "stderr",
     "output_type": "stream",
     "text": [
      "\n",
      "\n",
      " 62%|██████▏   | 37/60 [12:51<07:54, 20.64s/it]\u001b[A\u001b[A"
     ]
    },
    {
     "name": "stdout",
     "output_type": "stream",
     "text": [
      "Train Epoch: 37 @ 11:09:57.829982 - Train Loss: 0.1460 - Valid Loss: 0.0961\n",
      "Validation loss decreased (0.095680 --> 0.094353).  Saving model ...\n"
     ]
    },
    {
     "name": "stderr",
     "output_type": "stream",
     "text": [
      "\n",
      "\n",
      " 63%|██████▎   | 38/60 [13:12<07:36, 20.76s/it]\u001b[A\u001b[A"
     ]
    },
    {
     "name": "stdout",
     "output_type": "stream",
     "text": [
      "Train Epoch: 38 @ 11:10:18.879750 - Train Loss: 0.1435 - Valid Loss: 0.0944\n",
      "EarlyStopping counter: 1 out of 10\n"
     ]
    },
    {
     "name": "stderr",
     "output_type": "stream",
     "text": [
      "\n",
      "\n",
      " 65%|██████▌   | 39/60 [13:32<07:13, 20.65s/it]\u001b[A\u001b[A"
     ]
    },
    {
     "name": "stdout",
     "output_type": "stream",
     "text": [
      "Train Epoch: 39 @ 11:10:39.252749 - Train Loss: 0.1439 - Valid Loss: 0.0962\n",
      "EarlyStopping counter: 2 out of 10\n"
     ]
    },
    {
     "name": "stderr",
     "output_type": "stream",
     "text": [
      "\n",
      "\n",
      " 67%|██████▋   | 40/60 [13:53<06:51, 20.57s/it]\u001b[A\u001b[A"
     ]
    },
    {
     "name": "stdout",
     "output_type": "stream",
     "text": [
      "Train Epoch: 40 @ 11:10:59.649565 - Train Loss: 0.1437 - Valid Loss: 0.0954\n",
      "EarlyStopping counter: 3 out of 10\n"
     ]
    },
    {
     "name": "stderr",
     "output_type": "stream",
     "text": [
      "\n",
      "\n",
      " 68%|██████▊   | 41/60 [14:13<06:29, 20.52s/it]\u001b[A\u001b[A"
     ]
    },
    {
     "name": "stdout",
     "output_type": "stream",
     "text": [
      "Train Epoch: 41 @ 11:11:20.038693 - Train Loss: 0.1432 - Valid Loss: 0.0977\n",
      "EarlyStopping counter: 4 out of 10\n"
     ]
    },
    {
     "name": "stderr",
     "output_type": "stream",
     "text": [
      "\n",
      "\n",
      " 70%|███████   | 42/60 [14:33<06:08, 20.49s/it]\u001b[A\u001b[A"
     ]
    },
    {
     "name": "stdout",
     "output_type": "stream",
     "text": [
      "Train Epoch: 42 @ 11:11:40.478794 - Train Loss: 0.1446 - Valid Loss: 0.0978\n",
      "Validation loss decreased (0.094353 --> 0.094109).  Saving model ...\n"
     ]
    },
    {
     "name": "stderr",
     "output_type": "stream",
     "text": [
      "\n",
      "\n",
      " 72%|███████▏  | 43/60 [14:54<05:51, 20.69s/it]\u001b[A\u001b[A"
     ]
    },
    {
     "name": "stdout",
     "output_type": "stream",
     "text": [
      "Train Epoch: 43 @ 11:12:01.615832 - Train Loss: 0.1400 - Valid Loss: 0.0941\n",
      "Validation loss decreased (0.094109 --> 0.092919).  Saving model ...\n"
     ]
    },
    {
     "name": "stderr",
     "output_type": "stream",
     "text": [
      "\n",
      "\n",
      " 73%|███████▎  | 44/60 [15:15<05:32, 20.76s/it]\u001b[A\u001b[A"
     ]
    },
    {
     "name": "stdout",
     "output_type": "stream",
     "text": [
      "Train Epoch: 44 @ 11:12:22.536176 - Train Loss: 0.1379 - Valid Loss: 0.0929\n",
      "Validation loss decreased (0.092919 --> 0.092203).  Saving model ...\n"
     ]
    },
    {
     "name": "stderr",
     "output_type": "stream",
     "text": [
      "\n",
      "\n",
      " 75%|███████▌  | 45/60 [15:36<05:11, 20.77s/it]\u001b[A\u001b[A"
     ]
    },
    {
     "name": "stdout",
     "output_type": "stream",
     "text": [
      "Train Epoch: 45 @ 11:12:43.332737 - Train Loss: 0.1373 - Valid Loss: 0.0922\n",
      "Validation loss decreased (0.092203 --> 0.090787).  Saving model ...\n"
     ]
    },
    {
     "name": "stderr",
     "output_type": "stream",
     "text": [
      "\n",
      "\n",
      " 77%|███████▋  | 46/60 [15:57<04:52, 20.90s/it]\u001b[A\u001b[A"
     ]
    },
    {
     "name": "stdout",
     "output_type": "stream",
     "text": [
      "Train Epoch: 46 @ 11:13:04.518976 - Train Loss: 0.1404 - Valid Loss: 0.0908\n",
      "EarlyStopping counter: 1 out of 10\n"
     ]
    },
    {
     "name": "stderr",
     "output_type": "stream",
     "text": [
      "\n",
      "\n",
      " 78%|███████▊  | 47/60 [16:18<04:30, 20.79s/it]\u001b[A\u001b[A"
     ]
    },
    {
     "name": "stdout",
     "output_type": "stream",
     "text": [
      "Train Epoch: 47 @ 11:13:25.079956 - Train Loss: 0.1399 - Valid Loss: 0.0915\n",
      "EarlyStopping counter: 2 out of 10\n"
     ]
    },
    {
     "name": "stderr",
     "output_type": "stream",
     "text": [
      "\n",
      "\n",
      " 80%|████████  | 48/60 [16:38<04:07, 20.64s/it]\u001b[A\u001b[A"
     ]
    },
    {
     "name": "stdout",
     "output_type": "stream",
     "text": [
      "Train Epoch: 48 @ 11:13:45.354936 - Train Loss: 0.1385 - Valid Loss: 0.0933\n",
      "EarlyStopping counter: 3 out of 10\n"
     ]
    },
    {
     "name": "stderr",
     "output_type": "stream",
     "text": [
      "\n",
      "\n",
      " 82%|████████▏ | 49/60 [16:59<03:47, 20.65s/it]\u001b[A\u001b[A"
     ]
    },
    {
     "name": "stdout",
     "output_type": "stream",
     "text": [
      "Train Epoch: 49 @ 11:14:06.025497 - Train Loss: 0.1354 - Valid Loss: 0.0949\n",
      "EarlyStopping counter: 4 out of 10\n"
     ]
    },
    {
     "name": "stderr",
     "output_type": "stream",
     "text": [
      "\n",
      "\n",
      " 83%|████████▎ | 50/60 [17:19<03:25, 20.54s/it]\u001b[A\u001b[A"
     ]
    },
    {
     "name": "stdout",
     "output_type": "stream",
     "text": [
      "Train Epoch: 50 @ 11:14:26.317313 - Train Loss: 0.1331 - Valid Loss: 0.0931\n",
      "EarlyStopping counter: 5 out of 10\n"
     ]
    },
    {
     "name": "stderr",
     "output_type": "stream",
     "text": [
      "\n",
      "\n",
      " 85%|████████▌ | 51/60 [17:39<03:03, 20.44s/it]\u001b[A\u001b[A"
     ]
    },
    {
     "name": "stdout",
     "output_type": "stream",
     "text": [
      "Train Epoch: 51 @ 11:14:46.534486 - Train Loss: 0.1358 - Valid Loss: 0.0948\n",
      "EarlyStopping counter: 6 out of 10\n"
     ]
    },
    {
     "name": "stderr",
     "output_type": "stream",
     "text": [
      "\n",
      "\n",
      " 87%|████████▋ | 52/60 [18:00<02:43, 20.42s/it]\u001b[A\u001b[A"
     ]
    },
    {
     "name": "stdout",
     "output_type": "stream",
     "text": [
      "Train Epoch: 52 @ 11:15:06.893296 - Train Loss: 0.1358 - Valid Loss: 0.0909\n",
      "EarlyStopping counter: 7 out of 10\n"
     ]
    },
    {
     "name": "stderr",
     "output_type": "stream",
     "text": [
      "\n",
      "\n",
      " 88%|████████▊ | 53/60 [18:20<02:23, 20.45s/it]\u001b[A\u001b[A"
     ]
    },
    {
     "name": "stdout",
     "output_type": "stream",
     "text": [
      "Train Epoch: 53 @ 11:15:27.406158 - Train Loss: 0.1353 - Valid Loss: 0.0916\n",
      "Validation loss decreased (0.090787 --> 0.087796).  Saving model ...\n"
     ]
    },
    {
     "name": "stderr",
     "output_type": "stream",
     "text": [
      "\n",
      "\n",
      " 90%|█████████ | 54/60 [18:41<02:03, 20.55s/it]\u001b[A\u001b[A"
     ]
    },
    {
     "name": "stdout",
     "output_type": "stream",
     "text": [
      "Train Epoch: 54 @ 11:15:48.211611 - Train Loss: 0.1318 - Valid Loss: 0.0878\n",
      "EarlyStopping counter: 1 out of 10\n"
     ]
    },
    {
     "name": "stderr",
     "output_type": "stream",
     "text": [
      "\n",
      "\n",
      " 92%|█████████▏| 55/60 [19:02<01:42, 20.53s/it]\u001b[A\u001b[A"
     ]
    },
    {
     "name": "stdout",
     "output_type": "stream",
     "text": [
      "Train Epoch: 55 @ 11:16:08.684564 - Train Loss: 0.1320 - Valid Loss: 0.0924\n",
      "EarlyStopping counter: 2 out of 10\n"
     ]
    },
    {
     "name": "stderr",
     "output_type": "stream",
     "text": [
      "\n",
      "\n",
      " 93%|█████████▎| 56/60 [19:22<01:21, 20.48s/it]\u001b[A\u001b[A"
     ]
    },
    {
     "name": "stdout",
     "output_type": "stream",
     "text": [
      "Train Epoch: 56 @ 11:16:29.055250 - Train Loss: 0.1310 - Valid Loss: 0.0915\n",
      "EarlyStopping counter: 3 out of 10\n"
     ]
    },
    {
     "name": "stderr",
     "output_type": "stream",
     "text": [
      "\n",
      "\n",
      " 95%|█████████▌| 57/60 [19:42<01:01, 20.43s/it]\u001b[A\u001b[A"
     ]
    },
    {
     "name": "stdout",
     "output_type": "stream",
     "text": [
      "Train Epoch: 57 @ 11:16:49.370077 - Train Loss: 0.1302 - Valid Loss: 0.0907\n",
      "EarlyStopping counter: 4 out of 10\n"
     ]
    },
    {
     "name": "stderr",
     "output_type": "stream",
     "text": [
      "\n",
      "\n",
      " 97%|█████████▋| 58/60 [20:03<00:40, 20.39s/it]\u001b[A\u001b[A"
     ]
    },
    {
     "name": "stdout",
     "output_type": "stream",
     "text": [
      "Train Epoch: 58 @ 11:17:09.657450 - Train Loss: 0.1281 - Valid Loss: 0.0905\n",
      "EarlyStopping counter: 5 out of 10\n"
     ]
    },
    {
     "name": "stderr",
     "output_type": "stream",
     "text": [
      "\n",
      "\n",
      " 98%|█████████▊| 59/60 [20:23<00:20, 20.29s/it]\u001b[A\u001b[A"
     ]
    },
    {
     "name": "stdout",
     "output_type": "stream",
     "text": [
      "Train Epoch: 59 @ 11:17:29.731069 - Train Loss: 0.1290 - Valid Loss: 0.0917\n",
      "EarlyStopping counter: 6 out of 10\n"
     ]
    },
    {
     "name": "stderr",
     "output_type": "stream",
     "text": [
      "\n",
      "\n",
      "100%|██████████| 60/60 [20:43<00:00, 20.72s/it]"
     ]
    },
    {
     "name": "stdout",
     "output_type": "stream",
     "text": [
      "Train Epoch: 60 @ 11:17:49.962346 - Train Loss: 0.1274 - Valid Loss: 0.0879\n"
     ]
    },
    {
     "name": "stderr",
     "output_type": "stream",
     "text": [
      "\n"
     ]
    },
    {
     "data": {
      "image/png": "[encoded data removed]",
      "text/plain": [
       "<Figure size 720x576 with 1 Axes>"
      ]
     },
     "metadata": {
      "needs_background": "light",
      "tags": []
     },
     "output_type": "display_data"
    },
    {
     "name": "stdout",
     "output_type": "stream",
     "text": [
      "Dice2 score: 0.9596971784319196\n"
     ]
    }
   ],
   "source": [
    "n_bs = [4]\n",
    "n_lr = [0.001, 0.0001, 0.00001]\n",
    "epochs = 60\n",
    "patience = 10\n",
    "\n",
    "train_dir = \"../Train/train_500\"\n",
    "model_chkpt_name = \"ResNet-500x500_2layer\"\n",
    "\n",
    "for bs in n_bs:\n",
    "    for lr in n_lr:\n",
    "        hyperparam_tuning(train_dir, bs, lr, epochs, patience, model_chkpt_name)"
   ]
  },
  {
   "cell_type": "markdown",
   "metadata": {
    "id": "Dd6g53JFy97n"
   },
   "source": [
    "#### model(4layer) - 250x250 images"
   ]
  },
  {
   "cell_type": "code",
   "execution_count": null,
   "metadata": {
    "id": "8sgzn9sRy1j8"
   },
   "outputs": [],
   "source": [
    "n_bs = [1]\n",
    "n_lr = [0.001, 0.0001, 0.00001]\n",
    "epochs = 60\n",
    "patience = 10\n",
    "\n",
    "train_dir = \"./Train/train_250\"\n",
    "model_chkpt_name = \"ResNet-250x250_4layer\"\n",
    "\n",
    "for bs in n_bs:\n",
    "    for lr in n_lr:\n",
    "        hyperparam_tuning(train_dir, bs, lr, epochs, patience, model_chkpt_name)"
   ]
  },
  {
   "cell_type": "code",
   "execution_count": null,
   "metadata": {
    "id": "oVHiiIA_ztkc"
   },
   "outputs": [],
   "source": [
    "n_bs = [4]\n",
    "n_lr = [0.001, 0.0001, 0.00001]\n",
    "epochs = 60\n",
    "patience = 10\n",
    "\n",
    "train_dir = \"./Train/train_250\"\n",
    "model_chkpt_name = \"ResNet-250x250_4layer\"\n",
    "\n",
    "for bs in n_bs:\n",
    "    for lr in n_lr:\n",
    "        hyperparam_tuning(train_dir, bs, lr, epochs, patience, model_chkpt_name)"
   ]
  },
  {
   "cell_type": "code",
   "execution_count": null,
   "metadata": {
    "id": "rAjQsHNUzvrt"
   },
   "outputs": [],
   "source": [
    "n_bs = [8]\n",
    "n_lr = [0.001, 0.0001, 0.00001]\n",
    "epochs = 60\n",
    "patience = 10\n",
    "\n",
    "train_dir = \"./Train/train_250\"\n",
    "model_chkpt_name = \"ResNet-250x250_4layer\"\n",
    "\n",
    "for bs in n_bs:\n",
    "    for lr in n_lr:\n",
    "        hyperparam_tuning(train_dir, bs, lr, epochs, patience, model_chkpt_name)"
   ]
  },
  {
   "cell_type": "code",
   "execution_count": null,
   "metadata": {
    "id": "vverJay4zwvE"
   },
   "outputs": [],
   "source": [
    "n_bs = [16]\n",
    "n_lr = [0.001, 0.0001, 0.00001]\n",
    "epochs = 60\n",
    "patience = 10\n",
    "\n",
    "train_dir = \"./Train/train_250\"\n",
    "model_chkpt_name = \"ResNet-250x250_4layer\"\n",
    "\n",
    "for bs in n_bs:\n",
    "    for lr in n_lr:\n",
    "        hyperparam_tuning(train_dir, bs, lr, epochs, patience, model_chkpt_name)"
   ]
  },
  {
   "cell_type": "markdown",
   "metadata": {
    "id": "08R8PHDKzE9M"
   },
   "source": [
    "#### model(4layer) - 500x500 images"
   ]
  },
  {
   "cell_type": "code",
   "execution_count": null,
   "metadata": {
    "colab": {
     "base_uri": "https://localhost:8080/",
     "height": 1000
    },
    "id": "y0p6gOmvzMFR",
    "outputId": "7aa67da5-2560-4782-e077-14a036795767"
   },
   "outputs": [
    {
     "name": "stdout",
     "output_type": "stream",
     "text": [
      "Batch size: 1, Learning rate: 0.001 , Epochs: 60\n",
      "\n"
     ]
    },
    {
     "name": "stderr",
     "output_type": "stream",
     "text": [
      "\r",
      "  0%|          | 0/60 [00:00<?, ?it/s]/usr/local/lib/python3.7/dist-packages/torch/nn/functional.py:718: UserWarning: Named tensors and all their associated APIs are an experimental feature and subject to change. Please do not use them for anything important until they are released as stable. (Triggered internally at  /pytorch/c10/core/TensorImpl.h:1156.)\n",
      "  return torch.max_pool2d(input, kernel_size, stride, padding, dilation, ceil_mode)\n"
     ]
    },
    {
     "name": "stdout",
     "output_type": "stream",
     "text": [
      "Validation loss decreased (inf --> 0.143001).  Saving model ...\n"
     ]
    },
    {
     "name": "stderr",
     "output_type": "stream",
     "text": [
      "\r",
      "  2%|▏         | 1/60 [00:31<31:25, 31.95s/it]"
     ]
    },
    {
     "name": "stdout",
     "output_type": "stream",
     "text": [
      "Train Epoch: 1 @ 11:21:47.652167 - Train Loss: 0.2067 - Valid Loss: 0.1430\n",
      "Validation loss decreased (0.143001 --> 0.134718).  Saving model ...\n"
     ]
    },
    {
     "name": "stderr",
     "output_type": "stream",
     "text": [
      "\r",
      "  3%|▎         | 2/60 [01:02<30:33, 31.61s/it]"
     ]
    },
    {
     "name": "stdout",
     "output_type": "stream",
     "text": [
      "Train Epoch: 2 @ 11:22:18.481014 - Train Loss: 0.1549 - Valid Loss: 0.1347\n",
      "Validation loss decreased (0.134718 --> 0.133663).  Saving model ...\n"
     ]
    },
    {
     "name": "stderr",
     "output_type": "stream",
     "text": [
      "\r",
      "  5%|▌         | 3/60 [01:33<29:48, 31.38s/it]"
     ]
    },
    {
     "name": "stdout",
     "output_type": "stream",
     "text": [
      "Train Epoch: 3 @ 11:22:49.306857 - Train Loss: 0.1437 - Valid Loss: 0.1337\n",
      "EarlyStopping counter: 1 out of 10\n"
     ]
    },
    {
     "name": "stderr",
     "output_type": "stream",
     "text": [
      "\r",
      "  7%|▋         | 4/60 [02:03<28:58, 31.04s/it]"
     ]
    },
    {
     "name": "stdout",
     "output_type": "stream",
     "text": [
      "Train Epoch: 4 @ 11:23:19.573183 - Train Loss: 0.1350 - Valid Loss: 0.1409\n",
      "Validation loss decreased (0.133663 --> 0.108539).  Saving model ...\n"
     ]
    },
    {
     "name": "stderr",
     "output_type": "stream",
     "text": [
      "\r",
      "  8%|▊         | 5/60 [02:34<28:21, 30.95s/it]"
     ]
    },
    {
     "name": "stdout",
     "output_type": "stream",
     "text": [
      "Train Epoch: 5 @ 11:23:50.288328 - Train Loss: 0.1263 - Valid Loss: 0.1085\n",
      "EarlyStopping counter: 1 out of 10\n"
     ]
    },
    {
     "name": "stderr",
     "output_type": "stream",
     "text": [
      "\r",
      " 10%|█         | 6/60 [03:05<27:42, 30.79s/it]"
     ]
    },
    {
     "name": "stdout",
     "output_type": "stream",
     "text": [
      "Train Epoch: 6 @ 11:24:20.724095 - Train Loss: 0.1180 - Valid Loss: 0.1731\n",
      "Validation loss decreased (0.108539 --> 0.102440).  Saving model ...\n"
     ]
    },
    {
     "name": "stderr",
     "output_type": "stream",
     "text": [
      "\r",
      " 12%|█▏        | 7/60 [03:35<27:09, 30.74s/it]"
     ]
    },
    {
     "name": "stdout",
     "output_type": "stream",
     "text": [
      "Train Epoch: 7 @ 11:24:51.353848 - Train Loss: 0.1139 - Valid Loss: 0.1024\n",
      "EarlyStopping counter: 1 out of 10\n"
     ]
    },
    {
     "name": "stderr",
     "output_type": "stream",
     "text": [
      "\r",
      " 13%|█▎        | 8/60 [04:05<26:32, 30.62s/it]"
     ]
    },
    {
     "name": "stdout",
     "output_type": "stream",
     "text": [
      "Train Epoch: 8 @ 11:25:21.688912 - Train Loss: 0.1065 - Valid Loss: 0.1097\n",
      "Validation loss decreased (0.102440 --> 0.100756).  Saving model ...\n"
     ]
    },
    {
     "name": "stderr",
     "output_type": "stream",
     "text": [
      "\r",
      " 15%|█▌        | 9/60 [04:36<25:58, 30.55s/it]"
     ]
    },
    {
     "name": "stdout",
     "output_type": "stream",
     "text": [
      "Train Epoch: 9 @ 11:25:52.078400 - Train Loss: 0.0987 - Valid Loss: 0.1008\n",
      "EarlyStopping counter: 1 out of 10\n"
     ]
    },
    {
     "name": "stderr",
     "output_type": "stream",
     "text": [
      "\r",
      " 17%|█▋        | 10/60 [05:06<25:27, 30.56s/it]"
     ]
    },
    {
     "name": "stdout",
     "output_type": "stream",
     "text": [
      "Train Epoch: 10 @ 11:26:22.642399 - Train Loss: 0.0927 - Valid Loss: 0.1063\n",
      "EarlyStopping counter: 2 out of 10\n"
     ]
    },
    {
     "name": "stderr",
     "output_type": "stream",
     "text": [
      "\r",
      " 18%|█▊        | 11/60 [05:37<24:55, 30.52s/it]"
     ]
    },
    {
     "name": "stdout",
     "output_type": "stream",
     "text": [
      "Train Epoch: 11 @ 11:26:53.069134 - Train Loss: 0.0953 - Valid Loss: 0.1305\n",
      "EarlyStopping counter: 3 out of 10\n"
     ]
    },
    {
     "name": "stderr",
     "output_type": "stream",
     "text": [
      "\r",
      " 20%|██        | 12/60 [06:07<24:25, 30.54s/it]"
     ]
    },
    {
     "name": "stdout",
     "output_type": "stream",
     "text": [
      "Train Epoch: 12 @ 11:27:23.666013 - Train Loss: 0.0875 - Valid Loss: 0.1023\n",
      "EarlyStopping counter: 4 out of 10\n"
     ]
    },
    {
     "name": "stderr",
     "output_type": "stream",
     "text": [
      "\r",
      " 22%|██▏       | 13/60 [06:38<23:53, 30.51s/it]"
     ]
    },
    {
     "name": "stdout",
     "output_type": "stream",
     "text": [
      "Train Epoch: 13 @ 11:27:54.100108 - Train Loss: 0.0977 - Valid Loss: 0.1011\n",
      "EarlyStopping counter: 5 out of 10\n"
     ]
    },
    {
     "name": "stderr",
     "output_type": "stream",
     "text": [
      "\r",
      " 23%|██▎       | 14/60 [07:08<23:18, 30.39s/it]"
     ]
    },
    {
     "name": "stdout",
     "output_type": "stream",
     "text": [
      "Train Epoch: 14 @ 11:28:24.218923 - Train Loss: 0.0854 - Valid Loss: 0.1058\n",
      "Validation loss decreased (0.100756 --> 0.093768).  Saving model ...\n"
     ]
    },
    {
     "name": "stderr",
     "output_type": "stream",
     "text": [
      "\r",
      " 25%|██▌       | 15/60 [07:39<22:56, 30.59s/it]"
     ]
    },
    {
     "name": "stdout",
     "output_type": "stream",
     "text": [
      "Train Epoch: 15 @ 11:28:55.261035 - Train Loss: 0.0863 - Valid Loss: 0.0938\n",
      "EarlyStopping counter: 1 out of 10\n"
     ]
    },
    {
     "name": "stderr",
     "output_type": "stream",
     "text": [
      "\r",
      " 27%|██▋       | 16/60 [08:09<22:22, 30.50s/it]"
     ]
    },
    {
     "name": "stdout",
     "output_type": "stream",
     "text": [
      "Train Epoch: 16 @ 11:29:25.568074 - Train Loss: 0.0784 - Valid Loss: 0.0976\n",
      "EarlyStopping counter: 2 out of 10\n"
     ]
    },
    {
     "name": "stderr",
     "output_type": "stream",
     "text": [
      "\r",
      " 28%|██▊       | 17/60 [08:40<21:48, 30.44s/it]"
     ]
    },
    {
     "name": "stdout",
     "output_type": "stream",
     "text": [
      "Train Epoch: 17 @ 11:29:55.865862 - Train Loss: 0.0747 - Valid Loss: 0.0952\n",
      "Validation loss decreased (0.093768 --> 0.090318).  Saving model ...\n"
     ]
    },
    {
     "name": "stderr",
     "output_type": "stream",
     "text": [
      "\r",
      " 30%|███       | 18/60 [09:11<21:25, 30.61s/it]"
     ]
    },
    {
     "name": "stdout",
     "output_type": "stream",
     "text": [
      "Train Epoch: 18 @ 11:30:26.867495 - Train Loss: 0.0737 - Valid Loss: 0.0903\n",
      "EarlyStopping counter: 1 out of 10\n"
     ]
    },
    {
     "name": "stderr",
     "output_type": "stream",
     "text": [
      "\r",
      " 32%|███▏      | 19/60 [09:41<20:52, 30.54s/it]"
     ]
    },
    {
     "name": "stdout",
     "output_type": "stream",
     "text": [
      "Train Epoch: 19 @ 11:30:57.236609 - Train Loss: 0.0714 - Valid Loss: 0.0949\n",
      "EarlyStopping counter: 2 out of 10\n"
     ]
    },
    {
     "name": "stderr",
     "output_type": "stream",
     "text": [
      "\r",
      " 33%|███▎      | 20/60 [10:12<20:23, 30.58s/it]"
     ]
    },
    {
     "name": "stdout",
     "output_type": "stream",
     "text": [
      "Train Epoch: 20 @ 11:31:27.924267 - Train Loss: 0.0757 - Valid Loss: 0.0949\n",
      "EarlyStopping counter: 3 out of 10\n"
     ]
    },
    {
     "name": "stderr",
     "output_type": "stream",
     "text": [
      "\r",
      " 35%|███▌      | 21/60 [10:42<19:52, 30.59s/it]"
     ]
    },
    {
     "name": "stdout",
     "output_type": "stream",
     "text": [
      "Train Epoch: 21 @ 11:31:58.528421 - Train Loss: 0.0708 - Valid Loss: 0.1058\n",
      "EarlyStopping counter: 4 out of 10\n"
     ]
    },
    {
     "name": "stderr",
     "output_type": "stream",
     "text": [
      "\r",
      " 37%|███▋      | 22/60 [11:13<19:22, 30.59s/it]"
     ]
    },
    {
     "name": "stdout",
     "output_type": "stream",
     "text": [
      "Train Epoch: 22 @ 11:32:29.123624 - Train Loss: 0.0684 - Valid Loss: 0.1035\n",
      "EarlyStopping counter: 5 out of 10\n"
     ]
    },
    {
     "name": "stderr",
     "output_type": "stream",
     "text": [
      "\r",
      " 38%|███▊      | 23/60 [11:46<19:19, 31.33s/it]"
     ]
    },
    {
     "name": "stdout",
     "output_type": "stream",
     "text": [
      "Train Epoch: 23 @ 11:33:02.169642 - Train Loss: 0.0666 - Valid Loss: 0.0999\n",
      "EarlyStopping counter: 6 out of 10\n"
     ]
    },
    {
     "name": "stderr",
     "output_type": "stream",
     "text": [
      "\r",
      " 40%|████      | 24/60 [12:16<18:36, 31.01s/it]"
     ]
    },
    {
     "name": "stdout",
     "output_type": "stream",
     "text": [
      "Train Epoch: 24 @ 11:33:32.439218 - Train Loss: 0.0745 - Valid Loss: 0.1025\n",
      "EarlyStopping counter: 7 out of 10\n"
     ]
    },
    {
     "name": "stderr",
     "output_type": "stream",
     "text": [
      "\r",
      " 42%|████▏     | 25/60 [12:47<18:01, 30.90s/it]"
     ]
    },
    {
     "name": "stdout",
     "output_type": "stream",
     "text": [
      "Train Epoch: 25 @ 11:34:03.094234 - Train Loss: 0.0682 - Valid Loss: 0.0919\n",
      "EarlyStopping counter: 8 out of 10\n"
     ]
    },
    {
     "name": "stderr",
     "output_type": "stream",
     "text": [
      "\r",
      " 43%|████▎     | 26/60 [13:17<17:23, 30.68s/it]"
     ]
    },
    {
     "name": "stdout",
     "output_type": "stream",
     "text": [
      "Train Epoch: 26 @ 11:34:33.256275 - Train Loss: 0.0698 - Valid Loss: 0.0967\n",
      "EarlyStopping counter: 9 out of 10\n"
     ]
    },
    {
     "name": "stderr",
     "output_type": "stream",
     "text": [
      "\r",
      " 45%|████▌     | 27/60 [13:48<16:51, 30.66s/it]"
     ]
    },
    {
     "name": "stdout",
     "output_type": "stream",
     "text": [
      "Train Epoch: 27 @ 11:35:03.856023 - Train Loss: 0.0654 - Valid Loss: 0.1070\n",
      "EarlyStopping counter: 10 out of 10\n",
      "Early stopping\n"
     ]
    },
    {
     "data": {
      "image/png": "[encoded data removed]",
      "text/plain": [
       "<Figure size 720x576 with 1 Axes>"
      ]
     },
     "metadata": {
      "needs_background": "light",
      "tags": []
     },
     "output_type": "display_data"
    },
    {
     "name": "stdout",
     "output_type": "stream",
     "text": [
      "Dice2 score: 0.9242273966471354\n",
      "Batch size: 1, Learning rate: 0.0001 , Epochs: 60\n",
      "\n"
     ]
    },
    {
     "name": "stderr",
     "output_type": "stream",
     "text": [
      "\n",
      "  0%|          | 0/60 [00:00<?, ?it/s]\u001b[A"
     ]
    },
    {
     "name": "stdout",
     "output_type": "stream",
     "text": [
      "Validation loss decreased (inf --> 0.137523).  Saving model ...\n"
     ]
    },
    {
     "name": "stderr",
     "output_type": "stream",
     "text": [
      "\n",
      "  2%|▏         | 1/60 [00:31<30:46, 31.30s/it]\u001b[A"
     ]
    },
    {
     "name": "stdout",
     "output_type": "stream",
     "text": [
      "Train Epoch: 1 @ 11:36:06.091010 - Train Loss: 0.2876 - Valid Loss: 0.1375\n",
      "Validation loss decreased (0.137523 --> 0.120590).  Saving model ...\n"
     ]
    },
    {
     "name": "stderr",
     "output_type": "stream",
     "text": [
      "\n",
      "  3%|▎         | 2/60 [01:02<30:13, 31.26s/it]\u001b[A"
     ]
    },
    {
     "name": "stdout",
     "output_type": "stream",
     "text": [
      "Train Epoch: 2 @ 11:36:37.273893 - Train Loss: 0.1932 - Valid Loss: 0.1206\n",
      "Validation loss decreased (0.120590 --> 0.100218).  Saving model ...\n"
     ]
    },
    {
     "name": "stderr",
     "output_type": "stream",
     "text": [
      "\n",
      "  5%|▌         | 3/60 [01:36<30:30, 32.12s/it]\u001b[A"
     ]
    },
    {
     "name": "stdout",
     "output_type": "stream",
     "text": [
      "Train Epoch: 3 @ 11:37:11.394068 - Train Loss: 0.1565 - Valid Loss: 0.1002\n",
      "EarlyStopping counter: 1 out of 10\n"
     ]
    },
    {
     "name": "stderr",
     "output_type": "stream",
     "text": [
      "\n",
      "  7%|▋         | 4/60 [02:07<29:38, 31.76s/it]\u001b[A"
     ]
    },
    {
     "name": "stdout",
     "output_type": "stream",
     "text": [
      "Train Epoch: 4 @ 11:37:42.309453 - Train Loss: 0.1438 - Valid Loss: 0.1043\n",
      "Validation loss decreased (0.100218 --> 0.093508).  Saving model ...\n"
     ]
    },
    {
     "name": "stderr",
     "output_type": "stream",
     "text": [
      "\n",
      "  8%|▊         | 5/60 [02:38<28:59, 31.62s/it]\u001b[A"
     ]
    },
    {
     "name": "stdout",
     "output_type": "stream",
     "text": [
      "Train Epoch: 5 @ 11:38:13.603236 - Train Loss: 0.1316 - Valid Loss: 0.0935\n",
      "Validation loss decreased (0.093508 --> 0.084180).  Saving model ...\n"
     ]
    },
    {
     "name": "stderr",
     "output_type": "stream",
     "text": [
      "\n",
      " 10%|█         | 6/60 [03:10<28:25, 31.59s/it]\u001b[A"
     ]
    },
    {
     "name": "stdout",
     "output_type": "stream",
     "text": [
      "Train Epoch: 6 @ 11:38:45.134285 - Train Loss: 0.1176 - Valid Loss: 0.0842\n",
      "EarlyStopping counter: 1 out of 10\n"
     ]
    },
    {
     "name": "stderr",
     "output_type": "stream",
     "text": [
      "\n",
      " 12%|█▏        | 7/60 [03:41<27:46, 31.44s/it]\u001b[A"
     ]
    },
    {
     "name": "stdout",
     "output_type": "stream",
     "text": [
      "Train Epoch: 7 @ 11:39:16.202721 - Train Loss: 0.1066 - Valid Loss: 0.0878\n",
      "Validation loss decreased (0.084180 --> 0.076406).  Saving model ...\n"
     ]
    },
    {
     "name": "stderr",
     "output_type": "stream",
     "text": [
      "\n",
      " 13%|█▎        | 8/60 [04:12<27:11, 31.37s/it]\u001b[A"
     ]
    },
    {
     "name": "stdout",
     "output_type": "stream",
     "text": [
      "Train Epoch: 8 @ 11:39:47.432564 - Train Loss: 0.0977 - Valid Loss: 0.0764\n",
      "Validation loss decreased (0.076406 --> 0.074707).  Saving model ...\n"
     ]
    },
    {
     "name": "stderr",
     "output_type": "stream",
     "text": [
      "\n",
      " 15%|█▌        | 9/60 [04:44<26:42, 31.43s/it]\u001b[A"
     ]
    },
    {
     "name": "stdout",
     "output_type": "stream",
     "text": [
      "Train Epoch: 9 @ 11:40:18.991072 - Train Loss: 0.0870 - Valid Loss: 0.0747\n",
      "EarlyStopping counter: 1 out of 10\n"
     ]
    },
    {
     "name": "stderr",
     "output_type": "stream",
     "text": [
      "\n",
      " 17%|█▋        | 10/60 [05:14<25:59, 31.19s/it]\u001b[A"
     ]
    },
    {
     "name": "stdout",
     "output_type": "stream",
     "text": [
      "Train Epoch: 10 @ 11:40:49.610710 - Train Loss: 0.0803 - Valid Loss: 0.0755\n",
      "Validation loss decreased (0.074707 --> 0.074436).  Saving model ...\n"
     ]
    },
    {
     "name": "stderr",
     "output_type": "stream",
     "text": [
      "\n",
      " 18%|█▊        | 11/60 [05:46<25:40, 31.43s/it]\u001b[A"
     ]
    },
    {
     "name": "stdout",
     "output_type": "stream",
     "text": [
      "Train Epoch: 11 @ 11:41:21.609485 - Train Loss: 0.0762 - Valid Loss: 0.0744\n",
      "Validation loss decreased (0.074436 --> 0.074152).  Saving model ...\n"
     ]
    },
    {
     "name": "stderr",
     "output_type": "stream",
     "text": [
      "\n",
      " 20%|██        | 12/60 [06:18<25:05, 31.37s/it]\u001b[A"
     ]
    },
    {
     "name": "stdout",
     "output_type": "stream",
     "text": [
      "Train Epoch: 12 @ 11:41:52.830702 - Train Loss: 0.0732 - Valid Loss: 0.0742\n",
      "EarlyStopping counter: 1 out of 10\n"
     ]
    },
    {
     "name": "stderr",
     "output_type": "stream",
     "text": [
      "\n",
      " 22%|██▏       | 13/60 [06:49<24:29, 31.26s/it]\u001b[A"
     ]
    },
    {
     "name": "stdout",
     "output_type": "stream",
     "text": [
      "Train Epoch: 13 @ 11:42:23.843515 - Train Loss: 0.0681 - Valid Loss: 0.0744\n",
      "EarlyStopping counter: 2 out of 10\n"
     ]
    },
    {
     "name": "stderr",
     "output_type": "stream",
     "text": [
      "\n",
      " 23%|██▎       | 14/60 [07:19<23:49, 31.08s/it]\u001b[A"
     ]
    },
    {
     "name": "stdout",
     "output_type": "stream",
     "text": [
      "Train Epoch: 14 @ 11:42:54.516392 - Train Loss: 0.0647 - Valid Loss: 0.0791\n",
      "EarlyStopping counter: 3 out of 10\n"
     ]
    },
    {
     "name": "stderr",
     "output_type": "stream",
     "text": [
      "\n",
      " 25%|██▌       | 15/60 [07:51<23:21, 31.15s/it]\u001b[A"
     ]
    },
    {
     "name": "stdout",
     "output_type": "stream",
     "text": [
      "Train Epoch: 15 @ 11:43:25.832735 - Train Loss: 0.0615 - Valid Loss: 0.0750\n",
      "Validation loss decreased (0.074152 --> 0.072022).  Saving model ...\n"
     ]
    },
    {
     "name": "stderr",
     "output_type": "stream",
     "text": [
      "\n",
      " 27%|██▋       | 16/60 [08:22<23:00, 31.37s/it]\u001b[A"
     ]
    },
    {
     "name": "stdout",
     "output_type": "stream",
     "text": [
      "Train Epoch: 16 @ 11:43:57.692344 - Train Loss: 0.0588 - Valid Loss: 0.0720\n",
      "EarlyStopping counter: 1 out of 10\n"
     ]
    },
    {
     "name": "stderr",
     "output_type": "stream",
     "text": [
      "\n",
      " 28%|██▊       | 17/60 [08:53<22:22, 31.22s/it]\u001b[A"
     ]
    },
    {
     "name": "stdout",
     "output_type": "stream",
     "text": [
      "Train Epoch: 17 @ 11:44:28.559073 - Train Loss: 0.0628 - Valid Loss: 0.0864\n",
      "EarlyStopping counter: 2 out of 10\n"
     ]
    },
    {
     "name": "stderr",
     "output_type": "stream",
     "text": [
      "\n",
      " 30%|███       | 18/60 [09:24<21:47, 31.12s/it]\u001b[A"
     ]
    },
    {
     "name": "stdout",
     "output_type": "stream",
     "text": [
      "Train Epoch: 18 @ 11:44:59.470791 - Train Loss: 0.0615 - Valid Loss: 0.0754\n",
      "EarlyStopping counter: 3 out of 10\n"
     ]
    },
    {
     "name": "stderr",
     "output_type": "stream",
     "text": [
      "\n",
      " 32%|███▏      | 19/60 [09:55<21:11, 31.01s/it]\u001b[A"
     ]
    },
    {
     "name": "stdout",
     "output_type": "stream",
     "text": [
      "Train Epoch: 19 @ 11:45:30.211670 - Train Loss: 0.0526 - Valid Loss: 0.0834\n",
      "EarlyStopping counter: 4 out of 10\n"
     ]
    },
    {
     "name": "stderr",
     "output_type": "stream",
     "text": [
      "\n",
      " 33%|███▎      | 20/60 [10:26<20:39, 30.99s/it]\u001b[A"
     ]
    },
    {
     "name": "stdout",
     "output_type": "stream",
     "text": [
      "Train Epoch: 20 @ 11:46:01.160834 - Train Loss: 0.0489 - Valid Loss: 0.0794\n",
      "EarlyStopping counter: 5 out of 10\n"
     ]
    },
    {
     "name": "stderr",
     "output_type": "stream",
     "text": [
      "\n",
      " 35%|███▌      | 21/60 [10:57<20:07, 30.96s/it]\u001b[A"
     ]
    },
    {
     "name": "stdout",
     "output_type": "stream",
     "text": [
      "Train Epoch: 21 @ 11:46:32.036862 - Train Loss: 0.0485 - Valid Loss: 0.0763\n",
      "EarlyStopping counter: 6 out of 10\n"
     ]
    },
    {
     "name": "stderr",
     "output_type": "stream",
     "text": [
      "\n",
      " 37%|███▋      | 22/60 [11:28<19:38, 31.02s/it]\u001b[A"
     ]
    },
    {
     "name": "stdout",
     "output_type": "stream",
     "text": [
      "Train Epoch: 22 @ 11:47:03.220584 - Train Loss: 0.0456 - Valid Loss: 0.0793\n",
      "EarlyStopping counter: 7 out of 10\n"
     ]
    },
    {
     "name": "stderr",
     "output_type": "stream",
     "text": [
      "\n",
      " 38%|███▊      | 23/60 [11:59<19:08, 31.04s/it]\u001b[A"
     ]
    },
    {
     "name": "stdout",
     "output_type": "stream",
     "text": [
      "Train Epoch: 23 @ 11:47:34.296757 - Train Loss: 0.0430 - Valid Loss: 0.0780\n",
      "EarlyStopping counter: 8 out of 10\n"
     ]
    },
    {
     "name": "stderr",
     "output_type": "stream",
     "text": [
      "\n",
      " 40%|████      | 24/60 [12:30<18:37, 31.03s/it]\u001b[A"
     ]
    },
    {
     "name": "stdout",
     "output_type": "stream",
     "text": [
      "Train Epoch: 24 @ 11:48:05.309696 - Train Loss: 0.0412 - Valid Loss: 0.0826\n",
      "EarlyStopping counter: 9 out of 10\n"
     ]
    },
    {
     "name": "stderr",
     "output_type": "stream",
     "text": [
      "\n",
      " 42%|████▏     | 25/60 [13:01<18:05, 31.02s/it]\u001b[A"
     ]
    },
    {
     "name": "stdout",
     "output_type": "stream",
     "text": [
      "Train Epoch: 25 @ 11:48:36.294227 - Train Loss: 0.0401 - Valid Loss: 0.0864\n",
      "EarlyStopping counter: 10 out of 10\n",
      "Early stopping\n"
     ]
    },
    {
     "data": {
      "image/png": "[encoded data removed]",
      "text/plain": [
       "<Figure size 720x576 with 1 Axes>"
      ]
     },
     "metadata": {
      "needs_background": "light",
      "tags": []
     },
     "output_type": "display_data"
    },
    {
     "name": "stdout",
     "output_type": "stream",
     "text": [
      "Dice2 score: 0.939419357864945\n",
      "Batch size: 1, Learning rate: 1e-05 , Epochs: 60\n",
      "\n"
     ]
    },
    {
     "name": "stderr",
     "output_type": "stream",
     "text": [
      "\n",
      "\n",
      "  0%|          | 0/60 [00:00<?, ?it/s]\u001b[A\u001b[A"
     ]
    },
    {
     "name": "stdout",
     "output_type": "stream",
     "text": [
      "Validation loss decreased (inf --> 0.217107).  Saving model ...\n"
     ]
    },
    {
     "name": "stderr",
     "output_type": "stream",
     "text": [
      "\n",
      "\n",
      "  2%|▏         | 1/60 [00:31<31:14, 31.77s/it]\u001b[A\u001b[A"
     ]
    },
    {
     "name": "stdout",
     "output_type": "stream",
     "text": [
      "Train Epoch: 1 @ 11:49:39.618270 - Train Loss: 0.4085 - Valid Loss: 0.2171\n",
      "Validation loss decreased (0.217107 --> 0.210802).  Saving model ...\n"
     ]
    },
    {
     "name": "stderr",
     "output_type": "stream",
     "text": [
      "\n",
      "\n",
      "  3%|▎         | 2/60 [01:03<30:47, 31.85s/it]\u001b[A\u001b[A"
     ]
    },
    {
     "name": "stdout",
     "output_type": "stream",
     "text": [
      "Train Epoch: 2 @ 11:50:11.671781 - Train Loss: 0.2671 - Valid Loss: 0.2108\n",
      "EarlyStopping counter: 1 out of 10\n"
     ]
    },
    {
     "name": "stderr",
     "output_type": "stream",
     "text": [
      "\n",
      "\n",
      "  5%|▌         | 3/60 [01:34<29:56, 31.52s/it]\u001b[A\u001b[A"
     ]
    },
    {
     "name": "stdout",
     "output_type": "stream",
     "text": [
      "Train Epoch: 3 @ 11:50:42.421619 - Train Loss: 0.2514 - Valid Loss: 0.2123\n",
      "Validation loss decreased (0.210802 --> 0.196858).  Saving model ...\n"
     ]
    },
    {
     "name": "stderr",
     "output_type": "stream",
     "text": [
      "\n",
      "\n",
      "  7%|▋         | 4/60 [02:06<29:25, 31.53s/it]\u001b[A\u001b[A"
     ]
    },
    {
     "name": "stdout",
     "output_type": "stream",
     "text": [
      "Train Epoch: 4 @ 11:51:13.978500 - Train Loss: 0.2330 - Valid Loss: 0.1969\n",
      "Validation loss decreased (0.196858 --> 0.184003).  Saving model ...\n"
     ]
    },
    {
     "name": "stderr",
     "output_type": "stream",
     "text": [
      "\n",
      "\n",
      "  8%|▊         | 5/60 [02:48<31:58, 34.88s/it]\u001b[A\u001b[A"
     ]
    },
    {
     "name": "stdout",
     "output_type": "stream",
     "text": [
      "Train Epoch: 5 @ 11:51:56.681011 - Train Loss: 0.2114 - Valid Loss: 0.1840\n",
      "Validation loss decreased (0.184003 --> 0.171279).  Saving model ...\n"
     ]
    },
    {
     "name": "stderr",
     "output_type": "stream",
     "text": [
      "\n",
      "\n",
      " 10%|█         | 6/60 [03:20<30:35, 34.00s/it]\u001b[A\u001b[A"
     ]
    },
    {
     "name": "stdout",
     "output_type": "stream",
     "text": [
      "Train Epoch: 6 @ 11:52:28.619729 - Train Loss: 0.1899 - Valid Loss: 0.1713\n",
      "Validation loss decreased (0.171279 --> 0.161031).  Saving model ...\n"
     ]
    },
    {
     "name": "stderr",
     "output_type": "stream",
     "text": [
      "\n",
      "\n",
      " 12%|█▏        | 7/60 [03:52<29:26, 33.33s/it]\u001b[A\u001b[A"
     ]
    },
    {
     "name": "stdout",
     "output_type": "stream",
     "text": [
      "Train Epoch: 7 @ 11:53:00.395621 - Train Loss: 0.1728 - Valid Loss: 0.1610\n",
      "Validation loss decreased (0.161031 --> 0.149017).  Saving model ...\n"
     ]
    },
    {
     "name": "stderr",
     "output_type": "stream",
     "text": [
      "\n",
      "\n",
      " 13%|█▎        | 8/60 [04:24<28:27, 32.84s/it]\u001b[A\u001b[A"
     ]
    },
    {
     "name": "stdout",
     "output_type": "stream",
     "text": [
      "Train Epoch: 8 @ 11:53:32.072683 - Train Loss: 0.1588 - Valid Loss: 0.1490\n",
      "Validation loss decreased (0.149017 --> 0.148308).  Saving model ...\n"
     ]
    },
    {
     "name": "stderr",
     "output_type": "stream",
     "text": [
      "\n",
      "\n",
      " 15%|█▌        | 9/60 [04:56<27:53, 32.80s/it]\u001b[A\u001b[A"
     ]
    },
    {
     "name": "stdout",
     "output_type": "stream",
     "text": [
      "Train Epoch: 9 @ 11:54:04.802813 - Train Loss: 0.1476 - Valid Loss: 0.1483\n",
      "Validation loss decreased (0.148308 --> 0.144330).  Saving model ...\n"
     ]
    },
    {
     "name": "stderr",
     "output_type": "stream",
     "text": [
      "\n",
      "\n",
      " 17%|█▋        | 10/60 [05:28<27:04, 32.49s/it]\u001b[A\u001b[A"
     ]
    },
    {
     "name": "stdout",
     "output_type": "stream",
     "text": [
      "Train Epoch: 10 @ 11:54:36.575720 - Train Loss: 0.1381 - Valid Loss: 0.1443\n",
      "EarlyStopping counter: 1 out of 10\n"
     ]
    },
    {
     "name": "stderr",
     "output_type": "stream",
     "text": [
      "\n",
      "\n",
      " 18%|█▊        | 11/60 [05:59<26:12, 32.09s/it]\u001b[A\u001b[A"
     ]
    },
    {
     "name": "stdout",
     "output_type": "stream",
     "text": [
      "Train Epoch: 11 @ 11:55:07.731935 - Train Loss: 0.1307 - Valid Loss: 0.1454\n",
      "Validation loss decreased (0.144330 --> 0.138733).  Saving model ...\n"
     ]
    },
    {
     "name": "stderr",
     "output_type": "stream",
     "text": [
      "\n",
      "\n",
      " 20%|██        | 12/60 [06:31<25:31, 31.90s/it]\u001b[A\u001b[A"
     ]
    },
    {
     "name": "stdout",
     "output_type": "stream",
     "text": [
      "Train Epoch: 12 @ 11:55:39.180108 - Train Loss: 0.1243 - Valid Loss: 0.1387\n",
      "Validation loss decreased (0.138733 --> 0.138488).  Saving model ...\n"
     ]
    },
    {
     "name": "stderr",
     "output_type": "stream",
     "text": [
      "\n",
      "\n",
      " 22%|██▏       | 13/60 [07:05<25:26, 32.48s/it]\u001b[A\u001b[A"
     ]
    },
    {
     "name": "stdout",
     "output_type": "stream",
     "text": [
      "Train Epoch: 13 @ 11:56:13.030707 - Train Loss: 0.1187 - Valid Loss: 0.1385\n",
      "EarlyStopping counter: 1 out of 10\n"
     ]
    },
    {
     "name": "stderr",
     "output_type": "stream",
     "text": [
      "\n",
      "\n",
      " 23%|██▎       | 14/60 [07:36<24:32, 32.01s/it]\u001b[A\u001b[A"
     ]
    },
    {
     "name": "stdout",
     "output_type": "stream",
     "text": [
      "Train Epoch: 14 @ 11:56:43.950443 - Train Loss: 0.1146 - Valid Loss: 0.1460\n",
      "Validation loss decreased (0.138488 --> 0.132370).  Saving model ...\n"
     ]
    },
    {
     "name": "stderr",
     "output_type": "stream",
     "text": [
      "\n",
      "\n",
      " 25%|██▌       | 15/60 [08:07<23:57, 31.93s/it]\u001b[A\u001b[A"
     ]
    },
    {
     "name": "stdout",
     "output_type": "stream",
     "text": [
      "Train Epoch: 15 @ 11:57:15.698403 - Train Loss: 0.1111 - Valid Loss: 0.1324\n",
      "EarlyStopping counter: 1 out of 10\n"
     ]
    },
    {
     "name": "stderr",
     "output_type": "stream",
     "text": [
      "\n",
      "\n",
      " 27%|██▋       | 16/60 [08:38<23:10, 31.60s/it]\u001b[A\u001b[A"
     ]
    },
    {
     "name": "stdout",
     "output_type": "stream",
     "text": [
      "Train Epoch: 16 @ 11:57:46.505614 - Train Loss: 0.1086 - Valid Loss: 0.1327\n",
      "EarlyStopping counter: 2 out of 10\n"
     ]
    },
    {
     "name": "stderr",
     "output_type": "stream",
     "text": [
      "\n",
      "\n",
      " 28%|██▊       | 17/60 [09:11<22:59, 32.08s/it]\u001b[A\u001b[A"
     ]
    },
    {
     "name": "stdout",
     "output_type": "stream",
     "text": [
      "Train Epoch: 17 @ 11:58:19.726320 - Train Loss: 0.1073 - Valid Loss: 0.1588\n",
      "EarlyStopping counter: 3 out of 10\n"
     ]
    },
    {
     "name": "stderr",
     "output_type": "stream",
     "text": [
      "\n",
      "\n",
      " 30%|███       | 18/60 [09:42<22:14, 31.79s/it]\u001b[A\u001b[A"
     ]
    },
    {
     "name": "stdout",
     "output_type": "stream",
     "text": [
      "Train Epoch: 18 @ 11:58:50.815518 - Train Loss: 0.1057 - Valid Loss: 0.1444\n",
      "EarlyStopping counter: 4 out of 10\n"
     ]
    },
    {
     "name": "stderr",
     "output_type": "stream",
     "text": [
      "\n",
      "\n",
      " 32%|███▏      | 19/60 [10:14<21:35, 31.61s/it]\u001b[A\u001b[A"
     ]
    },
    {
     "name": "stdout",
     "output_type": "stream",
     "text": [
      "Train Epoch: 19 @ 11:59:22.007899 - Train Loss: 0.1024 - Valid Loss: 0.1339\n",
      "EarlyStopping counter: 5 out of 10\n"
     ]
    },
    {
     "name": "stderr",
     "output_type": "stream",
     "text": [
      "\n",
      "\n",
      " 33%|███▎      | 20/60 [10:44<20:53, 31.34s/it]\u001b[A\u001b[A"
     ]
    },
    {
     "name": "stdout",
     "output_type": "stream",
     "text": [
      "Train Epoch: 20 @ 11:59:52.715453 - Train Loss: 0.0993 - Valid Loss: 0.1340\n",
      "EarlyStopping counter: 6 out of 10\n"
     ]
    },
    {
     "name": "stderr",
     "output_type": "stream",
     "text": [
      "\n",
      "\n",
      " 35%|███▌      | 21/60 [11:18<20:47, 31.98s/it]\u001b[A\u001b[A"
     ]
    },
    {
     "name": "stdout",
     "output_type": "stream",
     "text": [
      "Train Epoch: 21 @ 12:00:26.191957 - Train Loss: 0.0972 - Valid Loss: 0.1506\n",
      "EarlyStopping counter: 7 out of 10\n"
     ]
    },
    {
     "name": "stderr",
     "output_type": "stream",
     "text": [
      "\n",
      "\n",
      " 37%|███▋      | 22/60 [11:49<20:06, 31.74s/it]\u001b[A\u001b[A"
     ]
    },
    {
     "name": "stdout",
     "output_type": "stream",
     "text": [
      "Train Epoch: 22 @ 12:00:57.371254 - Train Loss: 0.0951 - Valid Loss: 0.1448\n",
      "Validation loss decreased (0.132370 --> 0.128806).  Saving model ...\n"
     ]
    },
    {
     "name": "stderr",
     "output_type": "stream",
     "text": [
      "\n",
      "\n",
      " 38%|███▊      | 23/60 [12:20<19:29, 31.62s/it]\u001b[A\u001b[A"
     ]
    },
    {
     "name": "stdout",
     "output_type": "stream",
     "text": [
      "Train Epoch: 23 @ 12:01:28.713560 - Train Loss: 0.0931 - Valid Loss: 0.1288\n",
      "EarlyStopping counter: 1 out of 10\n"
     ]
    },
    {
     "name": "stderr",
     "output_type": "stream",
     "text": [
      "\n",
      "\n",
      " 40%|████      | 24/60 [12:51<18:51, 31.44s/it]\u001b[A\u001b[A"
     ]
    },
    {
     "name": "stdout",
     "output_type": "stream",
     "text": [
      "Train Epoch: 24 @ 12:01:59.718391 - Train Loss: 0.0908 - Valid Loss: 0.1391\n",
      "EarlyStopping counter: 2 out of 10\n"
     ]
    },
    {
     "name": "stderr",
     "output_type": "stream",
     "text": [
      "\n",
      "\n",
      " 42%|████▏     | 25/60 [13:24<18:37, 31.94s/it]\u001b[A\u001b[A"
     ]
    },
    {
     "name": "stdout",
     "output_type": "stream",
     "text": [
      "Train Epoch: 25 @ 12:02:32.845316 - Train Loss: 0.0890 - Valid Loss: 0.1346\n",
      "EarlyStopping counter: 3 out of 10\n"
     ]
    },
    {
     "name": "stderr",
     "output_type": "stream",
     "text": [
      "\n",
      "\n",
      " 43%|████▎     | 26/60 [13:56<17:56, 31.67s/it]\u001b[A\u001b[A"
     ]
    },
    {
     "name": "stdout",
     "output_type": "stream",
     "text": [
      "Train Epoch: 26 @ 12:03:03.871310 - Train Loss: 0.0871 - Valid Loss: 0.1305\n",
      "Validation loss decreased (0.128806 --> 0.127921).  Saving model ...\n"
     ]
    },
    {
     "name": "stderr",
     "output_type": "stream",
     "text": [
      "\n",
      "\n",
      " 45%|████▌     | 27/60 [14:27<17:22, 31.58s/it]\u001b[A\u001b[A"
     ]
    },
    {
     "name": "stdout",
     "output_type": "stream",
     "text": [
      "Train Epoch: 27 @ 12:03:35.261861 - Train Loss: 0.0854 - Valid Loss: 0.1279\n",
      "EarlyStopping counter: 1 out of 10\n"
     ]
    },
    {
     "name": "stderr",
     "output_type": "stream",
     "text": [
      "\n",
      "\n",
      " 47%|████▋     | 28/60 [14:58<16:43, 31.36s/it]\u001b[A\u001b[A"
     ]
    },
    {
     "name": "stdout",
     "output_type": "stream",
     "text": [
      "Train Epoch: 28 @ 12:04:06.093379 - Train Loss: 0.0818 - Valid Loss: 0.1367\n",
      "EarlyStopping counter: 2 out of 10\n"
     ]
    },
    {
     "name": "stderr",
     "output_type": "stream",
     "text": [
      "\n",
      "\n",
      " 48%|████▊     | 29/60 [15:29<16:10, 31.30s/it]\u001b[A\u001b[A"
     ]
    },
    {
     "name": "stdout",
     "output_type": "stream",
     "text": [
      "Train Epoch: 29 @ 12:04:37.264074 - Train Loss: 0.0794 - Valid Loss: 0.1368\n",
      "EarlyStopping counter: 3 out of 10\n"
     ]
    },
    {
     "name": "stderr",
     "output_type": "stream",
     "text": [
      "\n",
      "\n",
      " 50%|█████     | 30/60 [16:00<15:37, 31.25s/it]\u001b[A\u001b[A"
     ]
    },
    {
     "name": "stdout",
     "output_type": "stream",
     "text": [
      "Train Epoch: 30 @ 12:05:08.392118 - Train Loss: 0.0774 - Valid Loss: 0.1447\n",
      "EarlyStopping counter: 4 out of 10\n"
     ]
    },
    {
     "name": "stderr",
     "output_type": "stream",
     "text": [
      "\n",
      "\n",
      " 52%|█████▏    | 31/60 [16:31<15:06, 31.26s/it]\u001b[A\u001b[A"
     ]
    },
    {
     "name": "stdout",
     "output_type": "stream",
     "text": [
      "Train Epoch: 31 @ 12:05:39.660921 - Train Loss: 0.0764 - Valid Loss: 0.1281\n",
      "Validation loss decreased (0.127921 --> 0.126885).  Saving model ...\n"
     ]
    },
    {
     "name": "stderr",
     "output_type": "stream",
     "text": [
      "\n",
      "\n",
      " 53%|█████▎    | 32/60 [17:03<14:40, 31.43s/it]\u001b[A\u001b[A"
     ]
    },
    {
     "name": "stdout",
     "output_type": "stream",
     "text": [
      "Train Epoch: 32 @ 12:06:11.501656 - Train Loss: 0.0758 - Valid Loss: 0.1269\n",
      "EarlyStopping counter: 1 out of 10\n"
     ]
    },
    {
     "name": "stderr",
     "output_type": "stream",
     "text": [
      "\n",
      "\n",
      " 55%|█████▌    | 33/60 [17:34<14:03, 31.25s/it]\u001b[A\u001b[A"
     ]
    },
    {
     "name": "stdout",
     "output_type": "stream",
     "text": [
      "Train Epoch: 33 @ 12:06:42.329282 - Train Loss: 0.0729 - Valid Loss: 0.1310\n",
      "EarlyStopping counter: 2 out of 10\n"
     ]
    },
    {
     "name": "stderr",
     "output_type": "stream",
     "text": [
      "\n",
      "\n",
      " 57%|█████▋    | 34/60 [18:05<13:31, 31.20s/it]\u001b[A\u001b[A"
     ]
    },
    {
     "name": "stdout",
     "output_type": "stream",
     "text": [
      "Train Epoch: 34 @ 12:07:13.423341 - Train Loss: 0.0722 - Valid Loss: 0.1428\n",
      "EarlyStopping counter: 3 out of 10\n"
     ]
    },
    {
     "name": "stderr",
     "output_type": "stream",
     "text": [
      "\n",
      "\n",
      " 58%|█████▊    | 35/60 [18:36<12:56, 31.05s/it]\u001b[A\u001b[A"
     ]
    },
    {
     "name": "stdout",
     "output_type": "stream",
     "text": [
      "Train Epoch: 35 @ 12:07:44.113314 - Train Loss: 0.0702 - Valid Loss: 0.1292\n",
      "EarlyStopping counter: 4 out of 10\n"
     ]
    },
    {
     "name": "stderr",
     "output_type": "stream",
     "text": [
      "\n",
      "\n",
      " 60%|██████    | 36/60 [19:07<12:28, 31.19s/it]\u001b[A\u001b[A"
     ]
    },
    {
     "name": "stdout",
     "output_type": "stream",
     "text": [
      "Train Epoch: 36 @ 12:08:15.627554 - Train Loss: 0.0674 - Valid Loss: 0.1467\n",
      "EarlyStopping counter: 5 out of 10\n"
     ]
    },
    {
     "name": "stderr",
     "output_type": "stream",
     "text": [
      "\n",
      "\n",
      " 62%|██████▏   | 37/60 [19:38<11:54, 31.08s/it]\u001b[A\u001b[A"
     ]
    },
    {
     "name": "stdout",
     "output_type": "stream",
     "text": [
      "Train Epoch: 37 @ 12:08:46.447201 - Train Loss: 0.0660 - Valid Loss: 0.1343\n",
      "EarlyStopping counter: 6 out of 10\n"
     ]
    },
    {
     "name": "stderr",
     "output_type": "stream",
     "text": [
      "\n",
      "\n",
      " 63%|██████▎   | 38/60 [20:09<11:25, 31.16s/it]\u001b[A\u001b[A"
     ]
    },
    {
     "name": "stdout",
     "output_type": "stream",
     "text": [
      "Train Epoch: 38 @ 12:09:17.793922 - Train Loss: 0.0649 - Valid Loss: 0.1390\n",
      "EarlyStopping counter: 7 out of 10\n"
     ]
    },
    {
     "name": "stderr",
     "output_type": "stream",
     "text": [
      "\n",
      "\n",
      " 65%|██████▌   | 39/60 [20:40<10:52, 31.08s/it]\u001b[A\u001b[A"
     ]
    },
    {
     "name": "stdout",
     "output_type": "stream",
     "text": [
      "Train Epoch: 39 @ 12:09:48.689890 - Train Loss: 0.0641 - Valid Loss: 0.1352\n",
      "EarlyStopping counter: 8 out of 10\n"
     ]
    },
    {
     "name": "stderr",
     "output_type": "stream",
     "text": [
      "\n",
      "\n",
      " 67%|██████▋   | 40/60 [21:12<10:23, 31.16s/it]\u001b[A\u001b[A"
     ]
    },
    {
     "name": "stdout",
     "output_type": "stream",
     "text": [
      "Train Epoch: 40 @ 12:10:20.040523 - Train Loss: 0.0632 - Valid Loss: 0.1337\n",
      "EarlyStopping counter: 9 out of 10\n"
     ]
    },
    {
     "name": "stderr",
     "output_type": "stream",
     "text": [
      "\n",
      "\n",
      " 68%|██████▊   | 41/60 [21:43<09:50, 31.10s/it]\u001b[A\u001b[A"
     ]
    },
    {
     "name": "stdout",
     "output_type": "stream",
     "text": [
      "Train Epoch: 41 @ 12:10:50.994542 - Train Loss: 0.0622 - Valid Loss: 0.1380\n",
      "EarlyStopping counter: 10 out of 10\n",
      "Early stopping\n"
     ]
    },
    {
     "data": {
      "image/png": "[encoded data removed]",
      "text/plain": [
       "<Figure size 720x576 with 1 Axes>"
      ]
     },
     "metadata": {
      "needs_background": "light",
      "tags": []
     },
     "output_type": "display_data"
    },
    {
     "name": "stdout",
     "output_type": "stream",
     "text": [
      "Dice2 score: 0.8932642053674769\n"
     ]
    }
   ],
   "source": [
    "n_bs = [1]\n",
    "n_lr = [0.001, 0.0001, 0.00001]\n",
    "epochs = 60\n",
    "patience = 10\n",
    "\n",
    "train_dir = \"../Train/train_500\"\n",
    "model_chkpt_name = \"ResNet-500x500_4layer\"\n",
    "\n",
    "for bs in n_bs:\n",
    "    for lr in n_lr:\n",
    "        hyperparam_tuning(train_dir, bs, lr, epochs, patience, model_chkpt_name)"
   ]
  },
  {
   "cell_type": "code",
   "execution_count": null,
   "metadata": {
    "colab": {
     "base_uri": "https://localhost:8080/",
     "height": 1000
    },
    "id": "6cZYTu-Az2Zx",
    "outputId": "64324bea-c947-4626-967b-58a0a3ddaa80"
   },
   "outputs": [
    {
     "name": "stdout",
     "output_type": "stream",
     "text": [
      "Batch size: 4, Learning rate: 0.001 , Epochs: 60\n",
      "\n"
     ]
    },
    {
     "name": "stderr",
     "output_type": "stream",
     "text": [
      "\n",
      "\n",
      "\n",
      "  0%|          | 0/60 [00:00<?, ?it/s]\u001b[A\u001b[A\u001b[A"
     ]
    },
    {
     "name": "stdout",
     "output_type": "stream",
     "text": [
      "Validation loss decreased (inf --> 0.198169).  Saving model ...\n"
     ]
    },
    {
     "name": "stderr",
     "output_type": "stream",
     "text": [
      "\n",
      "\n",
      "\n",
      "  2%|▏         | 1/60 [00:23<23:13, 23.62s/it]\u001b[A\u001b[A\u001b[A"
     ]
    },
    {
     "name": "stdout",
     "output_type": "stream",
     "text": [
      "Train Epoch: 1 @ 12:11:46.614961 - Train Loss: 0.3122 - Valid Loss: 0.1982\n",
      "Validation loss decreased (0.198169 --> 0.175017).  Saving model ...\n"
     ]
    },
    {
     "name": "stderr",
     "output_type": "stream",
     "text": [
      "\n",
      "\n",
      "\n",
      "  3%|▎         | 2/60 [00:47<22:49, 23.61s/it]\u001b[A\u001b[A\u001b[A"
     ]
    },
    {
     "name": "stdout",
     "output_type": "stream",
     "text": [
      "Train Epoch: 2 @ 12:12:10.215473 - Train Loss: 0.1850 - Valid Loss: 0.1750\n",
      "Validation loss decreased (0.175017 --> 0.150576).  Saving model ...\n"
     ]
    },
    {
     "name": "stderr",
     "output_type": "stream",
     "text": [
      "\n",
      "\n",
      "\n",
      "  5%|▌         | 3/60 [01:10<22:22, 23.56s/it]\u001b[A\u001b[A\u001b[A"
     ]
    },
    {
     "name": "stdout",
     "output_type": "stream",
     "text": [
      "Train Epoch: 3 @ 12:12:33.655720 - Train Loss: 0.1629 - Valid Loss: 0.1506\n",
      "Validation loss decreased (0.150576 --> 0.138970).  Saving model ...\n"
     ]
    },
    {
     "name": "stderr",
     "output_type": "stream",
     "text": [
      "\n",
      "\n",
      "\n",
      "  7%|▋         | 4/60 [01:34<21:59, 23.57s/it]\u001b[A\u001b[A\u001b[A"
     ]
    },
    {
     "name": "stdout",
     "output_type": "stream",
     "text": [
      "Train Epoch: 4 @ 12:12:57.233240 - Train Loss: 0.1591 - Valid Loss: 0.1390\n",
      "Validation loss decreased (0.138970 --> 0.135091).  Saving model ...\n"
     ]
    },
    {
     "name": "stderr",
     "output_type": "stream",
     "text": [
      "\n",
      "\n",
      "\n",
      "  8%|▊         | 5/60 [01:59<22:00, 24.01s/it]\u001b[A\u001b[A\u001b[A"
     ]
    },
    {
     "name": "stdout",
     "output_type": "stream",
     "text": [
      "Train Epoch: 5 @ 12:13:22.280572 - Train Loss: 0.1500 - Valid Loss: 0.1351\n",
      "EarlyStopping counter: 1 out of 10\n"
     ]
    },
    {
     "name": "stderr",
     "output_type": "stream",
     "text": [
      "\n",
      "\n",
      "\n",
      " 10%|█         | 6/60 [02:22<21:18, 23.67s/it]\u001b[A\u001b[A\u001b[A"
     ]
    },
    {
     "name": "stdout",
     "output_type": "stream",
     "text": [
      "Train Epoch: 6 @ 12:13:45.150006 - Train Loss: 0.1450 - Valid Loss: 0.1411\n",
      "EarlyStopping counter: 2 out of 10\n"
     ]
    },
    {
     "name": "stderr",
     "output_type": "stream",
     "text": [
      "\n",
      "\n",
      "\n",
      " 12%|█▏        | 7/60 [02:45<20:45, 23.50s/it]\u001b[A\u001b[A\u001b[A"
     ]
    },
    {
     "name": "stdout",
     "output_type": "stream",
     "text": [
      "Train Epoch: 7 @ 12:14:08.244221 - Train Loss: 0.1416 - Valid Loss: 0.1378\n",
      "Validation loss decreased (0.135091 --> 0.115682).  Saving model ...\n"
     ]
    },
    {
     "name": "stderr",
     "output_type": "stream",
     "text": [
      "\n",
      "\n",
      "\n",
      " 13%|█▎        | 8/60 [03:08<20:23, 23.52s/it]\u001b[A\u001b[A\u001b[A"
     ]
    },
    {
     "name": "stdout",
     "output_type": "stream",
     "text": [
      "Train Epoch: 8 @ 12:14:31.831721 - Train Loss: 0.1316 - Valid Loss: 0.1157\n",
      "EarlyStopping counter: 1 out of 10\n"
     ]
    },
    {
     "name": "stderr",
     "output_type": "stream",
     "text": [
      "\n",
      "\n",
      "\n",
      " 15%|█▌        | 9/60 [03:31<19:49, 23.33s/it]\u001b[A\u001b[A\u001b[A"
     ]
    },
    {
     "name": "stdout",
     "output_type": "stream",
     "text": [
      "Train Epoch: 9 @ 12:14:54.716164 - Train Loss: 0.1237 - Valid Loss: 0.1281\n",
      "EarlyStopping counter: 2 out of 10\n"
     ]
    },
    {
     "name": "stderr",
     "output_type": "stream",
     "text": [
      "\n",
      "\n",
      "\n",
      " 17%|█▋        | 10/60 [03:54<19:23, 23.27s/it]\u001b[A\u001b[A\u001b[A"
     ]
    },
    {
     "name": "stdout",
     "output_type": "stream",
     "text": [
      "Train Epoch: 10 @ 12:15:17.854074 - Train Loss: 0.1309 - Valid Loss: 0.1237\n",
      "Validation loss decreased (0.115682 --> 0.111540).  Saving model ...\n"
     ]
    },
    {
     "name": "stderr",
     "output_type": "stream",
     "text": [
      "\n",
      "\n",
      "\n",
      " 18%|█▊        | 11/60 [04:18<19:01, 23.29s/it]\u001b[A\u001b[A\u001b[A"
     ]
    },
    {
     "name": "stdout",
     "output_type": "stream",
     "text": [
      "Train Epoch: 11 @ 12:15:41.177334 - Train Loss: 0.1243 - Valid Loss: 0.1115\n",
      "EarlyStopping counter: 1 out of 10\n"
     ]
    },
    {
     "name": "stderr",
     "output_type": "stream",
     "text": [
      "\n",
      "\n",
      "\n",
      " 20%|██        | 12/60 [04:40<18:30, 23.14s/it]\u001b[A\u001b[A\u001b[A"
     ]
    },
    {
     "name": "stdout",
     "output_type": "stream",
     "text": [
      "Train Epoch: 12 @ 12:16:03.972220 - Train Loss: 0.1150 - Valid Loss: 0.1326\n",
      "EarlyStopping counter: 2 out of 10\n"
     ]
    },
    {
     "name": "stderr",
     "output_type": "stream",
     "text": [
      "\n",
      "\n",
      "\n",
      " 22%|██▏       | 13/60 [05:04<18:06, 23.12s/it]\u001b[A\u001b[A\u001b[A"
     ]
    },
    {
     "name": "stdout",
     "output_type": "stream",
     "text": [
      "Train Epoch: 13 @ 12:16:27.057137 - Train Loss: 0.1133 - Valid Loss: 0.1133\n",
      "Validation loss decreased (0.111540 --> 0.106675).  Saving model ...\n"
     ]
    },
    {
     "name": "stderr",
     "output_type": "stream",
     "text": [
      "\n",
      "\n",
      "\n",
      " 23%|██▎       | 14/60 [05:27<17:52, 23.31s/it]\u001b[A\u001b[A\u001b[A"
     ]
    },
    {
     "name": "stdout",
     "output_type": "stream",
     "text": [
      "Train Epoch: 14 @ 12:16:50.785382 - Train Loss: 0.1086 - Valid Loss: 0.1067\n",
      "Validation loss decreased (0.106675 --> 0.103859).  Saving model ...\n"
     ]
    },
    {
     "name": "stderr",
     "output_type": "stream",
     "text": [
      "\n",
      "\n",
      "\n",
      " 25%|██▌       | 15/60 [05:52<17:45, 23.68s/it]\u001b[A\u001b[A\u001b[A"
     ]
    },
    {
     "name": "stdout",
     "output_type": "stream",
     "text": [
      "Train Epoch: 15 @ 12:17:15.346430 - Train Loss: 0.1106 - Valid Loss: 0.1039\n",
      "EarlyStopping counter: 1 out of 10\n"
     ]
    },
    {
     "name": "stderr",
     "output_type": "stream",
     "text": [
      "\n",
      "\n",
      "\n",
      " 27%|██▋       | 16/60 [06:15<17:12, 23.46s/it]\u001b[A\u001b[A\u001b[A"
     ]
    },
    {
     "name": "stdout",
     "output_type": "stream",
     "text": [
      "Train Epoch: 16 @ 12:17:38.273397 - Train Loss: 0.1044 - Valid Loss: 0.1386\n",
      "Validation loss decreased (0.103859 --> 0.096817).  Saving model ...\n"
     ]
    },
    {
     "name": "stderr",
     "output_type": "stream",
     "text": [
      "\n",
      "\n",
      "\n",
      " 28%|██▊       | 17/60 [06:38<16:50, 23.50s/it]\u001b[A\u001b[A\u001b[A"
     ]
    },
    {
     "name": "stdout",
     "output_type": "stream",
     "text": [
      "Train Epoch: 17 @ 12:18:01.893194 - Train Loss: 0.1089 - Valid Loss: 0.0968\n",
      "EarlyStopping counter: 1 out of 10\n"
     ]
    },
    {
     "name": "stderr",
     "output_type": "stream",
     "text": [
      "\n",
      "\n",
      "\n",
      " 30%|███       | 18/60 [07:01<16:19, 23.33s/it]\u001b[A\u001b[A\u001b[A"
     ]
    },
    {
     "name": "stdout",
     "output_type": "stream",
     "text": [
      "Train Epoch: 18 @ 12:18:24.808936 - Train Loss: 0.0996 - Valid Loss: 0.0978\n",
      "Validation loss decreased (0.096817 --> 0.088126).  Saving model ...\n"
     ]
    },
    {
     "name": "stderr",
     "output_type": "stream",
     "text": [
      "\n",
      "\n",
      "\n",
      " 32%|███▏      | 19/60 [07:25<15:57, 23.36s/it]\u001b[A\u001b[A\u001b[A"
     ]
    },
    {
     "name": "stdout",
     "output_type": "stream",
     "text": [
      "Train Epoch: 19 @ 12:18:48.248778 - Train Loss: 0.1001 - Valid Loss: 0.0881\n",
      "Validation loss decreased (0.088126 --> 0.086053).  Saving model ...\n"
     ]
    },
    {
     "name": "stderr",
     "output_type": "stream",
     "text": [
      "\n",
      "\n",
      "\n",
      " 33%|███▎      | 20/60 [07:48<15:37, 23.43s/it]\u001b[A\u001b[A\u001b[A"
     ]
    },
    {
     "name": "stdout",
     "output_type": "stream",
     "text": [
      "Train Epoch: 20 @ 12:19:11.846991 - Train Loss: 0.0952 - Valid Loss: 0.0861\n",
      "EarlyStopping counter: 1 out of 10\n"
     ]
    },
    {
     "name": "stderr",
     "output_type": "stream",
     "text": [
      "\n",
      "\n",
      "\n",
      " 35%|███▌      | 21/60 [08:11<15:08, 23.28s/it]\u001b[A\u001b[A\u001b[A"
     ]
    },
    {
     "name": "stdout",
     "output_type": "stream",
     "text": [
      "Train Epoch: 21 @ 12:19:34.783372 - Train Loss: 0.0916 - Valid Loss: 0.0968\n",
      "EarlyStopping counter: 2 out of 10\n"
     ]
    },
    {
     "name": "stderr",
     "output_type": "stream",
     "text": [
      "\n",
      "\n",
      "\n",
      " 37%|███▋      | 22/60 [08:34<14:41, 23.19s/it]\u001b[A\u001b[A\u001b[A"
     ]
    },
    {
     "name": "stdout",
     "output_type": "stream",
     "text": [
      "Train Epoch: 22 @ 12:19:57.754638 - Train Loss: 0.0920 - Valid Loss: 0.1026\n",
      "EarlyStopping counter: 3 out of 10\n"
     ]
    },
    {
     "name": "stderr",
     "output_type": "stream",
     "text": [
      "\n",
      "\n",
      "\n",
      " 38%|███▊      | 23/60 [08:57<14:16, 23.14s/it]\u001b[A\u001b[A\u001b[A"
     ]
    },
    {
     "name": "stdout",
     "output_type": "stream",
     "text": [
      "Train Epoch: 23 @ 12:20:20.764070 - Train Loss: 0.0901 - Valid Loss: 0.0870\n",
      "EarlyStopping counter: 4 out of 10\n"
     ]
    },
    {
     "name": "stderr",
     "output_type": "stream",
     "text": [
      "\n",
      "\n",
      "\n",
      " 40%|████      | 24/60 [09:20<13:50, 23.07s/it]\u001b[A\u001b[A\u001b[A"
     ]
    },
    {
     "name": "stdout",
     "output_type": "stream",
     "text": [
      "Train Epoch: 24 @ 12:20:43.671218 - Train Loss: 0.0918 - Valid Loss: 0.0881\n",
      "EarlyStopping counter: 5 out of 10\n"
     ]
    },
    {
     "name": "stderr",
     "output_type": "stream",
     "text": [
      "\n",
      "\n",
      "\n",
      " 42%|████▏     | 25/60 [09:43<13:26, 23.03s/it]\u001b[A\u001b[A\u001b[A"
     ]
    },
    {
     "name": "stdout",
     "output_type": "stream",
     "text": [
      "Train Epoch: 25 @ 12:21:06.631156 - Train Loss: 0.0863 - Valid Loss: 0.0863\n",
      "EarlyStopping counter: 6 out of 10\n"
     ]
    },
    {
     "name": "stderr",
     "output_type": "stream",
     "text": [
      "\n",
      "\n",
      "\n",
      " 43%|████▎     | 26/60 [10:06<13:04, 23.06s/it]\u001b[A\u001b[A\u001b[A"
     ]
    },
    {
     "name": "stdout",
     "output_type": "stream",
     "text": [
      "Train Epoch: 26 @ 12:21:29.756758 - Train Loss: 0.0893 - Valid Loss: 0.1029\n",
      "EarlyStopping counter: 7 out of 10\n"
     ]
    },
    {
     "name": "stderr",
     "output_type": "stream",
     "text": [
      "\n",
      "\n",
      "\n",
      " 45%|████▌     | 27/60 [10:29<12:42, 23.10s/it]\u001b[A\u001b[A\u001b[A"
     ]
    },
    {
     "name": "stdout",
     "output_type": "stream",
     "text": [
      "Train Epoch: 27 @ 12:21:52.949454 - Train Loss: 0.0994 - Valid Loss: 0.0933\n",
      "Validation loss decreased (0.086053 --> 0.084594).  Saving model ...\n"
     ]
    },
    {
     "name": "stderr",
     "output_type": "stream",
     "text": [
      "\n",
      "\n",
      "\n",
      " 47%|████▋     | 28/60 [10:53<12:22, 23.19s/it]\u001b[A\u001b[A\u001b[A"
     ]
    },
    {
     "name": "stdout",
     "output_type": "stream",
     "text": [
      "Train Epoch: 28 @ 12:22:16.361718 - Train Loss: 0.0913 - Valid Loss: 0.0846\n",
      "EarlyStopping counter: 1 out of 10\n"
     ]
    },
    {
     "name": "stderr",
     "output_type": "stream",
     "text": [
      "\n",
      "\n",
      "\n",
      " 48%|████▊     | 29/60 [11:16<11:58, 23.16s/it]\u001b[A\u001b[A\u001b[A"
     ]
    },
    {
     "name": "stdout",
     "output_type": "stream",
     "text": [
      "Train Epoch: 29 @ 12:22:39.450447 - Train Loss: 0.0877 - Valid Loss: 0.0896\n",
      "EarlyStopping counter: 2 out of 10\n"
     ]
    },
    {
     "name": "stderr",
     "output_type": "stream",
     "text": [
      "\n",
      "\n",
      "\n",
      " 50%|█████     | 30/60 [11:39<11:34, 23.15s/it]\u001b[A\u001b[A\u001b[A"
     ]
    },
    {
     "name": "stdout",
     "output_type": "stream",
     "text": [
      "Train Epoch: 30 @ 12:23:02.578708 - Train Loss: 0.0843 - Valid Loss: 0.0931\n",
      "EarlyStopping counter: 3 out of 10\n"
     ]
    },
    {
     "name": "stderr",
     "output_type": "stream",
     "text": [
      "\n",
      "\n",
      "\n",
      " 52%|█████▏    | 31/60 [12:02<11:09, 23.09s/it]\u001b[A\u001b[A\u001b[A"
     ]
    },
    {
     "name": "stdout",
     "output_type": "stream",
     "text": [
      "Train Epoch: 31 @ 12:23:25.539124 - Train Loss: 0.0807 - Valid Loss: 0.0959\n",
      "EarlyStopping counter: 4 out of 10\n"
     ]
    },
    {
     "name": "stderr",
     "output_type": "stream",
     "text": [
      "\n",
      "\n",
      "\n",
      " 53%|█████▎    | 32/60 [12:25<10:45, 23.06s/it]\u001b[A\u001b[A\u001b[A"
     ]
    },
    {
     "name": "stdout",
     "output_type": "stream",
     "text": [
      "Train Epoch: 32 @ 12:23:48.510435 - Train Loss: 0.0836 - Valid Loss: 0.0975\n",
      "EarlyStopping counter: 5 out of 10\n"
     ]
    },
    {
     "name": "stderr",
     "output_type": "stream",
     "text": [
      "\n",
      "\n",
      "\n",
      " 55%|█████▌    | 33/60 [12:48<10:23, 23.08s/it]\u001b[A\u001b[A\u001b[A"
     ]
    },
    {
     "name": "stdout",
     "output_type": "stream",
     "text": [
      "Train Epoch: 33 @ 12:24:11.637328 - Train Loss: 0.0824 - Valid Loss: 0.0992\n",
      "EarlyStopping counter: 6 out of 10\n"
     ]
    },
    {
     "name": "stderr",
     "output_type": "stream",
     "text": [
      "\n",
      "\n",
      "\n",
      " 57%|█████▋    | 34/60 [13:11<09:58, 23.03s/it]\u001b[A\u001b[A\u001b[A"
     ]
    },
    {
     "name": "stdout",
     "output_type": "stream",
     "text": [
      "Train Epoch: 34 @ 12:24:34.544695 - Train Loss: 0.0836 - Valid Loss: 0.0890\n",
      "EarlyStopping counter: 7 out of 10\n"
     ]
    },
    {
     "name": "stderr",
     "output_type": "stream",
     "text": [
      "\n",
      "\n",
      "\n",
      " 58%|█████▊    | 35/60 [13:34<09:35, 23.03s/it]\u001b[A\u001b[A\u001b[A"
     ]
    },
    {
     "name": "stdout",
     "output_type": "stream",
     "text": [
      "Train Epoch: 35 @ 12:24:57.572732 - Train Loss: 0.0784 - Valid Loss: 0.0875\n",
      "Validation loss decreased (0.084594 --> 0.079070).  Saving model ...\n"
     ]
    },
    {
     "name": "stderr",
     "output_type": "stream",
     "text": [
      "\n",
      "\n",
      "\n",
      " 60%|██████    | 36/60 [13:58<09:17, 23.21s/it]\u001b[A\u001b[A\u001b[A"
     ]
    },
    {
     "name": "stdout",
     "output_type": "stream",
     "text": [
      "Train Epoch: 36 @ 12:25:21.204944 - Train Loss: 0.0759 - Valid Loss: 0.0791\n",
      "EarlyStopping counter: 1 out of 10\n"
     ]
    },
    {
     "name": "stderr",
     "output_type": "stream",
     "text": [
      "\n",
      "\n",
      "\n",
      " 62%|██████▏   | 37/60 [14:21<08:51, 23.11s/it]\u001b[A\u001b[A\u001b[A"
     ]
    },
    {
     "name": "stdout",
     "output_type": "stream",
     "text": [
      "Train Epoch: 37 @ 12:25:44.074377 - Train Loss: 0.0746 - Valid Loss: 0.0853\n",
      "EarlyStopping counter: 2 out of 10\n"
     ]
    },
    {
     "name": "stderr",
     "output_type": "stream",
     "text": [
      "\n",
      "\n",
      "\n",
      " 63%|██████▎   | 38/60 [14:44<08:27, 23.09s/it]\u001b[A\u001b[A\u001b[A"
     ]
    },
    {
     "name": "stdout",
     "output_type": "stream",
     "text": [
      "Train Epoch: 38 @ 12:26:07.115335 - Train Loss: 0.0762 - Valid Loss: 0.0845\n",
      "EarlyStopping counter: 3 out of 10\n"
     ]
    },
    {
     "name": "stderr",
     "output_type": "stream",
     "text": [
      "\n",
      "\n",
      "\n",
      " 65%|██████▌   | 39/60 [15:07<08:04, 23.07s/it]\u001b[A\u001b[A\u001b[A"
     ]
    },
    {
     "name": "stdout",
     "output_type": "stream",
     "text": [
      "Train Epoch: 39 @ 12:26:30.141692 - Train Loss: 0.0734 - Valid Loss: 0.0857\n",
      "EarlyStopping counter: 4 out of 10\n"
     ]
    },
    {
     "name": "stderr",
     "output_type": "stream",
     "text": [
      "\n",
      "\n",
      "\n",
      " 67%|██████▋   | 40/60 [15:30<07:41, 23.06s/it]\u001b[A\u001b[A\u001b[A"
     ]
    },
    {
     "name": "stdout",
     "output_type": "stream",
     "text": [
      "Train Epoch: 40 @ 12:26:53.184071 - Train Loss: 0.0701 - Valid Loss: 0.0855\n",
      "EarlyStopping counter: 5 out of 10\n"
     ]
    },
    {
     "name": "stderr",
     "output_type": "stream",
     "text": [
      "\n",
      "\n",
      "\n",
      " 68%|██████▊   | 41/60 [15:53<07:18, 23.08s/it]\u001b[A\u001b[A\u001b[A"
     ]
    },
    {
     "name": "stdout",
     "output_type": "stream",
     "text": [
      "Train Epoch: 41 @ 12:27:16.321792 - Train Loss: 0.0707 - Valid Loss: 0.0823\n",
      "EarlyStopping counter: 6 out of 10\n"
     ]
    },
    {
     "name": "stderr",
     "output_type": "stream",
     "text": [
      "\n",
      "\n",
      "\n",
      " 70%|███████   | 42/60 [16:16<06:55, 23.10s/it]\u001b[A\u001b[A\u001b[A"
     ]
    },
    {
     "name": "stdout",
     "output_type": "stream",
     "text": [
      "Train Epoch: 42 @ 12:27:39.475355 - Train Loss: 0.0710 - Valid Loss: 0.0846\n",
      "EarlyStopping counter: 7 out of 10\n"
     ]
    },
    {
     "name": "stderr",
     "output_type": "stream",
     "text": [
      "\n",
      "\n",
      "\n",
      " 72%|███████▏  | 43/60 [16:39<06:32, 23.11s/it]\u001b[A\u001b[A\u001b[A"
     ]
    },
    {
     "name": "stdout",
     "output_type": "stream",
     "text": [
      "Train Epoch: 43 @ 12:28:02.597999 - Train Loss: 0.0688 - Valid Loss: 0.0809\n",
      "EarlyStopping counter: 8 out of 10\n"
     ]
    },
    {
     "name": "stderr",
     "output_type": "stream",
     "text": [
      "\n",
      "\n",
      "\n",
      " 73%|███████▎  | 44/60 [17:02<06:08, 23.06s/it]\u001b[A\u001b[A\u001b[A"
     ]
    },
    {
     "name": "stdout",
     "output_type": "stream",
     "text": [
      "Train Epoch: 44 @ 12:28:25.524980 - Train Loss: 0.0690 - Valid Loss: 0.0825\n",
      "EarlyStopping counter: 9 out of 10\n"
     ]
    },
    {
     "name": "stderr",
     "output_type": "stream",
     "text": [
      "\n",
      "\n",
      "\n",
      " 75%|███████▌  | 45/60 [17:25<05:46, 23.07s/it]\u001b[A\u001b[A\u001b[A"
     ]
    },
    {
     "name": "stdout",
     "output_type": "stream",
     "text": [
      "Train Epoch: 45 @ 12:28:48.622453 - Train Loss: 0.0665 - Valid Loss: 0.0820\n",
      "EarlyStopping counter: 10 out of 10\n",
      "Early stopping\n"
     ]
    },
    {
     "data": {
      "image/png": "[encoded data removed]",
      "text/plain": [
       "<Figure size 720x576 with 1 Axes>"
      ]
     },
     "metadata": {
      "needs_background": "light",
      "tags": []
     },
     "output_type": "display_data"
    },
    {
     "name": "stdout",
     "output_type": "stream",
     "text": [
      "Dice2 score: 0.9607353210449219\n",
      "Batch size: 4, Learning rate: 0.0001 , Epochs: 60\n",
      "\n"
     ]
    },
    {
     "name": "stderr",
     "output_type": "stream",
     "text": [
      "\n",
      "\n",
      "\n",
      "\n",
      "  0%|          | 0/60 [00:00<?, ?it/s]\u001b[A\u001b[A\u001b[A\u001b[A"
     ]
    },
    {
     "name": "stdout",
     "output_type": "stream",
     "text": [
      "Validation loss decreased (inf --> 0.234350).  Saving model ...\n"
     ]
    },
    {
     "name": "stderr",
     "output_type": "stream",
     "text": [
      "\n",
      "\n",
      "\n",
      "\n",
      "  2%|▏         | 1/60 [00:23<23:22, 23.77s/it]\u001b[A\u001b[A\u001b[A\u001b[A"
     ]
    },
    {
     "name": "stdout",
     "output_type": "stream",
     "text": [
      "Train Epoch: 1 @ 12:29:36.268474 - Train Loss: 0.3875 - Valid Loss: 0.2343\n",
      "Validation loss decreased (0.234350 --> 0.194473).  Saving model ...\n"
     ]
    },
    {
     "name": "stderr",
     "output_type": "stream",
     "text": [
      "\n",
      "\n",
      "\n",
      "\n",
      "  3%|▎         | 2/60 [00:47<22:57, 23.75s/it]\u001b[A\u001b[A\u001b[A\u001b[A"
     ]
    },
    {
     "name": "stdout",
     "output_type": "stream",
     "text": [
      "Train Epoch: 2 @ 12:29:59.975262 - Train Loss: 0.2508 - Valid Loss: 0.1945\n",
      "Validation loss decreased (0.194473 --> 0.165331).  Saving model ...\n"
     ]
    },
    {
     "name": "stderr",
     "output_type": "stream",
     "text": [
      "\n",
      "\n",
      "\n",
      "\n",
      "  5%|▌         | 3/60 [01:11<22:34, 23.76s/it]\u001b[A\u001b[A\u001b[A\u001b[A"
     ]
    },
    {
     "name": "stdout",
     "output_type": "stream",
     "text": [
      "Train Epoch: 3 @ 12:30:23.744282 - Train Loss: 0.2133 - Valid Loss: 0.1653\n",
      "Validation loss decreased (0.165331 --> 0.157299).  Saving model ...\n"
     ]
    },
    {
     "name": "stderr",
     "output_type": "stream",
     "text": [
      "\n",
      "\n",
      "\n",
      "\n",
      "  7%|▋         | 4/60 [01:34<22:08, 23.72s/it]\u001b[A\u001b[A\u001b[A\u001b[A"
     ]
    },
    {
     "name": "stdout",
     "output_type": "stream",
     "text": [
      "Train Epoch: 4 @ 12:30:47.384139 - Train Loss: 0.1869 - Valid Loss: 0.1573\n",
      "Validation loss decreased (0.157299 --> 0.141242).  Saving model ...\n"
     ]
    },
    {
     "name": "stderr",
     "output_type": "stream",
     "text": [
      "\n",
      "\n",
      "\n",
      "\n",
      "  8%|▊         | 5/60 [01:58<21:47, 23.77s/it]\u001b[A\u001b[A\u001b[A\u001b[A"
     ]
    },
    {
     "name": "stdout",
     "output_type": "stream",
     "text": [
      "Train Epoch: 5 @ 12:31:11.282262 - Train Loss: 0.1723 - Valid Loss: 0.1412\n",
      "EarlyStopping counter: 1 out of 10\n"
     ]
    },
    {
     "name": "stderr",
     "output_type": "stream",
     "text": [
      "\n",
      "\n",
      "\n",
      "\n",
      " 10%|█         | 6/60 [02:21<21:14, 23.60s/it]\u001b[A\u001b[A\u001b[A\u001b[A"
     ]
    },
    {
     "name": "stdout",
     "output_type": "stream",
     "text": [
      "Train Epoch: 6 @ 12:31:34.482923 - Train Loss: 0.1628 - Valid Loss: 0.1435\n",
      "Validation loss decreased (0.141242 --> 0.122062).  Saving model ...\n"
     ]
    },
    {
     "name": "stderr",
     "output_type": "stream",
     "text": [
      "\n",
      "\n",
      "\n",
      "\n",
      " 12%|█▏        | 7/60 [02:45<20:49, 23.58s/it]\u001b[A\u001b[A\u001b[A\u001b[A"
     ]
    },
    {
     "name": "stdout",
     "output_type": "stream",
     "text": [
      "Train Epoch: 7 @ 12:31:58.020742 - Train Loss: 0.1446 - Valid Loss: 0.1221\n",
      "Validation loss decreased (0.122062 --> 0.116661).  Saving model ...\n"
     ]
    },
    {
     "name": "stderr",
     "output_type": "stream",
     "text": [
      "\n",
      "\n",
      "\n",
      "\n",
      " 13%|█▎        | 8/60 [03:10<20:51, 24.08s/it]\u001b[A\u001b[A\u001b[A\u001b[A"
     ]
    },
    {
     "name": "stdout",
     "output_type": "stream",
     "text": [
      "Train Epoch: 8 @ 12:32:23.245910 - Train Loss: 0.1338 - Valid Loss: 0.1167\n",
      "Validation loss decreased (0.116661 --> 0.105580).  Saving model ...\n"
     ]
    },
    {
     "name": "stderr",
     "output_type": "stream",
     "text": [
      "\n",
      "\n",
      "\n",
      "\n",
      " 15%|█▌        | 9/60 [03:34<20:27, 24.07s/it]\u001b[A\u001b[A\u001b[A\u001b[A"
     ]
    },
    {
     "name": "stdout",
     "output_type": "stream",
     "text": [
      "Train Epoch: 9 @ 12:32:47.290898 - Train Loss: 0.1288 - Valid Loss: 0.1056\n",
      "EarlyStopping counter: 1 out of 10\n"
     ]
    },
    {
     "name": "stderr",
     "output_type": "stream",
     "text": [
      "\n",
      "\n",
      "\n",
      "\n",
      " 17%|█▋        | 10/60 [03:57<19:49, 23.79s/it]\u001b[A\u001b[A\u001b[A\u001b[A"
     ]
    },
    {
     "name": "stdout",
     "output_type": "stream",
     "text": [
      "Train Epoch: 10 @ 12:33:10.450579 - Train Loss: 0.1257 - Valid Loss: 0.1102\n",
      "EarlyStopping counter: 2 out of 10\n"
     ]
    },
    {
     "name": "stderr",
     "output_type": "stream",
     "text": [
      "\n",
      "\n",
      "\n",
      "\n",
      " 18%|█▊        | 11/60 [04:20<19:14, 23.57s/it]\u001b[A\u001b[A\u001b[A\u001b[A"
     ]
    },
    {
     "name": "stdout",
     "output_type": "stream",
     "text": [
      "Train Epoch: 11 @ 12:33:33.482305 - Train Loss: 0.1229 - Valid Loss: 0.1060\n",
      "Validation loss decreased (0.105580 --> 0.105244).  Saving model ...\n"
     ]
    },
    {
     "name": "stderr",
     "output_type": "stream",
     "text": [
      "\n",
      "\n",
      "\n",
      "\n",
      " 20%|██        | 12/60 [04:44<18:55, 23.67s/it]\u001b[A\u001b[A\u001b[A\u001b[A"
     ]
    },
    {
     "name": "stdout",
     "output_type": "stream",
     "text": [
      "Train Epoch: 12 @ 12:33:57.379727 - Train Loss: 0.1123 - Valid Loss: 0.1052\n",
      "Validation loss decreased (0.105244 --> 0.098530).  Saving model ...\n"
     ]
    },
    {
     "name": "stderr",
     "output_type": "stream",
     "text": [
      "\n",
      "\n",
      "\n",
      "\n",
      " 22%|██▏       | 13/60 [05:08<18:33, 23.69s/it]\u001b[A\u001b[A\u001b[A\u001b[A"
     ]
    },
    {
     "name": "stdout",
     "output_type": "stream",
     "text": [
      "Train Epoch: 13 @ 12:34:21.142890 - Train Loss: 0.1044 - Valid Loss: 0.0985\n",
      "Validation loss decreased (0.098530 --> 0.096029).  Saving model ...\n"
     ]
    },
    {
     "name": "stderr",
     "output_type": "stream",
     "text": [
      "\n",
      "\n",
      "\n",
      "\n",
      " 23%|██▎       | 14/60 [05:32<18:08, 23.66s/it]\u001b[A\u001b[A\u001b[A\u001b[A"
     ]
    },
    {
     "name": "stdout",
     "output_type": "stream",
     "text": [
      "Train Epoch: 14 @ 12:34:44.711504 - Train Loss: 0.1007 - Valid Loss: 0.0960\n",
      "EarlyStopping counter: 1 out of 10\n"
     ]
    },
    {
     "name": "stderr",
     "output_type": "stream",
     "text": [
      "\n",
      "\n",
      "\n",
      "\n",
      " 25%|██▌       | 15/60 [05:56<17:57, 23.94s/it]\u001b[A\u001b[A\u001b[A\u001b[A"
     ]
    },
    {
     "name": "stdout",
     "output_type": "stream",
     "text": [
      "Train Epoch: 15 @ 12:35:09.303541 - Train Loss: 0.0989 - Valid Loss: 0.0967\n",
      "EarlyStopping counter: 2 out of 10\n"
     ]
    },
    {
     "name": "stderr",
     "output_type": "stream",
     "text": [
      "\n",
      "\n",
      "\n",
      "\n",
      " 27%|██▋       | 16/60 [06:19<17:21, 23.68s/it]\u001b[A\u001b[A\u001b[A\u001b[A"
     ]
    },
    {
     "name": "stdout",
     "output_type": "stream",
     "text": [
      "Train Epoch: 16 @ 12:35:32.372515 - Train Loss: 0.0974 - Valid Loss: 0.1025\n",
      "Validation loss decreased (0.096029 --> 0.092630).  Saving model ...\n"
     ]
    },
    {
     "name": "stderr",
     "output_type": "stream",
     "text": [
      "\n",
      "\n",
      "\n",
      "\n",
      " 28%|██▊       | 17/60 [06:44<17:06, 23.88s/it]\u001b[A\u001b[A\u001b[A\u001b[A"
     ]
    },
    {
     "name": "stdout",
     "output_type": "stream",
     "text": [
      "Train Epoch: 17 @ 12:35:56.726619 - Train Loss: 0.0932 - Valid Loss: 0.0926\n",
      "EarlyStopping counter: 1 out of 10\n"
     ]
    },
    {
     "name": "stderr",
     "output_type": "stream",
     "text": [
      "\n",
      "\n",
      "\n",
      "\n",
      " 30%|███       | 18/60 [07:07<16:36, 23.72s/it]\u001b[A\u001b[A\u001b[A\u001b[A"
     ]
    },
    {
     "name": "stdout",
     "output_type": "stream",
     "text": [
      "Train Epoch: 18 @ 12:36:20.074612 - Train Loss: 0.0858 - Valid Loss: 0.0941\n",
      "EarlyStopping counter: 2 out of 10\n"
     ]
    },
    {
     "name": "stderr",
     "output_type": "stream",
     "text": [
      "\n",
      "\n",
      "\n",
      "\n",
      " 32%|███▏      | 19/60 [07:30<16:05, 23.55s/it]\u001b[A\u001b[A\u001b[A\u001b[A"
     ]
    },
    {
     "name": "stdout",
     "output_type": "stream",
     "text": [
      "Train Epoch: 19 @ 12:36:43.240617 - Train Loss: 0.0831 - Valid Loss: 0.0957\n",
      "EarlyStopping counter: 3 out of 10\n"
     ]
    },
    {
     "name": "stderr",
     "output_type": "stream",
     "text": [
      "\n",
      "\n",
      "\n",
      "\n",
      " 33%|███▎      | 20/60 [07:54<15:39, 23.49s/it]\u001b[A\u001b[A\u001b[A\u001b[A"
     ]
    },
    {
     "name": "stdout",
     "output_type": "stream",
     "text": [
      "Train Epoch: 20 @ 12:37:06.573231 - Train Loss: 0.0827 - Valid Loss: 0.0936\n",
      "Validation loss decreased (0.092630 --> 0.089676).  Saving model ...\n"
     ]
    },
    {
     "name": "stderr",
     "output_type": "stream",
     "text": [
      "\n",
      "\n",
      "\n",
      "\n",
      " 35%|███▌      | 21/60 [08:17<15:19, 23.59s/it]\u001b[A\u001b[A\u001b[A\u001b[A"
     ]
    },
    {
     "name": "stdout",
     "output_type": "stream",
     "text": [
      "Train Epoch: 21 @ 12:37:30.388874 - Train Loss: 0.0804 - Valid Loss: 0.0897\n",
      "Validation loss decreased (0.089676 --> 0.086291).  Saving model ...\n"
     ]
    },
    {
     "name": "stderr",
     "output_type": "stream",
     "text": [
      "\n",
      "\n",
      "\n",
      "\n",
      " 37%|███▋      | 22/60 [08:41<14:56, 23.60s/it]\u001b[A\u001b[A\u001b[A\u001b[A"
     ]
    },
    {
     "name": "stdout",
     "output_type": "stream",
     "text": [
      "Train Epoch: 22 @ 12:37:54.016479 - Train Loss: 0.0766 - Valid Loss: 0.0863\n",
      "EarlyStopping counter: 1 out of 10\n"
     ]
    },
    {
     "name": "stderr",
     "output_type": "stream",
     "text": [
      "\n",
      "\n",
      "\n",
      "\n",
      " 38%|███▊      | 23/60 [09:04<14:30, 23.53s/it]\u001b[A\u001b[A\u001b[A\u001b[A"
     ]
    },
    {
     "name": "stdout",
     "output_type": "stream",
     "text": [
      "Train Epoch: 23 @ 12:38:17.386668 - Train Loss: 0.0730 - Valid Loss: 0.0907\n",
      "EarlyStopping counter: 2 out of 10\n"
     ]
    },
    {
     "name": "stderr",
     "output_type": "stream",
     "text": [
      "\n",
      "\n",
      "\n",
      "\n",
      " 40%|████      | 24/60 [09:28<14:04, 23.47s/it]\u001b[A\u001b[A\u001b[A\u001b[A"
     ]
    },
    {
     "name": "stdout",
     "output_type": "stream",
     "text": [
      "Train Epoch: 24 @ 12:38:40.715157 - Train Loss: 0.0728 - Valid Loss: 0.0897\n",
      "Validation loss decreased (0.086291 --> 0.085232).  Saving model ...\n"
     ]
    },
    {
     "name": "stderr",
     "output_type": "stream",
     "text": [
      "\n",
      "\n",
      "\n",
      "\n",
      " 42%|████▏     | 25/60 [09:52<13:48, 23.67s/it]\u001b[A\u001b[A\u001b[A\u001b[A"
     ]
    },
    {
     "name": "stdout",
     "output_type": "stream",
     "text": [
      "Train Epoch: 25 @ 12:39:04.845993 - Train Loss: 0.0713 - Valid Loss: 0.0852\n",
      "EarlyStopping counter: 1 out of 10\n"
     ]
    },
    {
     "name": "stderr",
     "output_type": "stream",
     "text": [
      "\n",
      "\n",
      "\n",
      "\n",
      " 43%|████▎     | 26/60 [10:15<13:19, 23.53s/it]\u001b[A\u001b[A\u001b[A\u001b[A"
     ]
    },
    {
     "name": "stdout",
     "output_type": "stream",
     "text": [
      "Train Epoch: 26 @ 12:39:28.046975 - Train Loss: 0.0696 - Valid Loss: 0.0873\n",
      "EarlyStopping counter: 2 out of 10\n"
     ]
    },
    {
     "name": "stderr",
     "output_type": "stream",
     "text": [
      "\n",
      "\n",
      "\n",
      "\n",
      " 45%|████▌     | 27/60 [10:39<12:56, 23.54s/it]\u001b[A\u001b[A\u001b[A\u001b[A"
     ]
    },
    {
     "name": "stdout",
     "output_type": "stream",
     "text": [
      "Train Epoch: 27 @ 12:39:51.630781 - Train Loss: 0.0661 - Valid Loss: 0.0864\n",
      "EarlyStopping counter: 3 out of 10\n"
     ]
    },
    {
     "name": "stderr",
     "output_type": "stream",
     "text": [
      "\n",
      "\n",
      "\n",
      "\n",
      " 47%|████▋     | 28/60 [11:02<12:30, 23.45s/it]\u001b[A\u001b[A\u001b[A\u001b[A"
     ]
    },
    {
     "name": "stdout",
     "output_type": "stream",
     "text": [
      "Train Epoch: 28 @ 12:40:14.876438 - Train Loss: 0.0636 - Valid Loss: 0.0882\n",
      "Validation loss decreased (0.085232 --> 0.084516).  Saving model ...\n"
     ]
    },
    {
     "name": "stderr",
     "output_type": "stream",
     "text": [
      "\n",
      "\n",
      "\n",
      "\n",
      " 48%|████▊     | 29/60 [11:26<12:09, 23.52s/it]\u001b[A\u001b[A\u001b[A\u001b[A"
     ]
    },
    {
     "name": "stdout",
     "output_type": "stream",
     "text": [
      "Train Epoch: 29 @ 12:40:38.558046 - Train Loss: 0.0623 - Valid Loss: 0.0845\n",
      "EarlyStopping counter: 1 out of 10\n"
     ]
    },
    {
     "name": "stderr",
     "output_type": "stream",
     "text": [
      "\n",
      "\n",
      "\n",
      "\n",
      " 50%|█████     | 30/60 [11:49<11:44, 23.47s/it]\u001b[A\u001b[A\u001b[A\u001b[A"
     ]
    },
    {
     "name": "stdout",
     "output_type": "stream",
     "text": [
      "Train Epoch: 30 @ 12:41:01.911777 - Train Loss: 0.0595 - Valid Loss: 0.0854\n",
      "EarlyStopping counter: 2 out of 10\n"
     ]
    },
    {
     "name": "stderr",
     "output_type": "stream",
     "text": [
      "\n",
      "\n",
      "\n",
      "\n",
      " 52%|█████▏    | 31/60 [12:12<11:19, 23.44s/it]\u001b[A\u001b[A\u001b[A\u001b[A"
     ]
    },
    {
     "name": "stdout",
     "output_type": "stream",
     "text": [
      "Train Epoch: 31 @ 12:41:25.261769 - Train Loss: 0.0581 - Valid Loss: 0.0846\n",
      "EarlyStopping counter: 3 out of 10\n"
     ]
    },
    {
     "name": "stderr",
     "output_type": "stream",
     "text": [
      "\n",
      "\n",
      "\n",
      "\n",
      " 53%|█████▎    | 32/60 [12:35<10:54, 23.36s/it]\u001b[A\u001b[A\u001b[A\u001b[A"
     ]
    },
    {
     "name": "stdout",
     "output_type": "stream",
     "text": [
      "Train Epoch: 32 @ 12:41:48.437057 - Train Loss: 0.0582 - Valid Loss: 0.0897\n",
      "EarlyStopping counter: 4 out of 10\n"
     ]
    },
    {
     "name": "stderr",
     "output_type": "stream",
     "text": [
      "\n",
      "\n",
      "\n",
      "\n",
      " 55%|█████▌    | 33/60 [12:59<10:30, 23.34s/it]\u001b[A\u001b[A\u001b[A\u001b[A"
     ]
    },
    {
     "name": "stdout",
     "output_type": "stream",
     "text": [
      "Train Epoch: 33 @ 12:42:11.748496 - Train Loss: 0.0600 - Valid Loss: 0.0889\n",
      "EarlyStopping counter: 5 out of 10\n"
     ]
    },
    {
     "name": "stderr",
     "output_type": "stream",
     "text": [
      "\n",
      "\n",
      "\n",
      "\n",
      " 57%|█████▋    | 34/60 [13:22<10:05, 23.30s/it]\u001b[A\u001b[A\u001b[A\u001b[A"
     ]
    },
    {
     "name": "stdout",
     "output_type": "stream",
     "text": [
      "Train Epoch: 34 @ 12:42:34.949518 - Train Loss: 0.0562 - Valid Loss: 0.0896\n",
      "EarlyStopping counter: 6 out of 10\n"
     ]
    },
    {
     "name": "stderr",
     "output_type": "stream",
     "text": [
      "\n",
      "\n",
      "\n",
      "\n",
      " 58%|█████▊    | 35/60 [13:45<09:40, 23.23s/it]\u001b[A\u001b[A\u001b[A\u001b[A"
     ]
    },
    {
     "name": "stdout",
     "output_type": "stream",
     "text": [
      "Train Epoch: 35 @ 12:42:58.028887 - Train Loss: 0.0557 - Valid Loss: 0.0862\n",
      "EarlyStopping counter: 7 out of 10\n"
     ]
    },
    {
     "name": "stderr",
     "output_type": "stream",
     "text": [
      "\n",
      "\n",
      "\n",
      "\n",
      " 60%|██████    | 36/60 [14:14<09:56, 24.84s/it]\u001b[A\u001b[A\u001b[A\u001b[A"
     ]
    },
    {
     "name": "stdout",
     "output_type": "stream",
     "text": [
      "Train Epoch: 36 @ 12:43:26.610647 - Train Loss: 0.0552 - Valid Loss: 0.0880\n",
      "Validation loss decreased (0.084516 --> 0.084255).  Saving model ...\n"
     ]
    },
    {
     "name": "stderr",
     "output_type": "stream",
     "text": [
      "\n",
      "\n",
      "\n",
      "\n",
      " 62%|██████▏   | 37/60 [14:39<09:34, 25.00s/it]\u001b[A\u001b[A\u001b[A\u001b[A"
     ]
    },
    {
     "name": "stdout",
     "output_type": "stream",
     "text": [
      "Train Epoch: 37 @ 12:43:51.982997 - Train Loss: 0.0558 - Valid Loss: 0.0843\n",
      "EarlyStopping counter: 1 out of 10\n"
     ]
    },
    {
     "name": "stderr",
     "output_type": "stream",
     "text": [
      "\n",
      "\n",
      "\n",
      "\n",
      " 63%|██████▎   | 38/60 [15:02<08:58, 24.49s/it]\u001b[A\u001b[A\u001b[A\u001b[A"
     ]
    },
    {
     "name": "stdout",
     "output_type": "stream",
     "text": [
      "Train Epoch: 38 @ 12:44:15.288268 - Train Loss: 0.0534 - Valid Loss: 0.0875\n",
      "EarlyStopping counter: 2 out of 10\n"
     ]
    },
    {
     "name": "stderr",
     "output_type": "stream",
     "text": [
      "\n",
      "\n",
      "\n",
      "\n",
      " 65%|██████▌   | 39/60 [15:26<08:26, 24.11s/it]\u001b[A\u001b[A\u001b[A\u001b[A"
     ]
    },
    {
     "name": "stdout",
     "output_type": "stream",
     "text": [
      "Train Epoch: 39 @ 12:44:38.521884 - Train Loss: 0.0523 - Valid Loss: 0.0863\n",
      "EarlyStopping counter: 3 out of 10\n"
     ]
    },
    {
     "name": "stderr",
     "output_type": "stream",
     "text": [
      "\n",
      "\n",
      "\n",
      "\n",
      " 67%|██████▋   | 40/60 [15:49<07:57, 23.88s/it]\u001b[A\u001b[A\u001b[A\u001b[A"
     ]
    },
    {
     "name": "stdout",
     "output_type": "stream",
     "text": [
      "Train Epoch: 40 @ 12:45:01.869655 - Train Loss: 0.0490 - Valid Loss: 0.0878\n",
      "EarlyStopping counter: 4 out of 10\n"
     ]
    },
    {
     "name": "stderr",
     "output_type": "stream",
     "text": [
      "\n",
      "\n",
      "\n",
      "\n",
      " 68%|██████▊   | 41/60 [16:12<07:29, 23.67s/it]\u001b[A\u001b[A\u001b[A\u001b[A"
     ]
    },
    {
     "name": "stdout",
     "output_type": "stream",
     "text": [
      "Train Epoch: 41 @ 12:45:25.028529 - Train Loss: 0.0478 - Valid Loss: 0.0851\n",
      "EarlyStopping counter: 5 out of 10\n"
     ]
    },
    {
     "name": "stderr",
     "output_type": "stream",
     "text": [
      "\n",
      "\n",
      "\n",
      "\n",
      " 70%|███████   | 42/60 [16:35<07:03, 23.55s/it]\u001b[A\u001b[A\u001b[A\u001b[A"
     ]
    },
    {
     "name": "stdout",
     "output_type": "stream",
     "text": [
      "Train Epoch: 42 @ 12:45:48.309561 - Train Loss: 0.0460 - Valid Loss: 0.0881\n",
      "EarlyStopping counter: 6 out of 10\n"
     ]
    },
    {
     "name": "stderr",
     "output_type": "stream",
     "text": [
      "\n",
      "\n",
      "\n",
      "\n",
      " 72%|███████▏  | 43/60 [16:59<06:39, 23.51s/it]\u001b[A\u001b[A\u001b[A\u001b[A"
     ]
    },
    {
     "name": "stdout",
     "output_type": "stream",
     "text": [
      "Train Epoch: 43 @ 12:46:11.731370 - Train Loss: 0.0450 - Valid Loss: 0.0854\n",
      "EarlyStopping counter: 7 out of 10\n"
     ]
    },
    {
     "name": "stderr",
     "output_type": "stream",
     "text": [
      "\n",
      "\n",
      "\n",
      "\n",
      " 73%|███████▎  | 44/60 [17:22<06:15, 23.45s/it]\u001b[A\u001b[A\u001b[A\u001b[A"
     ]
    },
    {
     "name": "stdout",
     "output_type": "stream",
     "text": [
      "Train Epoch: 44 @ 12:46:35.021205 - Train Loss: 0.0448 - Valid Loss: 0.0886\n",
      "EarlyStopping counter: 8 out of 10\n"
     ]
    },
    {
     "name": "stderr",
     "output_type": "stream",
     "text": [
      "\n",
      "\n",
      "\n",
      "\n",
      " 75%|███████▌  | 45/60 [17:45<05:50, 23.39s/it]\u001b[A\u001b[A\u001b[A\u001b[A"
     ]
    },
    {
     "name": "stdout",
     "output_type": "stream",
     "text": [
      "Train Epoch: 45 @ 12:46:58.291257 - Train Loss: 0.0441 - Valid Loss: 0.0861\n",
      "EarlyStopping counter: 9 out of 10\n"
     ]
    },
    {
     "name": "stderr",
     "output_type": "stream",
     "text": [
      "\n",
      "\n",
      "\n",
      "\n",
      " 77%|███████▋  | 46/60 [18:09<05:27, 23.38s/it]\u001b[A\u001b[A\u001b[A\u001b[A"
     ]
    },
    {
     "name": "stdout",
     "output_type": "stream",
     "text": [
      "Train Epoch: 46 @ 12:47:21.635733 - Train Loss: 0.0434 - Valid Loss: 0.0872\n",
      "EarlyStopping counter: 10 out of 10\n",
      "Early stopping\n"
     ]
    },
    {
     "data": {
      "image/png": "[encoded data removed]",
      "text/plain": [
       "<Figure size 720x576 with 1 Axes>"
      ]
     },
     "metadata": {
      "needs_background": "light",
      "tags": []
     },
     "output_type": "display_data"
    },
    {
     "name": "stdout",
     "output_type": "stream",
     "text": [
      "Dice2 score: 0.9671456473214286\n",
      "Batch size: 4, Learning rate: 1e-05 , Epochs: 60\n",
      "\n"
     ]
    },
    {
     "name": "stderr",
     "output_type": "stream",
     "text": [
      "\n",
      "\n",
      "\n",
      "\n",
      "\n",
      "  0%|          | 0/60 [00:00<?, ?it/s]\u001b[A\u001b[A\u001b[A\u001b[A\u001b[A"
     ]
    },
    {
     "name": "stdout",
     "output_type": "stream",
     "text": [
      "Validation loss decreased (inf --> 0.608608).  Saving model ...\n"
     ]
    },
    {
     "name": "stderr",
     "output_type": "stream",
     "text": [
      "\n",
      "\n",
      "\n",
      "\n",
      "\n",
      "  2%|▏         | 1/60 [00:25<24:54, 25.32s/it]\u001b[A\u001b[A\u001b[A\u001b[A\u001b[A"
     ]
    },
    {
     "name": "stdout",
     "output_type": "stream",
     "text": [
      "Train Epoch: 1 @ 12:48:10.921463 - Train Loss: 0.6678 - Valid Loss: 0.6086\n",
      "Validation loss decreased (0.608608 --> 0.265645).  Saving model ...\n"
     ]
    },
    {
     "name": "stderr",
     "output_type": "stream",
     "text": [
      "\n",
      "\n",
      "\n",
      "\n",
      "\n",
      "  3%|▎         | 2/60 [00:49<24:04, 24.90s/it]\u001b[A\u001b[A\u001b[A\u001b[A\u001b[A"
     ]
    },
    {
     "name": "stdout",
     "output_type": "stream",
     "text": [
      "Train Epoch: 2 @ 12:48:34.850499 - Train Loss: 0.4121 - Valid Loss: 0.2656\n",
      "Validation loss decreased (0.265645 --> 0.257539).  Saving model ...\n"
     ]
    },
    {
     "name": "stderr",
     "output_type": "stream",
     "text": [
      "\n",
      "\n",
      "\n",
      "\n",
      "\n",
      "  5%|▌         | 3/60 [01:13<23:20, 24.57s/it]\u001b[A\u001b[A\u001b[A\u001b[A\u001b[A"
     ]
    },
    {
     "name": "stdout",
     "output_type": "stream",
     "text": [
      "Train Epoch: 3 @ 12:48:58.636925 - Train Loss: 0.2723 - Valid Loss: 0.2575\n",
      "EarlyStopping counter: 1 out of 10\n"
     ]
    },
    {
     "name": "stderr",
     "output_type": "stream",
     "text": [
      "\n",
      "\n",
      "\n",
      "\n",
      "\n",
      "  7%|▋         | 4/60 [01:36<22:36, 24.23s/it]\u001b[A\u001b[A\u001b[A\u001b[A\u001b[A"
     ]
    },
    {
     "name": "stdout",
     "output_type": "stream",
     "text": [
      "Train Epoch: 4 @ 12:49:22.068557 - Train Loss: 0.2537 - Valid Loss: 0.2655\n",
      "Validation loss decreased (0.257539 --> 0.248753).  Saving model ...\n"
     ]
    },
    {
     "name": "stderr",
     "output_type": "stream",
     "text": [
      "\n",
      "\n",
      "\n",
      "\n",
      "\n",
      "  8%|▊         | 5/60 [02:00<22:07, 24.13s/it]\u001b[A\u001b[A\u001b[A\u001b[A\u001b[A"
     ]
    },
    {
     "name": "stdout",
     "output_type": "stream",
     "text": [
      "Train Epoch: 5 @ 12:49:45.978453 - Train Loss: 0.2465 - Valid Loss: 0.2488\n",
      "EarlyStopping counter: 1 out of 10\n"
     ]
    },
    {
     "name": "stderr",
     "output_type": "stream",
     "text": [
      "\n",
      "\n",
      "\n",
      "\n",
      "\n",
      " 10%|█         | 6/60 [02:23<21:29, 23.88s/it]\u001b[A\u001b[A\u001b[A\u001b[A\u001b[A"
     ]
    },
    {
     "name": "stdout",
     "output_type": "stream",
     "text": [
      "Train Epoch: 6 @ 12:50:09.277342 - Train Loss: 0.2406 - Valid Loss: 0.2517\n",
      "Validation loss decreased (0.248753 --> 0.243423).  Saving model ...\n"
     ]
    },
    {
     "name": "stderr",
     "output_type": "stream",
     "text": [
      "\n",
      "\n",
      "\n",
      "\n",
      "\n",
      " 12%|█▏        | 7/60 [02:47<21:02, 23.83s/it]\u001b[A\u001b[A\u001b[A\u001b[A\u001b[A"
     ]
    },
    {
     "name": "stdout",
     "output_type": "stream",
     "text": [
      "Train Epoch: 7 @ 12:50:32.972211 - Train Loss: 0.2369 - Valid Loss: 0.2434\n",
      "EarlyStopping counter: 1 out of 10\n"
     ]
    },
    {
     "name": "stderr",
     "output_type": "stream",
     "text": [
      "\n",
      "\n",
      "\n",
      "\n",
      "\n",
      " 13%|█▎        | 8/60 [03:10<20:31, 23.69s/it]\u001b[A\u001b[A\u001b[A\u001b[A\u001b[A"
     ]
    },
    {
     "name": "stdout",
     "output_type": "stream",
     "text": [
      "Train Epoch: 8 @ 12:50:56.340514 - Train Loss: 0.2319 - Valid Loss: 0.2509\n",
      "Validation loss decreased (0.243423 --> 0.239326).  Saving model ...\n"
     ]
    },
    {
     "name": "stderr",
     "output_type": "stream",
     "text": [
      "\n",
      "\n",
      "\n",
      "\n",
      "\n",
      " 15%|█▌        | 9/60 [03:34<20:12, 23.77s/it]\u001b[A\u001b[A\u001b[A\u001b[A\u001b[A"
     ]
    },
    {
     "name": "stdout",
     "output_type": "stream",
     "text": [
      "Train Epoch: 9 @ 12:51:20.289906 - Train Loss: 0.2268 - Valid Loss: 0.2393\n",
      "Validation loss decreased (0.239326 --> 0.238863).  Saving model ...\n"
     ]
    },
    {
     "name": "stderr",
     "output_type": "stream",
     "text": [
      "\n",
      "\n",
      "\n",
      "\n",
      "\n",
      " 17%|█▋        | 10/60 [03:58<19:48, 23.78s/it]\u001b[A\u001b[A\u001b[A\u001b[A\u001b[A"
     ]
    },
    {
     "name": "stdout",
     "output_type": "stream",
     "text": [
      "Train Epoch: 10 @ 12:51:44.091715 - Train Loss: 0.2179 - Valid Loss: 0.2389\n",
      "Validation loss decreased (0.238863 --> 0.228000).  Saving model ...\n"
     ]
    },
    {
     "name": "stderr",
     "output_type": "stream",
     "text": [
      "\n",
      "\n",
      "\n",
      "\n",
      "\n",
      " 18%|█▊        | 11/60 [04:22<19:29, 23.88s/it]\u001b[A\u001b[A\u001b[A\u001b[A\u001b[A"
     ]
    },
    {
     "name": "stdout",
     "output_type": "stream",
     "text": [
      "Train Epoch: 11 @ 12:52:08.195155 - Train Loss: 0.2124 - Valid Loss: 0.2280\n",
      "Validation loss decreased (0.228000 --> 0.224737).  Saving model ...\n"
     ]
    },
    {
     "name": "stderr",
     "output_type": "stream",
     "text": [
      "\n",
      "\n",
      "\n",
      "\n",
      "\n",
      " 20%|██        | 12/60 [04:46<19:05, 23.87s/it]\u001b[A\u001b[A\u001b[A\u001b[A\u001b[A"
     ]
    },
    {
     "name": "stdout",
     "output_type": "stream",
     "text": [
      "Train Epoch: 12 @ 12:52:32.051996 - Train Loss: 0.2041 - Valid Loss: 0.2247\n",
      "Validation loss decreased (0.224737 --> 0.218199).  Saving model ...\n"
     ]
    },
    {
     "name": "stderr",
     "output_type": "stream",
     "text": [
      "\n",
      "\n",
      "\n",
      "\n",
      "\n",
      " 22%|██▏       | 13/60 [05:10<18:40, 23.83s/it]\u001b[A\u001b[A\u001b[A\u001b[A\u001b[A"
     ]
    },
    {
     "name": "stdout",
     "output_type": "stream",
     "text": [
      "Train Epoch: 13 @ 12:52:55.793542 - Train Loss: 0.1943 - Valid Loss: 0.2182\n",
      "Validation loss decreased (0.218199 --> 0.214028).  Saving model ...\n"
     ]
    },
    {
     "name": "stderr",
     "output_type": "stream",
     "text": [
      "\n",
      "\n",
      "\n",
      "\n",
      "\n",
      " 23%|██▎       | 14/60 [05:34<18:19, 23.89s/it]\u001b[A\u001b[A\u001b[A\u001b[A\u001b[A"
     ]
    },
    {
     "name": "stdout",
     "output_type": "stream",
     "text": [
      "Train Epoch: 14 @ 12:53:19.826259 - Train Loss: 0.1868 - Valid Loss: 0.2140\n",
      "Validation loss decreased (0.214028 --> 0.197612).  Saving model ...\n"
     ]
    },
    {
     "name": "stderr",
     "output_type": "stream",
     "text": [
      "\n",
      "\n",
      "\n",
      "\n",
      "\n",
      " 25%|██▌       | 15/60 [05:59<18:09, 24.20s/it]\u001b[A\u001b[A\u001b[A\u001b[A\u001b[A"
     ]
    },
    {
     "name": "stdout",
     "output_type": "stream",
     "text": [
      "Train Epoch: 15 @ 12:53:44.753807 - Train Loss: 0.1763 - Valid Loss: 0.1976\n",
      "Validation loss decreased (0.197612 --> 0.195214).  Saving model ...\n"
     ]
    },
    {
     "name": "stderr",
     "output_type": "stream",
     "text": [
      "\n",
      "\n",
      "\n",
      "\n",
      "\n",
      " 27%|██▋       | 16/60 [06:23<17:40, 24.10s/it]\u001b[A\u001b[A\u001b[A\u001b[A\u001b[A"
     ]
    },
    {
     "name": "stdout",
     "output_type": "stream",
     "text": [
      "Train Epoch: 16 @ 12:54:08.620076 - Train Loss: 0.1712 - Valid Loss: 0.1952\n",
      "Validation loss decreased (0.195214 --> 0.184093).  Saving model ...\n"
     ]
    },
    {
     "name": "stderr",
     "output_type": "stream",
     "text": [
      "\n",
      "\n",
      "\n",
      "\n",
      "\n",
      " 28%|██▊       | 17/60 [06:48<17:28, 24.38s/it]\u001b[A\u001b[A\u001b[A\u001b[A\u001b[A"
     ]
    },
    {
     "name": "stdout",
     "output_type": "stream",
     "text": [
      "Train Epoch: 17 @ 12:54:33.654021 - Train Loss: 0.1645 - Valid Loss: 0.1841\n",
      "Validation loss decreased (0.184093 --> 0.179777).  Saving model ...\n"
     ]
    },
    {
     "name": "stderr",
     "output_type": "stream",
     "text": [
      "\n",
      "\n",
      "\n",
      "\n",
      "\n",
      " 30%|███       | 18/60 [07:12<17:00, 24.30s/it]\u001b[A\u001b[A\u001b[A\u001b[A\u001b[A"
     ]
    },
    {
     "name": "stdout",
     "output_type": "stream",
     "text": [
      "Train Epoch: 18 @ 12:54:57.748946 - Train Loss: 0.1605 - Valid Loss: 0.1798\n",
      "Validation loss decreased (0.179777 --> 0.177410).  Saving model ...\n"
     ]
    },
    {
     "name": "stderr",
     "output_type": "stream",
     "text": [
      "\n",
      "\n",
      "\n",
      "\n",
      "\n",
      " 32%|███▏      | 19/60 [07:35<16:30, 24.16s/it]\u001b[A\u001b[A\u001b[A\u001b[A\u001b[A"
     ]
    },
    {
     "name": "stdout",
     "output_type": "stream",
     "text": [
      "Train Epoch: 19 @ 12:55:21.590464 - Train Loss: 0.1551 - Valid Loss: 0.1774\n",
      "Validation loss decreased (0.177410 --> 0.173869).  Saving model ...\n"
     ]
    },
    {
     "name": "stderr",
     "output_type": "stream",
     "text": [
      "\n",
      "\n",
      "\n",
      "\n",
      "\n",
      " 33%|███▎      | 20/60 [08:00<16:05, 24.13s/it]\u001b[A\u001b[A\u001b[A\u001b[A\u001b[A"
     ]
    },
    {
     "name": "stdout",
     "output_type": "stream",
     "text": [
      "Train Epoch: 20 @ 12:55:45.652528 - Train Loss: 0.1514 - Valid Loss: 0.1739\n",
      "Validation loss decreased (0.173869 --> 0.172334).  Saving model ...\n"
     ]
    },
    {
     "name": "stderr",
     "output_type": "stream",
     "text": [
      "\n",
      "\n",
      "\n",
      "\n",
      "\n",
      " 35%|███▌      | 21/60 [08:24<15:40, 24.10s/it]\u001b[A\u001b[A\u001b[A\u001b[A\u001b[A"
     ]
    },
    {
     "name": "stdout",
     "output_type": "stream",
     "text": [
      "Train Epoch: 21 @ 12:56:09.690942 - Train Loss: 0.1498 - Valid Loss: 0.1723\n",
      "EarlyStopping counter: 1 out of 10\n"
     ]
    },
    {
     "name": "stderr",
     "output_type": "stream",
     "text": [
      "\n",
      "\n",
      "\n",
      "\n",
      "\n",
      " 37%|███▋      | 22/60 [08:47<15:06, 23.85s/it]\u001b[A\u001b[A\u001b[A\u001b[A\u001b[A"
     ]
    },
    {
     "name": "stdout",
     "output_type": "stream",
     "text": [
      "Train Epoch: 22 @ 12:56:32.961006 - Train Loss: 0.1438 - Valid Loss: 0.1724\n",
      "Validation loss decreased (0.172334 --> 0.171255).  Saving model ...\n"
     ]
    },
    {
     "name": "stderr",
     "output_type": "stream",
     "text": [
      "\n",
      "\n",
      "\n",
      "\n",
      "\n",
      " 38%|███▊      | 23/60 [09:11<14:43, 23.89s/it]\u001b[A\u001b[A\u001b[A\u001b[A\u001b[A"
     ]
    },
    {
     "name": "stdout",
     "output_type": "stream",
     "text": [
      "Train Epoch: 23 @ 12:56:56.939734 - Train Loss: 0.1416 - Valid Loss: 0.1713\n",
      "Validation loss decreased (0.171255 --> 0.162774).  Saving model ...\n"
     ]
    },
    {
     "name": "stderr",
     "output_type": "stream",
     "text": [
      "\n",
      "\n",
      "\n",
      "\n",
      "\n",
      " 40%|████      | 24/60 [09:36<14:38, 24.39s/it]\u001b[A\u001b[A\u001b[A\u001b[A\u001b[A"
     ]
    },
    {
     "name": "stdout",
     "output_type": "stream",
     "text": [
      "Train Epoch: 24 @ 12:57:22.505621 - Train Loss: 0.1399 - Valid Loss: 0.1628\n",
      "EarlyStopping counter: 1 out of 10\n"
     ]
    },
    {
     "name": "stderr",
     "output_type": "stream",
     "text": [
      "\n",
      "\n",
      "\n",
      "\n",
      "\n",
      " 42%|████▏     | 25/60 [10:00<14:03, 24.10s/it]\u001b[A\u001b[A\u001b[A\u001b[A\u001b[A"
     ]
    },
    {
     "name": "stdout",
     "output_type": "stream",
     "text": [
      "Train Epoch: 25 @ 12:57:45.927742 - Train Loss: 0.1339 - Valid Loss: 0.1635\n",
      "EarlyStopping counter: 2 out of 10\n"
     ]
    },
    {
     "name": "stderr",
     "output_type": "stream",
     "text": [
      "\n",
      "\n",
      "\n",
      "\n",
      "\n",
      " 43%|████▎     | 26/60 [10:23<13:32, 23.91s/it]\u001b[A\u001b[A\u001b[A\u001b[A\u001b[A"
     ]
    },
    {
     "name": "stdout",
     "output_type": "stream",
     "text": [
      "Train Epoch: 26 @ 12:58:09.390897 - Train Loss: 0.1319 - Valid Loss: 0.1648\n",
      "Validation loss decreased (0.162774 --> 0.160770).  Saving model ...\n"
     ]
    },
    {
     "name": "stderr",
     "output_type": "stream",
     "text": [
      "\n",
      "\n",
      "\n",
      "\n",
      "\n",
      " 45%|████▌     | 27/60 [10:47<13:09, 23.91s/it]\u001b[A\u001b[A\u001b[A\u001b[A\u001b[A"
     ]
    },
    {
     "name": "stdout",
     "output_type": "stream",
     "text": [
      "Train Epoch: 27 @ 12:58:33.309454 - Train Loss: 0.1312 - Valid Loss: 0.1608\n",
      "Validation loss decreased (0.160770 --> 0.159950).  Saving model ...\n"
     ]
    },
    {
     "name": "stderr",
     "output_type": "stream",
     "text": [
      "\n",
      "\n",
      "\n",
      "\n",
      "\n",
      " 47%|████▋     | 28/60 [11:11<12:43, 23.87s/it]\u001b[A\u001b[A\u001b[A\u001b[A\u001b[A"
     ]
    },
    {
     "name": "stdout",
     "output_type": "stream",
     "text": [
      "Train Epoch: 28 @ 12:58:57.095385 - Train Loss: 0.1266 - Valid Loss: 0.1599\n",
      "Validation loss decreased (0.159950 --> 0.156114).  Saving model ...\n"
     ]
    },
    {
     "name": "stderr",
     "output_type": "stream",
     "text": [
      "\n",
      "\n",
      "\n",
      "\n",
      "\n",
      " 48%|████▊     | 29/60 [11:35<12:23, 23.97s/it]\u001b[A\u001b[A\u001b[A\u001b[A\u001b[A"
     ]
    },
    {
     "name": "stdout",
     "output_type": "stream",
     "text": [
      "Train Epoch: 29 @ 12:59:21.283448 - Train Loss: 0.1247 - Valid Loss: 0.1561\n",
      "Validation loss decreased (0.156114 --> 0.155988).  Saving model ...\n"
     ]
    },
    {
     "name": "stderr",
     "output_type": "stream",
     "text": [
      "\n",
      "\n",
      "\n",
      "\n",
      "\n",
      " 50%|█████     | 30/60 [11:59<11:58, 23.96s/it]\u001b[A\u001b[A\u001b[A\u001b[A\u001b[A"
     ]
    },
    {
     "name": "stdout",
     "output_type": "stream",
     "text": [
      "Train Epoch: 30 @ 12:59:45.225861 - Train Loss: 0.1239 - Valid Loss: 0.1560\n",
      "Validation loss decreased (0.155988 --> 0.152750).  Saving model ...\n"
     ]
    },
    {
     "name": "stderr",
     "output_type": "stream",
     "text": [
      "\n",
      "\n",
      "\n",
      "\n",
      "\n",
      " 52%|█████▏    | 31/60 [12:23<11:34, 23.94s/it]\u001b[A\u001b[A\u001b[A\u001b[A\u001b[A"
     ]
    },
    {
     "name": "stdout",
     "output_type": "stream",
     "text": [
      "Train Epoch: 31 @ 13:00:09.120387 - Train Loss: 0.1256 - Valid Loss: 0.1528\n",
      "EarlyStopping counter: 1 out of 10\n"
     ]
    },
    {
     "name": "stderr",
     "output_type": "stream",
     "text": [
      "\n",
      "\n",
      "\n",
      "\n",
      "\n",
      " 53%|█████▎    | 32/60 [12:47<11:08, 23.86s/it]\u001b[A\u001b[A\u001b[A\u001b[A\u001b[A"
     ]
    },
    {
     "name": "stdout",
     "output_type": "stream",
     "text": [
      "Train Epoch: 32 @ 13:00:32.787944 - Train Loss: 0.1216 - Valid Loss: 0.1553\n",
      "EarlyStopping counter: 2 out of 10\n"
     ]
    },
    {
     "name": "stderr",
     "output_type": "stream",
     "text": [
      "\n",
      "\n",
      "\n",
      "\n",
      "\n",
      " 55%|█████▌    | 33/60 [13:10<10:42, 23.80s/it]\u001b[A\u001b[A\u001b[A\u001b[A\u001b[A"
     ]
    },
    {
     "name": "stdout",
     "output_type": "stream",
     "text": [
      "Train Epoch: 33 @ 13:00:56.459846 - Train Loss: 0.1190 - Valid Loss: 0.1537\n",
      "EarlyStopping counter: 3 out of 10\n"
     ]
    },
    {
     "name": "stderr",
     "output_type": "stream",
     "text": [
      "\n",
      "\n",
      "\n",
      "\n",
      "\n",
      " 57%|█████▋    | 34/60 [13:34<10:15, 23.69s/it]\u001b[A\u001b[A\u001b[A\u001b[A\u001b[A"
     ]
    },
    {
     "name": "stdout",
     "output_type": "stream",
     "text": [
      "Train Epoch: 34 @ 13:01:19.892053 - Train Loss: 0.1238 - Valid Loss: 0.1530\n",
      "EarlyStopping counter: 4 out of 10\n"
     ]
    },
    {
     "name": "stderr",
     "output_type": "stream",
     "text": [
      "\n",
      "\n",
      "\n",
      "\n",
      "\n",
      " 58%|█████▊    | 35/60 [13:57<09:51, 23.65s/it]\u001b[A\u001b[A\u001b[A\u001b[A\u001b[A"
     ]
    },
    {
     "name": "stdout",
     "output_type": "stream",
     "text": [
      "Train Epoch: 35 @ 13:01:43.456863 - Train Loss: 0.1179 - Valid Loss: 0.1542\n",
      "Validation loss decreased (0.152750 --> 0.151909).  Saving model ...\n"
     ]
    },
    {
     "name": "stderr",
     "output_type": "stream",
     "text": [
      "\n",
      "\n",
      "\n",
      "\n",
      "\n",
      " 60%|██████    | 36/60 [14:22<09:33, 23.88s/it]\u001b[A\u001b[A\u001b[A\u001b[A\u001b[A"
     ]
    },
    {
     "name": "stdout",
     "output_type": "stream",
     "text": [
      "Train Epoch: 36 @ 13:02:07.880492 - Train Loss: 0.1157 - Valid Loss: 0.1519\n",
      "EarlyStopping counter: 1 out of 10\n"
     ]
    },
    {
     "name": "stderr",
     "output_type": "stream",
     "text": [
      "\n",
      "\n",
      "\n",
      "\n",
      "\n",
      " 62%|██████▏   | 37/60 [14:45<09:05, 23.73s/it]\u001b[A\u001b[A\u001b[A\u001b[A\u001b[A"
     ]
    },
    {
     "name": "stdout",
     "output_type": "stream",
     "text": [
      "Train Epoch: 37 @ 13:02:31.245221 - Train Loss: 0.1178 - Valid Loss: 0.1552\n",
      "Validation loss decreased (0.151909 --> 0.151852).  Saving model ...\n"
     ]
    },
    {
     "name": "stderr",
     "output_type": "stream",
     "text": [
      "\n",
      "\n",
      "\n",
      "\n",
      "\n",
      " 63%|██████▎   | 38/60 [15:09<08:43, 23.79s/it]\u001b[A\u001b[A\u001b[A\u001b[A\u001b[A"
     ]
    },
    {
     "name": "stdout",
     "output_type": "stream",
     "text": [
      "Train Epoch: 38 @ 13:02:55.185925 - Train Loss: 0.1125 - Valid Loss: 0.1519\n",
      "Validation loss decreased (0.151852 --> 0.146909).  Saving model ...\n"
     ]
    },
    {
     "name": "stderr",
     "output_type": "stream",
     "text": [
      "\n",
      "\n",
      "\n",
      "\n",
      "\n",
      " 65%|██████▌   | 39/60 [15:33<08:21, 23.87s/it]\u001b[A\u001b[A\u001b[A\u001b[A\u001b[A"
     ]
    },
    {
     "name": "stdout",
     "output_type": "stream",
     "text": [
      "Train Epoch: 39 @ 13:03:19.242825 - Train Loss: 0.1131 - Valid Loss: 0.1469\n",
      "EarlyStopping counter: 1 out of 10\n"
     ]
    },
    {
     "name": "stderr",
     "output_type": "stream",
     "text": [
      "\n",
      "\n",
      "\n",
      "\n",
      "\n",
      " 67%|██████▋   | 40/60 [15:56<07:54, 23.71s/it]\u001b[A\u001b[A\u001b[A\u001b[A\u001b[A"
     ]
    },
    {
     "name": "stdout",
     "output_type": "stream",
     "text": [
      "Train Epoch: 40 @ 13:03:42.561185 - Train Loss: 0.1124 - Valid Loss: 0.1508\n",
      "EarlyStopping counter: 2 out of 10\n"
     ]
    },
    {
     "name": "stderr",
     "output_type": "stream",
     "text": [
      "\n",
      "\n",
      "\n",
      "\n",
      "\n",
      " 68%|██████▊   | 41/60 [16:20<07:28, 23.62s/it]\u001b[A\u001b[A\u001b[A\u001b[A\u001b[A"
     ]
    },
    {
     "name": "stdout",
     "output_type": "stream",
     "text": [
      "Train Epoch: 41 @ 13:04:05.977838 - Train Loss: 0.1103 - Valid Loss: 0.1498\n",
      "EarlyStopping counter: 3 out of 10\n"
     ]
    },
    {
     "name": "stderr",
     "output_type": "stream",
     "text": [
      "\n",
      "\n",
      "\n",
      "\n",
      "\n",
      " 70%|███████   | 42/60 [16:43<07:05, 23.61s/it]\u001b[A\u001b[A\u001b[A\u001b[A\u001b[A"
     ]
    },
    {
     "name": "stdout",
     "output_type": "stream",
     "text": [
      "Train Epoch: 42 @ 13:04:29.574018 - Train Loss: 0.1085 - Valid Loss: 0.1472\n",
      "Validation loss decreased (0.146909 --> 0.146838).  Saving model ...\n"
     ]
    },
    {
     "name": "stderr",
     "output_type": "stream",
     "text": [
      "\n",
      "\n",
      "\n",
      "\n",
      "\n",
      " 72%|███████▏  | 43/60 [17:07<06:42, 23.69s/it]\u001b[A\u001b[A\u001b[A\u001b[A\u001b[A"
     ]
    },
    {
     "name": "stdout",
     "output_type": "stream",
     "text": [
      "Train Epoch: 43 @ 13:04:53.449000 - Train Loss: 0.1080 - Valid Loss: 0.1468\n",
      "Validation loss decreased (0.146838 --> 0.146653).  Saving model ...\n"
     ]
    },
    {
     "name": "stderr",
     "output_type": "stream",
     "text": [
      "\n",
      "\n",
      "\n",
      "\n",
      "\n",
      " 73%|███████▎  | 44/60 [17:31<06:20, 23.79s/it]\u001b[A\u001b[A\u001b[A\u001b[A\u001b[A"
     ]
    },
    {
     "name": "stdout",
     "output_type": "stream",
     "text": [
      "Train Epoch: 44 @ 13:05:17.470769 - Train Loss: 0.1072 - Valid Loss: 0.1467\n",
      "Validation loss decreased (0.146653 --> 0.145049).  Saving model ...\n"
     ]
    },
    {
     "name": "stderr",
     "output_type": "stream",
     "text": [
      "\n",
      "\n",
      "\n",
      "\n",
      "\n",
      " 75%|███████▌  | 45/60 [17:56<05:59, 23.95s/it]\u001b[A\u001b[A\u001b[A\u001b[A\u001b[A"
     ]
    },
    {
     "name": "stdout",
     "output_type": "stream",
     "text": [
      "Train Epoch: 45 @ 13:05:41.788138 - Train Loss: 0.1073 - Valid Loss: 0.1450\n",
      "Validation loss decreased (0.145049 --> 0.140446).  Saving model ...\n"
     ]
    },
    {
     "name": "stderr",
     "output_type": "stream",
     "text": [
      "\n",
      "\n",
      "\n",
      "\n",
      "\n",
      " 77%|███████▋  | 46/60 [18:20<05:35, 23.97s/it]\u001b[A\u001b[A\u001b[A\u001b[A\u001b[A"
     ]
    },
    {
     "name": "stdout",
     "output_type": "stream",
     "text": [
      "Train Epoch: 46 @ 13:06:05.819391 - Train Loss: 0.1084 - Valid Loss: 0.1404\n",
      "EarlyStopping counter: 1 out of 10\n"
     ]
    },
    {
     "name": "stderr",
     "output_type": "stream",
     "text": [
      "\n",
      "\n",
      "\n",
      "\n",
      "\n",
      " 78%|███████▊  | 47/60 [18:43<05:09, 23.79s/it]\u001b[A\u001b[A\u001b[A\u001b[A\u001b[A"
     ]
    },
    {
     "name": "stdout",
     "output_type": "stream",
     "text": [
      "Train Epoch: 47 @ 13:06:29.168604 - Train Loss: 0.1064 - Valid Loss: 0.1412\n",
      "Validation loss decreased (0.140446 --> 0.140247).  Saving model ...\n"
     ]
    },
    {
     "name": "stderr",
     "output_type": "stream",
     "text": [
      "\n",
      "\n",
      "\n",
      "\n",
      "\n",
      " 80%|████████  | 48/60 [19:07<04:46, 23.87s/it]\u001b[A\u001b[A\u001b[A\u001b[A\u001b[A"
     ]
    },
    {
     "name": "stdout",
     "output_type": "stream",
     "text": [
      "Train Epoch: 48 @ 13:06:53.231710 - Train Loss: 0.1058 - Valid Loss: 0.1402\n",
      "Validation loss decreased (0.140247 --> 0.137088).  Saving model ...\n"
     ]
    },
    {
     "name": "stderr",
     "output_type": "stream",
     "text": [
      "\n",
      "\n",
      "\n",
      "\n",
      "\n",
      " 82%|████████▏ | 49/60 [19:31<04:23, 23.98s/it]\u001b[A\u001b[A\u001b[A\u001b[A\u001b[A"
     ]
    },
    {
     "name": "stdout",
     "output_type": "stream",
     "text": [
      "Train Epoch: 49 @ 13:07:17.486057 - Train Loss: 0.1033 - Valid Loss: 0.1371\n",
      "Validation loss decreased (0.137088 --> 0.136148).  Saving model ...\n"
     ]
    },
    {
     "name": "stderr",
     "output_type": "stream",
     "text": [
      "\n",
      "\n",
      "\n",
      "\n",
      "\n",
      " 83%|████████▎ | 50/60 [19:57<04:04, 24.40s/it]\u001b[A\u001b[A\u001b[A\u001b[A\u001b[A"
     ]
    },
    {
     "name": "stdout",
     "output_type": "stream",
     "text": [
      "Train Epoch: 50 @ 13:07:42.859736 - Train Loss: 0.1014 - Valid Loss: 0.1361\n",
      "Validation loss decreased (0.136148 --> 0.134485).  Saving model ...\n"
     ]
    },
    {
     "name": "stderr",
     "output_type": "stream",
     "text": [
      "\n",
      "\n",
      "\n",
      "\n",
      "\n",
      " 85%|████████▌ | 51/60 [20:21<03:39, 24.41s/it]\u001b[A\u001b[A\u001b[A\u001b[A\u001b[A"
     ]
    },
    {
     "name": "stdout",
     "output_type": "stream",
     "text": [
      "Train Epoch: 51 @ 13:08:07.306304 - Train Loss: 0.1000 - Valid Loss: 0.1345\n",
      "Validation loss decreased (0.134485 --> 0.131906).  Saving model ...\n"
     ]
    },
    {
     "name": "stderr",
     "output_type": "stream",
     "text": [
      "\n",
      "\n",
      "\n",
      "\n",
      "\n",
      " 87%|████████▋ | 52/60 [20:45<03:14, 24.29s/it]\u001b[A\u001b[A\u001b[A\u001b[A\u001b[A"
     ]
    },
    {
     "name": "stdout",
     "output_type": "stream",
     "text": [
      "Train Epoch: 52 @ 13:08:31.309853 - Train Loss: 0.0994 - Valid Loss: 0.1319\n",
      "Validation loss decreased (0.131906 --> 0.130939).  Saving model ...\n"
     ]
    },
    {
     "name": "stderr",
     "output_type": "stream",
     "text": [
      "\n",
      "\n",
      "\n",
      "\n",
      "\n",
      " 88%|████████▊ | 53/60 [21:09<02:49, 24.26s/it]\u001b[A\u001b[A\u001b[A\u001b[A\u001b[A"
     ]
    },
    {
     "name": "stdout",
     "output_type": "stream",
     "text": [
      "Train Epoch: 53 @ 13:08:55.489319 - Train Loss: 0.1035 - Valid Loss: 0.1309\n",
      "Validation loss decreased (0.130939 --> 0.130503).  Saving model ...\n"
     ]
    },
    {
     "name": "stderr",
     "output_type": "stream",
     "text": [
      "\n",
      "\n",
      "\n",
      "\n",
      "\n",
      " 90%|█████████ | 54/60 [21:34<02:25, 24.23s/it]\u001b[A\u001b[A\u001b[A\u001b[A\u001b[A"
     ]
    },
    {
     "name": "stdout",
     "output_type": "stream",
     "text": [
      "Train Epoch: 54 @ 13:09:19.641597 - Train Loss: 0.1002 - Valid Loss: 0.1305\n",
      "EarlyStopping counter: 1 out of 10\n"
     ]
    },
    {
     "name": "stderr",
     "output_type": "stream",
     "text": [
      "\n",
      "\n",
      "\n",
      "\n",
      "\n",
      " 92%|█████████▏| 55/60 [21:57<01:59, 23.94s/it]\u001b[A\u001b[A\u001b[A\u001b[A\u001b[A"
     ]
    },
    {
     "name": "stdout",
     "output_type": "stream",
     "text": [
      "Train Epoch: 55 @ 13:09:42.897678 - Train Loss: 0.0965 - Valid Loss: 0.1311\n",
      "Validation loss decreased (0.130503 --> 0.128390).  Saving model ...\n"
     ]
    },
    {
     "name": "stderr",
     "output_type": "stream",
     "text": [
      "\n",
      "\n",
      "\n",
      "\n",
      "\n",
      " 93%|█████████▎| 56/60 [22:21<01:36, 24.08s/it]\u001b[A\u001b[A\u001b[A\u001b[A\u001b[A"
     ]
    },
    {
     "name": "stdout",
     "output_type": "stream",
     "text": [
      "Train Epoch: 56 @ 13:10:07.323593 - Train Loss: 0.0951 - Valid Loss: 0.1284\n",
      "Validation loss decreased (0.128390 --> 0.124396).  Saving model ...\n"
     ]
    },
    {
     "name": "stderr",
     "output_type": "stream",
     "text": [
      "\n",
      "\n",
      "\n",
      "\n",
      "\n",
      " 95%|█████████▌| 57/60 [22:47<01:13, 24.66s/it]\u001b[A\u001b[A\u001b[A\u001b[A\u001b[A"
     ]
    },
    {
     "name": "stdout",
     "output_type": "stream",
     "text": [
      "Train Epoch: 57 @ 13:10:33.335482 - Train Loss: 0.0944 - Valid Loss: 0.1244\n",
      "EarlyStopping counter: 1 out of 10\n"
     ]
    },
    {
     "name": "stderr",
     "output_type": "stream",
     "text": [
      "\n",
      "\n",
      "\n",
      "\n",
      "\n",
      " 97%|█████████▋| 58/60 [23:11<00:48, 24.25s/it]\u001b[A\u001b[A\u001b[A\u001b[A\u001b[A"
     ]
    },
    {
     "name": "stdout",
     "output_type": "stream",
     "text": [
      "Train Epoch: 58 @ 13:10:56.639238 - Train Loss: 0.0941 - Valid Loss: 0.1261\n",
      "Validation loss decreased (0.124396 --> 0.123522).  Saving model ...\n"
     ]
    },
    {
     "name": "stderr",
     "output_type": "stream",
     "text": [
      "\n",
      "\n",
      "\n",
      "\n",
      "\n",
      " 98%|█████████▊| 59/60 [23:35<00:24, 24.22s/it]\u001b[A\u001b[A\u001b[A\u001b[A\u001b[A"
     ]
    },
    {
     "name": "stdout",
     "output_type": "stream",
     "text": [
      "Train Epoch: 59 @ 13:11:20.773545 - Train Loss: 0.0925 - Valid Loss: 0.1235\n",
      "EarlyStopping counter: 1 out of 10\n"
     ]
    },
    {
     "name": "stderr",
     "output_type": "stream",
     "text": [
      "\n",
      "\n",
      "\n",
      "\n",
      "\n",
      "100%|██████████| 60/60 [23:58<00:00, 23.98s/it]"
     ]
    },
    {
     "name": "stdout",
     "output_type": "stream",
     "text": [
      "Train Epoch: 60 @ 13:11:44.284749 - Train Loss: 0.0953 - Valid Loss: 0.1276\n"
     ]
    },
    {
     "name": "stderr",
     "output_type": "stream",
     "text": [
      "\n"
     ]
    },
    {
     "data": {
      "image/png": "[encoded data removed]",
      "text/plain": [
       "<Figure size 720x576 with 1 Axes>"
      ]
     },
     "metadata": {
      "needs_background": "light",
      "tags": []
     },
     "output_type": "display_data"
    },
    {
     "name": "stdout",
     "output_type": "stream",
     "text": [
      "Dice2 score: 0.9370166233607701\n"
     ]
    }
   ],
   "source": [
    "n_bs = [4]\n",
    "n_lr = [0.001, 0.0001, 0.00001]\n",
    "epochs = 60\n",
    "patience = 10\n",
    "\n",
    "train_dir = \"../Train/train_500\"\n",
    "model_chkpt_name = \"ResNet-500x500_4layer\"\n",
    "\n",
    "for bs in n_bs:\n",
    "    for lr in n_lr:\n",
    "        hyperparam_tuning(train_dir, bs, lr, epochs, patience, model_chkpt_name)"
   ]
  },
  {
   "cell_type": "markdown",
   "metadata": {
    "id": "FlaEuDF9zPRP"
   },
   "source": [
    "#### model(4layer) - 1000x1000 images"
   ]
  },
  {
   "cell_type": "code",
   "execution_count": null,
   "metadata": {
    "id": "fqD7ESSZzRn5"
   },
   "outputs": [],
   "source": [
    "n_bs = [1]\n",
    "n_lr = [0.001, 0.0001, 0.00001]\n",
    "epochs = 60\n",
    "patience = 10\n",
    "\n",
    "train_dir = \"../Train\"\n",
    "model_chkpt_name = \"ResNet-1000x1000_4layer\"\n",
    "\n",
    "for bs in n_bs:\n",
    "    for lr in n_lr:\n",
    "        hyperparam_tuning(train_dir, bs, lr, epochs, patience, model_chkpt_name)"
   ]
  }
 ],
 "metadata": {
  "accelerator": "GPU",
  "colab": {
   "collapsed_sections": [
    "54DQsZ030_58",
    "Dd6g53JFy97n",
    "08R8PHDKzE9M",
    "FlaEuDF9zPRP"
   ],
   "name": "Training_ResNet18AttentionUNet_MultiClass.ipynb",
   "provenance": []
  },
  "kernelspec": {
   "display_name": "Python 3",
   "language": "python",
   "name": "python3"
  },
  "language_info": {
   "codemirror_mode": {
    "name": "ipython",
    "version": 3
   },
   "file_extension": ".py",
   "mimetype": "text/x-python",
   "name": "python",
   "nbconvert_exporter": "python",
   "pygments_lexer": "ipython3",
   "version": "3.6.10"
  }
 },
 "nbformat": 4,
 "nbformat_minor": 1
}
